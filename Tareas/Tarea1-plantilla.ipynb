{
 "cells": [
  {
   "cell_type": "markdown",
   "id": "efacab55",
   "metadata": {},
   "source": [
    "# Tarea 1\n",
    "### Modelos no paramétricos y de regresión\n",
    "\n",
    "##### Por: "
   ]
  },
  {
   "cell_type": "markdown",
   "id": "53261d41",
   "metadata": {},
   "source": [
    "### Ejercicio 1\n",
    "\n",
    "El porcentaje del contenido de agua en tierras de cultivo varía ligeramente en áreas grandes y estas variaciones pueden asociarse a aspectos relacionados con la calidad del drenaje. Se toman dos muestras de $10$ cuadrantes cada una del porcentaje de agua en el terreno, y una  muestra en otros 10. Se desea sostener la hipótesis de una mediana de $9$ con un nivel de error del $5\\%$.\n",
    "- Realiza la prueba con una sola muestra y luego con ambas. Discute tus resultados.\n",
    "- Construye un intervalo del $95\\%$ de confianza para la mediana considerando ambas muestras.\n",
    "\n",
    "| Muestra 1  | Muestra 2 |\n",
    "|------------|-----------|\n",
    "|     5.5    |    5.6    |\n",
    "|     6.0    |    6.1    |\n",
    "|     6.5    |    6.3    |\n",
    "|     7.6    |    6.3    |\n",
    "|     7.6    |    6.5    |\n",
    "|     7.7    |    6.6    |\n",
    "|     8.0    |    7.0    |\n",
    "|     8.2    |    7.5    |\n",
    "|     9.1    |    7.9    |\n",
    "|     15.1   |    8.0    |\n",
    "|            |    8.0    |\n",
    "|            |    8.1    |\n",
    "|            |    8.1    |\n",
    "|            |    8.3    |\n",
    "|            |    8.4    |\n",
    "|            |    8.5    |\n",
    "|            |    8.7    |\n",
    "|            |    9.4    |\n",
    "|            |    14.3   |\n",
    "|            |    26.0   |\n"
   ]
  },
  {
   "cell_type": "markdown",
   "id": "e0e13f40",
   "metadata": {},
   "source": [
    "##### a) Prueba con una sola muestra"
   ]
  },
  {
   "cell_type": "code",
   "execution_count": null,
   "id": "329558b1",
   "metadata": {},
   "outputs": [],
   "source": []
  },
  {
   "cell_type": "markdown",
   "id": "a7376c57",
   "metadata": {},
   "source": [
    "##### b) Intervalo de confianza para ambas muestras"
   ]
  },
  {
   "cell_type": "code",
   "execution_count": null,
   "id": "b1dad680",
   "metadata": {},
   "outputs": [],
   "source": []
  },
  {
   "cell_type": "markdown",
   "id": "39447509",
   "metadata": {},
   "source": [
    "### Ejercicio 2\n",
    "\n",
    "I. Geffen, Bradshaw and Nettleton (1973) querían saber si ciertos números presentados de manera aleatoria se percivían más rápidamente por el campo visual del ojo derecho (RVF) o por el izquierdo (LVF), o si no había una\n",
    "diferencia consistente. A cada uno de $12$ sujetos se les midio el tiempo medio de respuesta a informacion digital  ́\n",
    "en los dos campos visuales (medidos en microsegundos).\n",
    "¿Hay evidencia en los datos que apoye una diferecia en la respuesta?\n",
    "\n",
    "| RVF | LVF |\n",
    "|-----|-----|\n",
    "| 564 | 557 |\n",
    "| 521 | 505 |\n",
    "| 495 | 465 |\n",
    "| 564 | 562 |\n",
    "| 560 | 544 |\n",
    "| 481 | 448 |\n",
    "| 545 | 531 |\n",
    "| 478 | 458 |\n",
    "| 580 | 560 |\n",
    "| 484 | 485 |\n",
    "| 539 | 520 |\n",
    "| 467 | 445 |\n"
   ]
  },
  {
   "cell_type": "code",
   "execution_count": null,
   "id": "1286b86b",
   "metadata": {},
   "outputs": [],
   "source": []
  },
  {
   "cell_type": "markdown",
   "id": "80db34a6",
   "metadata": {},
   "source": [
    "### Ejercicio 3\n",
    "\n",
    "Una psicóloga quiere saber si las mujeres se molestan más que los hombres cuando hay restrasos en su admisión al hospital para someterse a una cirugía de rutina. Se desarrolla un índice de ansiedad y se mide a los pacientes una\n",
    "semana antes de la admision programada; este se mide a $17$ hombres y a $23$ mujeres. \n",
    "El índice oscila entre $1$ y $40$ en una escala de incremento de ansiedad. La suma de rangos de los $17$ hombres es $428$. ¿Hay evidenica en los datos de que la ansiedad dependa del sexo? Si la hay, ¿que género biológico presenta más ansiedad?  ́"
   ]
  },
  {
   "cell_type": "code",
   "execution_count": null,
   "id": "23e5a0ec",
   "metadata": {},
   "outputs": [],
   "source": []
  },
  {
   "cell_type": "markdown",
   "id": "4e3bfb64",
   "metadata": {},
   "source": [
    "### Ejercicio 4\n",
    "\n",
    "Un modelo genético sugiere que las probabilidades de un evento trinomial son\n",
    "$$\n",
    "\\begin{align*}\n",
    "    \\theta_1 &= p^{2} \\\\\n",
    "    \\theta_2 &= 2p(1-p) \\\\\n",
    "    \\theta_3 &= (1-p)^{2}\n",
    "\\end{align*}\n",
    "$$\n",
    "con $0<p<1$.\n",
    "\n",
    "Asume que $X_1, X_2$ y $X_3$ representan las frecuencias observadas a cada categoría en una muestra de $n$ ensayos independientes, respectivamente. Obtén una prueba de bondad de ajuste de tipo $\\chi ^{2}$ para esta distribución trinomial si $p$ es desconocida.\n"
   ]
  },
  {
   "cell_type": "code",
   "execution_count": null,
   "id": "d4712cce",
   "metadata": {},
   "outputs": [],
   "source": []
  },
  {
   "cell_type": "markdown",
   "id": "649d1a79",
   "metadata": {},
   "source": [
    "### Ejercicio 5\n",
    "\n",
    "La tabla muestra el número de espectáculos de debutaron en Broadway durante 1998. Pruebe la hipótesis de que el número de espectáculos que abren por mes sigue una distribución Poisson. ¿Cómo podrías explicar el patrón de comportamiento observado tomando en cuenta los patrones de turismo?\n",
    "\n",
    "|   Mes   | Número de show |    Mes     | Número de show |\n",
    "|:-------:|:--------------:|:----------:|:--------------:|\n",
    "|  Enero  |        6       | Julio      |        2       |\n",
    "| Febrero |        3       | Agosto     |        2       |\n",
    "|  Marzo  |       15       | Septiembre |        2       |\n",
    "|  Abril  |       28       | Octubre    |        8       |\n",
    "|  Mayo   |        1       | Noviembre  |       15       |\n",
    "|  Junio  |        2       | Diciembre  |       17       |\n"
   ]
  },
  {
   "cell_type": "code",
   "execution_count": null,
   "id": "589c01c7",
   "metadata": {},
   "outputs": [],
   "source": []
  },
  {
   "cell_type": "markdown",
   "id": "9a0d1f51",
   "metadata": {},
   "source": [
    "### Ejercicio 6\n",
    "\n",
    "La oficina de correos quiere determinar si hay una relación entre el peso en kilogramos de la correspondencia de un día y el número de empleados que se requiere para procesarla. ¿Que concluirías dada la siguiente tabla?\n",
    "\n",
    "\n",
    "| Peso | Empleados |\n",
    "|:----:|:---------:|\n",
    "|  13  |     14    |\n",
    "|  10  |      8    |\n",
    "|   7  |      5    |\n",
    "|  12  |      9    |\n",
    "|  14  |     10    |\n",
    "|  9.5 |      6    |\n",
    "| 15.5 |     13    |\n",
    "| 16.5 |      6    |\n"
   ]
  },
  {
   "cell_type": "code",
   "execution_count": null,
   "id": "af1bbde0",
   "metadata": {},
   "outputs": [],
   "source": []
  },
  {
   "cell_type": "markdown",
   "id": "c022ef7b",
   "metadata": {},
   "source": [
    "### Ejercicio 7\n",
    "\n",
    "En una muestra nacional de una encuesta realizada por la Secretaría de Educacion Pública y Desarrollo Social, se obtuvo la informacion sobre algunas características de los hogares en Mexico. ¿Existe alguna relación entre las variables escolaridad alcanzada por el jefe de hogar y el tipo de piso en la casa? En caso de existir, ¿qué tan fuerte es la asociacion?\n",
    "\n",
    "<table>\n",
    "  <tr>\n",
    "    <td>&nbsp;</td>\n",
    "    <td>Primaria incompleta</td>\n",
    "    <td>Primaria completa</td>\n",
    "    <td>Secundaria completa</td>\n",
    "    <td>Más de secundaria</td>\n",
    "  </tr>\n",
    "  <tr>\n",
    "    <td>Piso de tierra</td>\n",
    "    <td>278</td>\n",
    "    <td>625</td>\n",
    "    <td>376</td>\n",
    "    <td>258</td>\n",
    "  </tr>\n",
    "  <tr>\n",
    "    <td>Piso de cemento</td>\n",
    "    <td>488</td>\n",
    "    <td>1443</td>\n",
    "    <td>1405</td>\n",
    "    <td>2802</td>\n",
    "  </tr>\n",
    "  <tr>\n",
    "    <td>Piso de mosaico</td>\n",
    "    <td>47</td>\n",
    "    <td>235</td>\n",
    "    <td>405</td>\n",
    "    <td>1448</td>\n",
    "  </tr>\n",
    "</table>\n"
   ]
  },
  {
   "cell_type": "code",
   "execution_count": null,
   "id": "615dfd40",
   "metadata": {},
   "outputs": [],
   "source": []
  },
  {
   "cell_type": "markdown",
   "id": "c0f04bf4",
   "metadata": {},
   "source": [
    "### Ejercicio 8\n",
    "\n",
    "Simula $10$ observaciones de una distribución normal con media $2$ y varianza $4$. \n",
    "Considere las hipótesis:\n",
    "\n",
    "$$\n",
    "\\begin{align}\n",
    "    H_0 : F_X(x) &\\text{ es una distribución normal}\\\\\n",
    "        &\\text{v.s} \\\\\n",
    "    H_a : F_X(x) &\\text{ no es una distribución normal}\n",
    "\\end{align}\n",
    "$$\n",
    "\n",
    "Considera las pruebas de Kolmogorov-Smirnov, Anderson-Darling, Shapiro-Wilks y Cramer Von Mises para probar la hipótesis. ¿Todas las pruebas coinciden en la decisión? ¿Qué concluirías con $\\alpha=0.10$?\n"
   ]
  },
  {
   "cell_type": "code",
   "execution_count": null,
   "id": "aefbee77",
   "metadata": {},
   "outputs": [],
   "source": []
  },
  {
   "cell_type": "markdown",
   "id": "61e45abd",
   "metadata": {},
   "source": [
    "### Ejercicio 9\n",
    "\n",
    "Simula $n=10$ observaciones de una distribución t-Student con $3$ grados de libertad. \n",
    "Considere las hipótesis:\n",
    "\n",
    "$$\n",
    "\\begin{align}\n",
    "    H_0 : F_X(x) &\\text{ es una distribución normal}\\\\\n",
    "        &\\text{v.s} \\\\\n",
    "    H_a : F_X(x) &\\text{ no es una distribución normal}\n",
    "\\end{align}\n",
    "$$\n",
    "\n",
    "Considera las pruebas de Kolmogorov-Smirnov, Anderson-Darling, Shapiro-Wilks y Cramer Von Mises para probar la hipótesis. ¿Todas las pruebas coinciden en la decisión? ¿Qué concluirías con $\\alpha=0.10$? Si aumentas $n$, ¿qué puedes decir sobre las pruebas? Nota: Prueba varios valores para $n$.\n"
   ]
  },
  {
   "cell_type": "code",
   "execution_count": null,
   "id": "e96f7127",
   "metadata": {},
   "outputs": [],
   "source": []
  },
  {
   "cell_type": "markdown",
   "id": "226c8e24",
   "metadata": {},
   "source": [
    "### Ejercicio 10\n",
    "\n",
    "Repite los ejercicios 8 y 9 para muestras de tamaño $100$."
   ]
  },
  {
   "cell_type": "code",
   "execution_count": null,
   "id": "ec72c9d6",
   "metadata": {},
   "outputs": [],
   "source": []
  }
 ],
 "metadata": {
  "kernelspec": {
   "display_name": "Python 3 (ipykernel)",
   "language": "python",
   "name": "python3"
  },
  "language_info": {
   "codemirror_mode": {
    "name": "ipython",
    "version": 3
   },
   "file_extension": ".py",
   "mimetype": "text/x-python",
   "name": "python",
   "nbconvert_exporter": "python",
   "pygments_lexer": "ipython3",
   "version": "3.10.6"
  }
 },
 "nbformat": 4,
 "nbformat_minor": 5
}
