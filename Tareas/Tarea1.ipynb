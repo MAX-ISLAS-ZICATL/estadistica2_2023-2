{
 "cells": [
  {
   "cell_type": "markdown",
   "id": "efacab55",
   "metadata": {},
   "source": [
    "# Tarea 1\n",
    "### Soluciones"
   ]
  },
  {
   "cell_type": "code",
   "execution_count": 1,
   "id": "7e33b4d2",
   "metadata": {},
   "outputs": [],
   "source": [
    "import numpy as np\n",
    "import matplotlib.pyplot as plt\n",
    "import pandas as pd\n",
    "import scipy.stats as stats\n",
    "import statsmodels.api as sm"
   ]
  },
  {
   "cell_type": "markdown",
   "id": "53261d41",
   "metadata": {},
   "source": [
    "### Ejercicio 1\n",
    "\n",
    "El porcentaje del contenido de agua en tierras de cultivo varía ligeramente en áreas grandes y estas variaciones pueden asociarse a aspectos relacionados con la calidad del drenaje. Se toman dos muestras de $10$ cuadrantes cada una del porcentaje de agua en el terreno, y una  muestra en otros 10. Se desea sostener la hipótesis de una mediana de $9$ con un nivel de error del $5\\%$.\n",
    "- Realiza la prueba con una sola muestra y luego con ambas. Discute tus resultados.\n",
    "- Construye un intervalo del $95\\%$ de confianza para la mediana considerando ambas muestras.\n",
    "\n",
    "| Muestra 1  | Muestra 2 |\n",
    "|------------|-----------|\n",
    "|     5.5    |    5.6    |\n",
    "|     6.0    |    6.1    |\n",
    "|     6.5    |    6.3    |\n",
    "|     7.6    |    6.3    |\n",
    "|     7.6    |    6.5    |\n",
    "|     7.7    |    6.6    |\n",
    "|     8.0    |    7.0    |\n",
    "|     8.2    |    7.5    |\n",
    "|     9.1    |    7.9    |\n",
    "|     15.1   |    8.0    |\n",
    "|            |    8.0    |\n",
    "|            |    8.1    |\n",
    "|            |    8.1    |\n",
    "|            |    8.3    |\n",
    "|            |    8.4    |\n",
    "|            |    8.5    |\n",
    "|            |    8.7    |\n",
    "|            |    9.4    |\n",
    "|            |    14.3   |\n",
    "|            |    26.0   |\n"
   ]
  },
  {
   "cell_type": "markdown",
   "id": "36453180",
   "metadata": {},
   "source": [
    "##### Solución.\n",
    "\n",
    "Como queremos probar si la mediana poblacional (de la población que genera los datos) es un número dado, usaremos la prueba de los signos para el el p-ésimo cuantil.\n",
    "\n",
    "Queremos probar\n",
    "$$\n",
    "    H_0: M = 9 \\text{ v.s } H_a: M \\neq 9\n",
    "$$\n",
    "con un nivel de significancia $\\alpha =0.05$.\n",
    "\n",
    "Primero importamos la clase que realiza esta prueba."
   ]
  },
  {
   "cell_type": "code",
   "execution_count": 2,
   "id": "a1d7ed3e",
   "metadata": {},
   "outputs": [],
   "source": [
    "from Tests import QuantileSignTest"
   ]
  },
  {
   "cell_type": "markdown",
   "id": "f0ca114b",
   "metadata": {},
   "source": [
    "Ahora creamos arreglos con los datos:\n",
    "$$\n",
    "X_1 = (x_1^{1}, \\ldots, x_{10}^{1})\\\\\n",
    "X_2 = (x_1^{2}, \\ldots, x_{20}^{2})\\\\\n",
    "X = (x_1, \\ldots, x_{30})\n",
    "$$"
   ]
  },
  {
   "cell_type": "code",
   "execution_count": 3,
   "id": "c3fae576",
   "metadata": {},
   "outputs": [],
   "source": [
    "x_1 = np.array([5.5, 6.0, 6.5, 7.6, 7.6, 7.7, 8.0, 8.2, 9.1, 15.1])\n",
    "x_2 = np.array([5.6, 6.1, 6.3, 6.3, 6.5, 6.6, 7.0, 7.5, 7.9, 8.0, 8.0, 8.1, 8.1, 8.3, 8.4, 8.5, 8.7, 9.4, 14.3, 26.0])\n",
    "x = np.append(x_1, x_2)"
   ]
  },
  {
   "cell_type": "markdown",
   "id": "fd1b3d6f",
   "metadata": {},
   "source": [
    "Contruímos histogramas con estos datos."
   ]
  },
  {
   "cell_type": "code",
   "execution_count": 4,
   "id": "ba80efe3",
   "metadata": {},
   "outputs": [
    {
     "data": {
      "image/png": "[encoded data removed]",
      "text/plain": [
       "<Figure size 1200x400 with 3 Axes>"
      ]
     },
     "metadata": {},
     "output_type": "display_data"
    }
   ],
   "source": [
    "fig, axs = plt.subplots(1, 3, figsize=(12, 4))\n",
    "axs[0].hist(x_1, density=True, label=\"Primera muestra\", color=\"red\")\n",
    "axs[1].hist(x_2, density=True, label=\"Segunda muestra\", color=\"blue\")\n",
    "axs[2].hist(x, density=True, label=\"Muestra combinada\", color=\"green\")\n",
    "fig.legend();"
   ]
  },
  {
   "cell_type": "markdown",
   "id": "c621f52a",
   "metadata": {},
   "source": [
    "Calculamos las medianas muestrales para cada una de las muestras."
   ]
  },
  {
   "cell_type": "code",
   "execution_count": 5,
   "id": "41f8762d",
   "metadata": {},
   "outputs": [
    {
     "name": "stdout",
     "output_type": "stream",
     "text": [
      "Mediana muestral de la primera muestra: 7.65\n",
      "Mediana muestral de la segunda muestra: 8.0\n",
      "Mediana muestral de la muestra total: 7.95\n"
     ]
    }
   ],
   "source": [
    "print(f\"Mediana muestral de la primera muestra: {np.median(x_1)}\")\n",
    "print(f\"Mediana muestral de la segunda muestra: {np.median(x_2)}\")\n",
    "print(f\"Mediana muestral de la muestra total: {np.median(x)}\")"
   ]
  },
  {
   "cell_type": "markdown",
   "id": "e0e13f40",
   "metadata": {},
   "source": [
    "##### a) Prueba con una sola muestra"
   ]
  },
  {
   "cell_type": "markdown",
   "id": "9a0dc42a",
   "metadata": {},
   "source": [
    "A continuación se muestra la ayuda que provee la documentación de la clase que se usará."
   ]
  },
  {
   "cell_type": "code",
   "execution_count": 6,
   "id": "149f314a",
   "metadata": {
    "scrolled": false
   },
   "outputs": [
    {
     "name": "stdout",
     "output_type": "stream",
     "text": [
      "Help on class QuantileSignTest in module Tests:\n",
      "\n",
      "class QuantileSignTest(SignTest)\n",
      " |  QuantileSignTest(x, quantile, p)\n",
      " |  \n",
      " |  Clase para implementar la prueba para el p-ésimo cuantil usando\n",
      " |  la prueba de los signos.\n",
      " |  \n",
      " |  Method resolution order:\n",
      " |      QuantileSignTest\n",
      " |      SignTest\n",
      " |      BinomialTest\n",
      " |      abc.ABC\n",
      " |      builtins.object\n",
      " |  \n",
      " |  Methods defined here:\n",
      " |  \n",
      " |  __init__(self, x, quantile, p)\n",
      " |      Constructor de la clase.\n",
      " |      \n",
      " |      :param x: Observaciones de la variable aleatoria en cuestión.\n",
      " |      :param quantile: El cuantil propuesto para los datos.\n",
      " |      :param p: El orden del cuantil (entre 0 y 1; e.g si p=0.5 para la mediana).\n",
      " |  \n",
      " |  run_test(self, alternative, alpha=0.1, exact=True)\n",
      " |      Ejecuta la prueba de hipótesis.\n",
      " |      \n",
      " |      :param alternative: La hipótesis alternativa.\n",
      " |                          Opciones:\n",
      " |                                  1. \"x_p != n_p0\"\n",
      " |                                  2. \"x_p < n_p0\"\n",
      " |                                  3. \"x_p > n_p0\"\n",
      " |      :param alpha: Nivel de significancia.\n",
      " |      :param exact: Si se usará la estadística de prueba exacta o no.\n",
      " |  \n",
      " |  ----------------------------------------------------------------------\n",
      " |  Data and other attributes defined here:\n",
      " |  \n",
      " |  __abstractmethods__ = frozenset()\n",
      " |  \n",
      " |  ----------------------------------------------------------------------\n",
      " |  Methods inherited from BinomialTest:\n",
      " |  \n",
      " |  get_k(self)\n",
      " |      Regresa el valor observado de la estadística de prueba K.\n",
      " |  \n",
      " |  get_sample(self)\n",
      " |      Regresa la muestra a usar (símbolos + y -). \n",
      " |      \n",
      " |      :return: La muestra a usar para la prueba.\n",
      " |  \n",
      " |  ----------------------------------------------------------------------\n",
      " |  Data descriptors inherited from BinomialTest:\n",
      " |  \n",
      " |  __dict__\n",
      " |      dictionary for instance variables (if defined)\n",
      " |  \n",
      " |  __weakref__\n",
      " |      list of weak references to the object (if defined)\n",
      "\n"
     ]
    }
   ],
   "source": [
    "help(QuantileSignTest)"
   ]
  },
  {
   "cell_type": "markdown",
   "id": "c9679637",
   "metadata": {},
   "source": [
    "Según lo anterior, debemos pasarle un arreglo de datos, el cuantil propuesto y el orden del cuantil."
   ]
  },
  {
   "cell_type": "code",
   "execution_count": 7,
   "id": "c76de02f",
   "metadata": {},
   "outputs": [],
   "source": [
    "# Primera muestra\n",
    "q1 = QuantileSignTest(x=x_1, quantile=9, p=0.5)\n"
   ]
  },
  {
   "cell_type": "markdown",
   "id": "29127787",
   "metadata": {},
   "source": [
    "Ahora invocamos el método \".run_test()\" con todas las alternativas."
   ]
  },
  {
   "cell_type": "code",
   "execution_count": 8,
   "id": "e043dcdd",
   "metadata": {},
   "outputs": [
    {
     "name": "stdout",
     "output_type": "stream",
     "text": [
      "H_0: x_(0.5) = 9 v.s H_a: x_(0.5) != 9\n",
      "Rechazar H_0 si K <= 2 o K >= 8\n",
      "Valor que tomó la estadística 2\n",
      "-> Rechazamos H_0 con nivel de significancia 5.47%\n"
     ]
    }
   ],
   "source": [
    "q1.run_test(alternative=\"x_p != n_p0\", alpha=0.2)\n"
   ]
  },
  {
   "cell_type": "code",
   "execution_count": 9,
   "id": "fc95d175",
   "metadata": {},
   "outputs": [
    {
     "name": "stdout",
     "output_type": "stream",
     "text": [
      "H_0: x_(0.5) = 9 v.s H_a: x_(0.5) < 9\n",
      "Rechazar H_0 si K <= 2\n",
      "Valor que tomó la estadística 2\n",
      "-> Rechazamos H_0 con nivel de significancia 5.47%\n"
     ]
    }
   ],
   "source": [
    "q1.run_test(alternative=\"x_p < n_p0\", alpha=0.1)\n"
   ]
  },
  {
   "cell_type": "code",
   "execution_count": 10,
   "id": "7cf06f54",
   "metadata": {},
   "outputs": [
    {
     "name": "stdout",
     "output_type": "stream",
     "text": [
      "H_0: x_(0.5) = 9 v.s H_a: x_(0.5) > 9\n",
      "Rechazar H_0 si K >= 8\n",
      "Valor que tomó la estadística 2\n",
      "-> No rechazamos H_0 con nivel de significancia 5.47%\n"
     ]
    }
   ],
   "source": [
    "q1.run_test(alternative=\"x_p > n_p0\", alpha=0.1)"
   ]
  },
  {
   "cell_type": "markdown",
   "id": "5200e15e",
   "metadata": {},
   "source": [
    "De la primera prueba (H_0: x_(0.5) = 9 v.s H_a: x_(0.5) != 9) podemos concluir que los datos no proveen suficiente evidencia de que la mediana poblacional sea $9$.\n",
    "\n",
    "Por otro lado, de las otras dos pruebas podemos concluir que los datos sugieren que la mediana poblacional es menor que $9$."
   ]
  },
  {
   "cell_type": "code",
   "execution_count": 11,
   "id": "02578dd4",
   "metadata": {},
   "outputs": [],
   "source": [
    "# Segunda muestra\n",
    "q2 = QuantileSignTest(x=x_2, quantile=9, p=0.5)\n"
   ]
  },
  {
   "cell_type": "markdown",
   "id": "3a57c71c",
   "metadata": {},
   "source": [
    "Invocamos el método \".run_test()\" con todas las alternativas."
   ]
  },
  {
   "cell_type": "code",
   "execution_count": 12,
   "id": "c20d7daa",
   "metadata": {
    "scrolled": true
   },
   "outputs": [
    {
     "name": "stdout",
     "output_type": "stream",
     "text": [
      "H_0: x_(0.5) = 9 v.s H_a: x_(0.5) != 9\n",
      "Rechazar H_0 si K <= 6 o K >= 14\n",
      "Valor que tomó la estadística 3\n",
      "-> Rechazamos H_0 con nivel de significancia 5.77%\n"
     ]
    }
   ],
   "source": [
    "q2.run_test(alternative=\"x_p != n_p0\", alpha=0.2)\n"
   ]
  },
  {
   "cell_type": "code",
   "execution_count": 13,
   "id": "cf7ba7d1",
   "metadata": {},
   "outputs": [
    {
     "name": "stdout",
     "output_type": "stream",
     "text": [
      "H_0: x_(0.5) = 9 v.s H_a: x_(0.5) < 9\n",
      "Rechazar H_0 si K <= 6\n",
      "Valor que tomó la estadística 3\n",
      "-> Rechazamos H_0 con nivel de significancia 5.77%\n"
     ]
    }
   ],
   "source": [
    "q2.run_test(alternative=\"x_p < n_p0\", alpha=0.1)\n"
   ]
  },
  {
   "cell_type": "code",
   "execution_count": 14,
   "id": "67dbe276",
   "metadata": {},
   "outputs": [
    {
     "name": "stdout",
     "output_type": "stream",
     "text": [
      "H_0: x_(0.5) = 9 v.s H_a: x_(0.5) > 9\n",
      "Rechazar H_0 si K >= 14\n",
      "Valor que tomó la estadística 3\n",
      "-> No rechazamos H_0 con nivel de significancia 5.77%\n"
     ]
    }
   ],
   "source": [
    "q2.run_test(alternative=\"x_p > n_p0\", alpha=0.1)"
   ]
  },
  {
   "cell_type": "markdown",
   "id": "aa8c6e6a",
   "metadata": {},
   "source": [
    "De la primera prueba podemos concluir que los datos no proveen suficiente evidencia de que la mediana poblacional sea $9$.\n",
    "\n",
    "Por otro lado, de las otras dos pruebas podemos concluir que los datos sugieren que la mediana poblacional es menor que $9$."
   ]
  },
  {
   "cell_type": "code",
   "execution_count": 15,
   "id": "d661f6c8",
   "metadata": {},
   "outputs": [],
   "source": [
    "# Con la ambas muestra\n",
    "q3 = QuantileSignTest(x=x, quantile=9, p=0.5)\n"
   ]
  },
  {
   "cell_type": "code",
   "execution_count": 16,
   "id": "cbe39254",
   "metadata": {},
   "outputs": [
    {
     "name": "stdout",
     "output_type": "stream",
     "text": [
      "H_0: x_(0.5) = 9 v.s H_a: x_(0.5) != 9\n",
      "Rechazar H_0 si K <= 10 o K >= 20\n",
      "Valor que tomó la estadística 5\n",
      "-> Rechazamos H_0 con nivel de significancia 4.94%\n"
     ]
    }
   ],
   "source": [
    "q3.run_test(alternative=\"x_p != n_p0\", alpha=0.1)\n"
   ]
  },
  {
   "cell_type": "code",
   "execution_count": 17,
   "id": "561560fe",
   "metadata": {},
   "outputs": [
    {
     "name": "stdout",
     "output_type": "stream",
     "text": [
      "H_0: x_(0.5) = 9 v.s H_a: x_(0.5) < 9\n",
      "Rechazar H_0 si K <= 10\n",
      "Valor que tomó la estadística 5\n",
      "-> Rechazamos H_0 con nivel de significancia 4.94%\n"
     ]
    }
   ],
   "source": [
    "q3.run_test(alternative=\"x_p < n_p0\", alpha=0.05)\n"
   ]
  },
  {
   "cell_type": "code",
   "execution_count": 18,
   "id": "95cf990a",
   "metadata": {},
   "outputs": [
    {
     "name": "stdout",
     "output_type": "stream",
     "text": [
      "H_0: x_(0.5) = 9 v.s H_a: x_(0.5) > 9\n",
      "Rechazar H_0 si K >= 20\n",
      "Valor que tomó la estadística 5\n",
      "-> No rechazamos H_0 con nivel de significancia 4.94%\n"
     ]
    }
   ],
   "source": [
    "q3.run_test(alternative=\"x_p > n_p0\", alpha=0.05)\n"
   ]
  },
  {
   "cell_type": "markdown",
   "id": "ddc4ef82",
   "metadata": {},
   "source": [
    "Como en los casos anteriores, los datos no contiene evidencia suficiente para afirmar que la mediana poblacional sea $9$, y sugieren que la mediana es menor que 9."
   ]
  },
  {
   "cell_type": "markdown",
   "id": "a7376c57",
   "metadata": {},
   "source": [
    "##### b) Intervalo de confianza para ambas muestras\n",
    "\n",
    "Considere una muestra aleatoria $X_1,\\ldots X_n \\sim F_X$, con $M$ la mediana de $F_X$.\n",
    "\n",
    "Un intervalo de confianza para $M$, con nivel de cobertura $\\gamma$, es un intervalo aleatorio $[L(\\underline{X}), U(\\underline{X})]$ tal que\n",
    "\n",
    "$$\n",
    "    \\mathbb{P}(L(\\underline{X}) \\leq M \\leq U(\\underline{X})) \\geq \\gamma\n",
    "$$\n",
    "\n",
    "donde $L, U$ son funciones de la muestra.\n",
    "\n",
    "Para encontrar el intervalo usaremos el siguiente teorema.\n",
    "\n",
    "**Teorema**: Sea $X_1,\\ldots X_n$ una muestra aleatoria de una distribución continua con p-ésimo cuantil $\\eta_p$, $0<p<1$, y sean $X_{(1)},\\ldots,X_{(n)}$ las estadísticas de orden de la muestra. Entonces, para cualesquiera $r,s \\in \\mathbb{Z}$, tales que $1\\leq r < s \\leq n$,\n",
    "\n",
    "$$\n",
    "    \\mathbb{P}(X_{(r)} \\leq \\eta_p \\leq X_{(s)}) = \\sum_{k=r}^{s-1} \\binom{n}{k}p^{k}(1-p)^{n-k}\n",
    "$$\n",
    "\n",
    "La demostración puede leerse en [Nonparametric Methods](https://link.springer.com/chapter/10.1007/978-3-030-55156-8_14).\n",
    "\n",
    "Si $L(\\underline{X}) = X_{(r)}$ y $U(\\underline{X}) = X_{(s)}$, el problema se traduce a encontrar $r, s$ tales que,\n",
    "\n",
    "$$\n",
    "  \\mathbb{P}(X_{(r)}  \\leq M \\leq X_{(s)}) = \\sum_{k=r}^{s-1} \\binom{n}{k}p^{k}(1-p)^{n-k} \\geq \\gamma  \n",
    "$$\n",
    "\n",
    "En nuestro problema, $n=30$, $p=0.5$, y $\\gamma=0.95$, por lo que,\n",
    "\n",
    "$$\n",
    "  \\mathbb{P}(X_{(r)}  \\leq M \\leq X_{(s)}) = \\sum_{k=r}^{s-1} \\binom{30}{k}(0.5)^{30} \\geq 0.95\n",
    "$$"
   ]
  },
  {
   "cell_type": "code",
   "execution_count": 19,
   "id": "c412b054",
   "metadata": {},
   "outputs": [],
   "source": [
    "def ci_coverage(r, s):\n",
    "    prob = 0\n",
    "    for i in range(r, s):\n",
    "        prob += stats.binom.pmf(k=i, n=30, p=0.5)\n",
    "        \n",
    "    return prob\n"
   ]
  },
  {
   "cell_type": "code",
   "execution_count": 20,
   "id": "5529571c",
   "metadata": {},
   "outputs": [
    {
     "data": {
      "text/plain": [
       "0.9760015876963736"
      ]
     },
     "execution_count": 20,
     "metadata": {},
     "output_type": "execute_result"
    }
   ],
   "source": [
    "ci_coverage(10, 23)"
   ]
  },
  {
   "cell_type": "code",
   "execution_count": 21,
   "id": "94b7f1dc",
   "metadata": {},
   "outputs": [
    {
     "data": {
      "text/plain": [
       "0.9504689695313574"
      ]
     },
     "execution_count": 21,
     "metadata": {},
     "output_type": "execute_result"
    }
   ],
   "source": [
    "ci_coverage(11, 25)"
   ]
  },
  {
   "cell_type": "markdown",
   "id": "2ad0d469",
   "metadata": {},
   "source": [
    "La función 'ci_coverage()\" calcula la suma buscada desde el índice $r$ hasta el $s-1$. Con $r=11$ y $s=25$, obtenemos que la cobertura del intervalo es aproximadamente 0.95, como se buscaba.\n",
    "\n",
    "Solo falta encontrar $X_{(11)}$ y $X_{(25)}$, que son los extremos del intervalo de confianza."
   ]
  },
  {
   "cell_type": "code",
   "execution_count": 22,
   "id": "526232ca",
   "metadata": {},
   "outputs": [
    {
     "name": "stdout",
     "output_type": "stream",
     "text": [
      "El intervalo de confianza es [7.5,8.7].\n"
     ]
    }
   ],
   "source": [
    "ordered_data = np.sort(x)\n",
    "x_11, x_25 = ordered_data[10], ordered_data[24]\n",
    "\n",
    "print(f\"El intervalo de confianza es [{x_11},{x_25}].\")"
   ]
  },
  {
   "cell_type": "markdown",
   "id": "39447509",
   "metadata": {},
   "source": [
    "### Ejercicio 2\n",
    "\n",
    "I. Geffen, Bradshaw and Nettleton (1973) querían saber si ciertos números presentados de manera aleatoria se percivían más rápidamente por el campo visual del ojo derecho (RVF) o por el izquierdo (LVF), o si no había una\n",
    "diferencia consistente. A cada uno de $12$ sujetos se les midio el tiempo medio de respuesta a informacion digital en los dos campos visuales (medidos en microsegundos).\n",
    "¿Hay evidencia en los datos que apoye una diferecia en la respuesta?\n",
    "\n",
    "| RVF | LVF |\n",
    "|-----|-----|\n",
    "| 564 | 557 |\n",
    "| 521 | 505 |\n",
    "| 495 | 465 |\n",
    "| 564 | 562 |\n",
    "| 560 | 544 |\n",
    "| 481 | 448 |\n",
    "| 545 | 531 |\n",
    "| 478 | 458 |\n",
    "| 580 | 560 |\n",
    "| 484 | 485 |\n",
    "| 539 | 520 |\n",
    "| 467 | 445 |\n"
   ]
  },
  {
   "cell_type": "markdown",
   "id": "3fd3d9f0",
   "metadata": {},
   "source": [
    "###### Solución\n",
    "\n",
    "El enunciado sugiere que usemos una prueba de localización para la tendencia central de las muestras.\n",
    "\n",
    "Primero importamos las clases para la prueba de igualdad basada en rachas y la prueba U."
   ]
  },
  {
   "cell_type": "code",
   "execution_count": 23,
   "id": "7e3e135c",
   "metadata": {},
   "outputs": [],
   "source": [
    "from Tests import RunsEqualityTest, MannWhitneyTest\n"
   ]
  },
  {
   "cell_type": "markdown",
   "id": "328aea82",
   "metadata": {},
   "source": [
    "Ponemos los datos, creamos histogramas y graficamos las funciones de distribución empíricas para cada muestra."
   ]
  },
  {
   "cell_type": "code",
   "execution_count": 24,
   "id": "14b8fa04",
   "metadata": {},
   "outputs": [],
   "source": [
    "x_r = np.array([564, 521, 495, 564, 560, 481, 545, 478, 580, 484, 539, 467])\n",
    "y_l = np.array([557, 505, 465, 562, 544, 448, 531, 458, 560, 485, 520, 445])\n"
   ]
  },
  {
   "cell_type": "code",
   "execution_count": 25,
   "id": "c4d203f9",
   "metadata": {},
   "outputs": [
    {
     "data": {
      "image/png": "[encoded data removed]",
      "text/plain": [
       "<Figure size 1200x400 with 2 Axes>"
      ]
     },
     "metadata": {},
     "output_type": "display_data"
    }
   ],
   "source": [
    "fig, axs = plt.subplots(1, 2, figsize=(12, 4))\n",
    "axs[0].hist(x_r, density=True, label=\"RVF (X)\", color=\"red\")\n",
    "axs[1].hist(y_l, density=True, label=\"LVF (Y)\", color=\"blue\")\n",
    "fig.legend();"
   ]
  },
  {
   "cell_type": "code",
   "execution_count": 26,
   "id": "555cfe26",
   "metadata": {},
   "outputs": [
    {
     "data": {
      "image/png": "[encoded data removed]",
      "text/plain": [
       "<Figure size 700x400 with 1 Axes>"
      ]
     },
     "metadata": {},
     "output_type": "display_data"
    }
   ],
   "source": [
    "ecdf_x = sm.distributions.ECDF(x_r)\n",
    "ecdf_y = sm.distributions.ECDF(y_l)\n",
    "\n",
    "a = np.linspace(min(x_r) - 1, max(x_r) + 1)\n",
    "cdf_x = ecdf_x(a)\n",
    "\n",
    "b = np.linspace(min(y_l) - 1, max(y_l) + 1)\n",
    "cdf_y = ecdf_x(b)\n",
    "\n",
    "fig, axs = plt.subplots(1, 1, figsize=(7, 4))\n",
    "axs.step(a, cdf_x, label=\"RVF (X)\")\n",
    "axs.step(b, cdf_y, label=\"LVF (Y)\")\n",
    "fig.legend();"
   ]
  },
  {
   "cell_type": "markdown",
   "id": "09005306",
   "metadata": {},
   "source": [
    "Ahora haremos la prueba basada en rachas para probar\n",
    "$$\n",
    "    H_0: F_X = F_Y \\text{ v.s } H_a: F_X \\neq F_Y\n",
    "$$"
   ]
  },
  {
   "cell_type": "code",
   "execution_count": 27,
   "id": "1abaeeac",
   "metadata": {},
   "outputs": [],
   "source": [
    "runs = RunsEqualityTest(x_r, y_l)\n"
   ]
  },
  {
   "cell_type": "code",
   "execution_count": 28,
   "id": "9feb475a",
   "metadata": {},
   "outputs": [
    {
     "name": "stdout",
     "output_type": "stream",
     "text": [
      "H_0: F_X = F_Y v.s H_a: F_X != F_Y\n",
      "Rechazar H_0 si: R <= 7\n",
      "Valor que tomó la estadística: R_obs = 12\n",
      "-> No rechazamos H_0 con nivel de significancia 2.264%\n"
     ]
    }
   ],
   "source": [
    "runs.run_test(alpha=0.05, exact=True)\n"
   ]
  },
  {
   "cell_type": "code",
   "execution_count": 29,
   "id": "41b52726",
   "metadata": {},
   "outputs": [
    {
     "name": "stdout",
     "output_type": "stream",
     "text": [
      "H_0: F_X = F_Y v.s H_a: F_X != F_Y\n",
      "Rechazar H_0 si: Z <= -1.645\n",
      "Valor que tomó la estadística R: R_obs = 12\n",
      "Valor que tomó la estadística Z: Z_obs = 0.218\n",
      "->No rechazamos H_0 con nivel de significancia 5.0%\n"
     ]
    }
   ],
   "source": [
    "runs.run_test(alpha=0.05)\n"
   ]
  },
  {
   "cell_type": "markdown",
   "id": "a761768e",
   "metadata": {},
   "source": [
    "Tanto la prueba exacta como la asintótica sugieren, que no rechazamos la hipótesis nula, por lo que hay evidencia para afirmar que las distribuciones son iguales, es decir, que no hay diferencia significativa en los tiempos de percepción de los números.\n",
    "\n",
    "Ahora realizamos pruebas U para comprobar si se obtiene el mismo resultado."
   ]
  },
  {
   "cell_type": "code",
   "execution_count": 30,
   "id": "65275ef5",
   "metadata": {},
   "outputs": [],
   "source": [
    "mw_1 = MannWhitneyTest(x_r, y_l)\n"
   ]
  },
  {
   "cell_type": "code",
   "execution_count": 31,
   "id": "004ef276",
   "metadata": {},
   "outputs": [
    {
     "name": "stdout",
     "output_type": "stream",
     "text": [
      "H_0: F_X = F_Y v.s H_a: F_X > F_Y\n",
      "Rechazar H_0: F_X = F_Y si: Z <= -1.645\n",
      "Valor que tomó la estadística U: U_obs = 78\n",
      "Valor que tomó la estadística Z: Z_obs = 0.348\n",
      "->No rechazamos H_0 con nivel de significancia 5.0%\n"
     ]
    }
   ],
   "source": [
    "mw_1.run_test(alternative=\"F_X > F_Y\", alpha=0.05)\n"
   ]
  },
  {
   "cell_type": "code",
   "execution_count": 32,
   "id": "2bfe01b8",
   "metadata": {},
   "outputs": [],
   "source": [
    "mw_2 = MannWhitneyTest(y_l, x_r)\n"
   ]
  },
  {
   "cell_type": "code",
   "execution_count": 33,
   "id": "a5fadd40",
   "metadata": {
    "scrolled": true
   },
   "outputs": [
    {
     "name": "stdout",
     "output_type": "stream",
     "text": [
      "H_0: F_X = F_Y v.s H_a: F_X > F_Y\n",
      "Rechazar H_0: F_X = F_Y si: Z <= -1.645\n",
      "Valor que tomó la estadística U: U_obs = 43\n",
      "Valor que tomó la estadística Z: Z_obs = -0.329\n",
      "->No rechazamos H_0 con nivel de significancia 5.0%\n"
     ]
    }
   ],
   "source": [
    "mw_2.run_test(alternative=\"F_X > F_Y\", alpha=0.05)\n"
   ]
  },
  {
   "cell_type": "markdown",
   "id": "c3c248f9",
   "metadata": {},
   "source": [
    "Note que las pruebas sugieren que no rechacemos la hipótesis nula a favor de las alternativas ($F_X < F_Y$ o $F_x > F_Y$), por lo que esta prueba también sugiere que las distribuciones son iguales."
   ]
  },
  {
   "cell_type": "markdown",
   "id": "80db34a6",
   "metadata": {},
   "source": [
    "### Ejercicio 3\n",
    "\n",
    "Una psicóloga quiere saber si las mujeres se molestan más que los hombres cuando hay retrasos en su admisión al hospital para someterse a una cirugía de rutina. Se desarrolla un índice de ansiedad y se mide a los pacientes una\n",
    "semana antes de la admision programada; este se mide a $17$ hombres y a $23$ mujeres. \n",
    "El índice oscila entre $1$ y $40$ en una escala de incremento de ansiedad. La suma de rangos de los $17$ hombres es $428$. ¿Hay evidencia en los datos de que la ansiedad dependa del sexo? Si la hay, ¿que género biológico presenta más ansiedad?  ́"
   ]
  },
  {
   "cell_type": "markdown",
   "id": "3c289151",
   "metadata": {},
   "source": [
    "###### Solución\n",
    "\n",
    "Considere las variables aleatorias $X$: \"Índice de ansiedad en hombres\", y $Y$: \"Índice de ansiedad en mujeres\". \n",
    "Por hipótesis, \n",
    "\n",
    "$$\n",
    "    Sop(X) = Sop(Y) = \\{1,\\ldots,40\\}\n",
    "$$\n",
    "\n",
    "Como el índice se midió en 17 hombres y 23 mujeres, tenemos las siguientes muestras.\n",
    "\n",
    "$$\n",
    "    X_1,\\ldots X_{17}\\\\\n",
    "    Y_1,\\ldots, Y_{23}\n",
    "$$\n",
    "\n",
    "Además, por hipótesis sabemos que \n",
    "\n",
    "$$\n",
    "    \\sum_{i=1}^{17}Rango(X_i) = 428\n",
    "$$\n",
    "\n",
    "Note que esta suma de rangos se calcula una vez que la muestra ha sido mezclada y ordenada.\n",
    "\n",
    "Para responder a la primera pregunta (¿Hay evidencia en los datos de que la ansiedad dependa del sexo?), vamos a probar\n",
    "\n",
    "$$\n",
    "    H_0: F_X = F_Y \\text{ v.s } H_a: F_X \\neq F_Y\n",
    "$$\n",
    "\n",
    "En palabras, $H_0$ se interpreta como que el índice de ansiedad no depende del sexo, mientras que $H_a$ como que el índice sí depende del sexo.\n",
    "\n",
    "Como tenemos la suma de rangos de las $X's$, usaremos la prueba de Wilcoxon.La regla de decisión es \n",
    "\n",
    "\"Rechazar $H_0$ si $W_N(Z) \\leq c_{1}$ o si $W_N(Z) \\geq c_{2}$\"\n",
    "\n",
    "o, en términos de la estadística $W_N(Z)$ estandarizada,\n",
    "\n",
    "$$\n",
    "    \\text{\"Rechazar } H_0 \\text{ si } Z:=\\frac{W_N(Z) - \\mathbb{E}(W_N(Z))}{\\sqrt{\\mathbb{V}ar(W_N(Z))}} \\leq z_{\\alpha /2} \\text{ o si } Z:=\\frac{W_N(Z) - \\mathbb{E}(W_N(Z))}{\\sqrt{\\mathbb{V}ar(W_N(Z))}}  \\geq z_{1-\\alpha/2}\"\n",
    "$$\n",
    "\n",
    "con $\\mathbb{E}(W_N(Z)) = \\frac{n_1(n+1)}{2}$ y $\\mathbb{V}ar(W_N(Z)) = \\frac{n_1 n_2 (n+1)}{12}$.\n",
    "\n",
    "\n",
    "En este caso $n_1 = 17$, $n_2 = 23$, $n=40$, $\\mathbb{E}(W_N(Z))=348.5$ y $\\mathbb{V}ar(W_N(Z))\\approx 1335.9$. \n",
    "Haciendo el cálculo se obtiene $Z_{\\text{obs}}\\approx 2.17$.\n",
    "\n",
    "Con $\\alpha=0.05$, $z_{\\alpha/2}\\approx -1.95$ y $z_{1-\\alpha/2}\\approx 1.95$.\n",
    "\n",
    "Como $2.17 = Z_{\\text{obs}} \\geq z_{1-\\alpha/2} = 1.96$, rechazamos $H_0$, es decir, los datos indican que el índice de ansidad sí depende del sexo.\n",
    "\n",
    "Para probar la hipótesis nula contra $H_a: F_X > F_Y$, comparamos $Z_{\\text{obs}} = 2.17$ con $z_{\\alpha}=-1.64$: como $Z_{\\text{obs}} > z_{\\alpha}$, no rechazamos $H_0$.\n",
    "\n",
    "Para probar la hipótesis nula contra $H_a: F_X < F_Y$, comparamos $Z_{\\text{obs}} = 2.17$ con $z_{1-\\alpha}=1.64$: como $Z_{\\text{obs}} \\geq z_{1-\\alpha}$, rechazamos $H_0$ a favor de $H_a: F_X < F_Y$, de donde podemos concluir, con nivel del significancia del $5\\%$, que $X > Y$ estocásticamente, es decir, que los hombres tienen a sufrir mayores índices de ansiedad que las mujeres."
   ]
  },
  {
   "cell_type": "markdown",
   "id": "4e3bfb64",
   "metadata": {},
   "source": [
    "### Ejercicio 4\n",
    "\n",
    "Un modelo genético sugiere que las probabilidades de un evento trinomial son\n",
    "$$\n",
    "\\begin{align*}\n",
    "    p_1 &= p^{2} \\\\\n",
    "    p_2 &= 2p(1-p) \\\\\n",
    "    p_3 &= (1-p)^{2}\n",
    "\\end{align*}\n",
    "$$\n",
    "con $0<p<1$.\n",
    "\n",
    "Asume que $X_1, X_2$ y $X_3$ representan las frecuencias observadas a cada categoría en una muestra de $n$ ensayos independientes, respectivamente. Obtén una prueba de bondad de ajuste de tipo $\\chi ^{2}$ para esta distribución trinomial si $p$ es desconocida.\n"
   ]
  },
  {
   "cell_type": "markdown",
   "id": "7762f203",
   "metadata": {},
   "source": [
    "##### Solución\n",
    "\n",
    "Queremos probar $H_0: p_1 = p^{2}, p_2 = 2p(1-p), p_3 = (1-p)^{2}$ v.s $H_a: $ No ocurre $H_0$, con $0<p<1$.\n",
    "\n",
    "Note que la hipótesis nula es compuesta, pues no determina los valores de $p_i$, solo dice que están en términos de un parámetro desconocido, $p$.\n",
    "\n",
    "De ser claro que hay $k=3$ categorías, para las cuales $X_i$ representa sus frecuencias observadas.\n",
    "\n",
    "Primero vamos a estimar $p$ usando la muestra $X_1, X_2, X_3$ (resultados de un experimento multinomial).\n",
    "La función de verosimilitud es\n",
    "\n",
    "$$\n",
    "    L(\\vec{p}, \\underline{X}) \\propto (p_1)^{X_1}(p_2)^{X_2} (p_3)^{X_3}\n",
    "$$\n",
    "\n",
    "Bajo $H_0$,\n",
    "\n",
    "$$\n",
    "    L(\\vec{p}, \\underline{X}) \\propto (p^{2})^{X_1}(2p(1-p))^{X_2} ((1-p)^{2})^{X_3}\n",
    "$$\n",
    "\n",
    "Si optimizamos $l(\\vec{p})=\\ln{(L(\\vec{p}, \\underline{X}) )}$ respecto a $p$, obtenemos que el punto extremal es \n",
    "\n",
    "$$\n",
    "    \\hat{p}_{ML} = \\frac{2 X_1 + X_2}{2n}\n",
    "$$\n",
    "\n",
    "donde $n = \\sum X_i$\n",
    "\n",
    "Por el teorema de la ji-cuadrada de Fisher, najo $H_0$,\n",
    "$$\n",
    "    \\chi^{2} = \\sum_{i=1}^{3} \\frac{(X_i - n\\hat{P}_i)^{2}}{n\\hat{P}_i} = \\sum_{i=1}^{3} \\frac{(X_i - n p_i(\\hat{p}_{ML})^{2}}{n p_i(\\hat{p}_{ML})}\n",
    "$$\n",
    "\n",
    "tiene distribución (aproximada) ji-cuadrada con $3-1-1$ grados de libertad (restamos uno más porque estimamos un parámetro).\n",
    "\n",
    "La regla de decisión es \"Rechazar $H_0$ si $\\chi^{2} \\geq c_{\\alpha}$\""
   ]
  },
  {
   "cell_type": "markdown",
   "id": "649d1a79",
   "metadata": {},
   "source": [
    "### Ejercicio 5\n",
    "\n",
    "La tabla muestra el número de espectáculos de debutaron en Broadway durante 1998. Pruebe la hipótesis de que el número de espectáculos que abren por mes sigue una distribución Poisson. ¿Cómo podrías explicar el patrón de comportamiento observado tomando en cuenta los patrones de turismo?\n",
    "\n",
    "|   Mes   | Número de show |    Mes     | Número de show |\n",
    "|:-------:|:--------------:|:----------:|:--------------:|\n",
    "|  Enero  |        6       | Julio      |        2       |\n",
    "| Febrero |        3       | Agosto     |        2       |\n",
    "|  Marzo  |       15       | Septiembre |        2       |\n",
    "|  Abril  |       28       | Octubre    |        8       |\n",
    "|  Mayo   |        1       | Noviembre  |       15       |\n",
    "|  Junio  |        2       | Diciembre  |       17       |\n"
   ]
  },
  {
   "cell_type": "markdown",
   "id": "dbf162ea",
   "metadata": {},
   "source": [
    "##### Solución 1 (sin juntar categorías)\n",
    "\n",
    "Sea $X$ el número de espectáculos que debutan por mes. Queremos determinar si $X\\sim Poi(\\lambda)$, por lo que haremos la siguiente prueba.\n",
    "\n",
    "$$\n",
    "    H_0: X \\sim Poi(\\lambda) \\text{ v.s } H_a: X \\not\\sim Poi(\\lambda) \n",
    "$$\n",
    "\n",
    "Note que si $X\\sim Poi(\\lambda)$, entonces $sop(X)=\\{0,1,2,\\ldots \\}=\\mathbb{N}$. Entoces el experimento consiste en tomar un mes y clasificarlo con un número natural dependiendo de cuántos espectáculos abrieron en ese mes.\n",
    "Lo anterior nos da la siguiente tabla\n",
    "\n",
    "<table>\n",
    "  <tr>\n",
    "    <td>$X$</td>\n",
    "    <td>0</td>\n",
    "    <td>1</td>\n",
    "    <td>2</td>\n",
    "    <td>3</td>\n",
    "    <td>4</td>\n",
    "    <td>5</td>\n",
    "    <td>6</td>\n",
    "    <td>7</td>\n",
    "    <td>8</td>\n",
    "    <td>9 o más</td>\n",
    "  </tr>\n",
    "  <tr>\n",
    "    <td>$f_i$</td>\n",
    "    <td>0</td>\n",
    "    <td>1</td>\n",
    "    <td>4</td>\n",
    "    <td>1</td>\n",
    "    <td>0</td>\n",
    "    <td>0</td>\n",
    "    <td>1</td>\n",
    "    <td>0</td>\n",
    "    <td>1</td>\n",
    "    <td>4</td>\n",
    "  </tr>\n",
    "  <tr>\n",
    "    <td>$e_i$</td>\n",
    "\n",
    "  </tr>\n",
    "</table>\n",
    "\n",
    "Para calcular las frecuencias esperadas, $e_i$, primero hay que estimar el parámetro desconocido, $\\lambda$.\n",
    "\n",
    "El estimador de máxima verosimilitud es\n",
    "$$\n",
    "\\begin{align*}\n",
    "\\hat{\\lambda}_{ML} &= \\frac{1}{n}\\sum x_i\\\\\n",
    "                   &= \\frac{1}{12} (0(0) + 1(1) + 2(4) + 3(1)+ \\ldots + 8(1) + 9(4))\\\\\n",
    "                   &\\approx 5.17\n",
    "\\end{align*}\n",
    "$$\n",
    "\n",
    "Bajo $H_0$,\n",
    "\n",
    "$$\n",
    "\\begin{align*}\n",
    "    e_i &= n p_i = 12 \\mathbb{P}(X=i-1), i \\in \\{1,...,9\\}\\\\\n",
    "    e_{10} &= 12 \\mathbb{P}(X\\geq 9)\n",
    "\\end{align*}\n",
    "$$"
   ]
  },
  {
   "cell_type": "code",
   "execution_count": 34,
   "id": "e60b5212",
   "metadata": {},
   "outputs": [
    {
     "name": "stdout",
     "output_type": "stream",
     "text": [
      "Parámetro estimado: 5.17\n"
     ]
    }
   ],
   "source": [
    "observed = np.array([0, 1, 4, 1, 0, 0, 1, 0, 1, 4])\n",
    "expected = np.zeros(observed.shape)\n",
    "\n",
    "l = 0\n",
    "for i in range(len(observed)):\n",
    "    l += i * observed[i]\n",
    "l /= 12\n",
    "\n",
    "print(f\"Parámetro estimado: {l:.2f}\")\n"
   ]
  },
  {
   "cell_type": "code",
   "execution_count": 35,
   "id": "862b1daa",
   "metadata": {},
   "outputs": [
    {
     "name": "stdout",
     "output_type": "stream",
     "text": [
      "Frecuencias esperadas\n",
      " [0.06844259 0.35362004 0.91351843 1.57328174 2.03215558 2.0998941\n",
      " 1.80824214 1.33465492 0.86196463 0.95422582]\n"
     ]
    }
   ],
   "source": [
    "for x in range(0, 10):\n",
    "    if x < 9:\n",
    "        e = 12 * stats.poisson.pmf(x, mu=l)\n",
    "        expected[x] = e\n",
    "    else:\n",
    "        e = 12 * (1 - stats.poisson.cdf(x-1, mu=l))\n",
    "        expected[x] = e\n",
    "\n",
    "\n",
    "print(f\"Frecuencias esperadas\\n\", expected)"
   ]
  },
  {
   "cell_type": "markdown",
   "id": "796022ed",
   "metadata": {},
   "source": [
    "Con lo anterior podemos llenar la tabla\n",
    "<table>\n",
    "  <tr>\n",
    "    <td>$X$</td>\n",
    "    <td>0</td>\n",
    "    <td>1</td>\n",
    "    <td>2</td>\n",
    "    <td>3</td>\n",
    "    <td>4</td>\n",
    "    <td>5</td>\n",
    "    <td>6</td>\n",
    "    <td>7</td>\n",
    "    <td>8</td>\n",
    "    <td>9 o más</td>\n",
    "  </tr>\n",
    "  <tr>\n",
    "    <td>$f_i$</td>\n",
    "    <td>0</td>\n",
    "    <td>1</td>\n",
    "    <td>4</td>\n",
    "    <td>1</td>\n",
    "    <td>0</td>\n",
    "    <td>0</td>\n",
    "    <td>1</td>\n",
    "    <td>0</td>\n",
    "    <td>1</td>\n",
    "    <td>4</td>\n",
    "  </tr>\n",
    "  <tr>\n",
    "    <td>$e_i$</td>\n",
    "    <td>0.0684</td>\n",
    "    <td>0.3536</td>\n",
    "    <td>0.9135</td>\n",
    "    <td>1.5732</td>\n",
    "    <td>2.0321</td>\n",
    "    <td>2.0998</td>\n",
    "    <td>1.8082</td>\n",
    "    <td>1.3346</td>\n",
    "    <td>0.8619</td>\n",
    "    <td>0.9542</td>\n",
    "  </tr>\n",
    "</table>\n",
    "\n",
    "Finalmente, calculamos la estadística de prueba"
   ]
  },
  {
   "cell_type": "code",
   "execution_count": 36,
   "id": "8b2714ce",
   "metadata": {},
   "outputs": [],
   "source": [
    "def chi2(o, e):\n",
    "    assert o.size == e.size\n",
    "    k = o.size\n",
    "    jiji = 0\n",
    "    \n",
    "    for i in range(k):\n",
    "        jiji += ((e[i] - o[i])**2) / e[i]\n",
    "        \n",
    "    return jiji"
   ]
  },
  {
   "cell_type": "code",
   "execution_count": 37,
   "id": "13beaae6",
   "metadata": {},
   "outputs": [
    {
     "data": {
      "text/plain": [
       "27.45888990005429"
      ]
     },
     "execution_count": 37,
     "metadata": {},
     "output_type": "execute_result"
    }
   ],
   "source": [
    "chi2(observed, expected)"
   ]
  },
  {
   "cell_type": "markdown",
   "id": "968e35f2",
   "metadata": {},
   "source": [
    "Es decir, $\\chi ^{2}_{\\text{obs}} = 27.45$.\n",
    "\n",
    "Si calculamos el p-valor como $p_{\\text{val}} = \\mathbb{P}(\\chi^{2} \\geq \\chi ^{2}_{\\text{obs}})$, obtenemos $p_{\\text{val}} = 0.00059$, el cual es suficientemente bajo como para rechazar $H_0$ con significancia baja."
   ]
  },
  {
   "cell_type": "code",
   "execution_count": 38,
   "id": "3be039fc",
   "metadata": {},
   "outputs": [
    {
     "data": {
      "text/plain": [
       "0.0005909610528784581"
      ]
     },
     "execution_count": 38,
     "metadata": {},
     "output_type": "execute_result"
    }
   ],
   "source": [
    "# df = 10 - 1 - 1 = 8\n",
    "stats.chi2.sf(27.45, df=8)"
   ]
  },
  {
   "cell_type": "markdown",
   "id": "95ec313a",
   "metadata": {},
   "source": [
    "##### Solución 2 (juntando categorías)\n",
    "\n",
    "Para seguir la regla de que para toda $i\\in\\{1,\\ldots,k\\}$, $e_i \\geq 5$ (o al menos cercanas a 5), vamos a crear categorías usando los cuantiles $q_{1/3}\\left(Poi(\\frac{101}{12})\\right)$ y $q_{2/3}\\left(Poi(\\frac{101}{12})\\right)$ para particionar el soporte de la distribución Poisson en 3 partes (casi)-equiprobables (como la poisson es discreta, no es posible hacerlo exactamente).\n",
    "\n",
    "Con estos cuantiles las categorías son $C_1 = \\{0, 1, \\ldots, 6, 7 \\}$, $C_2 = \\{8, 9, 10\\}$ y $C_3 = \\{11, 12, \\ldots\\}$. Las probabilidades (bajo $H_0$) de cada categoría son $p_1 = 0.3964$, $p_2 = 0.3760$, $p_3 = 0.2276$.\n",
    "\n",
    "<table>\n",
    "  <tr>\n",
    "    <td>$X$</td>\n",
    "    <td>$C_1$</td>\n",
    "    <td>$C_2$</td>\n",
    "    <td>$C_3$</td>\n",
    "  </tr>\n",
    "  <tr>\n",
    "    <td>$f_i$</td>\n",
    "    <td>7</td>\n",
    "    <td>1</td>\n",
    "    <td>4</td>\n",
    "  </tr>\n",
    "  <tr>\n",
    "    <td>$e_i$</td>\n",
    "    <td>4.7568</td>\n",
    "    <td>0.3760</td>\n",
    "    <td>0.2276</td>\n",
    "  </tr>\n",
    "</table>"
   ]
  },
  {
   "cell_type": "code",
   "execution_count": 39,
   "id": "7337ae0a",
   "metadata": {},
   "outputs": [
    {
     "data": {
      "text/plain": [
       "64.61978695740758"
      ]
     },
     "execution_count": 39,
     "metadata": {},
     "output_type": "execute_result"
    }
   ],
   "source": [
    "f = np.array([7, 1, 4])\n",
    "e = np.array([4.7568, 0.3760, 0.2276])\n",
    "chi2(f, e)"
   ]
  },
  {
   "cell_type": "code",
   "execution_count": 87,
   "id": "d0b27173",
   "metadata": {},
   "outputs": [
    {
     "data": {
      "text/plain": [
       "9.129086674947777e-16"
      ]
     },
     "execution_count": 87,
     "metadata": {},
     "output_type": "execute_result"
    }
   ],
   "source": [
    "stats.chi2.sf(64.61, df=1)"
   ]
  },
  {
   "cell_type": "markdown",
   "id": "4535d68f",
   "metadata": {},
   "source": [
    "De donde concluimos que rechazamos $H_0$."
   ]
  },
  {
   "cell_type": "markdown",
   "id": "1a5dcbfc",
   "metadata": {},
   "source": [
    "Con ambas soluciones se rechaza $H_0$, por lo que se concluye que el número de espectáculos que debutan por mes no se distribuye Poisson. Lo anterior tiene sentido porque los patrones de turismo están asociados a las vacaciones, las cuales, a grandes rasgos, ocurren dos veces al año, por lo que la distribución real de los datos debería ser multimodal, no unimodal como la distribución Poisson."
   ]
  },
  {
   "cell_type": "markdown",
   "id": "9a0d1f51",
   "metadata": {},
   "source": [
    "### Ejercicio 6\n",
    "\n",
    "La oficina de correos quiere determinar si hay una relación entre el peso en kilogramos de la correspondencia de un día y el número de empleados que se requiere para procesarla. ¿Que concluirías dada la siguiente tabla?\n",
    "\n",
    "\n",
    "| Peso | Empleados |\n",
    "|:----:|:---------:|\n",
    "|  13  |     14    |\n",
    "|  10  |      8    |\n",
    "|   7  |      5    |\n",
    "|  12  |      9    |\n",
    "|  14  |     10    |\n",
    "|  9.5 |      6    |\n",
    "| 15.5 |     13    |\n",
    "| 16.5 |      6    |\n"
   ]
  },
  {
   "cell_type": "markdown",
   "id": "afc3ab0c",
   "metadata": {},
   "source": [
    "###### Solución\n",
    "\n",
    "Vamos a crear dos categorías para cada variable. Si $X$ indica el peso, entonces clasificamos estos datos entre \"12 kg o más\" y \"Más de 12 kg\"; si $Y$ indica el número de empleados, clasificamos estos datos en \"9 empleados o menos\" y \"10 o más empleados\"."
   ]
  },
  {
   "cell_type": "code",
   "execution_count": 40,
   "id": "711dc2d4",
   "metadata": {},
   "outputs": [],
   "source": [
    "from Tests import IndependenceTest"
   ]
  },
  {
   "cell_type": "code",
   "execution_count": 41,
   "id": "af1bbde0",
   "metadata": {},
   "outputs": [],
   "source": [
    "Y = [\"12 kg o menos\", \"Más de 12 kg\"]\n",
    "X = [\"9 empleados o menos\", \"10 o más empleados\"]\n",
    "table = np.array([[4, 1], [0, 3]])\n",
    "data = pd.DataFrame(table, columns=Y, index=X)"
   ]
  },
  {
   "cell_type": "code",
   "execution_count": 42,
   "id": "1d0123f0",
   "metadata": {},
   "outputs": [
    {
     "name": "stdout",
     "output_type": "stream",
     "text": [
      "Tabla de contingencia de 2 x 2\n",
      "\n",
      "                     12 kg o menos  Más de 12 kg\n",
      "9 empleados o menos              4             1\n",
      "10 o más empleados               0             3\n"
     ]
    }
   ],
   "source": [
    "it = IndependenceTest(data)\n",
    "print(it)"
   ]
  },
  {
   "cell_type": "markdown",
   "id": "e0c38a6e",
   "metadata": {},
   "source": [
    "La celda anterior muestra la tabla de contingencia creada usando estas categorías.\n",
    "\n",
    "Ahora realizamos una prueba al $5\\%$"
   ]
  },
  {
   "cell_type": "code",
   "execution_count": 43,
   "id": "1b647db7",
   "metadata": {
    "scrolled": true
   },
   "outputs": [
    {
     "name": "stdout",
     "output_type": "stream",
     "text": [
      "H_0: 'Las variables son independientes' v.s H_a: 'Las variables están asociadas'\n",
      "Rechazar H_0 si: jiji > 3.841\n",
      "Valor que tomó la estadística jiji: 4.800\n",
      "-> Rechazamos H_0 con nivel de significancia 5.0%\n",
      "\n",
      "***** MEDIDAS DE ASOCIACIÓN *****\n",
      "\n",
      "Medida phi (valores grandes indican mayor asociación): 0.6000\n",
      "Coeficiente de contingencia en media cuadrática (0: independientes | 1: completamente asociados): 0.5145\n",
      "Índice de T... (valores grandes indican mayor asociación): 0.6000\n",
      "V de Cramer (valores grandes indican mayor asociación): 0.6000\n"
     ]
    }
   ],
   "source": [
    "it.run_test(alpha=0.05)"
   ]
  },
  {
   "cell_type": "markdown",
   "id": "16094f97",
   "metadata": {},
   "source": [
    "De lo anterior concluimos que las variables están asociadas, es decir, que el número de empleados que se requieren para procesar la correspondencia de un día, depende del peso de la misma."
   ]
  },
  {
   "cell_type": "markdown",
   "id": "c022ef7b",
   "metadata": {},
   "source": [
    "### Ejercicio 7\n",
    "\n",
    "En una muestra nacional de una encuesta realizada por la Secretaría de Educacion Pública y Desarrollo Social, se obtuvo la informacion sobre algunas características de los hogares en Mexico. ¿Existe alguna relación entre las variables escolaridad alcanzada por el jefe de hogar y el tipo de piso en la casa? En caso de existir, ¿qué tan fuerte es la asociacion?\n",
    "\n",
    "<table>\n",
    "  <tr>\n",
    "    <td>&nbsp;</td>\n",
    "    <td>Primaria incompleta</td>\n",
    "    <td>Primaria completa</td>\n",
    "    <td>Secundaria completa</td>\n",
    "    <td>Más de secundaria</td>\n",
    "  </tr>\n",
    "  <tr>\n",
    "    <td>Piso de tierra</td>\n",
    "    <td>278</td>\n",
    "    <td>625</td>\n",
    "    <td>376</td>\n",
    "    <td>258</td>\n",
    "  </tr>\n",
    "  <tr>\n",
    "    <td>Piso de cemento</td>\n",
    "    <td>488</td>\n",
    "    <td>1443</td>\n",
    "    <td>1405</td>\n",
    "    <td>2802</td>\n",
    "  </tr>\n",
    "  <tr>\n",
    "    <td>Piso de mosaico</td>\n",
    "    <td>47</td>\n",
    "    <td>235</td>\n",
    "    <td>405</td>\n",
    "    <td>1448</td>\n",
    "  </tr>\n",
    "</table>\n"
   ]
  },
  {
   "cell_type": "code",
   "execution_count": 44,
   "id": "c671cc8e",
   "metadata": {},
   "outputs": [],
   "source": [
    "Y = [\"Primaria inc\", \"Primaria com.\", \"Secundaria com.\", \"Más de sec.\"]\n",
    "X = [\"Piso de tierra\", \"Piso de cemento\", \"Piso de mosaico\"]\n",
    "table = np.array([[278, 625, 376, 258], [488, 1443, 1405, 2802], [47, 235, 405, 1448]])\n",
    "data = pd.DataFrame(table, columns=Y, index=X)"
   ]
  },
  {
   "cell_type": "code",
   "execution_count": 45,
   "id": "615dfd40",
   "metadata": {},
   "outputs": [
    {
     "name": "stdout",
     "output_type": "stream",
     "text": [
      "Tabla de contingencia de 3 x 4\n",
      "\n",
      "                 Primaria inc  Primaria com.  Secundaria com.  Más de sec.\n",
      "Piso de tierra            278            625              376          258\n",
      "Piso de cemento           488           1443             1405         2802\n",
      "Piso de mosaico            47            235              405         1448\n"
     ]
    }
   ],
   "source": [
    "it2 = IndependenceTest(data)\n",
    "print(it2)"
   ]
  },
  {
   "cell_type": "code",
   "execution_count": 46,
   "id": "387a5d47",
   "metadata": {},
   "outputs": [
    {
     "name": "stdout",
     "output_type": "stream",
     "text": [
      "H_0: 'Las variables son independientes' v.s H_a: 'Las variables están asociadas'\n",
      "Rechazar H_0 si: jiji > 12.592\n",
      "Valor que tomó la estadística jiji: 1130.853\n",
      "-> Rechazamos H_0 con nivel de significancia 5.0%\n",
      "\n",
      "***** MEDIDAS DE ASOCIACIÓN *****\n",
      "\n",
      "Medida phi (valores grandes indican mayor asociación): 0.1153\n",
      "Coeficiente de contingencia en media cuadrática (0: independientes | 1: completamente asociados): 0.1145\n",
      "Índice de T... (valores grandes indican mayor asociación): 0.0471\n",
      "V de Cramer (valores grandes indican mayor asociación): 0.0815\n"
     ]
    }
   ],
   "source": [
    "it2.run_test(0.05)"
   ]
  },
  {
   "cell_type": "markdown",
   "id": "c0f04bf4",
   "metadata": {},
   "source": [
    "### Ejercicio 8\n",
    "\n",
    "Simula $10$ observaciones de una distribución normal con media $2$ y varianza $4$. \n",
    "Considere las hipótesis:\n",
    "\n",
    "$$\n",
    "\\begin{align}\n",
    "    H_0 : F_X(x) &\\text{ es una distribución normal}\\\\\n",
    "        &\\text{v.s} \\\\\n",
    "    H_a : F_X(x) &\\text{ no es una distribución normal}\n",
    "\\end{align}\n",
    "$$\n",
    "\n",
    "Considera las pruebas de Kolmogorov-Smirnov, Anderson-Darling, Shapiro-Wilks y Cramer Von Mises para probar la hipótesis. ¿Todas las pruebas coinciden en la decisión? ¿Qué concluirías con $\\alpha=0.10$?\n"
   ]
  },
  {
   "cell_type": "code",
   "execution_count": 47,
   "id": "da85b258",
   "metadata": {},
   "outputs": [],
   "source": [
    "# Simulamos los 10 datos\n",
    "data_8 = stats.norm.rvs(loc=2, scale=2, size=10, random_state=1)\n"
   ]
  },
  {
   "cell_type": "code",
   "execution_count": 48,
   "id": "aefbee77",
   "metadata": {},
   "outputs": [
    {
     "data": {
      "text/plain": [
       "KstestResult(statistic=0.20130993331805813, pvalue=0.7419720433081503, statistic_location=0.9436564954730886, statistic_sign=1)"
      ]
     },
     "execution_count": 48,
     "metadata": {},
     "output_type": "execute_result"
    }
   ],
   "source": [
    "# Pruba de Kolmogorov-Smirnov\n",
    "stats.ks_1samp(data_8, cdf=stats.norm.cdf, args=(2, 2))\n"
   ]
  },
  {
   "cell_type": "code",
   "execution_count": 49,
   "id": "b40817b0",
   "metadata": {},
   "outputs": [
    {
     "data": {
      "text/plain": [
       "AndersonResult(statistic=0.24844826962238287, critical_values=array([0.501, 0.57 , 0.684, 0.798, 0.95 ]), significance_level=array([15. , 10. ,  5. ,  2.5,  1. ]), fit_result=  params: FitParams(loc=1.8057182183878002, scale=2.5106345911456978)\n",
       " success: True\n",
       " message: '`anderson` successfully fit the distribution to the data.')"
      ]
     },
     "execution_count": 49,
     "metadata": {},
     "output_type": "execute_result"
    }
   ],
   "source": [
    "# Prueba de Anderson-Darling\n",
    "stats.anderson(data_8)\n"
   ]
  },
  {
   "cell_type": "code",
   "execution_count": 50,
   "id": "63e5e53a",
   "metadata": {},
   "outputs": [
    {
     "data": {
      "text/plain": [
       "ShapiroResult(statistic=0.9563897252082825, pvalue=0.7440548539161682)"
      ]
     },
     "execution_count": 50,
     "metadata": {},
     "output_type": "execute_result"
    }
   ],
   "source": [
    "# Prueba de Shapiro-Wilks\n",
    "stats.shapiro(data_8)\n"
   ]
  },
  {
   "cell_type": "code",
   "execution_count": 51,
   "id": "855e93b0",
   "metadata": {
    "scrolled": true
   },
   "outputs": [
    {
     "data": {
      "text/plain": [
       "CramerVonMisesResult(statistic=0.07542863084681138, pvalue=0.7296954066333936)"
      ]
     },
     "execution_count": 51,
     "metadata": {},
     "output_type": "execute_result"
    }
   ],
   "source": [
    "# Prueba de Cramer von Mises\n",
    "stats.cramervonmises(data_8, cdf=stats.norm.cdf, args=(2,2))\n"
   ]
  },
  {
   "cell_type": "markdown",
   "id": "c24460a9",
   "metadata": {},
   "source": [
    "Para concluir, necesitamos comparar los valores p obtenidos con $\\alpha = 0.1$.\n",
    "\n",
    "- La prueba KS nos da $p_{value} = 0.74$, como $p_{value} \\leq \\alpha= 0.1$ no es cierto, no rechazamos $H_0$.\n",
    "- La prueba de Anderson-Darling nos da un valor crítico $0.57$ al nivel $10\\%$, y como la estadística de prueba toma el valor $0.24$ no es mayor, no rechazamos $H_0$.\n",
    "- La prueba de Shapiro-Wilks nos da $p_{value} = 0.74$, como $p_{value} \\leq \\alpha= 0.1$ no es cierto, no rechazamos $H_0$.\n",
    "- La prueba de Cramer von Mises nos da $p_{value} = 0.72$, como $p_{value} \\leq \\alpha= 0.1$ no es cierto, no rechazamos $H_0$.\n",
    "\n",
    "Todas las pruebas indican que la distribución de los datos es normal."
   ]
  },
  {
   "cell_type": "markdown",
   "id": "61e45abd",
   "metadata": {},
   "source": [
    "### Ejercicio 9\n",
    "\n",
    "Simula $n=10$ observaciones de una distribución t-Student con $3$ grados de libertad. \n",
    "Considere las hipótesis:\n",
    "\n",
    "$$\n",
    "\\begin{align}\n",
    "    H_0 : F_X(x) &\\text{ es una distribución normal}\\\\\n",
    "        &\\text{v.s} \\\\\n",
    "    H_a : F_X(x) &\\text{ no es una distribución normal}\n",
    "\\end{align}\n",
    "$$\n",
    "\n",
    "Considera las pruebas de Kolmogorov-Smirnov, Anderson-Darling, Shapiro-Wilks y Cramer Von Mises para probar la hipótesis. ¿Todas las pruebas coinciden en la decisión? ¿Qué concluirías con $\\alpha=0.10$? Si aumentas $n$, ¿qué puedes decir sobre las pruebas? Nota: Prueba varios valores para $n$.\n"
   ]
  },
  {
   "cell_type": "code",
   "execution_count": 52,
   "id": "09a4e4bb",
   "metadata": {},
   "outputs": [],
   "source": [
    "# Simulamos 10 datos\n",
    "data_9 = stats.t.rvs(df=3, size=10, random_state=1)\n"
   ]
  },
  {
   "cell_type": "code",
   "execution_count": 53,
   "id": "e96f7127",
   "metadata": {},
   "outputs": [
    {
     "data": {
      "text/plain": [
       "KstestResult(statistic=0.18277894994436888, pvalue=0.834423859795508, statistic_location=-0.3140591904507586, statistic_sign=1)"
      ]
     },
     "execution_count": 53,
     "metadata": {},
     "output_type": "execute_result"
    }
   ],
   "source": [
    "# Pruba de Kolmogorov-Smirnov\n",
    "stats.ks_1samp(data_9, cdf=stats.norm.cdf, args=(np.mean(data_9), np.var(data_9)))\n"
   ]
  },
  {
   "cell_type": "code",
   "execution_count": 54,
   "id": "3ad7303c",
   "metadata": {},
   "outputs": [
    {
     "data": {
      "text/plain": [
       "AndersonResult(statistic=0.33418977045048415, critical_values=array([0.501, 0.57 , 0.684, 0.798, 0.95 ]), significance_level=array([15. , 10. ,  5. ,  2.5,  1. ]), fit_result=  params: FitParams(loc=0.03046699607685901, scale=1.3533450880899405)\n",
       " success: True\n",
       " message: '`anderson` successfully fit the distribution to the data.')"
      ]
     },
     "execution_count": 54,
     "metadata": {},
     "output_type": "execute_result"
    }
   ],
   "source": [
    "# Prueba de Anderson-Darling\n",
    "stats.anderson(data_9)\n"
   ]
  },
  {
   "cell_type": "code",
   "execution_count": 55,
   "id": "8b3708a2",
   "metadata": {},
   "outputs": [
    {
     "data": {
      "text/plain": [
       "ShapiroResult(statistic=0.9322486519813538, pvalue=0.47037145495414734)"
      ]
     },
     "execution_count": 55,
     "metadata": {},
     "output_type": "execute_result"
    }
   ],
   "source": [
    "# Prueba de Shapiro-Wilks\n",
    "stats.shapiro(data_9)\n"
   ]
  },
  {
   "cell_type": "code",
   "execution_count": 56,
   "id": "973a8295",
   "metadata": {},
   "outputs": [
    {
     "data": {
      "text/plain": [
       "CramerVonMisesResult(statistic=0.060070183885201064, pvalue=0.8248664113345106)"
      ]
     },
     "execution_count": 56,
     "metadata": {},
     "output_type": "execute_result"
    }
   ],
   "source": [
    "# Prueba de Cramer von Mises\n",
    "stats.cramervonmises(data_9, cdf=stats.norm.cdf, args=(np.mean(data_9), np.var(data_9)))\n"
   ]
  },
  {
   "cell_type": "markdown",
   "id": "93200007",
   "metadata": {},
   "source": [
    "Para concluir, necesitamos comparar los valores p obtenidos con $\\alpha = 0.1$.\n",
    "\n",
    "- La prueba KS nos da $p_{value} = 0.83$, como $p_{value} \\leq \\alpha= 0.1$ no es cierto, no rechazamos $H_0$.\n",
    "- La prueba de Anderson-Darling nos da un valor crítico $0.57$ al nivel $10\\%$, y como la estadística de prueba toma el valor $0.33$ no es mayor, no rechazamos $H_0$.\n",
    "- La prueba de Shapiro-Wilks nos da $p_{value} = 0.47$, como $p_{value} \\leq \\alpha= 0.1$ no es cierto, no rechazamos $H_0$.\n",
    "- La prueba de Cramer von Mises nos da $p_{value} = 0.82$, como $p_{value} \\leq \\alpha= 0.1$ no es cierto, no rechazamos $H_0$.\n",
    "\n",
    "Todas las pruebas indican que la distribución de los datos es normal (de manera errónea).\n",
    "\n",
    "Ahora incrementaremos la cantidad de datos.\n",
    "\n",
    "Con 50 datos"
   ]
  },
  {
   "cell_type": "code",
   "execution_count": 57,
   "id": "ea26e412",
   "metadata": {},
   "outputs": [],
   "source": [
    "data_9_1 = stats.t.rvs(df=3, size=50, random_state=1)\n"
   ]
  },
  {
   "cell_type": "code",
   "execution_count": 58,
   "id": "fdc6da54",
   "metadata": {},
   "outputs": [
    {
     "data": {
      "text/plain": [
       "KstestResult(statistic=0.21218142730485323, pvalue=0.01872836851026838, statistic_location=0.8235072974684677, statistic_sign=1)"
      ]
     },
     "execution_count": 58,
     "metadata": {},
     "output_type": "execute_result"
    }
   ],
   "source": [
    "# Pruba de Kolmogorov-Smirnov con 50 datos\n",
    "stats.ks_1samp(data_9_1, cdf=stats.norm.cdf, args=(np.mean(data_9_1), np.var(data_9_1)))\n"
   ]
  },
  {
   "cell_type": "code",
   "execution_count": 59,
   "id": "1029e073",
   "metadata": {},
   "outputs": [
    {
     "data": {
      "text/plain": [
       "AndersonResult(statistic=1.2456674427890846, critical_values=array([0.538, 0.613, 0.736, 0.858, 1.021]), significance_level=array([15. , 10. ,  5. ,  2.5,  1. ]), fit_result=  params: FitParams(loc=0.09331104597570049, scale=1.4013174124419754)\n",
       " success: True\n",
       " message: '`anderson` successfully fit the distribution to the data.')"
      ]
     },
     "execution_count": 59,
     "metadata": {},
     "output_type": "execute_result"
    }
   ],
   "source": [
    "# Prueba de Anderson-Darling con 50 datos\n",
    "stats.anderson(data_9_1)\n"
   ]
  },
  {
   "cell_type": "code",
   "execution_count": 60,
   "id": "3005f5c8",
   "metadata": {},
   "outputs": [
    {
     "data": {
      "text/plain": [
       "ShapiroResult(statistic=0.8979959487915039, pvalue=0.00041285311453975737)"
      ]
     },
     "execution_count": 60,
     "metadata": {},
     "output_type": "execute_result"
    }
   ],
   "source": [
    "# Prueba de Shapiro-Wilks con 50 datos\n",
    "stats.shapiro(data_9_1)\n"
   ]
  },
  {
   "cell_type": "code",
   "execution_count": 61,
   "id": "7be83e1a",
   "metadata": {},
   "outputs": [
    {
     "data": {
      "text/plain": [
       "CramerVonMisesResult(statistic=0.5131561527061785, pvalue=0.0364628724605226)"
      ]
     },
     "execution_count": 61,
     "metadata": {},
     "output_type": "execute_result"
    }
   ],
   "source": [
    "# Prueba de Cramer von Mises con 50 datos\n",
    "stats.cramervonmises(data_9_1, cdf=stats.norm.cdf, args=(np.mean(data_9_1), np.var(data_9_1)))\n"
   ]
  },
  {
   "cell_type": "markdown",
   "id": "cbfd9315",
   "metadata": {},
   "source": [
    "Podemos notar que la prueba KS indica (erróneamente) que no rechazamos la hipótesis nula (i.e que son datos se distribuyen de manera normal), mientras que las pruebas de Shapiro-Wilks, Anderson-Darling y de Cramer von Mises sugieren correctamente que rechazamos la hipótesis nula.\n",
    "\n",
    "Ahora con 100 datos"
   ]
  },
  {
   "cell_type": "code",
   "execution_count": 62,
   "id": "2bdefb85",
   "metadata": {},
   "outputs": [],
   "source": [
    "data_9_2 = stats.t.rvs(df=3, size=100, random_state=1)"
   ]
  },
  {
   "cell_type": "code",
   "execution_count": 63,
   "id": "7776e7d4",
   "metadata": {},
   "outputs": [
    {
     "data": {
      "text/plain": [
       "KstestResult(statistic=0.22565556555864663, pvalue=5.8951444377911264e-05, statistic_location=1.1817343613067341, statistic_sign=1)"
      ]
     },
     "execution_count": 63,
     "metadata": {},
     "output_type": "execute_result"
    }
   ],
   "source": [
    "# Pruba de Kolmogorov-Smirnov con 100 datos\n",
    "stats.ks_1samp(data_9_2, cdf=stats.norm.cdf, args=(np.mean(data_9_2), np.var(data_9_2)))\n"
   ]
  },
  {
   "cell_type": "code",
   "execution_count": 64,
   "id": "2c2debce",
   "metadata": {},
   "outputs": [
    {
     "data": {
      "text/plain": [
       "AndersonResult(statistic=3.409261176988707, critical_values=array([0.555, 0.632, 0.759, 0.885, 1.053]), significance_level=array([15. , 10. ,  5. ,  2.5,  1. ]), fit_result=  params: FitParams(loc=0.2696372412629305, scale=1.638001174676979)\n",
       " success: True\n",
       " message: '`anderson` successfully fit the distribution to the data.')"
      ]
     },
     "execution_count": 64,
     "metadata": {},
     "output_type": "execute_result"
    }
   ],
   "source": [
    "# Prueba de Anderson-Darling con 100 datos\n",
    "stats.anderson(data_9_2)\n"
   ]
  },
  {
   "cell_type": "code",
   "execution_count": 65,
   "id": "c4e286b6",
   "metadata": {},
   "outputs": [
    {
     "data": {
      "text/plain": [
       "ShapiroResult(statistic=0.8213533163070679, pvalue=1.1851882808500136e-09)"
      ]
     },
     "execution_count": 65,
     "metadata": {},
     "output_type": "execute_result"
    }
   ],
   "source": [
    "# Prueba de Shapiro-Wilks con 100 datos\n",
    "stats.shapiro(data_9_2)\n"
   ]
  },
  {
   "cell_type": "code",
   "execution_count": 66,
   "id": "6dc3b385",
   "metadata": {},
   "outputs": [
    {
     "data": {
      "text/plain": [
       "CramerVonMisesResult(statistic=1.796153211273541, pvalue=3.251286385119734e-05)"
      ]
     },
     "execution_count": 66,
     "metadata": {},
     "output_type": "execute_result"
    }
   ],
   "source": [
    "# Prueba de Cramer von Mises con 50 datos\n",
    "stats.cramervonmises(data_9_2, cdf=stats.norm.cdf, args=(np.mean(data_9_2), np.var(data_9_2)))\n"
   ]
  },
  {
   "cell_type": "markdown",
   "id": "59d9a16b",
   "metadata": {},
   "source": [
    "Con más datos, todas las pruebas coinciden en que los datos no siguen una distribución normal."
   ]
  },
  {
   "cell_type": "markdown",
   "id": "226c8e24",
   "metadata": {},
   "source": [
    "### Ejercicio 10\n",
    "\n",
    "Repite los ejercicios 8 y 9 para muestras de tamaño $100$."
   ]
  },
  {
   "cell_type": "markdown",
   "id": "0a6ea27d",
   "metadata": {},
   "source": [
    "Ejercicio 8"
   ]
  },
  {
   "cell_type": "code",
   "execution_count": 67,
   "id": "ec72c9d6",
   "metadata": {},
   "outputs": [],
   "source": [
    "data_10_1 = stats.norm.rvs(loc=2, scale=2, size=100, random_state=1)"
   ]
  },
  {
   "cell_type": "code",
   "execution_count": 68,
   "id": "208e4b76",
   "metadata": {},
   "outputs": [
    {
     "data": {
      "text/plain": [
       "KstestResult(statistic=0.08326674852986454, pvalue=0.467124170460156, statistic_location=0.4775861982097944, statistic_sign=-1)"
      ]
     },
     "execution_count": 68,
     "metadata": {},
     "output_type": "execute_result"
    }
   ],
   "source": [
    "stats.ks_1samp(data_10_1, cdf=stats.norm.cdf, args=(2, 2))"
   ]
  },
  {
   "cell_type": "code",
   "execution_count": 69,
   "id": "e0230cae",
   "metadata": {},
   "outputs": [
    {
     "data": {
      "text/plain": [
       "AndersonResult(statistic=0.21965088555943169, critical_values=array([0.555, 0.632, 0.759, 0.885, 1.053]), significance_level=array([15. , 10. ,  5. ,  2.5,  1. ]), fit_result=  params: FitParams(loc=2.121165704151397, scale=1.7792309346248243)\n",
       " success: True\n",
       " message: '`anderson` successfully fit the distribution to the data.')"
      ]
     },
     "execution_count": 69,
     "metadata": {},
     "output_type": "execute_result"
    }
   ],
   "source": [
    "stats.anderson(data_10_1)"
   ]
  },
  {
   "cell_type": "code",
   "execution_count": 70,
   "id": "37b22a75",
   "metadata": {},
   "outputs": [
    {
     "data": {
      "text/plain": [
       "ShapiroResult(statistic=0.9920045137405396, pvalue=0.8215526342391968)"
      ]
     },
     "execution_count": 70,
     "metadata": {},
     "output_type": "execute_result"
    }
   ],
   "source": [
    "stats.shapiro(data_10_1)"
   ]
  },
  {
   "cell_type": "code",
   "execution_count": 71,
   "id": "7b36c151",
   "metadata": {},
   "outputs": [
    {
     "data": {
      "text/plain": [
       "CramerVonMisesResult(statistic=0.1054312265262902, pvalue=0.5597636233763312)"
      ]
     },
     "execution_count": 71,
     "metadata": {},
     "output_type": "execute_result"
    }
   ],
   "source": [
    "stats.cramervonmises(data_10_1, cdf=stats.norm.cdf, args=(2,2))"
   ]
  },
  {
   "cell_type": "markdown",
   "id": "c5a837a1",
   "metadata": {},
   "source": [
    "Ejercicio 9"
   ]
  },
  {
   "cell_type": "code",
   "execution_count": 72,
   "id": "fc2e099d",
   "metadata": {},
   "outputs": [],
   "source": [
    "data_10_2 = stats.t.rvs(df=3, size=100, random_state=1)"
   ]
  },
  {
   "cell_type": "code",
   "execution_count": 73,
   "id": "f0c70c37",
   "metadata": {},
   "outputs": [
    {
     "data": {
      "text/plain": [
       "KstestResult(statistic=0.22565556555864663, pvalue=5.8951444377911264e-05, statistic_location=1.1817343613067341, statistic_sign=1)"
      ]
     },
     "execution_count": 73,
     "metadata": {},
     "output_type": "execute_result"
    }
   ],
   "source": [
    "stats.ks_1samp(data_10_2, cdf=stats.norm.cdf, args=(np.mean(data_10_2), np.var(data_10_2)))"
   ]
  },
  {
   "cell_type": "code",
   "execution_count": 74,
   "id": "25c353aa",
   "metadata": {},
   "outputs": [
    {
     "data": {
      "text/plain": [
       "AndersonResult(statistic=3.409261176988707, critical_values=array([0.555, 0.632, 0.759, 0.885, 1.053]), significance_level=array([15. , 10. ,  5. ,  2.5,  1. ]), fit_result=  params: FitParams(loc=0.2696372412629305, scale=1.638001174676979)\n",
       " success: True\n",
       " message: '`anderson` successfully fit the distribution to the data.')"
      ]
     },
     "execution_count": 74,
     "metadata": {},
     "output_type": "execute_result"
    }
   ],
   "source": [
    "stats.anderson(data_10_2)"
   ]
  },
  {
   "cell_type": "code",
   "execution_count": 75,
   "id": "397b30f2",
   "metadata": {},
   "outputs": [
    {
     "data": {
      "text/plain": [
       "ShapiroResult(statistic=0.8213533163070679, pvalue=1.1851882808500136e-09)"
      ]
     },
     "execution_count": 75,
     "metadata": {},
     "output_type": "execute_result"
    }
   ],
   "source": [
    "stats.shapiro(data_10_2)"
   ]
  },
  {
   "cell_type": "code",
   "execution_count": 76,
   "id": "f6f39f51",
   "metadata": {},
   "outputs": [
    {
     "data": {
      "text/plain": [
       "CramerVonMisesResult(statistic=1.796153211273541, pvalue=3.251286385119734e-05)"
      ]
     },
     "execution_count": 76,
     "metadata": {},
     "output_type": "execute_result"
    }
   ],
   "source": [
    "stats.cramervonmises(data_10_2, cdf=stats.norm.cdf, args=(np.mean(data_10_2), np.var(data_10_2)))"
   ]
  }
 ],
 "metadata": {
  "kernelspec": {
   "display_name": "Python 3 (ipykernel)",
   "language": "python",
   "name": "python3"
  },
  "language_info": {
   "codemirror_mode": {
    "name": "ipython",
    "version": 3
   },
   "file_extension": ".py",
   "mimetype": "text/x-python",
   "name": "python",
   "nbconvert_exporter": "python",
   "pygments_lexer": "ipython3",
   "version": "3.10.6"
  }
 },
 "nbformat": 4,
 "nbformat_minor": 5
}
