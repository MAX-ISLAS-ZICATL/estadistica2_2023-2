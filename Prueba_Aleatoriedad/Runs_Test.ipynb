{
 "cells": [
  {
   "cell_type": "markdown",
   "id": "97cc0f73",
   "metadata": {},
   "source": [
    "# Prueba de aleatoriedad basada en rachas totales\n",
    "\n",
    "### Modelos no paramétricos y de regresión\n",
    "##### Por: Jorge Iván Reyes Hernández"
   ]
  },
  {
   "cell_type": "code",
   "execution_count": 1,
   "id": "526df840",
   "metadata": {},
   "outputs": [],
   "source": [
    "import numpy as np\n",
    "from scipy.special import binom\n"
   ]
  },
  {
   "cell_type": "code",
   "execution_count": 2,
   "id": "602127d1",
   "metadata": {},
   "outputs": [],
   "source": [
    "class RunsTest:\n",
    "    \"\"\" Clase para implementar la prueba de aleatoriedad basada en rachas.\n",
    "    \"\"\"\n",
    "    def __init__(self, data):\n",
    "        \"\"\" Constructor de la clase.\n",
    "        \n",
    "        :param data: Los mediciones a las que se les aplicará la prueba de aleatoriedad.\n",
    "        \"\"\"\n",
    "        self.data = data\n",
    "        self._assert_binary_data()\n",
    "        self.type_i = None\n",
    "        self.type_ii = None\n",
    "        self.n_1: int = 0\n",
    "        self.n_2: int = 0\n",
    "        self._get_types()\n",
    "        self.n: int = self.n_1 + self.n_2\n",
    "        self.r: int = 1\n",
    "        self._get_runs()\n",
    "        self.significance_level = 0.0 \n",
    "    \n",
    "    def _get_types(self):\n",
    "        \"\"\"\n",
    "        Obtenemos los dos tipos de datos.\n",
    "        Se elige que los objetos del tipo 1 sea de los que menos hay.\n",
    "        \"\"\"\n",
    "        self.type_i, self.type_ii = set(self.data)\n",
    "        \n",
    "        for i in self.data:\n",
    "            if i == self.type_i:\n",
    "                self.n_1 += 1\n",
    "            else:\n",
    "                self.n_2 += 1\n",
    "        if self.n_1 > self.n_2:\n",
    "            self.n_1, self.n_2 = self.n_2, self.n_1\n",
    "            self.type_i, self.type_ii = self.type_ii, self.type_i\n",
    "        \n",
    "    def _assert_binary_data(self):\n",
    "        \"\"\"\n",
    "        Verifica que los datos sean dicotómicos.\n",
    "        \"\"\"\n",
    "        assert len(set(self.data)) == 2\n",
    "        \n",
    "    def _get_runs(self):\n",
    "        \"\"\"\n",
    "        Calcula la cantidad de rachas observadas.\n",
    "        \"\"\"\n",
    "        cur = self.data[0]\n",
    "        for i in range(1, self.data.size):\n",
    "            if cur != self.data[i]:\n",
    "                self.r += 1\n",
    "            cur = self.data[i]\n",
    "            \n",
    "    def process_non_binary_data(self):\n",
    "        \"\"\"\n",
    "        Implementa la opción para pasarle datos no binarios eligiendo un punto de corte para\n",
    "        volverlos binarios.\n",
    "        \"\"\"\n",
    "        pass\n",
    "    \n",
    "    def _test_statistics_asymptotic(self):\n",
    "        \"\"\"\n",
    "        Implementa la distribución asintótica de la estadística de prueba.\n",
    "        \"\"\"\n",
    "        pass\n",
    "    \n",
    "    def _pmf_even(self, r):\n",
    "        \"\"\"\n",
    "        Función de probabilidad de la estadística de prueba cuando r es par.\n",
    "        \n",
    "        :param r: Valor que toma R.\n",
    "        :return: La probabilidad de que R=r\n",
    "        \"\"\"\n",
    "        num = 2 * binom(self.n_1 - 1, r / 2 - 1) * binom(self.n_2 - 1, r / 2 - 1)\n",
    "        den = binom(self.n, self.n_1)\n",
    "        return num / den\n",
    "    \n",
    "    def _pmf_odd(self, r):\n",
    "        \"\"\"\n",
    "        Función de probabilidad de la estadística de prueba cuando r es impar.\n",
    "        \n",
    "        :param r: Valor que toma R.\n",
    "        :return: La probabilidad de que R=r\n",
    "        \"\"\"\n",
    "        num = binom(self.n_1 - 1, (r - 1) / 2) * binom(self.n_2 - 1, (r - 3) / 2)\n",
    "        num += binom(self.n_1 - 1, (r - 3) / 2) * binom(self.n_2 - 1, (r - 1) / 2)\n",
    "        den = binom(self.n, self.n_1)\n",
    "        return num / den\n",
    "        \n",
    "    def _test_statistic_exact_two_sized(self, alpha):\n",
    "        \"\"\"\n",
    "        Calcula las constantes (cuántiles) de la pmf de R tales que la proba acumulada\n",
    "        sea menor que el nivel de significancia para la prueba de dos colas.\n",
    "        \n",
    "        :param alpha: Nivel de significancia deseado.\n",
    "        :return: Las constantes que definen la región crítica.\n",
    "        \"\"\"\n",
    "        prob = 0.0\n",
    "        k_1 = 1\n",
    "        k_2 = self.n + 1\n",
    "        while prob <= alpha and (k_1 <= k_2):\n",
    "            self.significance_level = prob\n",
    "            k_1 += 1\n",
    "            k_2 -= 1\n",
    "            p_1 = self._pmf_even(k_1) if (k_1 % 2 == 0) else self._pmf_odd(k_1)\n",
    "            p_2 = self._pmf_even(k_2) if (k_2 % 2 == 0) else self._pmf_odd(k_2)\n",
    "            prob += p_1 + p_2\n",
    "        k_1 -= 1\n",
    "        k_2 += 1\n",
    "        return k_1, k_2\n",
    "        \n",
    "    def run_test(self, alpha=0.05, alternative=\"two-sized\", exact=True, cutoff=None):\n",
    "        if exact and alternative == \"two-sized\":\n",
    "            k_1, k_2 = self._test_statistic_exact_two_sized(alpha)\n",
    "            print(f\"Rechazar H_0 si: R <= {k_1} o si R => {k_2}\")\n",
    "            print(f\"Valor que tomó la estadística: R_obs = {self.r}\")\n",
    "            decision = \"-> Rechazamos H_0\" if (self.r <= k_1 or self.r >= k_2) else \"-> No rechazamos H_0\"\n",
    "            print(decision + f\" con nivel de significancia {self.significance_level:.3f}\")\n",
    "        elif not exact and alternative == \"two-sized\":  \n",
    "            pass\n",
    "        else:\n",
    "            pass\n",
    "    "
   ]
  },
  {
   "cell_type": "markdown",
   "id": "f4099270",
   "metadata": {},
   "source": [
    "###### Ejemplo de las notas a mano"
   ]
  },
  {
   "cell_type": "code",
   "execution_count": 3,
   "id": "e1fce877",
   "metadata": {},
   "outputs": [
    {
     "name": "stdout",
     "output_type": "stream",
     "text": [
      "62.73684210526316\n"
     ]
    }
   ],
   "source": [
    "data = np.array([63, 67, 66, 63, 61, 44, 60, 69, 71, 62, 67, 55, 71, 55, 65, 65, 61, 60, 67])\n",
    "sample_mean = data.mean()\n",
    "binary_data = []\n",
    "\n",
    "for d in data:\n",
    "    if d < sample_mean:\n",
    "        binary_data.append(\"-\")\n",
    "    elif d > sample_mean:\n",
    "        binary_data.append(\"+\")\n",
    "        \n",
    "binary_data = np.array(binary_data)\n",
    "\n",
    "print(sample_mean)"
   ]
  },
  {
   "cell_type": "code",
   "execution_count": 4,
   "id": "c8e9c0f3",
   "metadata": {},
   "outputs": [
    {
     "data": {
      "text/plain": [
       "array(['+', '+', '+', '+', '-', '-', '-', '+', '+', '-', '+', '-', '+',\n",
       "       '-', '+', '+', '-', '-', '+'], dtype='<U1')"
      ]
     },
     "execution_count": 4,
     "metadata": {},
     "output_type": "execute_result"
    }
   ],
   "source": [
    "binary_data\n"
   ]
  },
  {
   "cell_type": "code",
   "execution_count": 5,
   "id": "2c26ab95",
   "metadata": {},
   "outputs": [
    {
     "name": "stdout",
     "output_type": "stream",
     "text": [
      "Rechazar H_0 si: R <= 5 o si R => 16\n",
      "Valor que tomó la estadística: R_obs = 11\n",
      "-> No rechazamos H_0 con nivel de significancia 0.013\n"
     ]
    }
   ],
   "source": [
    "tester = RunsTest(data=binary_data)\n",
    "tester.run_test()\n"
   ]
  },
  {
   "cell_type": "markdown",
   "id": "6ccfa93a",
   "metadata": {},
   "source": [
    "###### Ejemplo ayudantía"
   ]
  },
  {
   "cell_type": "code",
   "execution_count": 6,
   "id": "94c1f38c",
   "metadata": {},
   "outputs": [],
   "source": [
    "data = np.array([\"U\", \"U\", \"U\", \"U\", \"U\", \"L\", \"L\", \"L\", \"L\", \"L\", \"L\", \"U\", \"L\", \"U\", \"L\", \"U\"])"
   ]
  },
  {
   "cell_type": "code",
   "execution_count": 7,
   "id": "2abc26fb",
   "metadata": {},
   "outputs": [],
   "source": [
    "tester = RunsTest(data=data)"
   ]
  },
  {
   "cell_type": "code",
   "execution_count": 8,
   "id": "01f84d13",
   "metadata": {},
   "outputs": [
    {
     "data": {
      "text/plain": [
       "array(['U', 'U', 'U', 'U', 'U', 'L', 'L', 'L', 'L', 'L', 'L', 'U', 'L',\n",
       "       'U', 'L', 'U'], dtype='<U1')"
      ]
     },
     "execution_count": 8,
     "metadata": {},
     "output_type": "execute_result"
    }
   ],
   "source": [
    "tester.data"
   ]
  },
  {
   "cell_type": "code",
   "execution_count": 9,
   "id": "01c4962e",
   "metadata": {},
   "outputs": [
    {
     "name": "stdout",
     "output_type": "stream",
     "text": [
      "Rechazar H_0 si: R <= 4 o si R => 14\n",
      "Valor que tomó la estadística: R_obs = 7\n",
      "-> No rechazamos H_0 con nivel de significancia 0.018\n"
     ]
    }
   ],
   "source": [
    "tester.run_test()"
   ]
  },
  {
   "cell_type": "markdown",
   "id": "edff4091",
   "metadata": {},
   "source": [
    "#### Ejercicio 1 (ayudantías)\n"
   ]
  },
  {
   "cell_type": "code",
   "execution_count": 10,
   "id": "25f3c789",
   "metadata": {},
   "outputs": [],
   "source": [
    "data = np.array([\"A\", \"A\", \"A\", \"B\", \"B\", \"A\", \"A\", \"A\", \"A\", \"B\", \"A\", \"A\", \"B\", \"A\", \"A\", \"A\", \"A\", \"B\", \"B\", \"B\", \"B\"])"
   ]
  },
  {
   "cell_type": "code",
   "execution_count": 11,
   "id": "5a7f4261",
   "metadata": {},
   "outputs": [
    {
     "data": {
      "text/plain": [
       "array(['A', 'A', 'A', 'B', 'B', 'A', 'A', 'A', 'A', 'B', 'A', 'A', 'B',\n",
       "       'A', 'A', 'A', 'A', 'B', 'B', 'B', 'B'], dtype='<U1')"
      ]
     },
     "execution_count": 11,
     "metadata": {},
     "output_type": "execute_result"
    }
   ],
   "source": [
    "data"
   ]
  },
  {
   "cell_type": "code",
   "execution_count": 12,
   "id": "86c8817c",
   "metadata": {},
   "outputs": [
    {
     "name": "stdout",
     "output_type": "stream",
     "text": [
      "Rechazar H_0 si: R <= 6 o si R => 17\n",
      "Valor que tomó la estadística: R_obs = 8\n",
      "-> No rechazamos H_0 con nivel de significancia 0.020\n"
     ]
    }
   ],
   "source": [
    "tester = RunsTest(data=data)\n",
    "tester.run_test()"
   ]
  },
  {
   "cell_type": "markdown",
   "id": "6de1ae8f",
   "metadata": {},
   "source": [
    "## Usando statsmodels"
   ]
  },
  {
   "cell_type": "code",
   "execution_count": 13,
   "id": "c3bc4eda",
   "metadata": {},
   "outputs": [],
   "source": [
    "from statsmodels.sandbox.stats.runs import runstest_1samp "
   ]
  },
  {
   "cell_type": "code",
   "execution_count": 14,
   "id": "ff4d44f8",
   "metadata": {},
   "outputs": [],
   "source": [
    "data = np.array([1, 1, 1, 1, 1, 0, 0, 0, 0, 0, 0, 1, 0, 1, 0, 1])"
   ]
  },
  {
   "cell_type": "code",
   "execution_count": 15,
   "id": "a14f4ea8",
   "metadata": {},
   "outputs": [],
   "source": [
    "z, p_val = runstest_1samp(data, correction=False)"
   ]
  },
  {
   "cell_type": "code",
   "execution_count": 16,
   "id": "0a4f8354",
   "metadata": {},
   "outputs": [
    {
     "data": {
      "text/plain": [
       "0.3006229881969068"
      ]
     },
     "execution_count": 16,
     "metadata": {},
     "output_type": "execute_result"
    }
   ],
   "source": [
    "p_val"
   ]
  },
  {
   "cell_type": "markdown",
   "id": "7e456aff",
   "metadata": {},
   "source": [
    "Si $\\alpha = 0.05$, entonces $p_{val} = 0.3 \\leq 0.05 = \\alpha$ no se cumple, por lo que no rechazamos la hipótesis nula."
   ]
  },
  {
   "cell_type": "markdown",
   "id": "ffccf175",
   "metadata": {},
   "source": [
    "## Ejercicio\n",
    " \n",
    "Los datos \"datos_historicos.csv\" fueron extraídos de https://mx.investing.com/currencies/usd-mxn-historical-data. ¿Son estos datos aleatorios o presentan alguna tendencia?"
   ]
  },
  {
   "cell_type": "code",
   "execution_count": null,
   "id": "d19ec47e",
   "metadata": {},
   "outputs": [],
   "source": []
  }
 ],
 "metadata": {
  "kernelspec": {
   "display_name": "Python 3 (ipykernel)",
   "language": "python",
   "name": "python3"
  },
  "language_info": {
   "codemirror_mode": {
    "name": "ipython",
    "version": 3
   },
   "file_extension": ".py",
   "mimetype": "text/x-python",
   "name": "python",
   "nbconvert_exporter": "python",
   "pygments_lexer": "ipython3",
   "version": "3.10.6"
  }
 },
 "nbformat": 4,
 "nbformat_minor": 5
}
