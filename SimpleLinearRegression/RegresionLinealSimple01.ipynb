{
 "cells": [
  {
   "cell_type": "markdown",
   "id": "20dd8d6d",
   "metadata": {},
   "source": [
    "# Regresión lineal simple\n",
    "### Modelos no paramétricos y de regresión\n",
    "##### Por: Jorge Iván Reyes Hernández"
   ]
  },
  {
   "cell_type": "markdown",
   "id": "0712d09f",
   "metadata": {},
   "source": [
    "## 1. Obtener datos\n",
    "- Muestreo/experimentos.\n",
    "- Web Scraping.\n",
    "- etc.\n",
    "\n",
    "## 2. EDA\n",
    "- Gráfico de dispersión.\n",
    "\n",
    "## 3. Supuestos del modelo*\n",
    "Modelo: $Y = \\beta_0 + \\beta_1 x + \\epsilon$, $\\epsilon \\sim \\mathcal{N}(0,\\sigma^2)$.\n",
    "- __Linealidad__: $\\mathbb{E}(Y|x) = \\beta_0 + \\beta_1 x \\iff \\mathbb{E}(\\epsilon) = 0$.\n",
    "- __Varianza contante__: Dado $x\\in\\mathbb{R}$, la varianza de $Y$ es constante $\\iff$ $\\mathbb{V}ar(\\epsilon) = \\sigma^{2}$ (independiente del $x$ dado).\n",
    "- __Independencia__ (no correlación): Si $i\\neq j$, $Y_i \\perp Y_j \\iff \\epsilon_i \\perp \\epsilon_j$ ($\\mathbb{C}ov (\\epsilon_i, \\epsilon_j) = 0$).\n",
    "- __Normalidad__: Dado $x\\in\\mathbb{R}, Y$ es una v.a normal $\\iff$ $\\epsilon$ es una v.a normal.\n",
    "\n",
    "## 4. Ajustar/entrenar modelo\n",
    "Estimar $\\beta_0, \\beta_1, \\sigma^{2}$ usando:\n",
    "- Mínimos cuadrados.\n",
    "- Máxima verosimilitud.\n",
    "\n",
    "Bajo el supuesto distribucional ($\\epsilon \\sim \\mathcal{N}(0,\\sigma^2)$) estos estimadores coindicen ($\\hat{\\beta}_{i,ML} = \\hat{\\beta}_{i,MC}$, $i\\in\\{0,1\\}$).\n",
    "\n",
    "## 5. Evaluar modelo\n",
    "- Coeficiente de determinación $R^{2}:\\mathbb{R}^{n}\\times\\mathbb{R}^{n} \\to [0,1]\\subset\\mathbb{R}$.\n",
    "\n",
    "$R^{2}$: Proporción de la variabilidad total de $y$ que es explicada por el modelo.\n",
    "\n",
    "$R^{2} = 1$: El $100\\%$ de la variabilidad muestral en $y$ puede ser atribuida al hecho de que $x$ y $y$ están relacionadas linealmente.\n",
    "\n",
    "\n",
    "## 6. Verificación de supuestos (análisis de residuales)\n",
    "1. __Independencia__.\n",
    "- Autocorrelograma (de los residuales muestrales $e_i$).\n",
    "- Prueba de Durbin-Watson.\n",
    "2. __Varianza contante__.\n",
    "- Gráfico de dispersión ($e$ vs $\\hat{y}$)\n",
    "- Pruebas de Cook-Weisberg o de Breusch-Pagan.\n",
    "\n",
    "3. __Normalidad__.\n",
    "- qq-plot (de los residuales muestrales $e_i$).\n",
    "- Pruebas de Kolmogorov-Smirnov, Anderson-Daring, etc (para los residuales muestrales $e_i$).\n",
    "\n",
    "_Nota: Pueden usar los residuales estandarizados_\n",
    "$$\n",
    "    e_i ^{*} = \\frac{y_i - \\hat{y}_i}{s_e\\sqrt{1-\\frac{1}{n} - \\frac{(x_i - \\bar{x})^{2}}{S_{xx}} }}\n",
    "$$\n",
    "con $s_e = \\sqrt{SSE/(n-2)}$, $i\\in\\{1,\\ldots,n\\}$, $SSE = \\sum_{i=1}^{n}(y_i - \\hat{y}_i)^{2}$"
   ]
  },
  {
   "cell_type": "markdown",
   "id": "5257b63d",
   "metadata": {},
   "source": [
    "### Ejemplo\n",
    "#### ¿El estrés realmente acelera el envejecimiento?\n",
    "Un estudio descrito en el artículo \"Acortamiento acelerado de telómeros en respuesta al estrés\" (Proc. Nat. Acad. Sci 2004:17312-17315) investigó la relación entre $x:$ \"Nivel de estrés percibido\" (en escala cuantitativa) y $y:$ \"Longitud de los telómeros\" (una medida biológica de longevidad celular; longitudes de telómeros más pequeñas indican una vida útil más corta a nivel celular). Se tomaron muestras $(x_i, y_i)$ a 38 individuos (archivo stress_aging.csv). Realice un análisis de regresión."
   ]
  },
  {
   "cell_type": "code",
   "execution_count": 1,
   "id": "ccb0e548",
   "metadata": {},
   "outputs": [],
   "source": [
    "import matplotlib.pyplot as plt\n",
    "import numpy as np\n",
    "import pandas as pd\n",
    "import scipy.stats as stats\n",
    "\n",
    "import statsmodels.api as sm\n",
    "import statsmodels.stats.api as sms\n",
    "from statsmodels.graphics.tsaplots import plot_acf\n",
    "from statsmodels.compat import lzip\n",
    "from statsmodels.graphics.gofplots import qqplot"
   ]
  },
  {
   "cell_type": "markdown",
   "id": "9b294328",
   "metadata": {},
   "source": [
    "##### Datos"
   ]
  },
  {
   "cell_type": "code",
   "execution_count": 2,
   "id": "729c206d",
   "metadata": {},
   "outputs": [],
   "source": [
    "data = pd.read_csv(\"stress_aging.csv\")"
   ]
  },
  {
   "cell_type": "code",
   "execution_count": 3,
   "id": "55170568",
   "metadata": {
    "scrolled": true
   },
   "outputs": [
    {
     "data": {
      "text/html": [
       "<div>\n",
       "<style scoped>\n",
       "    .dataframe tbody tr th:only-of-type {\n",
       "        vertical-align: middle;\n",
       "    }\n",
       "\n",
       "    .dataframe tbody tr th {\n",
       "        vertical-align: top;\n",
       "    }\n",
       "\n",
       "    .dataframe thead th {\n",
       "        text-align: right;\n",
       "    }\n",
       "</style>\n",
       "<table border=\"1\" class=\"dataframe\">\n",
       "  <thead>\n",
       "    <tr style=\"text-align: right;\">\n",
       "      <th></th>\n",
       "      <th>stress</th>\n",
       "      <th>aging</th>\n",
       "    </tr>\n",
       "  </thead>\n",
       "  <tbody>\n",
       "    <tr>\n",
       "      <th>0</th>\n",
       "      <td>14</td>\n",
       "      <td>1.30</td>\n",
       "    </tr>\n",
       "    <tr>\n",
       "      <th>1</th>\n",
       "      <td>17</td>\n",
       "      <td>1.32</td>\n",
       "    </tr>\n",
       "    <tr>\n",
       "      <th>2</th>\n",
       "      <td>14</td>\n",
       "      <td>1.08</td>\n",
       "    </tr>\n",
       "    <tr>\n",
       "      <th>3</th>\n",
       "      <td>27</td>\n",
       "      <td>1.02</td>\n",
       "    </tr>\n",
       "    <tr>\n",
       "      <th>4</th>\n",
       "      <td>22</td>\n",
       "      <td>1.24</td>\n",
       "    </tr>\n",
       "    <tr>\n",
       "      <th>5</th>\n",
       "      <td>12</td>\n",
       "      <td>1.18</td>\n",
       "    </tr>\n",
       "    <tr>\n",
       "      <th>6</th>\n",
       "      <td>22</td>\n",
       "      <td>1.18</td>\n",
       "    </tr>\n",
       "    <tr>\n",
       "      <th>7</th>\n",
       "      <td>24</td>\n",
       "      <td>1.12</td>\n",
       "    </tr>\n",
       "    <tr>\n",
       "      <th>8</th>\n",
       "      <td>25</td>\n",
       "      <td>0.94</td>\n",
       "    </tr>\n",
       "    <tr>\n",
       "      <th>9</th>\n",
       "      <td>18</td>\n",
       "      <td>1.46</td>\n",
       "    </tr>\n",
       "    <tr>\n",
       "      <th>10</th>\n",
       "      <td>28</td>\n",
       "      <td>1.22</td>\n",
       "    </tr>\n",
       "    <tr>\n",
       "      <th>11</th>\n",
       "      <td>21</td>\n",
       "      <td>1.30</td>\n",
       "    </tr>\n",
       "    <tr>\n",
       "      <th>12</th>\n",
       "      <td>19</td>\n",
       "      <td>0.84</td>\n",
       "    </tr>\n",
       "    <tr>\n",
       "      <th>13</th>\n",
       "      <td>23</td>\n",
       "      <td>1.18</td>\n",
       "    </tr>\n",
       "    <tr>\n",
       "      <th>14</th>\n",
       "      <td>15</td>\n",
       "      <td>1.22</td>\n",
       "    </tr>\n",
       "    <tr>\n",
       "      <th>15</th>\n",
       "      <td>15</td>\n",
       "      <td>0.92</td>\n",
       "    </tr>\n",
       "    <tr>\n",
       "      <th>16</th>\n",
       "      <td>27</td>\n",
       "      <td>1.12</td>\n",
       "    </tr>\n",
       "    <tr>\n",
       "      <th>17</th>\n",
       "      <td>17</td>\n",
       "      <td>1.40</td>\n",
       "    </tr>\n",
       "    <tr>\n",
       "      <th>18</th>\n",
       "      <td>6</td>\n",
       "      <td>1.32</td>\n",
       "    </tr>\n",
       "    <tr>\n",
       "      <th>19</th>\n",
       "      <td>7</td>\n",
       "      <td>1.35</td>\n",
       "    </tr>\n",
       "    <tr>\n",
       "      <th>20</th>\n",
       "      <td>11</td>\n",
       "      <td>1.00</td>\n",
       "    </tr>\n",
       "    <tr>\n",
       "      <th>21</th>\n",
       "      <td>15</td>\n",
       "      <td>1.24</td>\n",
       "    </tr>\n",
       "    <tr>\n",
       "      <th>22</th>\n",
       "      <td>5</td>\n",
       "      <td>1.25</td>\n",
       "    </tr>\n",
       "    <tr>\n",
       "      <th>23</th>\n",
       "      <td>21</td>\n",
       "      <td>1.26</td>\n",
       "    </tr>\n",
       "    <tr>\n",
       "      <th>24</th>\n",
       "      <td>24</td>\n",
       "      <td>1.50</td>\n",
       "    </tr>\n",
       "    <tr>\n",
       "      <th>25</th>\n",
       "      <td>21</td>\n",
       "      <td>1.24</td>\n",
       "    </tr>\n",
       "    <tr>\n",
       "      <th>26</th>\n",
       "      <td>6</td>\n",
       "      <td>1.50</td>\n",
       "    </tr>\n",
       "    <tr>\n",
       "      <th>27</th>\n",
       "      <td>20</td>\n",
       "      <td>1.30</td>\n",
       "    </tr>\n",
       "    <tr>\n",
       "      <th>28</th>\n",
       "      <td>22</td>\n",
       "      <td>1.22</td>\n",
       "    </tr>\n",
       "    <tr>\n",
       "      <th>29</th>\n",
       "      <td>26</td>\n",
       "      <td>0.84</td>\n",
       "    </tr>\n",
       "    <tr>\n",
       "      <th>30</th>\n",
       "      <td>10</td>\n",
       "      <td>1.30</td>\n",
       "    </tr>\n",
       "    <tr>\n",
       "      <th>31</th>\n",
       "      <td>18</td>\n",
       "      <td>1.12</td>\n",
       "    </tr>\n",
       "    <tr>\n",
       "      <th>32</th>\n",
       "      <td>17</td>\n",
       "      <td>1.12</td>\n",
       "    </tr>\n",
       "    <tr>\n",
       "      <th>33</th>\n",
       "      <td>20</td>\n",
       "      <td>1.22</td>\n",
       "    </tr>\n",
       "    <tr>\n",
       "      <th>34</th>\n",
       "      <td>13</td>\n",
       "      <td>1.10</td>\n",
       "    </tr>\n",
       "    <tr>\n",
       "      <th>35</th>\n",
       "      <td>33</td>\n",
       "      <td>0.94</td>\n",
       "    </tr>\n",
       "    <tr>\n",
       "      <th>36</th>\n",
       "      <td>20</td>\n",
       "      <td>1.32</td>\n",
       "    </tr>\n",
       "    <tr>\n",
       "      <th>37</th>\n",
       "      <td>29</td>\n",
       "      <td>1.30</td>\n",
       "    </tr>\n",
       "  </tbody>\n",
       "</table>\n",
       "</div>"
      ],
      "text/plain": [
       "    stress  aging\n",
       "0       14   1.30\n",
       "1       17   1.32\n",
       "2       14   1.08\n",
       "3       27   1.02\n",
       "4       22   1.24\n",
       "5       12   1.18\n",
       "6       22   1.18\n",
       "7       24   1.12\n",
       "8       25   0.94\n",
       "9       18   1.46\n",
       "10      28   1.22\n",
       "11      21   1.30\n",
       "12      19   0.84\n",
       "13      23   1.18\n",
       "14      15   1.22\n",
       "15      15   0.92\n",
       "16      27   1.12\n",
       "17      17   1.40\n",
       "18       6   1.32\n",
       "19       7   1.35\n",
       "20      11   1.00\n",
       "21      15   1.24\n",
       "22       5   1.25\n",
       "23      21   1.26\n",
       "24      24   1.50\n",
       "25      21   1.24\n",
       "26       6   1.50\n",
       "27      20   1.30\n",
       "28      22   1.22\n",
       "29      26   0.84\n",
       "30      10   1.30\n",
       "31      18   1.12\n",
       "32      17   1.12\n",
       "33      20   1.22\n",
       "34      13   1.10\n",
       "35      33   0.94\n",
       "36      20   1.32\n",
       "37      29   1.30"
      ]
     },
     "execution_count": 3,
     "metadata": {},
     "output_type": "execute_result"
    }
   ],
   "source": [
    "data"
   ]
  },
  {
   "cell_type": "markdown",
   "id": "a1fe49dc",
   "metadata": {},
   "source": [
    "###### EDA"
   ]
  },
  {
   "cell_type": "code",
   "execution_count": 4,
   "id": "a1057fc8",
   "metadata": {
    "scrolled": false
   },
   "outputs": [
    {
     "data": {
      "image/png": "[encoded data removed]",
      "text/plain": [
       "<Figure size 640x480 with 1 Axes>"
      ]
     },
     "metadata": {},
     "output_type": "display_data"
    }
   ],
   "source": [
    "ax1 = data.plot.scatter(x=\"stress\", y=\"aging\")"
   ]
  },
  {
   "cell_type": "markdown",
   "id": "3a881185",
   "metadata": {},
   "source": [
    "##### Ajuste del modelo"
   ]
  },
  {
   "cell_type": "code",
   "execution_count": 5,
   "id": "0292e3cd",
   "metadata": {},
   "outputs": [],
   "source": [
    "Y = data[\"aging\"]\n",
    "X = data[\"stress\"]"
   ]
  },
  {
   "cell_type": "code",
   "execution_count": 6,
   "id": "8872cc41",
   "metadata": {
    "scrolled": true
   },
   "outputs": [
    {
     "data": {
      "text/plain": [
       "0     1.30\n",
       "1     1.32\n",
       "2     1.08\n",
       "3     1.02\n",
       "4     1.24\n",
       "5     1.18\n",
       "6     1.18\n",
       "7     1.12\n",
       "8     0.94\n",
       "9     1.46\n",
       "10    1.22\n",
       "11    1.30\n",
       "12    0.84\n",
       "13    1.18\n",
       "14    1.22\n",
       "15    0.92\n",
       "16    1.12\n",
       "17    1.40\n",
       "18    1.32\n",
       "19    1.35\n",
       "20    1.00\n",
       "21    1.24\n",
       "22    1.25\n",
       "23    1.26\n",
       "24    1.50\n",
       "25    1.24\n",
       "26    1.50\n",
       "27    1.30\n",
       "28    1.22\n",
       "29    0.84\n",
       "30    1.30\n",
       "31    1.12\n",
       "32    1.12\n",
       "33    1.22\n",
       "34    1.10\n",
       "35    0.94\n",
       "36    1.32\n",
       "37    1.30\n",
       "Name: aging, dtype: float64"
      ]
     },
     "execution_count": 6,
     "metadata": {},
     "output_type": "execute_result"
    }
   ],
   "source": [
    "Y"
   ]
  },
  {
   "cell_type": "code",
   "execution_count": 7,
   "id": "cfa50fb9",
   "metadata": {
    "scrolled": true
   },
   "outputs": [
    {
     "data": {
      "text/plain": [
       "0     14\n",
       "1     17\n",
       "2     14\n",
       "3     27\n",
       "4     22\n",
       "5     12\n",
       "6     22\n",
       "7     24\n",
       "8     25\n",
       "9     18\n",
       "10    28\n",
       "11    21\n",
       "12    19\n",
       "13    23\n",
       "14    15\n",
       "15    15\n",
       "16    27\n",
       "17    17\n",
       "18     6\n",
       "19     7\n",
       "20    11\n",
       "21    15\n",
       "22     5\n",
       "23    21\n",
       "24    24\n",
       "25    21\n",
       "26     6\n",
       "27    20\n",
       "28    22\n",
       "29    26\n",
       "30    10\n",
       "31    18\n",
       "32    17\n",
       "33    20\n",
       "34    13\n",
       "35    33\n",
       "36    20\n",
       "37    29\n",
       "Name: stress, dtype: int64"
      ]
     },
     "execution_count": 7,
     "metadata": {},
     "output_type": "execute_result"
    }
   ],
   "source": [
    "X"
   ]
  },
  {
   "cell_type": "code",
   "execution_count": 8,
   "id": "95534d97",
   "metadata": {},
   "outputs": [],
   "source": [
    "model = sm.OLS(Y,sm.add_constant(X))"
   ]
  },
  {
   "cell_type": "code",
   "execution_count": 9,
   "id": "1e655004",
   "metadata": {},
   "outputs": [],
   "source": [
    "results = model.fit()"
   ]
  },
  {
   "cell_type": "code",
   "execution_count": 10,
   "id": "09a7475f",
   "metadata": {},
   "outputs": [
    {
     "data": {
      "text/html": [
       "<table class=\"simpletable\">\n",
       "<caption>OLS Regression Results</caption>\n",
       "<tr>\n",
       "  <th>Dep. Variable:</th>          <td>aging</td>      <th>  R-squared:         </th> <td>   0.099</td>\n",
       "</tr>\n",
       "<tr>\n",
       "  <th>Model:</th>                   <td>OLS</td>       <th>  Adj. R-squared:    </th> <td>   0.074</td>\n",
       "</tr>\n",
       "<tr>\n",
       "  <th>Method:</th>             <td>Least Squares</td>  <th>  F-statistic:       </th> <td>   3.963</td>\n",
       "</tr>\n",
       "<tr>\n",
       "  <th>Date:</th>             <td>Wed, 12 Apr 2023</td> <th>  Prob (F-statistic):</th>  <td>0.0541</td> \n",
       "</tr>\n",
       "<tr>\n",
       "  <th>Time:</th>                 <td>22:59:34</td>     <th>  Log-Likelihood:    </th> <td>  16.955</td>\n",
       "</tr>\n",
       "<tr>\n",
       "  <th>No. Observations:</th>      <td>    38</td>      <th>  AIC:               </th> <td>  -29.91</td>\n",
       "</tr>\n",
       "<tr>\n",
       "  <th>Df Residuals:</th>          <td>    36</td>      <th>  BIC:               </th> <td>  -26.64</td>\n",
       "</tr>\n",
       "<tr>\n",
       "  <th>Df Model:</th>              <td>     1</td>      <th>                     </th>     <td> </td>   \n",
       "</tr>\n",
       "<tr>\n",
       "  <th>Covariance Type:</th>      <td>nonrobust</td>    <th>                     </th>     <td> </td>   \n",
       "</tr>\n",
       "</table>\n",
       "<table class=\"simpletable\">\n",
       "<tr>\n",
       "     <td></td>       <th>coef</th>     <th>std err</th>      <th>t</th>      <th>P>|t|</th>  <th>[0.025</th>    <th>0.975]</th>  \n",
       "</tr>\n",
       "<tr>\n",
       "  <th>const</th>  <td>    1.3388</td> <td>    0.076</td> <td>   17.656</td> <td> 0.000</td> <td>    1.185</td> <td>    1.493</td>\n",
       "</tr>\n",
       "<tr>\n",
       "  <th>stress</th> <td>   -0.0077</td> <td>    0.004</td> <td>   -1.991</td> <td> 0.054</td> <td>   -0.015</td> <td>    0.000</td>\n",
       "</tr>\n",
       "</table>\n",
       "<table class=\"simpletable\">\n",
       "<tr>\n",
       "  <th>Omnibus:</th>       <td> 0.984</td> <th>  Durbin-Watson:     </th> <td>   1.944</td>\n",
       "</tr>\n",
       "<tr>\n",
       "  <th>Prob(Omnibus):</th> <td> 0.611</td> <th>  Jarque-Bera (JB):  </th> <td>   0.688</td>\n",
       "</tr>\n",
       "<tr>\n",
       "  <th>Skew:</th>          <td>-0.327</td> <th>  Prob(JB):          </th> <td>   0.709</td>\n",
       "</tr>\n",
       "<tr>\n",
       "  <th>Kurtosis:</th>      <td> 2.924</td> <th>  Cond. No.          </th> <td>    58.0</td>\n",
       "</tr>\n",
       "</table><br/><br/>Notes:<br/>[1] Standard Errors assume that the covariance matrix of the errors is correctly specified."
      ],
      "text/plain": [
       "<class 'statsmodels.iolib.summary.Summary'>\n",
       "\"\"\"\n",
       "                            OLS Regression Results                            \n",
       "==============================================================================\n",
       "Dep. Variable:                  aging   R-squared:                       0.099\n",
       "Model:                            OLS   Adj. R-squared:                  0.074\n",
       "Method:                 Least Squares   F-statistic:                     3.963\n",
       "Date:                Wed, 12 Apr 2023   Prob (F-statistic):             0.0541\n",
       "Time:                        22:59:34   Log-Likelihood:                 16.955\n",
       "No. Observations:                  38   AIC:                            -29.91\n",
       "Df Residuals:                      36   BIC:                            -26.64\n",
       "Df Model:                           1                                         \n",
       "Covariance Type:            nonrobust                                         \n",
       "==============================================================================\n",
       "                 coef    std err          t      P>|t|      [0.025      0.975]\n",
       "------------------------------------------------------------------------------\n",
       "const          1.3388      0.076     17.656      0.000       1.185       1.493\n",
       "stress        -0.0077      0.004     -1.991      0.054      -0.015       0.000\n",
       "==============================================================================\n",
       "Omnibus:                        0.984   Durbin-Watson:                   1.944\n",
       "Prob(Omnibus):                  0.611   Jarque-Bera (JB):                0.688\n",
       "Skew:                          -0.327   Prob(JB):                        0.709\n",
       "Kurtosis:                       2.924   Cond. No.                         58.0\n",
       "==============================================================================\n",
       "\n",
       "Notes:\n",
       "[1] Standard Errors assume that the covariance matrix of the errors is correctly specified.\n",
       "\"\"\""
      ]
     },
     "execution_count": 10,
     "metadata": {},
     "output_type": "execute_result"
    }
   ],
   "source": [
    "results.summary()"
   ]
  },
  {
   "cell_type": "code",
   "execution_count": 11,
   "id": "a71ac021",
   "metadata": {},
   "outputs": [
    {
     "data": {
      "text/plain": [
       "const     1.338778\n",
       "stress   -0.007661\n",
       "dtype: float64"
      ]
     },
     "execution_count": 11,
     "metadata": {},
     "output_type": "execute_result"
    }
   ],
   "source": [
    "# Parámetros estimados\n",
    "\n",
    "results.params"
   ]
  },
  {
   "cell_type": "code",
   "execution_count": 12,
   "id": "541de23c",
   "metadata": {},
   "outputs": [
    {
     "data": {
      "image/png": "[encoded data removed]",
      "text/plain": [
       "<Figure size 640x480 with 1 Axes>"
      ]
     },
     "metadata": {},
     "output_type": "display_data"
    }
   ],
   "source": [
    "x = np.linspace(data[\"stress\"].min(), data[\"stress\"].max())\n",
    "y = np.matmul(sm.add_constant(x), results.params)\n",
    "\n",
    "plt.plot(x,y, \"r\")\n",
    "plt.scatter(data[\"stress\"], data[\"aging\"])\n",
    "plt.show()"
   ]
  },
  {
   "cell_type": "markdown",
   "id": "aa6a77f1",
   "metadata": {},
   "source": [
    "##### Evaluación del modelo"
   ]
  },
  {
   "cell_type": "code",
   "execution_count": 13,
   "id": "a4bdec9f",
   "metadata": {},
   "outputs": [
    {
     "data": {
      "text/plain": [
       "0.09916697197643265"
      ]
     },
     "execution_count": 13,
     "metadata": {},
     "output_type": "execute_result"
    }
   ],
   "source": [
    "# Coeficiente de determinación\n",
    "\n",
    "results.rsquared"
   ]
  },
  {
   "cell_type": "markdown",
   "id": "0e209356",
   "metadata": {},
   "source": [
    "###### Análisis de residuales\n"
   ]
  },
  {
   "cell_type": "code",
   "execution_count": 14,
   "id": "2f200a8d",
   "metadata": {},
   "outputs": [],
   "source": [
    "res = results.resid"
   ]
  },
  {
   "cell_type": "markdown",
   "id": "2b528735",
   "metadata": {},
   "source": [
    "#### Independencia\n",
    "- Autocorrelograma\n",
    "\n",
    "[statsmodels.graphics.tsaplots.plot_acf](https://www.statsmodels.org/dev/generated/statsmodels.graphics.tsaplots.plot_acf.html)\n",
    "\n",
    "[Interpreting ACF or Auto-correlation plot](https://medium.com/analytics-vidhya/interpreting-acf-or-auto-correlation-plot-d12e9051cd14)"
   ]
  },
  {
   "cell_type": "code",
   "execution_count": 15,
   "id": "a3497a5a",
   "metadata": {},
   "outputs": [
    {
     "data": {
      "image/png": "[encoded data removed]",
      "text/plain": [
       "<Figure size 640x480 with 1 Axes>"
      ]
     },
     "metadata": {},
     "output_type": "display_data"
    }
   ],
   "source": [
    "# Autocorrelograma\n",
    "\n",
    "plot_acf(res)\n",
    "plt.show()"
   ]
  },
  {
   "cell_type": "markdown",
   "id": "d2ec796c",
   "metadata": {},
   "source": [
    "- Prueba de Durbin-Watson\n",
    "\n",
    "[Durbin-Watson DW test for autocorrelation](https://www.reneshbedre.com/blog/durbin-watson-test.html)\n",
    "\n",
    "Del resumen: Durbin-Watson: \t1.944\n",
    "\n",
    "Si la estadística es 2, no hay autocorrelación.\n",
    "\n",
    "Si la estadística es menor que 2, hay autocorrelación positiva.\n",
    "\n",
    "Si la estadística es mayor que 2, hay autocorrelación negativa.\n",
    "\n",
    "__Punto extra si corren la prueba DW de R en Python__ (límite 20-04-23)\n",
    "\n",
    "[Calling R from Python](https://rviews.rstudio.com/2022/05/25/calling-r-from-python-with-rpy2/)"
   ]
  },
  {
   "cell_type": "markdown",
   "id": "f6cd66dc",
   "metadata": {},
   "source": [
    "#### Varianza constante.\n",
    "- Gráfico de dispersión"
   ]
  },
  {
   "cell_type": "code",
   "execution_count": 16,
   "id": "b18b3ee6",
   "metadata": {},
   "outputs": [],
   "source": [
    "y_hat = results.params[0] + results.params[1]*X"
   ]
  },
  {
   "cell_type": "code",
   "execution_count": 17,
   "id": "5aaab98b",
   "metadata": {
    "scrolled": false
   },
   "outputs": [
    {
     "data": {
      "image/png": "[encoded data removed]",
      "text/plain": [
       "<Figure size 640x480 with 1 Axes>"
      ]
     },
     "metadata": {},
     "output_type": "display_data"
    }
   ],
   "source": [
    "plt.scatter(x=y_hat, y=res);"
   ]
  },
  {
   "cell_type": "markdown",
   "id": "d696f302",
   "metadata": {},
   "source": [
    "- Prueba de Breusch-Pagan\n",
    "\n",
    "Hip. nula: la varianza es constante\n",
    "\n",
    "[How to Perform a Breusch-Pagan Test in Python](https://www.geeksforgeeks.org/how-to-perform-a-breusch-pagan-test-in-python/)"
   ]
  },
  {
   "cell_type": "code",
   "execution_count": 18,
   "id": "658b4037",
   "metadata": {},
   "outputs": [
    {
     "data": {
      "text/plain": [
       "[('Lagrange multiplier statistic', 0.3518811946684577),\n",
       " ('p-value', 0.5530501583398384),\n",
       " ('f-value', 0.33647691863611745),\n",
       " ('f p-value', 0.5654831049396662)]"
      ]
     },
     "execution_count": 18,
     "metadata": {},
     "output_type": "execute_result"
    }
   ],
   "source": [
    "# Conduct the Breusch-Pagan test\n",
    "names = ['Lagrange multiplier statistic', 'p-value',\n",
    "         'f-value', 'f p-value']\n",
    " \n",
    "# Get the test result\n",
    "test_result = sms.het_breuschpagan(results.resid, results.model.exog)\n",
    " \n",
    "lzip(names, test_result)"
   ]
  },
  {
   "cell_type": "markdown",
   "id": "9122a708",
   "metadata": {},
   "source": [
    "3. __Normalidad__.\n",
    "- qq-plot (de los residuales muestrales $e_i$).\n"
   ]
  },
  {
   "cell_type": "code",
   "execution_count": 19,
   "id": "5b7e3eab",
   "metadata": {},
   "outputs": [
    {
     "data": {
      "image/png": "[encoded data removed]",
      "text/plain": [
       "<Figure size 640x480 with 1 Axes>"
      ]
     },
     "metadata": {},
     "output_type": "display_data"
    }
   ],
   "source": [
    "fig = sm.qqplot(res)\n",
    "plt.show()"
   ]
  },
  {
   "cell_type": "markdown",
   "id": "ef24defb",
   "metadata": {},
   "source": [
    "- Pruebas de Kolmogorov-Smirnov, Anderson-Daring, etc.\n",
    "\n",
    "Hip. nula: los residuales se distribuyen normal."
   ]
  },
  {
   "cell_type": "code",
   "execution_count": 20,
   "id": "68e8ff88",
   "metadata": {},
   "outputs": [
    {
     "data": {
      "text/plain": [
       "AndersonResult(statistic=0.3774309238372453, critical_values=array([0.529, 0.603, 0.723, 0.844, 1.004]), significance_level=array([15. , 10. ,  5. ,  2.5,  1. ]), fit_result=  params: FitParams(loc=-3.2722362831057244e-16, scale=0.15695427313608998)\n",
       " success: True\n",
       " message: '`anderson` successfully fit the distribution to the data.')"
      ]
     },
     "execution_count": 20,
     "metadata": {},
     "output_type": "execute_result"
    }
   ],
   "source": [
    "stats.anderson(res)"
   ]
  },
  {
   "cell_type": "code",
   "execution_count": 21,
   "id": "a4ae9614",
   "metadata": {},
   "outputs": [
    {
     "data": {
      "text/plain": [
       "ShapiroResult(statistic=0.9775760173797607, pvalue=0.6314409375190735)"
      ]
     },
     "execution_count": 21,
     "metadata": {},
     "output_type": "execute_result"
    }
   ],
   "source": [
    "stats.shapiro(res)"
   ]
  },
  {
   "cell_type": "markdown",
   "id": "b684ace5",
   "metadata": {},
   "source": [
    "__Punto extra: concluir__ (límite 20-04-23)"
   ]
  }
 ],
 "metadata": {
  "kernelspec": {
   "display_name": "Python 3 (ipykernel)",
   "language": "python",
   "name": "python3"
  },
  "language_info": {
   "codemirror_mode": {
    "name": "ipython",
    "version": 3
   },
   "file_extension": ".py",
   "mimetype": "text/x-python",
   "name": "python",
   "nbconvert_exporter": "python",
   "pygments_lexer": "ipython3",
   "version": "3.10.6"
  }
 },
 "nbformat": 4,
 "nbformat_minor": 5
}
