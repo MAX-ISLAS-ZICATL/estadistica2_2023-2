{
 "cells": [
  {
   "cell_type": "markdown",
   "id": "88787810",
   "metadata": {},
   "source": [
    "# Prueba de independencia\n",
    "\n",
    "### Modelos no paramétricos y de regresión\n",
    "##### Por: Jorge Iván Reyes Hernández"
   ]
  },
  {
   "cell_type": "code",
   "execution_count": 1,
   "id": "9f189359",
   "metadata": {},
   "outputs": [],
   "source": [
    "import pandas as pd\n",
    "import numpy as np\n",
    "from scipy.stats import chi2"
   ]
  },
  {
   "cell_type": "code",
   "execution_count": 2,
   "id": "8e677fd8",
   "metadata": {},
   "outputs": [],
   "source": [
    "class IndependenceTest:\n",
    "    def __init__(self, table):\n",
    "        assert isinstance(table, pd.core.frame.DataFrame)\n",
    "        self.__table = table\n",
    "        self.__shape = table.shape\n",
    "        self.__n_dot_i = table.sum(axis=0)\n",
    "        self.__n_i_dot = table.sum(axis=1)\n",
    "        self.__n = self.__n_dot_i.sum()\n",
    "        self.__expected_values = np.zeros(shape=self.__shape)\n",
    "        self.__compute_expected_values()\n",
    "    \n",
    "    def __compute_expected_values(self):\n",
    "        for i in range(self.__n_i_dot.size):\n",
    "            for j in range(self.__n_dot_i.size):\n",
    "                self.__expected_values[i][j] = self.__n_i_dot[i] * self.__n_dot_i[j] / self.__n\n",
    "        \n",
    "    def __str__(self):\n",
    "        text = f\"Tabla de contingencia de {self.__shape[0]} x {self.__shape[1]}\\n\\n\"\n",
    "        text += str(self.__table)\n",
    "        return text\n",
    "\n",
    "    def __observed_chi(self):\n",
    "        jiji = 0\n",
    "        \n",
    "        for i in range(self.__shape[0]):\n",
    "            for j in range(self.__shape[1]):\n",
    "                jiji += ((self.__table.iloc[i][j] - self.__expected_values[i][j]) ** 2) / self.__expected_values[i][j]\n",
    "        \n",
    "        df = (self.__shape[0] - 1) * (self.__shape[1] - 1)\n",
    "\n",
    "        return jiji, df\n",
    "    \n",
    "    def __measures_of_association(self):\n",
    "        pass\n",
    "        \n",
    "    def run_test(self, alpha):\n",
    "        jiji, df = self.__observed_chi()\n",
    "        c_alpha = chi2.ppf(q=1-alpha, df=df)\n",
    "        print(f\"H_0: 'Las variables son independientes' v.s H_a: 'Las variables están asociadas'\")\n",
    "        print(f\"Rechazar H_0 si: jiji > {c_alpha:.3f}\")\n",
    "        print(f\"Valor que tomó la estadística jiji: {jiji:.3f}\")\n",
    "        decision = \"-> Rechazamos H_0\" if jiji > c_alpha else \"->No rechazamos H_0\"\n",
    "        print(decision + f\" con nivel de significancia {alpha*100}%\")\n",
    "        \n",
    "        if decision == \"-> Rechazamos H_0\":\n",
    "            print(self.__measures_of_association)\n"
   ]
  },
  {
   "cell_type": "code",
   "execution_count": 4,
   "id": "63bd5efe",
   "metadata": {},
   "outputs": [],
   "source": [
    "Y = [\"Ingeniería\", \"Artes y Ciencias\", \"Economía\", \"Otras\"]\n",
    "X = [\"Local\", \"Foráneo\"]\n",
    "table = np.array([[16, 14, 13, 13], [14, 6, 10, 8]])\n",
    "data = pd.DataFrame(table, columns=Y, index=X)\n"
   ]
  },
  {
   "cell_type": "code",
   "execution_count": 5,
   "id": "b38f8829",
   "metadata": {},
   "outputs": [],
   "source": [
    "it = IndependenceTest(data)"
   ]
  },
  {
   "cell_type": "code",
   "execution_count": 6,
   "id": "0c2d1967",
   "metadata": {},
   "outputs": [
    {
     "name": "stdout",
     "output_type": "stream",
     "text": [
      "Tabla de contingencia de 2 x 4\n",
      "\n",
      "         Ingeniería  Artes y Ciencias  Economía  Otras\n",
      "Local            16                14        13     13\n",
      "Foráneo          14                 6        10      8\n"
     ]
    }
   ],
   "source": [
    "print(it)"
   ]
  },
  {
   "cell_type": "code",
   "execution_count": 7,
   "id": "8190c608",
   "metadata": {},
   "outputs": [
    {
     "name": "stdout",
     "output_type": "stream",
     "text": [
      "H_0: 'Las variables son independientes' v.s H_a: 'Las variables están asociadas'\n",
      "Rechazar H_0 si: jiji > 7.815\n",
      "Valor que tomó la estadística jiji: 1.524\n",
      "->No rechazamos H_0 con nivel de significancia 5.0%\n"
     ]
    }
   ],
   "source": [
    "it.run_test(0.05)"
   ]
  },
  {
   "cell_type": "code",
   "execution_count": null,
   "id": "4867ec57",
   "metadata": {},
   "outputs": [],
   "source": []
  }
 ],
 "metadata": {
  "kernelspec": {
   "display_name": "Python 3 (ipykernel)",
   "language": "python",
   "name": "python3"
  },
  "language_info": {
   "codemirror_mode": {
    "name": "ipython",
    "version": 3
   },
   "file_extension": ".py",
   "mimetype": "text/x-python",
   "name": "python",
   "nbconvert_exporter": "python",
   "pygments_lexer": "ipython3",
   "version": "3.10.6"
  }
 },
 "nbformat": 4,
 "nbformat_minor": 5
}
