{
 "cells": [
  {
   "cell_type": "markdown",
   "id": "7b38a73f",
   "metadata": {},
   "source": [
    "# Pruebas binomiales\n",
    "\n",
    "### Modelos no paramétricos y de regresión\n",
    "##### Por: Jorge Iván Reyes Hernández"
   ]
  },
  {
   "cell_type": "code",
   "execution_count": 1,
   "id": "fb9e43a2",
   "metadata": {},
   "outputs": [],
   "source": [
    "from abc import ABC, abstractmethod\n",
    "import numpy as np\n",
    "import matplotlib.pyplot as plt\n",
    "from scipy.stats import binom\n"
   ]
  },
  {
   "cell_type": "code",
   "execution_count": 2,
   "id": "cb353e0e",
   "metadata": {},
   "outputs": [],
   "source": [
    "class BinomialTest(ABC):\n",
    "    \"\"\" Clase para implementar las pruebas binomiales. \"\"\"\n",
    "    \n",
    "    def __init__(self, x):\n",
    "        \"\"\" Constructor de la clase\n",
    "        \n",
    "        :param x: Observaciones de la variable aleatoria en cuestión.\n",
    "        \"\"\"\n",
    "        self._x = x\n",
    "        # Muestra con la cual se realizará la prueba.\n",
    "        self._sample = None\n",
    "        # Parámetro p de la distribución Binomial.\n",
    "        self._p = None\n",
    "        # Estadística binomial K (valor observado)\n",
    "        self._k = 0\n",
    "        # Tamaño de la muestra.\n",
    "        self._n = x.size\n",
    "        # Nivel de significancia de la prueba.\n",
    "        self._significance_level = 0.0\n",
    "    \n",
    "    def get_sample(self):\n",
    "        \"\"\" Regresa la muestra a usar (símbolos + y -). \n",
    "        \n",
    "        :return: La muestra a usar para la prueba.\n",
    "        \"\"\"\n",
    "        return self._sample\n",
    "    \n",
    "    def get_k(self):\n",
    "        \"\"\" Regresa el valor observado de la estadística de prueba K. \"\"\"\n",
    "        return self._k\n",
    "    \n",
    "    def _get_c1(self, alpha):\n",
    "        \"\"\" Regresa el valor de la primera constante (cola inferior/izquierda). \n",
    "        \n",
    "        :param alpha: Nivel de significancia.\n",
    "        :return: El valor de la constante que determina la región crítica.\n",
    "        \"\"\"\n",
    "        c_alpha = 0\n",
    "        prob = binom.cdf(c_alpha, self._n, 1 - self._p)\n",
    "        \n",
    "        while alpha >= prob:\n",
    "            c_alpha += 1\n",
    "            prob = binom.cdf(c_alpha, self._n, 1 - self._p)\n",
    "        \n",
    "        c_alpha -= 1\n",
    "        self._significance_level = binom.cdf(c_alpha, self._n, 1 - self._p)\n",
    "        \n",
    "        return c_alpha\n",
    "    \n",
    "    def _get_c2(self, alpha):\n",
    "        \"\"\" Regresa el valor de la segunda constante (cola superior/derecha). \n",
    "        \n",
    "        :param alpha: Nivel de significancia.\n",
    "        :return: El valor de la constante que determina la región crítica.\n",
    "        \"\"\"\n",
    "        c_alpha = self._n\n",
    "        prob = binom.sf(c_alpha - 1, self._n, 1 - self._p)\n",
    "        \n",
    "        while alpha >= prob:\n",
    "            c_alpha -= 1\n",
    "            prob = binom.sf(c_alpha - 1, self._n, 1 - self._p)\n",
    "        \n",
    "        c_alpha += 1\n",
    "        self._significance_level = binom.sf(c_alpha - 1, self._n, 1 - self._p)\n",
    "        \n",
    "        return c_alpha\n",
    "    \n",
    "    @abstractmethod\n",
    "    def run_test(self, alternative, alpha, exact):\n",
    "        \"\"\" Método para ejecutar la prueba de hipótesis.\n",
    "        \n",
    "        :param alternative: Hipótesis alternativa.\n",
    "        :param alpha: Nivel de significancia deseado.\n",
    "        :param exact: Si se usará la estadística de prueba exacta o no.\n",
    "        \"\"\"\n",
    "        pass\n"
   ]
  },
  {
   "cell_type": "code",
   "execution_count": 3,
   "id": "68b60dec",
   "metadata": {},
   "outputs": [],
   "source": [
    "class SignTest(BinomialTest):\n",
    "    \"\"\" Clase para implementar la prueba para el p-ésimo cuantil usando\n",
    "    la prueba de los signos.\n",
    "    \"\"\"\n",
    "    def __init__(self, x, conditions=None):\n",
    "        \"\"\" Constructor de la clase.\n",
    "        \n",
    "        :param x: Observaciones de la variable aleatoria en cuestión.\n",
    "        :param quantile: El cuantil propuesto para los datos.\n",
    "        :param p: El orden del cuantil (entre 0 y 1; e.g si p=0.5 para la mediana).\n",
    "        \"\"\"\n",
    "        super().__init__(x)\n",
    "        self._p = 0.5\n",
    "        self._conditions = conditions\n",
    "    \n",
    "    def __compute_signs(self):\n",
    "        \"\"\" Determina la muestra y calcula la cantidad de signos positivos. \"\"\"\n",
    "        self._k = 0 \n",
    "        signs = []\n",
    "        \n",
    "        for i in self._x:\n",
    "            if self._conditions[0] <= i <= self._conditions[1] or self._conditions[2] <= i <= self._conditions[3]:\n",
    "                signs.append(\"+\")\n",
    "                self._k += 1\n",
    "            else:\n",
    "                signs.append(\"-\")\n",
    "        \n",
    "        self._sample = np.array(signs)\n",
    "    \n",
    "    def run_test(self, alternative, alpha=0.10, exact=True):\n",
    "        \"\"\" Ejecuta la prueba de hipótesis.\n",
    "        \n",
    "        :param alternative: La hipótesis alternativa.\n",
    "        :param alpha: Nivel de significancia.\n",
    "        :param exact: Si se usará la estadística de prueba exacta o no.\n",
    "        \"\"\"\n",
    "        self.__compute_signs()\n",
    "        \n",
    "        if exact:\n",
    "            if alternative == \"P('+') != P('-')\":\n",
    "                print(\"H_0: P('+') = P('-') v.s H_a: P('+') != P('-')\")\n",
    "                c_1 = self._get_c1(alpha/2)\n",
    "                c_2 = self._get_c2(alpha/2)\n",
    "                print(f\"Rechazar H_0 si K <= {c_1} o K >= {c_2}\")\n",
    "                print(f\"Valor que tomó la estadística {self._k}\")\n",
    "                decision = \"-> Rechazamos H_0 \" if self._k <= c_1 or self._k >= c_2 else \"-> No rechazamos H_0 \"\n",
    "                print(decision + f\"con nivel de significancia {self._significance_level*100:.2f}%\")\n",
    "\n",
    "            elif alternative == \"P('+') < P('-')\":\n",
    "                print(\"H_0: P('+') = P('-') v.s H_a: P('+') < P('-')\")\n",
    "                c_alpha = self._get_c1(alpha)\n",
    "                print(f\"Rechazar H_0 si K <= {c_alpha}\")\n",
    "                print(f\"Valor que tomó la estadística {self._k}\")\n",
    "                decision = \"-> Rechazamos H_0 \" if self._k <= c_alpha else \"-> No Rechazamos H_0 \"\n",
    "                print(decision + f\"con nivel de significancia {self._significance_level*100:.2f}%\")\n",
    "\n",
    "            elif alternative == \"P('+') > P('-')\":\n",
    "                print(\"H_0: P('+') = P('-') v.s H_a: P('+') > P('-')\")\n",
    "                c_alpha = self._get_c2(alpha)\n",
    "                print(f\"Rechazar H_0 si K >= {c_alpha}\")\n",
    "                print(f\"Valor que tomó la estadística {self._k}\")\n",
    "                decision = \"-> Rechazamos H_0 \" if self._k >= c_alpha  else \"-> No rechazamos H_0 \"\n",
    "                print(decision + f\"con nivel de significancia {self._significance_level*100:.2f}%\")\n"
   ]
  },
  {
   "cell_type": "code",
   "execution_count": 4,
   "id": "b32c0139",
   "metadata": {},
   "outputs": [],
   "source": [
    "class QuantileSignTest(SignTest):\n",
    "    \"\"\" Clase para implementar la prueba para el p-ésimo cuantil usando\n",
    "    la prueba de los signos.\n",
    "    \"\"\"\n",
    "    def __init__(self, x, quantile, p):\n",
    "        \"\"\" Constructor de la clase.\n",
    "        \n",
    "        :param x: Observaciones de la variable aleatoria en cuestión.\n",
    "        :param quantile: El cuantil propuesto para los datos.\n",
    "        :param p: El orden del cuantil (entre 0 y 1; e.g si p=0.5 para la mediana).\n",
    "        \"\"\"\n",
    "        super().__init__(x)\n",
    "        assert 0 < p < 1\n",
    "        self._p = p\n",
    "        self.__quantile = quantile\n",
    "        self.__compute_signs()\n",
    "    \n",
    "    def __compute_signs(self):\n",
    "        \"\"\" Determina la muestra y calcula la cantidad de signos positivos y negativos. \"\"\"\n",
    "        signs = []\n",
    "        \n",
    "        for i in self._x:\n",
    "            if i > self.__quantile:\n",
    "                signs.append(\"+\")\n",
    "                self._k += 1\n",
    "            elif i < self.__quantile:\n",
    "                signs.append(\"-\")\n",
    "        \n",
    "        self._sample = np.array(signs)\n",
    "    \n",
    "    def run_test(self, alternative, alpha=0.10, exact=True):\n",
    "        \"\"\" Ejecuta la prueba de hipótesis.\n",
    "        \n",
    "        :param alternative: La hipótesis alternativa.\n",
    "        :param alpha: Nivel de significancia.\n",
    "        :param exact: Si se usará la estadística de prueba exacta o no.\n",
    "        \"\"\"\n",
    "        if exact:\n",
    "            if alternative == \"x_p != n_p0\":\n",
    "                print(f\"H_0: x_({self._p}) = {self.__quantile} v.s H_a: x_({self._p}) != {self.__quantile}\")\n",
    "                c_1 = self._get_c1(alpha/2)\n",
    "                c_2 = self._get_c2(alpha/2)\n",
    "                print(f\"Rechazar H_0 si K <= {c_1} o K >= {c_2}\")\n",
    "                print(f\"Valor que tomó la estadística {self._k}\")\n",
    "                decision = \"-> Rechazamos H_0 \" if self._k <= c_1 or self._k >= c_2 else \"-> No rechazamos H_0 \"\n",
    "                print(decision + f\"con nivel de significancia {self._significance_level*100:.2f}%\")\n",
    "\n",
    "            elif alternative == \"x_p < n_p0\":\n",
    "                print(f\"H_0: x_({self._p}) = {self.__quantile} v.s H_a: x_({self._p}) < {self.__quantile}\")\n",
    "                c_alpha = self._get_c1(alpha)\n",
    "                print(f\"Rechazar H_0 si K <= {c_alpha}\")\n",
    "                print(f\"Valor que tomó la estadística {self._k}\")\n",
    "                decision = \"-> Rechazamos H_0 \" if self._k <= c_alpha else \"-> No Rechazamos H_0 \"\n",
    "                print(decision + f\"con nivel de significancia {self._significance_level*100:.2f}%\")\n",
    "\n",
    "            elif alternative == \"x_p > n_p0\":\n",
    "                print(f\"H_0: x_({self._p}) = {self.__quantile} v.s H_a: x_({self._p}) > {self.__quantile}\")\n",
    "                c_alpha = self._get_c2(alpha)\n",
    "                print(f\"Rechazar H_0 si K >= {c_alpha}\")\n",
    "                print(f\"Valor que tomó la estadística {self._k}\")\n",
    "                decision = \"-> Rechazamos H_0 \" if self._k >= c_alpha  else \"-> No rechazamos H_0 \"\n",
    "                print(decision + f\"con nivel de significancia {self._significance_level*100:.2f}%\")\n"
   ]
  },
  {
   "cell_type": "markdown",
   "id": "162fefa9",
   "metadata": {},
   "source": [
    "##### Probamos que funcione"
   ]
  },
  {
   "cell_type": "code",
   "execution_count": 5,
   "id": "afe96d90",
   "metadata": {},
   "outputs": [],
   "source": [
    "data = np.array([18, 23, 21, 409, 24, 74, 13, 62, 46, 4])"
   ]
  },
  {
   "cell_type": "code",
   "execution_count": 6,
   "id": "10f2cc1d",
   "metadata": {},
   "outputs": [],
   "source": [
    "tester = QuantileSignTest(data, 25, 0.5)"
   ]
  },
  {
   "cell_type": "code",
   "execution_count": 7,
   "id": "74d3dd6d",
   "metadata": {},
   "outputs": [
    {
     "name": "stdout",
     "output_type": "stream",
     "text": [
      "['-' '-' '-' '+' '-' '+' '-' '+' '+' '-']\n"
     ]
    }
   ],
   "source": [
    "print(tester.get_sample())"
   ]
  },
  {
   "cell_type": "code",
   "execution_count": 8,
   "id": "19fb5230",
   "metadata": {},
   "outputs": [
    {
     "name": "stdout",
     "output_type": "stream",
     "text": [
      "H_0: x_(0.5) = 25 v.s H_a: x_(0.5) != 25\n",
      "Rechazar H_0 si K <= 1 o K >= 9\n",
      "Valor que tomó la estadística 4\n",
      "-> No rechazamos H_0 con nivel de significancia 1.07%\n"
     ]
    }
   ],
   "source": [
    "tester.run_test(alternative=\"x_p != n_p0\", alpha=0.1)"
   ]
  },
  {
   "cell_type": "markdown",
   "id": "a5c62049",
   "metadata": {},
   "source": [
    "#### Ejercicio 2 (Ayudantías)"
   ]
  },
  {
   "cell_type": "code",
   "execution_count": 9,
   "id": "d66e6b3c",
   "metadata": {},
   "outputs": [],
   "source": [
    "data = np.array([189, 233, 195, 160, 212, 176, 231, 185, 199, 231, 185, 199, 213, 202, 193, 174, 166, 248])"
   ]
  },
  {
   "cell_type": "code",
   "execution_count": 10,
   "id": "5920ec30",
   "metadata": {},
   "outputs": [],
   "source": [
    "t = QuantileSignTest(data, 193, 0.75)"
   ]
  },
  {
   "cell_type": "code",
   "execution_count": 11,
   "id": "3fc4deb1",
   "metadata": {},
   "outputs": [
    {
     "name": "stdout",
     "output_type": "stream",
     "text": [
      "H_0: x_(0.75) = 193 v.s H_a: x_(0.75) > 193\n",
      "Rechazar H_0 si K >= 8\n",
      "Valor que tomó la estadística 10\n",
      "-> Rechazamos H_0 con nivel de significancia 5.69%\n"
     ]
    }
   ],
   "source": [
    "t.run_test(alternative=\"x_p > n_p0\")"
   ]
  },
  {
   "cell_type": "code",
   "execution_count": 12,
   "id": "3dd7428d",
   "metadata": {},
   "outputs": [
    {
     "name": "stdout",
     "output_type": "stream",
     "text": [
      "H_0: x_(0.75) = 193 v.s H_a: x_(0.75) < 193\n",
      "Rechazar H_0 si K <= 1\n",
      "Valor que tomó la estadística 10\n",
      "-> No Rechazamos H_0 con nivel de significancia 3.95%\n"
     ]
    }
   ],
   "source": [
    "t.run_test(alternative=\"x_p < n_p0\")"
   ]
  },
  {
   "cell_type": "code",
   "execution_count": 13,
   "id": "5cc9a05b",
   "metadata": {},
   "outputs": [
    {
     "name": "stdout",
     "output_type": "stream",
     "text": [
      "H_0: x_(0.75) = 193 v.s H_a: x_(0.75) != 193\n",
      "Rechazar H_0 si K <= 1 o K >= 8\n",
      "Valor que tomó la estadística 10\n",
      "-> Rechazamos H_0 con nivel de significancia 5.69%\n"
     ]
    }
   ],
   "source": [
    "t.run_test(alternative=\"x_p != n_p0\", alpha=0.2)"
   ]
  },
  {
   "cell_type": "markdown",
   "id": "cb44d8b2",
   "metadata": {},
   "source": [
    "##### Probamos la clase con más datos"
   ]
  },
  {
   "cell_type": "code",
   "execution_count": 14,
   "id": "310eb966",
   "metadata": {},
   "outputs": [
    {
     "data": {
      "image/png": "[encoded data removed]",
      "text/plain": [
       "<Figure size 640x480 with 1 Axes>"
      ]
     },
     "metadata": {},
     "output_type": "display_data"
    }
   ],
   "source": [
    "x_1 = np.random.normal(loc=0, scale=1, size=1064)\n",
    "plt.hist(x_1);"
   ]
  },
  {
   "cell_type": "code",
   "execution_count": 15,
   "id": "039d6378",
   "metadata": {},
   "outputs": [],
   "source": [
    "# Queremos probar si el (0.5)-cuantil es 0\n",
    "tester_1 = QuantileSignTest(x_1, 0, 0.5)"
   ]
  },
  {
   "cell_type": "code",
   "execution_count": 16,
   "id": "bd8d2d6c",
   "metadata": {},
   "outputs": [
    {
     "name": "stdout",
     "output_type": "stream",
     "text": [
      "H_0: x_(0.5) = 0 v.s H_a: x_(0.5) != 0\n",
      "Rechazar H_0 si K <= 504 o K >= 560\n",
      "Valor que tomó la estadística 543\n",
      "-> No rechazamos H_0 con nivel de significancia 4.59%\n",
      "H_0: x_(0.5) = 0 v.s H_a: x_(0.5) < 0\n",
      "Rechazar H_0 si K <= 510\n",
      "Valor que tomó la estadística 543\n",
      "-> No Rechazamos H_0 con nivel de significancia 9.37%\n",
      "H_0: x_(0.5) = 0 v.s H_a: x_(0.5) > 0\n",
      "Rechazar H_0 si K >= 554\n",
      "Valor que tomó la estadística 543\n",
      "-> No rechazamos H_0 con nivel de significancia 9.37%\n"
     ]
    }
   ],
   "source": [
    "tester_1.run_test(alternative=\"x_p != n_p0\")\n",
    "tester_1.run_test(alternative=\"x_p < n_p0\")\n",
    "tester_1.run_test(alternative=\"x_p > n_p0\")"
   ]
  },
  {
   "cell_type": "code",
   "execution_count": 17,
   "id": "1b9e42e4",
   "metadata": {},
   "outputs": [
    {
     "data": {
      "image/png": "[encoded data removed]",
      "text/plain": [
       "<Figure size 640x480 with 1 Axes>"
      ]
     },
     "metadata": {},
     "output_type": "display_data"
    }
   ],
   "source": [
    "x_2 = np.random.normal(loc=1, scale=1, size=1064)\n",
    "plt.hist(x_2);"
   ]
  },
  {
   "cell_type": "code",
   "execution_count": 18,
   "id": "0f84c42a",
   "metadata": {},
   "outputs": [],
   "source": [
    "# Queremos probar si el (0.5)-cuantil es 0, lo cual no es cierto.\n",
    "tester_2 = QuantileSignTest(x_2, 0, 0.5)\n"
   ]
  },
  {
   "cell_type": "code",
   "execution_count": 19,
   "id": "93305ad0",
   "metadata": {},
   "outputs": [
    {
     "name": "stdout",
     "output_type": "stream",
     "text": [
      "H_0: x_(0.5) = 0 v.s H_a: x_(0.5) != 0\n",
      "Rechazar H_0 si K <= 504 o K >= 560\n",
      "Valor que tomó la estadística 884\n",
      "-> Rechazamos H_0 con nivel de significancia 4.59%\n",
      "H_0: x_(0.5) = 0 v.s H_a: x_(0.5) < 0\n",
      "Rechazar H_0 si K <= 510\n",
      "Valor que tomó la estadística 884\n",
      "-> No Rechazamos H_0 con nivel de significancia 9.37%\n",
      "H_0: x_(0.5) = 0 v.s H_a: x_(0.5) > 0\n",
      "Rechazar H_0 si K >= 554\n",
      "Valor que tomó la estadística 884\n",
      "-> Rechazamos H_0 con nivel de significancia 9.37%\n"
     ]
    }
   ],
   "source": [
    "tester_2.run_test(alternative=\"x_p != n_p0\")\n",
    "tester_2.run_test(alternative=\"x_p < n_p0\")\n",
    "tester_2.run_test(alternative=\"x_p > n_p0\")"
   ]
  },
  {
   "cell_type": "markdown",
   "id": "34c1f8b6",
   "metadata": {},
   "source": [
    "#### Ejercicio 3 (Ayudantías)"
   ]
  },
  {
   "cell_type": "code",
   "execution_count": 20,
   "id": "fba63a36",
   "metadata": {},
   "outputs": [],
   "source": [
    "data_3 = np.array([20, 35, 350, 120, 85, 345, 80, 320, 280, 85])\n",
    "e_3 = SignTest(data_3, [0, 90, 270, 360])\n"
   ]
  },
  {
   "cell_type": "code",
   "execution_count": 21,
   "id": "ed26bd23",
   "metadata": {},
   "outputs": [
    {
     "name": "stdout",
     "output_type": "stream",
     "text": [
      "H_0: P('+') = P('-') v.s H_a: P('+') != P('-')\n",
      "Rechazar H_0 si K <= 1 o K >= 9\n",
      "Valor que tomó la estadística 9\n",
      "-> Rechazamos H_0 con nivel de significancia 1.07%\n",
      "H_0: P('+') = P('-') v.s H_a: P('+') < P('-')\n",
      "Rechazar H_0 si K <= 2\n",
      "Valor que tomó la estadística 9\n",
      "-> No Rechazamos H_0 con nivel de significancia 5.47%\n",
      "H_0: P('+') = P('-') v.s H_a: P('+') > P('-')\n",
      "Rechazar H_0 si K >= 8\n",
      "Valor que tomó la estadística 9\n",
      "-> Rechazamos H_0 con nivel de significancia 5.47%\n"
     ]
    }
   ],
   "source": [
    "e_3.run_test(alternative=\"P('+') != P('-')\")\n",
    "e_3.run_test(alternative=\"P('+') < P('-')\")\n",
    "e_3.run_test(alternative=\"P('+') > P('-')\")"
   ]
  },
  {
   "cell_type": "code",
   "execution_count": null,
   "id": "819d6cb9",
   "metadata": {},
   "outputs": [],
   "source": []
  }
 ],
 "metadata": {
  "kernelspec": {
   "display_name": "Python 3 (ipykernel)",
   "language": "python",
   "name": "python3"
  },
  "language_info": {
   "codemirror_mode": {
    "name": "ipython",
    "version": 3
   },
   "file_extension": ".py",
   "mimetype": "text/x-python",
   "name": "python",
   "nbconvert_exporter": "python",
   "pygments_lexer": "ipython3",
   "version": "3.10.6"
  }
 },
 "nbformat": 4,
 "nbformat_minor": 5
}
