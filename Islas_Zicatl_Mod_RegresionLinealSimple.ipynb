{
  "cells": [
    {
      "cell_type": "markdown",
      "id": "20dd8d6d",
      "metadata": {
        "id": "20dd8d6d"
      },
      "source": [
        "# Regresión lineal simple\n",
        "### Modelos no paramétricos y de regresión\n",
        "##### Profesor: Jorge Iván Reyes Hernández\n",
        "##### Estudiante: Islas Zicatl Max Emiliano"
      ]
    },
    {
      "cell_type": "markdown",
      "id": "0712d09f",
      "metadata": {
        "id": "0712d09f"
      },
      "source": [
        "## 1. Obtener datos\n",
        "- Muestreo/experimentos.\n",
        "- Web Scraping.\n",
        "- etc.\n",
        "\n",
        "## 2. EDA\n",
        "- Gráfico de dispersión.\n",
        "\n",
        "## 3. Supuestos del modelo*\n",
        "Modelo: $Y = \\beta_0 + \\beta_1 x + \\epsilon$, $\\epsilon \\sim \\mathcal{N}(0,\\sigma^2)$.\n",
        "- __Linealidad__: $\\mathbb{E}(Y|x) = \\beta_0 + \\beta_1 x \\iff \\mathbb{E}(\\epsilon) = 0$.\n",
        "- __Varianza contante__: Dado $x\\in\\mathbb{R}$, la varianza de $Y$ es constante $\\iff$ $\\mathbb{V}ar(\\epsilon) = \\sigma^{2}$ (independiente del $x$ dado).\n",
        "- __Independencia__ (no correlación): Si $i\\neq j$, $Y_i \\perp Y_j \\iff \\epsilon_i \\perp \\epsilon_j$ ($\\mathbb{C}ov (\\epsilon_i, \\epsilon_j) = 0$).\n",
        "- __Normalidad__: Dado $x\\in\\mathbb{R}, Y$ es una v.a normal $\\iff$ $\\epsilon$ es una v.a normal.\n",
        "\n",
        "## 4. Ajustar/entrenar modelo\n",
        "Estimar $\\beta_0, \\beta_1, \\sigma^{2}$ usando:\n",
        "- Mínimos cuadrados.\n",
        "- Máxima verosimilitud.\n",
        "\n",
        "Bajo el supuesto distribucional ($\\epsilon \\sim \\mathcal{N}(0,\\sigma^2)$) estos estimadores coindicen ($\\hat{\\beta}_{i,ML} = \\hat{\\beta}_{i,MC}$, $i\\in\\{0,1\\}$).\n",
        "\n",
        "## 5. Evaluar modelo\n",
        "- Coeficiente de determinación $R^{2}:\\mathbb{R}^{n}\\times\\mathbb{R}^{n} \\to [0,1]\\subset\\mathbb{R}$.\n",
        "\n",
        "$R^{2}$: Proporción de la variabilidad total de $y$ que es explicada por el modelo.\n",
        "\n",
        "$R^{2} = 1$: El $100\\%$ de la variabilidad muestral en $y$ puede ser atribuida al hecho de que $x$ y $y$ están relacionadas linealmente.\n",
        "\n",
        "\n",
        "## 6. Verificación de supuestos (análisis de residuales)\n",
        "1. __Independencia__.\n",
        "- Autocorrelograma (de los residuales muestrales $e_i$).\n",
        "- Prueba de Durbin-Watson.\n",
        "2. __Varianza contante__.\n",
        "- Gráfico de dispersión ($e$ vs $\\hat{y}$)\n",
        "- Pruebas de Cook-Weisberg o de Breusch-Pagan.\n",
        "\n",
        "3. __Normalidad__.\n",
        "- qq-plot (de los residuales muestrales $e_i$).\n",
        "- Pruebas de Kolmogorov-Smirnov, Anderson-Daring, etc (para los residuales muestrales $e_i$).\n",
        "\n",
        "_Nota: Pueden usar los residuales estandarizados_\n",
        "$$\n",
        "    e_i ^{*} = \\frac{y_i - \\hat{y}_i}{s_e\\sqrt{1-\\frac{1}{n} - \\frac{(x_i - \\bar{x})^{2}}{S_{xx}} }}\n",
        "$$\n",
        "con $s_e = \\sqrt{SSE/(n-2)}$, $i\\in\\{1,\\ldots,n\\}$, $SSE = \\sum_{i=1}^{n}(y_i - \\hat{y}_i)^{2}$"
      ]
    },
    {
      "cell_type": "markdown",
      "id": "5257b63d",
      "metadata": {
        "id": "5257b63d"
      },
      "source": [
        "### Ejemplo\n",
        "#### ¿El estrés realmente acelera el envejecimiento?\n",
        "Un estudio descrito en el artículo \"Acortamiento acelerado de telómeros en respuesta al estrés\" (Proc. Nat. Acad. Sci 2004:17312-17315) investigó la relación entre $x:$ \"Nivel de estrés percibido\" (en escala cuantitativa) y $y:$ \"Longitud de los telómeros\" (una medida biológica de longevidad celular; longitudes de telómeros más pequeñas indican una vida útil más corta a nivel celular). Se tomaron muestras $(x_i, y_i)$ a 38 individuos (archivo stress_aging.csv). Realice un análisis de regresión."
      ]
    },
    {
      "cell_type": "code",
      "execution_count": 2,
      "id": "ccb0e548",
      "metadata": {
        "id": "ccb0e548"
      },
      "outputs": [],
      "source": [
        "# Descargamos las paqueterias necesarias\n",
        "import matplotlib.pyplot as plt\n",
        "import numpy as np\n",
        "import pandas as pd\n",
        "import scipy.stats as pystats\n",
        "import statsmodels.api as sm\n",
        "import statsmodels.stats.api as sms\n",
        "from statsmodels.graphics.tsaplots import plot_acf\n",
        "from statsmodels.compat import lzip\n",
        "from statsmodels.graphics.gofplots import qqplot\n",
        "import math as m"
      ]
    },
    {
      "cell_type": "code",
      "source": [
        "# Descargamos la versión 3.4.2 de 'rpy2' para poder llamar código de R en Python \n",
        "!pip install -Iv rpy2==3.4.2\n"
      ],
      "metadata": {
        "colab": {
          "base_uri": "https://localhost:8080/",
          "height": 1000
        },
        "id": "GRKJKm4lErRP",
        "outputId": "e958a702-0971-484a-ede9-7802fdc7654b"
      },
      "id": "GRKJKm4lErRP",
      "execution_count": 3,
      "outputs": [
        {
          "output_type": "stream",
          "name": "stdout",
          "text": [
            "Using pip 23.0.1 from /usr/local/lib/python3.9/dist-packages/pip (python 3.9)\n",
            "Looking in indexes: https://pypi.org/simple, https://us-python.pkg.dev/colab-wheels/public/simple/\n",
            "Collecting rpy2==3.4.2\n",
            "  Downloading rpy2-3.4.2.tar.gz (186 kB)\n",
            "\u001b[2K     \u001b[90m━━━━━━━━━━━━━━━━━━━━━━━━━━━━━━━━━━━━━━━\u001b[0m \u001b[32m186.1/186.1 kB\u001b[0m \u001b[31m8.5 MB/s\u001b[0m eta \u001b[36m0:00:00\u001b[0m\n",
            "\u001b[?25h  Running command python setup.py egg_info\n",
            "  /usr/local/lib/python3.9/dist-packages/setuptools/__init__.py:85: _DeprecatedInstaller: setuptools.installer and fetch_build_eggs are deprecated. Requirements should be satisfied by a PEP 517 installer. If you are using pip, you can try `pip install --use-pep517`.\n",
            "    dist.fetch_build_eggs(dist.setup_requires)\n",
            "  ['cffi>=1.10.0', 'jinja2', 'pytz', 'tzlocal']\n",
            "  running egg_info\n",
            "  creating /tmp/pip-pip-egg-info-iixtbivj/rpy2.egg-info\n",
            "  writing /tmp/pip-pip-egg-info-iixtbivj/rpy2.egg-info/PKG-INFO\n",
            "  writing dependency_links to /tmp/pip-pip-egg-info-iixtbivj/rpy2.egg-info/dependency_links.txt\n",
            "  writing requirements to /tmp/pip-pip-egg-info-iixtbivj/rpy2.egg-info/requires.txt\n",
            "  writing top-level names to /tmp/pip-pip-egg-info-iixtbivj/rpy2.egg-info/top_level.txt\n",
            "  writing manifest file '/tmp/pip-pip-egg-info-iixtbivj/rpy2.egg-info/SOURCES.txt'\n",
            "  package init file './rpy2/tests/rlike/__init__.py' not found (or not a regular file)\n",
            "  reading manifest file '/tmp/pip-pip-egg-info-iixtbivj/rpy2.egg-info/SOURCES.txt'\n",
            "  reading manifest template 'MANIFEST.in'\n",
            "  warning: no files found matching 'README' anywhere in distribution\n",
            "  warning: no previously-included files matching '*patch*' found anywhere in distribution\n",
            "  warning: no previously-included files matching '*diff*' found anywhere in distribution\n",
            "  warning: no previously-included files matching '.hg' found anywhere in distribution\n",
            "  warning: no files found matching 'MANIFEST'\n",
            "  warning: no files found matching '_rinterface_cffi_build'\n",
            "  warning: no files found matching 'rpy/__init__.py'\n",
            "  warning: no files found matching 'rpy/situation.py'\n",
            "  warning: no files found matching '*.py' under directory 'rpy/robjects'\n",
            "  warning: no files found matching '*.py' under directory 'rpy/ipython'\n",
            "  warning: no files found matching '*.py' under directory 'rpy/interactive'\n",
            "  warning: no files found matching '*.py' under directory 'rpy/rlike'\n",
            "  no previously-included directories found matching 'dist'\n",
            "  warning: no files found matching 'doc/source/rpy2_logo.png'\n",
            "  adding license file 'AUTHORS'\n",
            "  writing manifest file '/tmp/pip-pip-egg-info-iixtbivj/rpy2.egg-info/SOURCES.txt'\n",
            "  Preparing metadata (setup.py) ... \u001b[?25l\u001b[?25hdone\n",
            "Collecting cffi>=1.10.0\n",
            "  Downloading cffi-1.15.1-cp39-cp39-manylinux_2_17_x86_64.manylinux2014_x86_64.whl (441 kB)\n",
            "\u001b[2K     \u001b[90m━━━━━━━━━━━━━━━━━━━━━━━━━━━━━━━━━━━━━━\u001b[0m \u001b[32m441.2/441.2 kB\u001b[0m \u001b[31m36.4 MB/s\u001b[0m eta \u001b[36m0:00:00\u001b[0m\n",
            "\u001b[?25hCollecting jinja2\n",
            "  Downloading Jinja2-3.1.2-py3-none-any.whl (133 kB)\n",
            "\u001b[2K     \u001b[90m━━━━━━━━━━━━━━━━━━━━━━━━━━━━━━━━━━━━━━\u001b[0m \u001b[32m133.1/133.1 kB\u001b[0m \u001b[31m14.2 MB/s\u001b[0m eta \u001b[36m0:00:00\u001b[0m\n",
            "\u001b[?25hCollecting pytz\n",
            "  Downloading pytz-2023.3-py2.py3-none-any.whl (502 kB)\n",
            "\u001b[2K     \u001b[90m━━━━━━━━━━━━━━━━━━━━━━━━━━━━━━━━━━━━━━\u001b[0m \u001b[32m502.3/502.3 kB\u001b[0m \u001b[31m38.0 MB/s\u001b[0m eta \u001b[36m0:00:00\u001b[0m\n",
            "\u001b[?25hCollecting tzlocal\n",
            "  Downloading tzlocal-4.3-py3-none-any.whl (20 kB)\n",
            "Collecting pycparser\n",
            "  Downloading pycparser-2.21-py2.py3-none-any.whl (118 kB)\n",
            "\u001b[2K     \u001b[90m━━━━━━━━━━━━━━━━━━━━━━━━━━━━━━━━━━━━━━\u001b[0m \u001b[32m118.7/118.7 kB\u001b[0m \u001b[31m12.4 MB/s\u001b[0m eta \u001b[36m0:00:00\u001b[0m\n",
            "\u001b[?25hCollecting MarkupSafe>=2.0\n",
            "  Downloading MarkupSafe-2.1.2-cp39-cp39-manylinux_2_17_x86_64.manylinux2014_x86_64.whl (25 kB)\n",
            "Collecting pytz-deprecation-shim\n",
            "  Downloading pytz_deprecation_shim-0.1.0.post0-py2.py3-none-any.whl (15 kB)\n",
            "Collecting tzdata\n",
            "  Downloading tzdata-2023.3-py2.py3-none-any.whl (341 kB)\n",
            "\u001b[2K     \u001b[90m━━━━━━━━━━━━━━━━━━━━━━━━━━━━━━━━━━━━━━\u001b[0m \u001b[32m341.8/341.8 kB\u001b[0m \u001b[31m27.0 MB/s\u001b[0m eta \u001b[36m0:00:00\u001b[0m\n",
            "\u001b[?25hBuilding wheels for collected packages: rpy2\n",
            "  Running command python setup.py bdist_wheel\n",
            "  ['cffi>=1.10.0', 'jinja2', 'pytz', 'tzlocal']\n",
            "  /usr/local/lib/python3.9/dist-packages/setuptools/__init__.py:85: _DeprecatedInstaller: setuptools.installer and fetch_build_eggs are deprecated. Requirements should be satisfied by a PEP 517 installer. If you are using pip, you can try `pip install --use-pep517`.\n",
            "    dist.fetch_build_eggs(dist.setup_requires)\n",
            "  running bdist_wheel\n",
            "  running build\n",
            "  cffi mode: CFFI_MODE.ANY\n",
            "  running build_py\n",
            "  file _rinterface_cffi_abi.py (for module _rinterface_cffi_abi) not found\n",
            "  creating build\n",
            "  creating build/lib.linux-x86_64-3.9\n",
            "  creating build/lib.linux-x86_64-3.9/rpy2\n",
            "  copying ./rpy2/__init__.py -> build/lib.linux-x86_64-3.9/rpy2\n",
            "  copying ./rpy2/rinterface.py -> build/lib.linux-x86_64-3.9/rpy2\n",
            "  copying ./rpy2/_rinterface_cffi_build.py -> build/lib.linux-x86_64-3.9/rpy2\n",
            "  copying ./rpy2/situation.py -> build/lib.linux-x86_64-3.9/rpy2\n",
            "  creating build/lib.linux-x86_64-3.9/rpy2/rlike\n",
            "  copying ./rpy2/rlike/indexing.py -> build/lib.linux-x86_64-3.9/rpy2/rlike\n",
            "  copying ./rpy2/rlike/__init__.py -> build/lib.linux-x86_64-3.9/rpy2/rlike\n",
            "  copying ./rpy2/rlike/container.py -> build/lib.linux-x86_64-3.9/rpy2/rlike\n",
            "  copying ./rpy2/rlike/functional.py -> build/lib.linux-x86_64-3.9/rpy2/rlike\n",
            "  creating build/lib.linux-x86_64-3.9/rpy2/rinterface_lib\n",
            "  copying ./rpy2/rinterface_lib/embedded_mswin.py -> build/lib.linux-x86_64-3.9/rpy2/rinterface_lib\n",
            "  copying ./rpy2/rinterface_lib/__init__.py -> build/lib.linux-x86_64-3.9/rpy2/rinterface_lib\n",
            "  copying ./rpy2/rinterface_lib/ffi_proxy.py -> build/lib.linux-x86_64-3.9/rpy2/rinterface_lib\n",
            "  copying ./rpy2/rinterface_lib/embedded.py -> build/lib.linux-x86_64-3.9/rpy2/rinterface_lib\n",
            "  copying ./rpy2/rinterface_lib/sexp.py -> build/lib.linux-x86_64-3.9/rpy2/rinterface_lib\n",
            "  copying ./rpy2/rinterface_lib/conversion.py -> build/lib.linux-x86_64-3.9/rpy2/rinterface_lib\n",
            "  copying ./rpy2/rinterface_lib/memorymanagement.py -> build/lib.linux-x86_64-3.9/rpy2/rinterface_lib\n",
            "  copying ./rpy2/rinterface_lib/_rinterface_capi.py -> build/lib.linux-x86_64-3.9/rpy2/rinterface_lib\n",
            "  copying ./rpy2/rinterface_lib/na_values.py -> build/lib.linux-x86_64-3.9/rpy2/rinterface_lib\n",
            "  copying ./rpy2/rinterface_lib/openrlib.py -> build/lib.linux-x86_64-3.9/rpy2/rinterface_lib\n",
            "  copying ./rpy2/rinterface_lib/bufferprotocol.py -> build/lib.linux-x86_64-3.9/rpy2/rinterface_lib\n",
            "  copying ./rpy2/rinterface_lib/callbacks.py -> build/lib.linux-x86_64-3.9/rpy2/rinterface_lib\n",
            "  creating build/lib.linux-x86_64-3.9/rpy2/robjects\n",
            "  copying ./rpy2/robjects/methods.py -> build/lib.linux-x86_64-3.9/rpy2/robjects\n",
            "  copying ./rpy2/robjects/environments.py -> build/lib.linux-x86_64-3.9/rpy2/robjects\n",
            "  copying ./rpy2/robjects/constants.py -> build/lib.linux-x86_64-3.9/rpy2/robjects\n",
            "  copying ./rpy2/robjects/pandas2ri.py -> build/lib.linux-x86_64-3.9/rpy2/robjects\n",
            "  copying ./rpy2/robjects/__init__.py -> build/lib.linux-x86_64-3.9/rpy2/robjects\n",
            "  copying ./rpy2/robjects/packages.py -> build/lib.linux-x86_64-3.9/rpy2/robjects\n",
            "  copying ./rpy2/robjects/language.py -> build/lib.linux-x86_64-3.9/rpy2/robjects\n",
            "  copying ./rpy2/robjects/conversion.py -> build/lib.linux-x86_64-3.9/rpy2/robjects\n",
            "  copying ./rpy2/robjects/help.py -> build/lib.linux-x86_64-3.9/rpy2/robjects\n",
            "  copying ./rpy2/robjects/numpy2ri.py -> build/lib.linux-x86_64-3.9/rpy2/robjects\n",
            "  copying ./rpy2/robjects/robject.py -> build/lib.linux-x86_64-3.9/rpy2/robjects\n",
            "  copying ./rpy2/robjects/packages_utils.py -> build/lib.linux-x86_64-3.9/rpy2/robjects\n",
            "  copying ./rpy2/robjects/vectors.py -> build/lib.linux-x86_64-3.9/rpy2/robjects\n",
            "  copying ./rpy2/robjects/functions.py -> build/lib.linux-x86_64-3.9/rpy2/robjects\n",
            "  creating build/lib.linux-x86_64-3.9/rpy2/robjects/lib\n",
            "  copying ./rpy2/robjects/lib/__init__.py -> build/lib.linux-x86_64-3.9/rpy2/robjects/lib\n",
            "  copying ./rpy2/robjects/lib/grdevices.py -> build/lib.linux-x86_64-3.9/rpy2/robjects/lib\n",
            "  copying ./rpy2/robjects/lib/dplyr.py -> build/lib.linux-x86_64-3.9/rpy2/robjects/lib\n",
            "  copying ./rpy2/robjects/lib/tidyr.py -> build/lib.linux-x86_64-3.9/rpy2/robjects/lib\n",
            "  copying ./rpy2/robjects/lib/grid.py -> build/lib.linux-x86_64-3.9/rpy2/robjects/lib\n",
            "  copying ./rpy2/robjects/lib/ggplot2.py -> build/lib.linux-x86_64-3.9/rpy2/robjects/lib\n",
            "  copying ./rpy2/robjects/lib/dbplyr.py -> build/lib.linux-x86_64-3.9/rpy2/robjects/lib\n",
            "  creating build/lib.linux-x86_64-3.9/rpy2/interactive\n",
            "  copying ./rpy2/interactive/__init__.py -> build/lib.linux-x86_64-3.9/rpy2/interactive\n",
            "  copying ./rpy2/interactive/packages.py -> build/lib.linux-x86_64-3.9/rpy2/interactive\n",
            "  copying ./rpy2/interactive/process_revents.py -> build/lib.linux-x86_64-3.9/rpy2/interactive\n",
            "  creating build/lib.linux-x86_64-3.9/rpy2/ipython\n",
            "  copying ./rpy2/ipython/rmagic.py -> build/lib.linux-x86_64-3.9/rpy2/ipython\n",
            "  copying ./rpy2/ipython/__init__.py -> build/lib.linux-x86_64-3.9/rpy2/ipython\n",
            "  copying ./rpy2/ipython/ggplot.py -> build/lib.linux-x86_64-3.9/rpy2/ipython\n",
            "  copying ./rpy2/ipython/html.py -> build/lib.linux-x86_64-3.9/rpy2/ipython\n",
            "  creating build/lib.linux-x86_64-3.9/rpy2/tests\n",
            "  copying ./rpy2/tests/__init__.py -> build/lib.linux-x86_64-3.9/rpy2/tests\n",
            "  copying ./rpy2/tests/utils.py -> build/lib.linux-x86_64-3.9/rpy2/tests\n",
            "  creating build/lib.linux-x86_64-3.9/rpy2/tests/rinterface\n",
            "  copying ./rpy2/tests/rinterface/test_functions.py -> build/lib.linux-x86_64-3.9/rpy2/tests/rinterface\n",
            "  copying ./rpy2/tests/rinterface/test_vector_int.py -> build/lib.linux-x86_64-3.9/rpy2/tests/rinterface\n",
            "  copying ./rpy2/tests/rinterface/test_embedded_r.py -> build/lib.linux-x86_64-3.9/rpy2/tests/rinterface\n",
            "  copying ./rpy2/tests/rinterface/__init__.py -> build/lib.linux-x86_64-3.9/rpy2/tests/rinterface\n",
            "  copying ./rpy2/tests/rinterface/test_vector_bool.py -> build/lib.linux-x86_64-3.9/rpy2/tests/rinterface\n",
            "  copying ./rpy2/tests/rinterface/test_vectors.py -> build/lib.linux-x86_64-3.9/rpy2/tests/rinterface\n",
            "  copying ./rpy2/tests/rinterface/test_noinitialization.py -> build/lib.linux-x86_64-3.9/rpy2/tests/rinterface\n",
            "  copying ./rpy2/tests/rinterface/test_externalptr.py -> build/lib.linux-x86_64-3.9/rpy2/tests/rinterface\n",
            "  copying ./rpy2/tests/rinterface/test_environment.py -> build/lib.linux-x86_64-3.9/rpy2/tests/rinterface\n",
            "  copying ./rpy2/tests/rinterface/test_na.py -> build/lib.linux-x86_64-3.9/rpy2/tests/rinterface\n",
            "  copying ./rpy2/tests/rinterface/test_vector_lang.py -> build/lib.linux-x86_64-3.9/rpy2/tests/rinterface\n",
            "  copying ./rpy2/tests/rinterface/test_sexp.py -> build/lib.linux-x86_64-3.9/rpy2/tests/rinterface\n",
            "  copying ./rpy2/tests/rinterface/test_vector_complex.py -> build/lib.linux-x86_64-3.9/rpy2/tests/rinterface\n",
            "  copying ./rpy2/tests/rinterface/test_threading.py -> build/lib.linux-x86_64-3.9/rpy2/tests/rinterface\n",
            "  copying ./rpy2/tests/rinterface/test_vector_numpy.py -> build/lib.linux-x86_64-3.9/rpy2/tests/rinterface\n",
            "  copying ./rpy2/tests/rinterface/test_callbacks.py -> build/lib.linux-x86_64-3.9/rpy2/tests/rinterface\n",
            "  copying ./rpy2/tests/rinterface/test_vector_pairlist.py -> build/lib.linux-x86_64-3.9/rpy2/tests/rinterface\n",
            "  copying ./rpy2/tests/rinterface/test_bufferprotocol.py -> build/lib.linux-x86_64-3.9/rpy2/tests/rinterface\n",
            "  copying ./rpy2/tests/rinterface/test_vector_list.py -> build/lib.linux-x86_64-3.9/rpy2/tests/rinterface\n",
            "  copying ./rpy2/tests/rinterface/test_vector_byte.py -> build/lib.linux-x86_64-3.9/rpy2/tests/rinterface\n",
            "  copying ./rpy2/tests/rinterface/test_vector_float.py -> build/lib.linux-x86_64-3.9/rpy2/tests/rinterface\n",
            "  copying ./rpy2/tests/rinterface/test_endr.py -> build/lib.linux-x86_64-3.9/rpy2/tests/rinterface\n",
            "  copying ./rpy2/tests/rinterface/test_memorymanagement.py -> build/lib.linux-x86_64-3.9/rpy2/tests/rinterface\n",
            "  copying ./rpy2/tests/rinterface/test_vector_str.py -> build/lib.linux-x86_64-3.9/rpy2/tests/rinterface\n",
            "  copying ./rpy2/tests/rinterface/test_openrlib.py -> build/lib.linux-x86_64-3.9/rpy2/tests/rinterface\n",
            "  copying ./rpy2/tests/rinterface/test_symbol.py -> build/lib.linux-x86_64-3.9/rpy2/tests/rinterface\n",
            "  package init file './rpy2/tests/rlike/__init__.py' not found (or not a regular file)\n",
            "  creating build/lib.linux-x86_64-3.9/rpy2/tests/rlike\n",
            "  copying ./rpy2/tests/rlike/test_container.py -> build/lib.linux-x86_64-3.9/rpy2/tests/rlike\n",
            "  copying ./rpy2/tests/rlike/test_functional.py -> build/lib.linux-x86_64-3.9/rpy2/tests/rlike\n",
            "  copying ./rpy2/tests/rlike/test_indexing.py -> build/lib.linux-x86_64-3.9/rpy2/tests/rlike\n",
            "  creating build/lib.linux-x86_64-3.9/rpy2/tests/robjects\n",
            "  copying ./rpy2/tests/robjects/test_array.py -> build/lib.linux-x86_64-3.9/rpy2/tests/robjects\n",
            "  copying ./rpy2/tests/robjects/__init__.py -> build/lib.linux-x86_64-3.9/rpy2/tests/robjects\n",
            "  copying ./rpy2/tests/robjects/test_vector_datetime.py -> build/lib.linux-x86_64-3.9/rpy2/tests/robjects\n",
            "  copying ./rpy2/tests/robjects/test_help.py -> build/lib.linux-x86_64-3.9/rpy2/tests/robjects\n",
            "  copying ./rpy2/tests/robjects/test_packages.py -> build/lib.linux-x86_64-3.9/rpy2/tests/robjects\n",
            "  copying ./rpy2/tests/robjects/test_function.py -> build/lib.linux-x86_64-3.9/rpy2/tests/robjects\n",
            "  copying ./rpy2/tests/robjects/test_environment.py -> build/lib.linux-x86_64-3.9/rpy2/tests/robjects\n",
            "  copying ./rpy2/tests/robjects/test_conversion.py -> build/lib.linux-x86_64-3.9/rpy2/tests/robjects\n",
            "  copying ./rpy2/tests/robjects/test_dataframe.py -> build/lib.linux-x86_64-3.9/rpy2/tests/robjects\n",
            "  copying ./rpy2/tests/robjects/test_pandas_conversions.py -> build/lib.linux-x86_64-3.9/rpy2/tests/robjects\n",
            "  copying ./rpy2/tests/robjects/test_methods.py -> build/lib.linux-x86_64-3.9/rpy2/tests/robjects\n",
            "  copying ./rpy2/tests/robjects/test_vector_extractdelegator.py -> build/lib.linux-x86_64-3.9/rpy2/tests/robjects\n",
            "  copying ./rpy2/tests/robjects/test_formula.py -> build/lib.linux-x86_64-3.9/rpy2/tests/robjects\n",
            "  copying ./rpy2/tests/robjects/test_rs4.py -> build/lib.linux-x86_64-3.9/rpy2/tests/robjects\n",
            "  copying ./rpy2/tests/robjects/test_vector.py -> build/lib.linux-x86_64-3.9/rpy2/tests/robjects\n",
            "  copying ./rpy2/tests/robjects/test_language.py -> build/lib.linux-x86_64-3.9/rpy2/tests/robjects\n",
            "  copying ./rpy2/tests/robjects/test_serialization.py -> build/lib.linux-x86_64-3.9/rpy2/tests/robjects\n",
            "  copying ./rpy2/tests/robjects/test_translated_function.py -> build/lib.linux-x86_64-3.9/rpy2/tests/robjects\n",
            "  copying ./rpy2/tests/robjects/test_conversion_numpy.py -> build/lib.linux-x86_64-3.9/rpy2/tests/robjects\n",
            "  copying ./rpy2/tests/robjects/test_packages_utils.py -> build/lib.linux-x86_64-3.9/rpy2/tests/robjects\n",
            "  copying ./rpy2/tests/robjects/test_vector_factor.py -> build/lib.linux-x86_64-3.9/rpy2/tests/robjects\n",
            "  copying ./rpy2/tests/robjects/test_robjects.py -> build/lib.linux-x86_64-3.9/rpy2/tests/robjects\n",
            "  creating build/lib.linux-x86_64-3.9/rpy2/tests/ipython\n",
            "  copying ./rpy2/tests/ipython/__init__.py -> build/lib.linux-x86_64-3.9/rpy2/tests/ipython\n",
            "  copying ./rpy2/tests/ipython/test_rmagic.py -> build/lib.linux-x86_64-3.9/rpy2/tests/ipython\n",
            "  copying ./rpy2/tests/ipython/test_html.py -> build/lib.linux-x86_64-3.9/rpy2/tests/ipython\n",
            "  copying ./rpy2/tests/ipython/test_ggplot.py -> build/lib.linux-x86_64-3.9/rpy2/tests/ipython\n",
            "  creating build/lib.linux-x86_64-3.9/rpy2/tests/robjects/lib\n",
            "  copying ./rpy2/tests/robjects/lib/test_grdevices.py -> build/lib.linux-x86_64-3.9/rpy2/tests/robjects/lib\n",
            "  copying ./rpy2/tests/robjects/lib/__init__.py -> build/lib.linux-x86_64-3.9/rpy2/tests/robjects/lib\n",
            "  copying ./rpy2/tests/robjects/lib/test_dplyr.py -> build/lib.linux-x86_64-3.9/rpy2/tests/robjects/lib\n",
            "  copying ./rpy2/tests/robjects/lib/test_grid.py -> build/lib.linux-x86_64-3.9/rpy2/tests/robjects/lib\n",
            "  copying ./rpy2/tests/robjects/lib/test_dbplyr.py -> build/lib.linux-x86_64-3.9/rpy2/tests/robjects/lib\n",
            "  copying ./rpy2/tests/robjects/lib/test_tidyr.py -> build/lib.linux-x86_64-3.9/rpy2/tests/robjects/lib\n",
            "  copying ./rpy2/tests/robjects/lib/test_ggplot2.py -> build/lib.linux-x86_64-3.9/rpy2/tests/robjects/lib\n",
            "  copying ./rpy2/rinterface_lib/R_API.h -> build/lib.linux-x86_64-3.9/rpy2/rinterface_lib\n",
            "  copying ./rpy2/rinterface_lib/R_API_eventloop.h -> build/lib.linux-x86_64-3.9/rpy2/rinterface_lib\n",
            "  copying ./rpy2/rinterface_lib/R_API_eventloop.c -> build/lib.linux-x86_64-3.9/rpy2/rinterface_lib\n",
            "  copying ./rpy2/rinterface_lib/RPY2.h -> build/lib.linux-x86_64-3.9/rpy2/rinterface_lib\n",
            "  file _rinterface_cffi_abi.py (for module _rinterface_cffi_abi) not found\n",
            "  generating cffi module 'build/lib.linux-x86_64-3.9/_rinterface_cffi_abi.py'\n",
            "  running build_ext\n",
            "  generating cffi module 'build/temp.linux-x86_64-3.9/_rinterface_cffi_api.c'\n",
            "  creating build/temp.linux-x86_64-3.9\n",
            "  building '_rinterface_cffi_api' extension\n",
            "  creating build/temp.linux-x86_64-3.9/build\n",
            "  creating build/temp.linux-x86_64-3.9/build/temp.linux-x86_64-3.9\n",
            "  x86_64-linux-gnu-gcc -pthread -Wno-unused-result -Wsign-compare -DNDEBUG -g -fwrapv -O2 -Wall -g -fstack-protector-strong -Wformat -Werror=format-security -g -fwrapv -O2 -g -fstack-protector-strong -Wformat -Werror=format-security -Wdate-time -D_FORTIFY_SOURCE=2 -fPIC -DRPY2_RLEN_LONG=True -DR_INTERFACE_PTRS=True -Irpy2/rinterface_lib/ -I/usr/include/python3.9 -c build/temp.linux-x86_64-3.9/_rinterface_cffi_api.c -o build/temp.linux-x86_64-3.9/build/temp.linux-x86_64-3.9/_rinterface_cffi_api.o\n",
            "  x86_64-linux-gnu-gcc -pthread -shared -Wl,-O1 -Wl,-Bsymbolic-functions -Wl,-Bsymbolic-functions -g -fwrapv -O2 -Wl,-Bsymbolic-functions -g -fwrapv -O2 -g -fstack-protector-strong -Wformat -Werror=format-security -Wdate-time -D_FORTIFY_SOURCE=2 build/temp.linux-x86_64-3.9/build/temp.linux-x86_64-3.9/_rinterface_cffi_api.o -L/usr/lib/R/lib -lR -lpcre2-8 -llzma -lbz2 -lz -lrt -ldl -lm -licuuc -licui18n -o build/lib.linux-x86_64-3.9/_rinterface_cffi_api.abi3.so -Wl,--export-dynamic -fopenmp -Wl,-Bsymbolic-functions -Wl,-z,relro\n",
            "  ---\n",
            "  CFFI_MODE.ANY\n",
            "  ABI mode interface built.\n",
            "  API mode interface built.\n",
            "  To change the API/ABI build mode, set or modify the environment variable RPY2_CFFI_MODE.\n",
            "  /usr/local/lib/python3.9/dist-packages/setuptools/command/install.py:34: SetuptoolsDeprecationWarning: setup.py install is deprecated. Use build and pip and other standards-based tools.\n",
            "    warnings.warn(\n",
            "  installing to build/bdist.linux-x86_64/wheel\n",
            "  running install\n",
            "  running install_lib\n",
            "  creating build/bdist.linux-x86_64\n",
            "  creating build/bdist.linux-x86_64/wheel\n",
            "  creating build/bdist.linux-x86_64/wheel/rpy2\n",
            "  creating build/bdist.linux-x86_64/wheel/rpy2/robjects\n",
            "  copying build/lib.linux-x86_64-3.9/rpy2/robjects/methods.py -> build/bdist.linux-x86_64/wheel/rpy2/robjects\n",
            "  copying build/lib.linux-x86_64-3.9/rpy2/robjects/environments.py -> build/bdist.linux-x86_64/wheel/rpy2/robjects\n",
            "  copying build/lib.linux-x86_64-3.9/rpy2/robjects/constants.py -> build/bdist.linux-x86_64/wheel/rpy2/robjects\n",
            "  copying build/lib.linux-x86_64-3.9/rpy2/robjects/pandas2ri.py -> build/bdist.linux-x86_64/wheel/rpy2/robjects\n",
            "  copying build/lib.linux-x86_64-3.9/rpy2/robjects/__init__.py -> build/bdist.linux-x86_64/wheel/rpy2/robjects\n",
            "  copying build/lib.linux-x86_64-3.9/rpy2/robjects/packages.py -> build/bdist.linux-x86_64/wheel/rpy2/robjects\n",
            "  creating build/bdist.linux-x86_64/wheel/rpy2/robjects/lib\n",
            "  copying build/lib.linux-x86_64-3.9/rpy2/robjects/lib/__init__.py -> build/bdist.linux-x86_64/wheel/rpy2/robjects/lib\n",
            "  copying build/lib.linux-x86_64-3.9/rpy2/robjects/lib/grdevices.py -> build/bdist.linux-x86_64/wheel/rpy2/robjects/lib\n",
            "  copying build/lib.linux-x86_64-3.9/rpy2/robjects/lib/dplyr.py -> build/bdist.linux-x86_64/wheel/rpy2/robjects/lib\n",
            "  copying build/lib.linux-x86_64-3.9/rpy2/robjects/lib/tidyr.py -> build/bdist.linux-x86_64/wheel/rpy2/robjects/lib\n",
            "  copying build/lib.linux-x86_64-3.9/rpy2/robjects/lib/grid.py -> build/bdist.linux-x86_64/wheel/rpy2/robjects/lib\n",
            "  copying build/lib.linux-x86_64-3.9/rpy2/robjects/lib/ggplot2.py -> build/bdist.linux-x86_64/wheel/rpy2/robjects/lib\n",
            "  copying build/lib.linux-x86_64-3.9/rpy2/robjects/lib/dbplyr.py -> build/bdist.linux-x86_64/wheel/rpy2/robjects/lib\n",
            "  copying build/lib.linux-x86_64-3.9/rpy2/robjects/language.py -> build/bdist.linux-x86_64/wheel/rpy2/robjects\n",
            "  copying build/lib.linux-x86_64-3.9/rpy2/robjects/conversion.py -> build/bdist.linux-x86_64/wheel/rpy2/robjects\n",
            "  copying build/lib.linux-x86_64-3.9/rpy2/robjects/help.py -> build/bdist.linux-x86_64/wheel/rpy2/robjects\n",
            "  copying build/lib.linux-x86_64-3.9/rpy2/robjects/numpy2ri.py -> build/bdist.linux-x86_64/wheel/rpy2/robjects\n",
            "  copying build/lib.linux-x86_64-3.9/rpy2/robjects/robject.py -> build/bdist.linux-x86_64/wheel/rpy2/robjects\n",
            "  copying build/lib.linux-x86_64-3.9/rpy2/robjects/packages_utils.py -> build/bdist.linux-x86_64/wheel/rpy2/robjects\n",
            "  copying build/lib.linux-x86_64-3.9/rpy2/robjects/vectors.py -> build/bdist.linux-x86_64/wheel/rpy2/robjects\n",
            "  copying build/lib.linux-x86_64-3.9/rpy2/robjects/functions.py -> build/bdist.linux-x86_64/wheel/rpy2/robjects\n",
            "  copying build/lib.linux-x86_64-3.9/rpy2/__init__.py -> build/bdist.linux-x86_64/wheel/rpy2\n",
            "  creating build/bdist.linux-x86_64/wheel/rpy2/ipython\n",
            "  copying build/lib.linux-x86_64-3.9/rpy2/ipython/rmagic.py -> build/bdist.linux-x86_64/wheel/rpy2/ipython\n",
            "  copying build/lib.linux-x86_64-3.9/rpy2/ipython/__init__.py -> build/bdist.linux-x86_64/wheel/rpy2/ipython\n",
            "  copying build/lib.linux-x86_64-3.9/rpy2/ipython/ggplot.py -> build/bdist.linux-x86_64/wheel/rpy2/ipython\n",
            "  copying build/lib.linux-x86_64-3.9/rpy2/ipython/html.py -> build/bdist.linux-x86_64/wheel/rpy2/ipython\n",
            "  copying build/lib.linux-x86_64-3.9/rpy2/rinterface.py -> build/bdist.linux-x86_64/wheel/rpy2\n",
            "  copying build/lib.linux-x86_64-3.9/rpy2/_rinterface_cffi_build.py -> build/bdist.linux-x86_64/wheel/rpy2\n",
            "  creating build/bdist.linux-x86_64/wheel/rpy2/rinterface_lib\n",
            "  copying build/lib.linux-x86_64-3.9/rpy2/rinterface_lib/embedded_mswin.py -> build/bdist.linux-x86_64/wheel/rpy2/rinterface_lib\n",
            "  copying build/lib.linux-x86_64-3.9/rpy2/rinterface_lib/__init__.py -> build/bdist.linux-x86_64/wheel/rpy2/rinterface_lib\n",
            "  copying build/lib.linux-x86_64-3.9/rpy2/rinterface_lib/ffi_proxy.py -> build/bdist.linux-x86_64/wheel/rpy2/rinterface_lib\n",
            "  copying build/lib.linux-x86_64-3.9/rpy2/rinterface_lib/embedded.py -> build/bdist.linux-x86_64/wheel/rpy2/rinterface_lib\n",
            "  copying build/lib.linux-x86_64-3.9/rpy2/rinterface_lib/sexp.py -> build/bdist.linux-x86_64/wheel/rpy2/rinterface_lib\n",
            "  copying build/lib.linux-x86_64-3.9/rpy2/rinterface_lib/RPY2.h -> build/bdist.linux-x86_64/wheel/rpy2/rinterface_lib\n",
            "  copying build/lib.linux-x86_64-3.9/rpy2/rinterface_lib/conversion.py -> build/bdist.linux-x86_64/wheel/rpy2/rinterface_lib\n",
            "  copying build/lib.linux-x86_64-3.9/rpy2/rinterface_lib/R_API.h -> build/bdist.linux-x86_64/wheel/rpy2/rinterface_lib\n",
            "  copying build/lib.linux-x86_64-3.9/rpy2/rinterface_lib/memorymanagement.py -> build/bdist.linux-x86_64/wheel/rpy2/rinterface_lib\n",
            "  copying build/lib.linux-x86_64-3.9/rpy2/rinterface_lib/R_API_eventloop.h -> build/bdist.linux-x86_64/wheel/rpy2/rinterface_lib\n",
            "  copying build/lib.linux-x86_64-3.9/rpy2/rinterface_lib/_rinterface_capi.py -> build/bdist.linux-x86_64/wheel/rpy2/rinterface_lib\n",
            "  copying build/lib.linux-x86_64-3.9/rpy2/rinterface_lib/na_values.py -> build/bdist.linux-x86_64/wheel/rpy2/rinterface_lib\n",
            "  copying build/lib.linux-x86_64-3.9/rpy2/rinterface_lib/openrlib.py -> build/bdist.linux-x86_64/wheel/rpy2/rinterface_lib\n",
            "  copying build/lib.linux-x86_64-3.9/rpy2/rinterface_lib/bufferprotocol.py -> build/bdist.linux-x86_64/wheel/rpy2/rinterface_lib\n",
            "  copying build/lib.linux-x86_64-3.9/rpy2/rinterface_lib/callbacks.py -> build/bdist.linux-x86_64/wheel/rpy2/rinterface_lib\n",
            "  copying build/lib.linux-x86_64-3.9/rpy2/rinterface_lib/R_API_eventloop.c -> build/bdist.linux-x86_64/wheel/rpy2/rinterface_lib\n",
            "  creating build/bdist.linux-x86_64/wheel/rpy2/interactive\n",
            "  copying build/lib.linux-x86_64-3.9/rpy2/interactive/__init__.py -> build/bdist.linux-x86_64/wheel/rpy2/interactive\n",
            "  copying build/lib.linux-x86_64-3.9/rpy2/interactive/packages.py -> build/bdist.linux-x86_64/wheel/rpy2/interactive\n",
            "  copying build/lib.linux-x86_64-3.9/rpy2/interactive/process_revents.py -> build/bdist.linux-x86_64/wheel/rpy2/interactive\n",
            "  creating build/bdist.linux-x86_64/wheel/rpy2/tests\n",
            "  creating build/bdist.linux-x86_64/wheel/rpy2/tests/robjects\n",
            "  copying build/lib.linux-x86_64-3.9/rpy2/tests/robjects/test_array.py -> build/bdist.linux-x86_64/wheel/rpy2/tests/robjects\n",
            "  copying build/lib.linux-x86_64-3.9/rpy2/tests/robjects/__init__.py -> build/bdist.linux-x86_64/wheel/rpy2/tests/robjects\n",
            "  copying build/lib.linux-x86_64-3.9/rpy2/tests/robjects/test_vector_datetime.py -> build/bdist.linux-x86_64/wheel/rpy2/tests/robjects\n",
            "  creating build/bdist.linux-x86_64/wheel/rpy2/tests/robjects/lib\n",
            "  copying build/lib.linux-x86_64-3.9/rpy2/tests/robjects/lib/test_grdevices.py -> build/bdist.linux-x86_64/wheel/rpy2/tests/robjects/lib\n",
            "  copying build/lib.linux-x86_64-3.9/rpy2/tests/robjects/lib/__init__.py -> build/bdist.linux-x86_64/wheel/rpy2/tests/robjects/lib\n",
            "  copying build/lib.linux-x86_64-3.9/rpy2/tests/robjects/lib/test_dplyr.py -> build/bdist.linux-x86_64/wheel/rpy2/tests/robjects/lib\n",
            "  copying build/lib.linux-x86_64-3.9/rpy2/tests/robjects/lib/test_grid.py -> build/bdist.linux-x86_64/wheel/rpy2/tests/robjects/lib\n",
            "  copying build/lib.linux-x86_64-3.9/rpy2/tests/robjects/lib/test_dbplyr.py -> build/bdist.linux-x86_64/wheel/rpy2/tests/robjects/lib\n",
            "  copying build/lib.linux-x86_64-3.9/rpy2/tests/robjects/lib/test_tidyr.py -> build/bdist.linux-x86_64/wheel/rpy2/tests/robjects/lib\n",
            "  copying build/lib.linux-x86_64-3.9/rpy2/tests/robjects/lib/test_ggplot2.py -> build/bdist.linux-x86_64/wheel/rpy2/tests/robjects/lib\n",
            "  copying build/lib.linux-x86_64-3.9/rpy2/tests/robjects/test_help.py -> build/bdist.linux-x86_64/wheel/rpy2/tests/robjects\n",
            "  copying build/lib.linux-x86_64-3.9/rpy2/tests/robjects/test_packages.py -> build/bdist.linux-x86_64/wheel/rpy2/tests/robjects\n",
            "  copying build/lib.linux-x86_64-3.9/rpy2/tests/robjects/test_function.py -> build/bdist.linux-x86_64/wheel/rpy2/tests/robjects\n",
            "  copying build/lib.linux-x86_64-3.9/rpy2/tests/robjects/test_environment.py -> build/bdist.linux-x86_64/wheel/rpy2/tests/robjects\n",
            "  copying build/lib.linux-x86_64-3.9/rpy2/tests/robjects/test_conversion.py -> build/bdist.linux-x86_64/wheel/rpy2/tests/robjects\n",
            "  copying build/lib.linux-x86_64-3.9/rpy2/tests/robjects/test_dataframe.py -> build/bdist.linux-x86_64/wheel/rpy2/tests/robjects\n",
            "  copying build/lib.linux-x86_64-3.9/rpy2/tests/robjects/test_pandas_conversions.py -> build/bdist.linux-x86_64/wheel/rpy2/tests/robjects\n",
            "  copying build/lib.linux-x86_64-3.9/rpy2/tests/robjects/test_methods.py -> build/bdist.linux-x86_64/wheel/rpy2/tests/robjects\n",
            "  copying build/lib.linux-x86_64-3.9/rpy2/tests/robjects/test_vector_extractdelegator.py -> build/bdist.linux-x86_64/wheel/rpy2/tests/robjects\n",
            "  copying build/lib.linux-x86_64-3.9/rpy2/tests/robjects/test_formula.py -> build/bdist.linux-x86_64/wheel/rpy2/tests/robjects\n",
            "  copying build/lib.linux-x86_64-3.9/rpy2/tests/robjects/test_rs4.py -> build/bdist.linux-x86_64/wheel/rpy2/tests/robjects\n",
            "  copying build/lib.linux-x86_64-3.9/rpy2/tests/robjects/test_vector.py -> build/bdist.linux-x86_64/wheel/rpy2/tests/robjects\n",
            "  copying build/lib.linux-x86_64-3.9/rpy2/tests/robjects/test_language.py -> build/bdist.linux-x86_64/wheel/rpy2/tests/robjects\n",
            "  copying build/lib.linux-x86_64-3.9/rpy2/tests/robjects/test_serialization.py -> build/bdist.linux-x86_64/wheel/rpy2/tests/robjects\n",
            "  copying build/lib.linux-x86_64-3.9/rpy2/tests/robjects/test_translated_function.py -> build/bdist.linux-x86_64/wheel/rpy2/tests/robjects\n",
            "  copying build/lib.linux-x86_64-3.9/rpy2/tests/robjects/test_conversion_numpy.py -> build/bdist.linux-x86_64/wheel/rpy2/tests/robjects\n",
            "  copying build/lib.linux-x86_64-3.9/rpy2/tests/robjects/test_packages_utils.py -> build/bdist.linux-x86_64/wheel/rpy2/tests/robjects\n",
            "  copying build/lib.linux-x86_64-3.9/rpy2/tests/robjects/test_vector_factor.py -> build/bdist.linux-x86_64/wheel/rpy2/tests/robjects\n",
            "  copying build/lib.linux-x86_64-3.9/rpy2/tests/robjects/test_robjects.py -> build/bdist.linux-x86_64/wheel/rpy2/tests/robjects\n",
            "  copying build/lib.linux-x86_64-3.9/rpy2/tests/__init__.py -> build/bdist.linux-x86_64/wheel/rpy2/tests\n",
            "  creating build/bdist.linux-x86_64/wheel/rpy2/tests/ipython\n",
            "  copying build/lib.linux-x86_64-3.9/rpy2/tests/ipython/__init__.py -> build/bdist.linux-x86_64/wheel/rpy2/tests/ipython\n",
            "  copying build/lib.linux-x86_64-3.9/rpy2/tests/ipython/test_rmagic.py -> build/bdist.linux-x86_64/wheel/rpy2/tests/ipython\n",
            "  copying build/lib.linux-x86_64-3.9/rpy2/tests/ipython/test_html.py -> build/bdist.linux-x86_64/wheel/rpy2/tests/ipython\n",
            "  copying build/lib.linux-x86_64-3.9/rpy2/tests/ipython/test_ggplot.py -> build/bdist.linux-x86_64/wheel/rpy2/tests/ipython\n",
            "  copying build/lib.linux-x86_64-3.9/rpy2/tests/utils.py -> build/bdist.linux-x86_64/wheel/rpy2/tests\n",
            "  creating build/bdist.linux-x86_64/wheel/rpy2/tests/rinterface\n",
            "  copying build/lib.linux-x86_64-3.9/rpy2/tests/rinterface/test_functions.py -> build/bdist.linux-x86_64/wheel/rpy2/tests/rinterface\n",
            "  copying build/lib.linux-x86_64-3.9/rpy2/tests/rinterface/test_vector_int.py -> build/bdist.linux-x86_64/wheel/rpy2/tests/rinterface\n",
            "  copying build/lib.linux-x86_64-3.9/rpy2/tests/rinterface/test_embedded_r.py -> build/bdist.linux-x86_64/wheel/rpy2/tests/rinterface\n",
            "  copying build/lib.linux-x86_64-3.9/rpy2/tests/rinterface/__init__.py -> build/bdist.linux-x86_64/wheel/rpy2/tests/rinterface\n",
            "  copying build/lib.linux-x86_64-3.9/rpy2/tests/rinterface/test_vector_bool.py -> build/bdist.linux-x86_64/wheel/rpy2/tests/rinterface\n",
            "  copying build/lib.linux-x86_64-3.9/rpy2/tests/rinterface/test_vectors.py -> build/bdist.linux-x86_64/wheel/rpy2/tests/rinterface\n",
            "  copying build/lib.linux-x86_64-3.9/rpy2/tests/rinterface/test_noinitialization.py -> build/bdist.linux-x86_64/wheel/rpy2/tests/rinterface\n",
            "  copying build/lib.linux-x86_64-3.9/rpy2/tests/rinterface/test_externalptr.py -> build/bdist.linux-x86_64/wheel/rpy2/tests/rinterface\n",
            "  copying build/lib.linux-x86_64-3.9/rpy2/tests/rinterface/test_environment.py -> build/bdist.linux-x86_64/wheel/rpy2/tests/rinterface\n",
            "  copying build/lib.linux-x86_64-3.9/rpy2/tests/rinterface/test_na.py -> build/bdist.linux-x86_64/wheel/rpy2/tests/rinterface\n",
            "  copying build/lib.linux-x86_64-3.9/rpy2/tests/rinterface/test_vector_lang.py -> build/bdist.linux-x86_64/wheel/rpy2/tests/rinterface\n",
            "  copying build/lib.linux-x86_64-3.9/rpy2/tests/rinterface/test_sexp.py -> build/bdist.linux-x86_64/wheel/rpy2/tests/rinterface\n",
            "  copying build/lib.linux-x86_64-3.9/rpy2/tests/rinterface/test_vector_complex.py -> build/bdist.linux-x86_64/wheel/rpy2/tests/rinterface\n",
            "  copying build/lib.linux-x86_64-3.9/rpy2/tests/rinterface/test_threading.py -> build/bdist.linux-x86_64/wheel/rpy2/tests/rinterface\n",
            "  copying build/lib.linux-x86_64-3.9/rpy2/tests/rinterface/test_vector_numpy.py -> build/bdist.linux-x86_64/wheel/rpy2/tests/rinterface\n",
            "  copying build/lib.linux-x86_64-3.9/rpy2/tests/rinterface/test_callbacks.py -> build/bdist.linux-x86_64/wheel/rpy2/tests/rinterface\n",
            "  copying build/lib.linux-x86_64-3.9/rpy2/tests/rinterface/test_vector_pairlist.py -> build/bdist.linux-x86_64/wheel/rpy2/tests/rinterface\n",
            "  copying build/lib.linux-x86_64-3.9/rpy2/tests/rinterface/test_bufferprotocol.py -> build/bdist.linux-x86_64/wheel/rpy2/tests/rinterface\n",
            "  copying build/lib.linux-x86_64-3.9/rpy2/tests/rinterface/test_vector_list.py -> build/bdist.linux-x86_64/wheel/rpy2/tests/rinterface\n",
            "  copying build/lib.linux-x86_64-3.9/rpy2/tests/rinterface/test_vector_byte.py -> build/bdist.linux-x86_64/wheel/rpy2/tests/rinterface\n",
            "  copying build/lib.linux-x86_64-3.9/rpy2/tests/rinterface/test_vector_float.py -> build/bdist.linux-x86_64/wheel/rpy2/tests/rinterface\n",
            "  copying build/lib.linux-x86_64-3.9/rpy2/tests/rinterface/test_endr.py -> build/bdist.linux-x86_64/wheel/rpy2/tests/rinterface\n",
            "  copying build/lib.linux-x86_64-3.9/rpy2/tests/rinterface/test_memorymanagement.py -> build/bdist.linux-x86_64/wheel/rpy2/tests/rinterface\n",
            "  copying build/lib.linux-x86_64-3.9/rpy2/tests/rinterface/test_vector_str.py -> build/bdist.linux-x86_64/wheel/rpy2/tests/rinterface\n",
            "  copying build/lib.linux-x86_64-3.9/rpy2/tests/rinterface/test_openrlib.py -> build/bdist.linux-x86_64/wheel/rpy2/tests/rinterface\n",
            "  copying build/lib.linux-x86_64-3.9/rpy2/tests/rinterface/test_symbol.py -> build/bdist.linux-x86_64/wheel/rpy2/tests/rinterface\n",
            "  creating build/bdist.linux-x86_64/wheel/rpy2/tests/rlike\n",
            "  copying build/lib.linux-x86_64-3.9/rpy2/tests/rlike/test_container.py -> build/bdist.linux-x86_64/wheel/rpy2/tests/rlike\n",
            "  copying build/lib.linux-x86_64-3.9/rpy2/tests/rlike/test_functional.py -> build/bdist.linux-x86_64/wheel/rpy2/tests/rlike\n",
            "  copying build/lib.linux-x86_64-3.9/rpy2/tests/rlike/test_indexing.py -> build/bdist.linux-x86_64/wheel/rpy2/tests/rlike\n",
            "  copying build/lib.linux-x86_64-3.9/rpy2/situation.py -> build/bdist.linux-x86_64/wheel/rpy2\n",
            "  creating build/bdist.linux-x86_64/wheel/rpy2/rlike\n",
            "  copying build/lib.linux-x86_64-3.9/rpy2/rlike/indexing.py -> build/bdist.linux-x86_64/wheel/rpy2/rlike\n",
            "  copying build/lib.linux-x86_64-3.9/rpy2/rlike/__init__.py -> build/bdist.linux-x86_64/wheel/rpy2/rlike\n",
            "  copying build/lib.linux-x86_64-3.9/rpy2/rlike/container.py -> build/bdist.linux-x86_64/wheel/rpy2/rlike\n",
            "  copying build/lib.linux-x86_64-3.9/rpy2/rlike/functional.py -> build/bdist.linux-x86_64/wheel/rpy2/rlike\n",
            "  copying build/lib.linux-x86_64-3.9/_rinterface_cffi_abi.py -> build/bdist.linux-x86_64/wheel\n",
            "  copying build/lib.linux-x86_64-3.9/_rinterface_cffi_api.abi3.so -> build/bdist.linux-x86_64/wheel\n",
            "  running install_egg_info\n",
            "  running egg_info\n",
            "  writing rpy2.egg-info/PKG-INFO\n",
            "  writing dependency_links to rpy2.egg-info/dependency_links.txt\n",
            "  writing requirements to rpy2.egg-info/requires.txt\n",
            "  writing top-level names to rpy2.egg-info/top_level.txt\n",
            "  reading manifest file 'rpy2.egg-info/SOURCES.txt'\n",
            "  reading manifest template 'MANIFEST.in'\n",
            "  warning: no files found matching 'README' anywhere in distribution\n",
            "  warning: no previously-included files matching '*patch*' found anywhere in distribution\n",
            "  warning: no previously-included files matching '*diff*' found anywhere in distribution\n",
            "  warning: no previously-included files matching '.hg' found anywhere in distribution\n",
            "  warning: no files found matching 'MANIFEST'\n",
            "  warning: no files found matching '_rinterface_cffi_build'\n",
            "  warning: no files found matching 'rpy/__init__.py'\n",
            "  warning: no files found matching 'rpy/situation.py'\n",
            "  warning: no files found matching '*.py' under directory 'rpy/robjects'\n",
            "  warning: no files found matching '*.py' under directory 'rpy/ipython'\n",
            "  warning: no files found matching '*.py' under directory 'rpy/interactive'\n",
            "  warning: no files found matching '*.py' under directory 'rpy/rlike'\n",
            "  no previously-included directories found matching 'dist'\n",
            "  warning: no files found matching 'doc/source/rpy2_logo.png'\n",
            "  adding license file 'AUTHORS'\n",
            "  writing manifest file 'rpy2.egg-info/SOURCES.txt'\n",
            "  Copying rpy2.egg-info to build/bdist.linux-x86_64/wheel/rpy2-3.4.2-py3.9.egg-info\n",
            "  running install_scripts\n",
            "  creating build/bdist.linux-x86_64/wheel/rpy2-3.4.2.dist-info/WHEEL\n",
            "  creating '/tmp/pip-wheel-gzqr7d1g/rpy2-3.4.2-cp39-cp39-linux_x86_64.whl' and adding 'build/bdist.linux-x86_64/wheel' to it\n",
            "  adding '_rinterface_cffi_abi.py'\n",
            "  adding '_rinterface_cffi_api.abi3.so'\n",
            "  adding 'rpy2/__init__.py'\n",
            "  adding 'rpy2/_rinterface_cffi_build.py'\n",
            "  adding 'rpy2/rinterface.py'\n",
            "  adding 'rpy2/situation.py'\n",
            "  adding 'rpy2/interactive/__init__.py'\n",
            "  adding 'rpy2/interactive/packages.py'\n",
            "  adding 'rpy2/interactive/process_revents.py'\n",
            "  adding 'rpy2/ipython/__init__.py'\n",
            "  adding 'rpy2/ipython/ggplot.py'\n",
            "  adding 'rpy2/ipython/html.py'\n",
            "  adding 'rpy2/ipython/rmagic.py'\n",
            "  adding 'rpy2/rinterface_lib/RPY2.h'\n",
            "  adding 'rpy2/rinterface_lib/R_API.h'\n",
            "  adding 'rpy2/rinterface_lib/R_API_eventloop.c'\n",
            "  adding 'rpy2/rinterface_lib/R_API_eventloop.h'\n",
            "  adding 'rpy2/rinterface_lib/__init__.py'\n",
            "  adding 'rpy2/rinterface_lib/_rinterface_capi.py'\n",
            "  adding 'rpy2/rinterface_lib/bufferprotocol.py'\n",
            "  adding 'rpy2/rinterface_lib/callbacks.py'\n",
            "  adding 'rpy2/rinterface_lib/conversion.py'\n",
            "  adding 'rpy2/rinterface_lib/embedded.py'\n",
            "  adding 'rpy2/rinterface_lib/embedded_mswin.py'\n",
            "  adding 'rpy2/rinterface_lib/ffi_proxy.py'\n",
            "  adding 'rpy2/rinterface_lib/memorymanagement.py'\n",
            "  adding 'rpy2/rinterface_lib/na_values.py'\n",
            "  adding 'rpy2/rinterface_lib/openrlib.py'\n",
            "  adding 'rpy2/rinterface_lib/sexp.py'\n",
            "  adding 'rpy2/rlike/__init__.py'\n",
            "  adding 'rpy2/rlike/container.py'\n",
            "  adding 'rpy2/rlike/functional.py'\n",
            "  adding 'rpy2/rlike/indexing.py'\n",
            "  adding 'rpy2/robjects/__init__.py'\n",
            "  adding 'rpy2/robjects/constants.py'\n",
            "  adding 'rpy2/robjects/conversion.py'\n",
            "  adding 'rpy2/robjects/environments.py'\n",
            "  adding 'rpy2/robjects/functions.py'\n",
            "  adding 'rpy2/robjects/help.py'\n",
            "  adding 'rpy2/robjects/language.py'\n",
            "  adding 'rpy2/robjects/methods.py'\n",
            "  adding 'rpy2/robjects/numpy2ri.py'\n",
            "  adding 'rpy2/robjects/packages.py'\n",
            "  adding 'rpy2/robjects/packages_utils.py'\n",
            "  adding 'rpy2/robjects/pandas2ri.py'\n",
            "  adding 'rpy2/robjects/robject.py'\n",
            "  adding 'rpy2/robjects/vectors.py'\n",
            "  adding 'rpy2/robjects/lib/__init__.py'\n",
            "  adding 'rpy2/robjects/lib/dbplyr.py'\n",
            "  adding 'rpy2/robjects/lib/dplyr.py'\n",
            "  adding 'rpy2/robjects/lib/ggplot2.py'\n",
            "  adding 'rpy2/robjects/lib/grdevices.py'\n",
            "  adding 'rpy2/robjects/lib/grid.py'\n",
            "  adding 'rpy2/robjects/lib/tidyr.py'\n",
            "  adding 'rpy2/tests/__init__.py'\n",
            "  adding 'rpy2/tests/utils.py'\n",
            "  adding 'rpy2/tests/ipython/__init__.py'\n",
            "  adding 'rpy2/tests/ipython/test_ggplot.py'\n",
            "  adding 'rpy2/tests/ipython/test_html.py'\n",
            "  adding 'rpy2/tests/ipython/test_rmagic.py'\n",
            "  adding 'rpy2/tests/rinterface/__init__.py'\n",
            "  adding 'rpy2/tests/rinterface/test_bufferprotocol.py'\n",
            "  adding 'rpy2/tests/rinterface/test_callbacks.py'\n",
            "  adding 'rpy2/tests/rinterface/test_embedded_r.py'\n",
            "  adding 'rpy2/tests/rinterface/test_endr.py'\n",
            "  adding 'rpy2/tests/rinterface/test_environment.py'\n",
            "  adding 'rpy2/tests/rinterface/test_externalptr.py'\n",
            "  adding 'rpy2/tests/rinterface/test_functions.py'\n",
            "  adding 'rpy2/tests/rinterface/test_memorymanagement.py'\n",
            "  adding 'rpy2/tests/rinterface/test_na.py'\n",
            "  adding 'rpy2/tests/rinterface/test_noinitialization.py'\n",
            "  adding 'rpy2/tests/rinterface/test_openrlib.py'\n",
            "  adding 'rpy2/tests/rinterface/test_sexp.py'\n",
            "  adding 'rpy2/tests/rinterface/test_symbol.py'\n",
            "  adding 'rpy2/tests/rinterface/test_threading.py'\n",
            "  adding 'rpy2/tests/rinterface/test_vector_bool.py'\n",
            "  adding 'rpy2/tests/rinterface/test_vector_byte.py'\n",
            "  adding 'rpy2/tests/rinterface/test_vector_complex.py'\n",
            "  adding 'rpy2/tests/rinterface/test_vector_float.py'\n",
            "  adding 'rpy2/tests/rinterface/test_vector_int.py'\n",
            "  adding 'rpy2/tests/rinterface/test_vector_lang.py'\n",
            "  adding 'rpy2/tests/rinterface/test_vector_list.py'\n",
            "  adding 'rpy2/tests/rinterface/test_vector_numpy.py'\n",
            "  adding 'rpy2/tests/rinterface/test_vector_pairlist.py'\n",
            "  adding 'rpy2/tests/rinterface/test_vector_str.py'\n",
            "  adding 'rpy2/tests/rinterface/test_vectors.py'\n",
            "  adding 'rpy2/tests/rlike/test_container.py'\n",
            "  adding 'rpy2/tests/rlike/test_functional.py'\n",
            "  adding 'rpy2/tests/rlike/test_indexing.py'\n",
            "  adding 'rpy2/tests/robjects/__init__.py'\n",
            "  adding 'rpy2/tests/robjects/test_array.py'\n",
            "  adding 'rpy2/tests/robjects/test_conversion.py'\n",
            "  adding 'rpy2/tests/robjects/test_conversion_numpy.py'\n",
            "  adding 'rpy2/tests/robjects/test_dataframe.py'\n",
            "  adding 'rpy2/tests/robjects/test_environment.py'\n",
            "  adding 'rpy2/tests/robjects/test_formula.py'\n",
            "  adding 'rpy2/tests/robjects/test_function.py'\n",
            "  adding 'rpy2/tests/robjects/test_help.py'\n",
            "  adding 'rpy2/tests/robjects/test_language.py'\n",
            "  adding 'rpy2/tests/robjects/test_methods.py'\n",
            "  adding 'rpy2/tests/robjects/test_packages.py'\n",
            "  adding 'rpy2/tests/robjects/test_packages_utils.py'\n",
            "  adding 'rpy2/tests/robjects/test_pandas_conversions.py'\n",
            "  adding 'rpy2/tests/robjects/test_robjects.py'\n",
            "  adding 'rpy2/tests/robjects/test_rs4.py'\n",
            "  adding 'rpy2/tests/robjects/test_serialization.py'\n",
            "  adding 'rpy2/tests/robjects/test_translated_function.py'\n",
            "  adding 'rpy2/tests/robjects/test_vector.py'\n",
            "  adding 'rpy2/tests/robjects/test_vector_datetime.py'\n",
            "  adding 'rpy2/tests/robjects/test_vector_extractdelegator.py'\n",
            "  adding 'rpy2/tests/robjects/test_vector_factor.py'\n",
            "  adding 'rpy2/tests/robjects/lib/__init__.py'\n",
            "  adding 'rpy2/tests/robjects/lib/test_dbplyr.py'\n",
            "  adding 'rpy2/tests/robjects/lib/test_dplyr.py'\n",
            "  adding 'rpy2/tests/robjects/lib/test_ggplot2.py'\n",
            "  adding 'rpy2/tests/robjects/lib/test_grdevices.py'\n",
            "  adding 'rpy2/tests/robjects/lib/test_grid.py'\n",
            "  adding 'rpy2/tests/robjects/lib/test_tidyr.py'\n",
            "  adding 'rpy2-3.4.2.dist-info/AUTHORS'\n",
            "  adding 'rpy2-3.4.2.dist-info/METADATA'\n",
            "  adding 'rpy2-3.4.2.dist-info/WHEEL'\n",
            "  adding 'rpy2-3.4.2.dist-info/top_level.txt'\n",
            "  adding 'rpy2-3.4.2.dist-info/RECORD'\n",
            "  removing build/bdist.linux-x86_64/wheel\n",
            "  Building wheel for rpy2 (setup.py) ... \u001b[?25l\u001b[?25hdone\n",
            "  Created wheel for rpy2: filename=rpy2-3.4.2-cp39-cp39-linux_x86_64.whl size=289421 sha256=5857bd013b22c9c1c26c26b811aaaa70b57224938bba9198211448fa976e2685\n",
            "  Stored in directory: /root/.cache/pip/wheels/e9/6e/27/f2a628f019da0b48ff5225f30943de87add4179f34d758a0d9\n",
            "Successfully built rpy2\n",
            "Installing collected packages: pytz, tzdata, pycparser, MarkupSafe, pytz-deprecation-shim, jinja2, cffi, tzlocal, rpy2\n",
            "Successfully installed MarkupSafe-2.1.2 cffi-1.15.1 jinja2-3.1.2 pycparser-2.21 pytz-2023.3 pytz-deprecation-shim-0.1.0.post0 rpy2-3.5.5 tzdata-2023.3 tzlocal-4.3\n"
          ]
        },
        {
          "output_type": "display_data",
          "data": {
            "application/vnd.colab-display-data+json": {
              "pip_warning": {
                "packages": [
                  "cffi",
                  "pytz"
                ]
              }
            }
          },
          "metadata": {}
        }
      ]
    },
    {
      "cell_type": "code",
      "source": [
        "# También cambiamos el kernel del enviroment para que la pqueteria 'rpy2' pueda importar las librerias necesarias\n",
        "!pip install -U ipykernel==5.5.6"
      ],
      "metadata": {
        "colab": {
          "base_uri": "https://localhost:8080/"
        },
        "id": "PEZJXIMdKWwE",
        "outputId": "b077acf2-2dae-4d67-bd4b-cbb7bdfcb74c"
      },
      "id": "PEZJXIMdKWwE",
      "execution_count": 5,
      "outputs": [
        {
          "output_type": "stream",
          "name": "stdout",
          "text": [
            "Looking in indexes: https://pypi.org/simple, https://us-python.pkg.dev/colab-wheels/public/simple/\n",
            "Requirement already satisfied: ipykernel==5.5.6 in /usr/local/lib/python3.9/dist-packages (5.5.6)\n",
            "Requirement already satisfied: ipython-genutils in /usr/local/lib/python3.9/dist-packages (from ipykernel==5.5.6) (0.2.0)\n",
            "Requirement already satisfied: tornado>=4.2 in /usr/local/lib/python3.9/dist-packages (from ipykernel==5.5.6) (6.2)\n",
            "Requirement already satisfied: jupyter-client in /usr/local/lib/python3.9/dist-packages (from ipykernel==5.5.6) (6.1.12)\n",
            "Requirement already satisfied: traitlets>=4.1.0 in /usr/local/lib/python3.9/dist-packages (from ipykernel==5.5.6) (5.7.1)\n",
            "Requirement already satisfied: ipython>=5.0.0 in /usr/local/lib/python3.9/dist-packages (from ipykernel==5.5.6) (7.34.0)\n",
            "Requirement already satisfied: pexpect>4.3 in /usr/local/lib/python3.9/dist-packages (from ipython>=5.0.0->ipykernel==5.5.6) (4.8.0)\n",
            "Requirement already satisfied: pygments in /usr/local/lib/python3.9/dist-packages (from ipython>=5.0.0->ipykernel==5.5.6) (2.14.0)\n",
            "Requirement already satisfied: matplotlib-inline in /usr/local/lib/python3.9/dist-packages (from ipython>=5.0.0->ipykernel==5.5.6) (0.1.6)\n",
            "Requirement already satisfied: setuptools>=18.5 in /usr/local/lib/python3.9/dist-packages (from ipython>=5.0.0->ipykernel==5.5.6) (67.6.1)\n",
            "Collecting jedi>=0.16\n",
            "  Downloading jedi-0.18.2-py2.py3-none-any.whl (1.6 MB)\n",
            "\u001b[2K     \u001b[90m━━━━━━━━━━━━━━━━━━━━━━━━━━━━━━━━━━━━━━━━\u001b[0m \u001b[32m1.6/1.6 MB\u001b[0m \u001b[31m33.7 MB/s\u001b[0m eta \u001b[36m0:00:00\u001b[0m\n",
            "\u001b[?25hRequirement already satisfied: pickleshare in /usr/local/lib/python3.9/dist-packages (from ipython>=5.0.0->ipykernel==5.5.6) (0.7.5)\n",
            "Requirement already satisfied: prompt-toolkit!=3.0.0,!=3.0.1,<3.1.0,>=2.0.0 in /usr/local/lib/python3.9/dist-packages (from ipython>=5.0.0->ipykernel==5.5.6) (3.0.38)\n",
            "Requirement already satisfied: decorator in /usr/local/lib/python3.9/dist-packages (from ipython>=5.0.0->ipykernel==5.5.6) (4.4.2)\n",
            "Requirement already satisfied: backcall in /usr/local/lib/python3.9/dist-packages (from ipython>=5.0.0->ipykernel==5.5.6) (0.2.0)\n",
            "Requirement already satisfied: pyzmq>=13 in /usr/local/lib/python3.9/dist-packages (from jupyter-client->ipykernel==5.5.6) (23.2.1)\n",
            "Requirement already satisfied: jupyter-core>=4.6.0 in /usr/local/lib/python3.9/dist-packages (from jupyter-client->ipykernel==5.5.6) (5.3.0)\n",
            "Requirement already satisfied: python-dateutil>=2.1 in /usr/local/lib/python3.9/dist-packages (from jupyter-client->ipykernel==5.5.6) (2.8.2)\n",
            "Requirement already satisfied: parso<0.9.0,>=0.8.0 in /usr/local/lib/python3.9/dist-packages (from jedi>=0.16->ipython>=5.0.0->ipykernel==5.5.6) (0.8.3)\n",
            "Requirement already satisfied: platformdirs>=2.5 in /usr/local/lib/python3.9/dist-packages (from jupyter-core>=4.6.0->jupyter-client->ipykernel==5.5.6) (3.2.0)\n",
            "Requirement already satisfied: ptyprocess>=0.5 in /usr/local/lib/python3.9/dist-packages (from pexpect>4.3->ipython>=5.0.0->ipykernel==5.5.6) (0.7.0)\n",
            "Requirement already satisfied: wcwidth in /usr/local/lib/python3.9/dist-packages (from prompt-toolkit!=3.0.0,!=3.0.1,<3.1.0,>=2.0.0->ipython>=5.0.0->ipykernel==5.5.6) (0.2.6)\n",
            "Requirement already satisfied: six>=1.5 in /usr/local/lib/python3.9/dist-packages (from python-dateutil>=2.1->jupyter-client->ipykernel==5.5.6) (1.16.0)\n",
            "Installing collected packages: jedi\n",
            "Successfully installed jedi-0.18.2\n"
          ]
        }
      ]
    },
    {
      "cell_type": "code",
      "source": [
        "# Importamos las librerias necesarias para:\n",
        "## Llamar código de R\n",
        "import rpy2\n",
        "import rpy2.robjects as robjects\n",
        "## Imprimir los resultados en HTML notebooks\n",
        "import rpy2.ipython.html\n",
        "rpy2.ipython.html.init_printing()\n",
        "## Importar librerias de R\n",
        "from rpy2.robjects.packages import importr, data\n"
      ],
      "metadata": {
        "id": "yFYu9kE8FMad"
      },
      "id": "yFYu9kE8FMad",
      "execution_count": 7,
      "outputs": []
    },
    {
      "cell_type": "code",
      "source": [
        "# Importamos con un nombre especifico dichas librerias\n",
        "utils = importr('utils')\n",
        "base = importr('base')"
      ],
      "metadata": {
        "id": "82ZcQszfGWAY"
      },
      "id": "82ZcQszfGWAY",
      "execution_count": 8,
      "outputs": []
    },
    {
      "cell_type": "code",
      "source": [
        "# Importmoas las librerias que necesitaremos para aplicar el test de DurbinWatson\n",
        "utils.install_packages('stats')\n",
        "utils.install_packages('lmtest')\n",
        "utils.install_packages('readr')\n",
        "stats = importr('stats')\n",
        "lmtest = importr('lmtest')\n",
        "readr = importr('readr')"
      ],
      "metadata": {
        "colab": {
          "base_uri": "https://localhost:8080/"
        },
        "id": "nob0zFGfKekq",
        "outputId": "cd2f3bd4-5712-4c5c-b247-751f7a2ce40b"
      },
      "id": "nob0zFGfKekq",
      "execution_count": 9,
      "outputs": [
        {
          "output_type": "stream",
          "name": "stderr",
          "text": [
            "WARNING:rpy2.rinterface_lib.callbacks:R[write to console]: Installing package into ‘/usr/local/lib/R/site-library’\n",
            "(as ‘lib’ is unspecified)\n",
            "\n",
            "WARNING:rpy2.rinterface_lib.callbacks:R[write to console]: Installing package into ‘/usr/local/lib/R/site-library’\n",
            "(as ‘lib’ is unspecified)\n",
            "\n",
            "WARNING:rpy2.rinterface_lib.callbacks:R[write to console]: also installing the dependency ‘zoo’\n",
            "\n",
            "\n",
            "WARNING:rpy2.rinterface_lib.callbacks:R[write to console]: trying URL 'https://cran.rstudio.com/src/contrib/zoo_1.8-12.tar.gz'\n",
            "\n",
            "WARNING:rpy2.rinterface_lib.callbacks:R[write to console]: Content type 'application/x-gzip'\n",
            "WARNING:rpy2.rinterface_lib.callbacks:R[write to console]:  length 782344 bytes (764 KB)\n",
            "\n",
            "WARNING:rpy2.rinterface_lib.callbacks:R[write to console]: =\n",
            "WARNING:rpy2.rinterface_lib.callbacks:R[write to console]: =\n",
            "WARNING:rpy2.rinterface_lib.callbacks:R[write to console]: =\n",
            "WARNING:rpy2.rinterface_lib.callbacks:R[write to console]: =\n",
            "WARNING:rpy2.rinterface_lib.callbacks:R[write to console]: =\n",
            "WARNING:rpy2.rinterface_lib.callbacks:R[write to console]: =\n",
            "WARNING:rpy2.rinterface_lib.callbacks:R[write to console]: =\n",
            "WARNING:rpy2.rinterface_lib.callbacks:R[write to console]: =\n",
            "WARNING:rpy2.rinterface_lib.callbacks:R[write to console]: =\n",
            "WARNING:rpy2.rinterface_lib.callbacks:R[write to console]: =\n",
            "WARNING:rpy2.rinterface_lib.callbacks:R[write to console]: =\n",
            "WARNING:rpy2.rinterface_lib.callbacks:R[write to console]: =\n",
            "WARNING:rpy2.rinterface_lib.callbacks:R[write to console]: =\n",
            "WARNING:rpy2.rinterface_lib.callbacks:R[write to console]: =\n",
            "WARNING:rpy2.rinterface_lib.callbacks:R[write to console]: =\n",
            "WARNING:rpy2.rinterface_lib.callbacks:R[write to console]: =\n",
            "WARNING:rpy2.rinterface_lib.callbacks:R[write to console]: =\n",
            "WARNING:rpy2.rinterface_lib.callbacks:R[write to console]: =\n",
            "WARNING:rpy2.rinterface_lib.callbacks:R[write to console]: =\n",
            "WARNING:rpy2.rinterface_lib.callbacks:R[write to console]: =\n",
            "WARNING:rpy2.rinterface_lib.callbacks:R[write to console]: =\n",
            "WARNING:rpy2.rinterface_lib.callbacks:R[write to console]: =\n",
            "WARNING:rpy2.rinterface_lib.callbacks:R[write to console]: =\n",
            "WARNING:rpy2.rinterface_lib.callbacks:R[write to console]: =\n",
            "WARNING:rpy2.rinterface_lib.callbacks:R[write to console]: =\n",
            "WARNING:rpy2.rinterface_lib.callbacks:R[write to console]: =\n",
            "WARNING:rpy2.rinterface_lib.callbacks:R[write to console]: =\n",
            "WARNING:rpy2.rinterface_lib.callbacks:R[write to console]: =\n",
            "WARNING:rpy2.rinterface_lib.callbacks:R[write to console]: =\n",
            "WARNING:rpy2.rinterface_lib.callbacks:R[write to console]: =\n",
            "WARNING:rpy2.rinterface_lib.callbacks:R[write to console]: =\n",
            "WARNING:rpy2.rinterface_lib.callbacks:R[write to console]: =\n",
            "WARNING:rpy2.rinterface_lib.callbacks:R[write to console]: =\n",
            "WARNING:rpy2.rinterface_lib.callbacks:R[write to console]: =\n",
            "WARNING:rpy2.rinterface_lib.callbacks:R[write to console]: =\n",
            "WARNING:rpy2.rinterface_lib.callbacks:R[write to console]: =\n",
            "WARNING:rpy2.rinterface_lib.callbacks:R[write to console]: =\n",
            "WARNING:rpy2.rinterface_lib.callbacks:R[write to console]: =\n",
            "WARNING:rpy2.rinterface_lib.callbacks:R[write to console]: =\n",
            "WARNING:rpy2.rinterface_lib.callbacks:R[write to console]: =\n",
            "WARNING:rpy2.rinterface_lib.callbacks:R[write to console]: =\n",
            "WARNING:rpy2.rinterface_lib.callbacks:R[write to console]: =\n",
            "WARNING:rpy2.rinterface_lib.callbacks:R[write to console]: =\n",
            "WARNING:rpy2.rinterface_lib.callbacks:R[write to console]: =\n",
            "WARNING:rpy2.rinterface_lib.callbacks:R[write to console]: =\n",
            "WARNING:rpy2.rinterface_lib.callbacks:R[write to console]: =\n",
            "WARNING:rpy2.rinterface_lib.callbacks:R[write to console]: =\n",
            "WARNING:rpy2.rinterface_lib.callbacks:R[write to console]: =\n",
            "WARNING:rpy2.rinterface_lib.callbacks:R[write to console]: =\n",
            "WARNING:rpy2.rinterface_lib.callbacks:R[write to console]: =\n",
            "WARNING:rpy2.rinterface_lib.callbacks:R[write to console]: \n",
            "\n",
            "WARNING:rpy2.rinterface_lib.callbacks:R[write to console]: downloaded 764 KB\n",
            "\n",
            "\n",
            "WARNING:rpy2.rinterface_lib.callbacks:R[write to console]: trying URL 'https://cran.rstudio.com/src/contrib/lmtest_0.9-40.tar.gz'\n",
            "\n",
            "WARNING:rpy2.rinterface_lib.callbacks:R[write to console]: Content type 'application/x-gzip'\n",
            "WARNING:rpy2.rinterface_lib.callbacks:R[write to console]:  length 230313 bytes (224 KB)\n",
            "\n",
            "WARNING:rpy2.rinterface_lib.callbacks:R[write to console]: =\n",
            "WARNING:rpy2.rinterface_lib.callbacks:R[write to console]: =\n",
            "WARNING:rpy2.rinterface_lib.callbacks:R[write to console]: =\n",
            "WARNING:rpy2.rinterface_lib.callbacks:R[write to console]: =\n",
            "WARNING:rpy2.rinterface_lib.callbacks:R[write to console]: =\n",
            "WARNING:rpy2.rinterface_lib.callbacks:R[write to console]: =\n",
            "WARNING:rpy2.rinterface_lib.callbacks:R[write to console]: =\n",
            "WARNING:rpy2.rinterface_lib.callbacks:R[write to console]: =\n",
            "WARNING:rpy2.rinterface_lib.callbacks:R[write to console]: =\n",
            "WARNING:rpy2.rinterface_lib.callbacks:R[write to console]: =\n",
            "WARNING:rpy2.rinterface_lib.callbacks:R[write to console]: =\n",
            "WARNING:rpy2.rinterface_lib.callbacks:R[write to console]: =\n",
            "WARNING:rpy2.rinterface_lib.callbacks:R[write to console]: =\n",
            "WARNING:rpy2.rinterface_lib.callbacks:R[write to console]: =\n",
            "WARNING:rpy2.rinterface_lib.callbacks:R[write to console]: =\n",
            "WARNING:rpy2.rinterface_lib.callbacks:R[write to console]: =\n",
            "WARNING:rpy2.rinterface_lib.callbacks:R[write to console]: =\n",
            "WARNING:rpy2.rinterface_lib.callbacks:R[write to console]: =\n",
            "WARNING:rpy2.rinterface_lib.callbacks:R[write to console]: =\n",
            "WARNING:rpy2.rinterface_lib.callbacks:R[write to console]: =\n",
            "WARNING:rpy2.rinterface_lib.callbacks:R[write to console]: =\n",
            "WARNING:rpy2.rinterface_lib.callbacks:R[write to console]: =\n",
            "WARNING:rpy2.rinterface_lib.callbacks:R[write to console]: =\n",
            "WARNING:rpy2.rinterface_lib.callbacks:R[write to console]: =\n",
            "WARNING:rpy2.rinterface_lib.callbacks:R[write to console]: =\n",
            "WARNING:rpy2.rinterface_lib.callbacks:R[write to console]: =\n",
            "WARNING:rpy2.rinterface_lib.callbacks:R[write to console]: =\n",
            "WARNING:rpy2.rinterface_lib.callbacks:R[write to console]: =\n",
            "WARNING:rpy2.rinterface_lib.callbacks:R[write to console]: =\n",
            "WARNING:rpy2.rinterface_lib.callbacks:R[write to console]: =\n",
            "WARNING:rpy2.rinterface_lib.callbacks:R[write to console]: =\n",
            "WARNING:rpy2.rinterface_lib.callbacks:R[write to console]: =\n",
            "WARNING:rpy2.rinterface_lib.callbacks:R[write to console]: =\n",
            "WARNING:rpy2.rinterface_lib.callbacks:R[write to console]: =\n",
            "WARNING:rpy2.rinterface_lib.callbacks:R[write to console]: =\n",
            "WARNING:rpy2.rinterface_lib.callbacks:R[write to console]: =\n",
            "WARNING:rpy2.rinterface_lib.callbacks:R[write to console]: =\n",
            "WARNING:rpy2.rinterface_lib.callbacks:R[write to console]: =\n",
            "WARNING:rpy2.rinterface_lib.callbacks:R[write to console]: =\n",
            "WARNING:rpy2.rinterface_lib.callbacks:R[write to console]: =\n",
            "WARNING:rpy2.rinterface_lib.callbacks:R[write to console]: =\n",
            "WARNING:rpy2.rinterface_lib.callbacks:R[write to console]: =\n",
            "WARNING:rpy2.rinterface_lib.callbacks:R[write to console]: =\n",
            "WARNING:rpy2.rinterface_lib.callbacks:R[write to console]: =\n",
            "WARNING:rpy2.rinterface_lib.callbacks:R[write to console]: =\n",
            "WARNING:rpy2.rinterface_lib.callbacks:R[write to console]: =\n",
            "WARNING:rpy2.rinterface_lib.callbacks:R[write to console]: =\n",
            "WARNING:rpy2.rinterface_lib.callbacks:R[write to console]: =\n",
            "WARNING:rpy2.rinterface_lib.callbacks:R[write to console]: =\n",
            "WARNING:rpy2.rinterface_lib.callbacks:R[write to console]: =\n",
            "WARNING:rpy2.rinterface_lib.callbacks:R[write to console]: \n",
            "\n",
            "WARNING:rpy2.rinterface_lib.callbacks:R[write to console]: downloaded 224 KB\n",
            "\n",
            "\n",
            "WARNING:rpy2.rinterface_lib.callbacks:R[write to console]: \n",
            "\n",
            "WARNING:rpy2.rinterface_lib.callbacks:R[write to console]: \n",
            "WARNING:rpy2.rinterface_lib.callbacks:R[write to console]: The downloaded source packages are in\n",
            "\t‘/tmp/RtmpKsc6OW/downloaded_packages’\n",
            "WARNING:rpy2.rinterface_lib.callbacks:R[write to console]: \n",
            "WARNING:rpy2.rinterface_lib.callbacks:R[write to console]: \n",
            "\n",
            "WARNING:rpy2.rinterface_lib.callbacks:R[write to console]: Installing package into ‘/usr/local/lib/R/site-library’\n",
            "(as ‘lib’ is unspecified)\n",
            "\n",
            "WARNING:rpy2.rinterface_lib.callbacks:R[write to console]: trying URL 'https://cran.rstudio.com/src/contrib/readr_2.1.4.tar.gz'\n",
            "\n",
            "WARNING:rpy2.rinterface_lib.callbacks:R[write to console]: Content type 'application/x-gzip'\n",
            "WARNING:rpy2.rinterface_lib.callbacks:R[write to console]:  length 298083 bytes (291 KB)\n",
            "\n",
            "WARNING:rpy2.rinterface_lib.callbacks:R[write to console]: =\n",
            "WARNING:rpy2.rinterface_lib.callbacks:R[write to console]: =\n",
            "WARNING:rpy2.rinterface_lib.callbacks:R[write to console]: =\n",
            "WARNING:rpy2.rinterface_lib.callbacks:R[write to console]: =\n",
            "WARNING:rpy2.rinterface_lib.callbacks:R[write to console]: =\n",
            "WARNING:rpy2.rinterface_lib.callbacks:R[write to console]: =\n",
            "WARNING:rpy2.rinterface_lib.callbacks:R[write to console]: =\n",
            "WARNING:rpy2.rinterface_lib.callbacks:R[write to console]: =\n",
            "WARNING:rpy2.rinterface_lib.callbacks:R[write to console]: =\n",
            "WARNING:rpy2.rinterface_lib.callbacks:R[write to console]: =\n",
            "WARNING:rpy2.rinterface_lib.callbacks:R[write to console]: =\n",
            "WARNING:rpy2.rinterface_lib.callbacks:R[write to console]: =\n",
            "WARNING:rpy2.rinterface_lib.callbacks:R[write to console]: =\n",
            "WARNING:rpy2.rinterface_lib.callbacks:R[write to console]: =\n",
            "WARNING:rpy2.rinterface_lib.callbacks:R[write to console]: =\n",
            "WARNING:rpy2.rinterface_lib.callbacks:R[write to console]: =\n",
            "WARNING:rpy2.rinterface_lib.callbacks:R[write to console]: =\n",
            "WARNING:rpy2.rinterface_lib.callbacks:R[write to console]: =\n",
            "WARNING:rpy2.rinterface_lib.callbacks:R[write to console]: =\n",
            "WARNING:rpy2.rinterface_lib.callbacks:R[write to console]: =\n",
            "WARNING:rpy2.rinterface_lib.callbacks:R[write to console]: =\n",
            "WARNING:rpy2.rinterface_lib.callbacks:R[write to console]: =\n",
            "WARNING:rpy2.rinterface_lib.callbacks:R[write to console]: =\n",
            "WARNING:rpy2.rinterface_lib.callbacks:R[write to console]: =\n",
            "WARNING:rpy2.rinterface_lib.callbacks:R[write to console]: =\n",
            "WARNING:rpy2.rinterface_lib.callbacks:R[write to console]: =\n",
            "WARNING:rpy2.rinterface_lib.callbacks:R[write to console]: =\n",
            "WARNING:rpy2.rinterface_lib.callbacks:R[write to console]: =\n",
            "WARNING:rpy2.rinterface_lib.callbacks:R[write to console]: =\n",
            "WARNING:rpy2.rinterface_lib.callbacks:R[write to console]: =\n",
            "WARNING:rpy2.rinterface_lib.callbacks:R[write to console]: =\n",
            "WARNING:rpy2.rinterface_lib.callbacks:R[write to console]: =\n",
            "WARNING:rpy2.rinterface_lib.callbacks:R[write to console]: =\n",
            "WARNING:rpy2.rinterface_lib.callbacks:R[write to console]: =\n",
            "WARNING:rpy2.rinterface_lib.callbacks:R[write to console]: =\n",
            "WARNING:rpy2.rinterface_lib.callbacks:R[write to console]: =\n",
            "WARNING:rpy2.rinterface_lib.callbacks:R[write to console]: =\n",
            "WARNING:rpy2.rinterface_lib.callbacks:R[write to console]: =\n",
            "WARNING:rpy2.rinterface_lib.callbacks:R[write to console]: =\n",
            "WARNING:rpy2.rinterface_lib.callbacks:R[write to console]: =\n",
            "WARNING:rpy2.rinterface_lib.callbacks:R[write to console]: =\n",
            "WARNING:rpy2.rinterface_lib.callbacks:R[write to console]: =\n",
            "WARNING:rpy2.rinterface_lib.callbacks:R[write to console]: =\n",
            "WARNING:rpy2.rinterface_lib.callbacks:R[write to console]: =\n",
            "WARNING:rpy2.rinterface_lib.callbacks:R[write to console]: =\n",
            "WARNING:rpy2.rinterface_lib.callbacks:R[write to console]: =\n",
            "WARNING:rpy2.rinterface_lib.callbacks:R[write to console]: =\n",
            "WARNING:rpy2.rinterface_lib.callbacks:R[write to console]: =\n",
            "WARNING:rpy2.rinterface_lib.callbacks:R[write to console]: =\n",
            "WARNING:rpy2.rinterface_lib.callbacks:R[write to console]: =\n",
            "WARNING:rpy2.rinterface_lib.callbacks:R[write to console]: \n",
            "\n",
            "WARNING:rpy2.rinterface_lib.callbacks:R[write to console]: downloaded 291 KB\n",
            "\n",
            "\n",
            "WARNING:rpy2.rinterface_lib.callbacks:R[write to console]: \n",
            "\n",
            "WARNING:rpy2.rinterface_lib.callbacks:R[write to console]: \n",
            "WARNING:rpy2.rinterface_lib.callbacks:R[write to console]: The downloaded source packages are in\n",
            "\t‘/tmp/RtmpKsc6OW/downloaded_packages’\n",
            "WARNING:rpy2.rinterface_lib.callbacks:R[write to console]: \n",
            "WARNING:rpy2.rinterface_lib.callbacks:R[write to console]: \n",
            "\n"
          ]
        }
      ]
    },
    {
      "cell_type": "code",
      "source": [
        "utils.install_packages('snow')\n",
        "snow = importr('snow')"
      ],
      "metadata": {
        "colab": {
          "base_uri": "https://localhost:8080/"
        },
        "id": "SRFtH9NlY7o5",
        "outputId": "5ae8aeaf-78c4-4153-8078-45a59d651c96"
      },
      "id": "SRFtH9NlY7o5",
      "execution_count": 10,
      "outputs": [
        {
          "output_type": "stream",
          "name": "stderr",
          "text": [
            "WARNING:rpy2.rinterface_lib.callbacks:R[write to console]: Installing package into ‘/usr/local/lib/R/site-library’\n",
            "(as ‘lib’ is unspecified)\n",
            "\n",
            "WARNING:rpy2.rinterface_lib.callbacks:R[write to console]: trying URL 'https://cran.rstudio.com/src/contrib/snow_0.4-4.tar.gz'\n",
            "\n",
            "WARNING:rpy2.rinterface_lib.callbacks:R[write to console]: Content type 'application/x-gzip'\n",
            "WARNING:rpy2.rinterface_lib.callbacks:R[write to console]:  length 20464 bytes (19 KB)\n",
            "\n",
            "WARNING:rpy2.rinterface_lib.callbacks:R[write to console]: =\n",
            "WARNING:rpy2.rinterface_lib.callbacks:R[write to console]: =\n",
            "WARNING:rpy2.rinterface_lib.callbacks:R[write to console]: =\n",
            "WARNING:rpy2.rinterface_lib.callbacks:R[write to console]: =\n",
            "WARNING:rpy2.rinterface_lib.callbacks:R[write to console]: =\n",
            "WARNING:rpy2.rinterface_lib.callbacks:R[write to console]: =\n",
            "WARNING:rpy2.rinterface_lib.callbacks:R[write to console]: =\n",
            "WARNING:rpy2.rinterface_lib.callbacks:R[write to console]: =\n",
            "WARNING:rpy2.rinterface_lib.callbacks:R[write to console]: =\n",
            "WARNING:rpy2.rinterface_lib.callbacks:R[write to console]: =\n",
            "WARNING:rpy2.rinterface_lib.callbacks:R[write to console]: =\n",
            "WARNING:rpy2.rinterface_lib.callbacks:R[write to console]: =\n",
            "WARNING:rpy2.rinterface_lib.callbacks:R[write to console]: =\n",
            "WARNING:rpy2.rinterface_lib.callbacks:R[write to console]: =\n",
            "WARNING:rpy2.rinterface_lib.callbacks:R[write to console]: =\n",
            "WARNING:rpy2.rinterface_lib.callbacks:R[write to console]: =\n",
            "WARNING:rpy2.rinterface_lib.callbacks:R[write to console]: =\n",
            "WARNING:rpy2.rinterface_lib.callbacks:R[write to console]: =\n",
            "WARNING:rpy2.rinterface_lib.callbacks:R[write to console]: =\n",
            "WARNING:rpy2.rinterface_lib.callbacks:R[write to console]: =\n",
            "WARNING:rpy2.rinterface_lib.callbacks:R[write to console]: =\n",
            "WARNING:rpy2.rinterface_lib.callbacks:R[write to console]: =\n",
            "WARNING:rpy2.rinterface_lib.callbacks:R[write to console]: =\n",
            "WARNING:rpy2.rinterface_lib.callbacks:R[write to console]: =\n",
            "WARNING:rpy2.rinterface_lib.callbacks:R[write to console]: =\n",
            "WARNING:rpy2.rinterface_lib.callbacks:R[write to console]: =\n",
            "WARNING:rpy2.rinterface_lib.callbacks:R[write to console]: =\n",
            "WARNING:rpy2.rinterface_lib.callbacks:R[write to console]: =\n",
            "WARNING:rpy2.rinterface_lib.callbacks:R[write to console]: =\n",
            "WARNING:rpy2.rinterface_lib.callbacks:R[write to console]: =\n",
            "WARNING:rpy2.rinterface_lib.callbacks:R[write to console]: =\n",
            "WARNING:rpy2.rinterface_lib.callbacks:R[write to console]: =\n",
            "WARNING:rpy2.rinterface_lib.callbacks:R[write to console]: =\n",
            "WARNING:rpy2.rinterface_lib.callbacks:R[write to console]: =\n",
            "WARNING:rpy2.rinterface_lib.callbacks:R[write to console]: =\n",
            "WARNING:rpy2.rinterface_lib.callbacks:R[write to console]: =\n",
            "WARNING:rpy2.rinterface_lib.callbacks:R[write to console]: =\n",
            "WARNING:rpy2.rinterface_lib.callbacks:R[write to console]: =\n",
            "WARNING:rpy2.rinterface_lib.callbacks:R[write to console]: =\n",
            "WARNING:rpy2.rinterface_lib.callbacks:R[write to console]: =\n",
            "WARNING:rpy2.rinterface_lib.callbacks:R[write to console]: =\n",
            "WARNING:rpy2.rinterface_lib.callbacks:R[write to console]: =\n",
            "WARNING:rpy2.rinterface_lib.callbacks:R[write to console]: =\n",
            "WARNING:rpy2.rinterface_lib.callbacks:R[write to console]: =\n",
            "WARNING:rpy2.rinterface_lib.callbacks:R[write to console]: =\n",
            "WARNING:rpy2.rinterface_lib.callbacks:R[write to console]: =\n",
            "WARNING:rpy2.rinterface_lib.callbacks:R[write to console]: =\n",
            "WARNING:rpy2.rinterface_lib.callbacks:R[write to console]: =\n",
            "WARNING:rpy2.rinterface_lib.callbacks:R[write to console]: =\n",
            "WARNING:rpy2.rinterface_lib.callbacks:R[write to console]: =\n",
            "WARNING:rpy2.rinterface_lib.callbacks:R[write to console]: \n",
            "\n",
            "WARNING:rpy2.rinterface_lib.callbacks:R[write to console]: downloaded 19 KB\n",
            "\n",
            "\n",
            "WARNING:rpy2.rinterface_lib.callbacks:R[write to console]: \n",
            "\n",
            "WARNING:rpy2.rinterface_lib.callbacks:R[write to console]: \n",
            "WARNING:rpy2.rinterface_lib.callbacks:R[write to console]: The downloaded source packages are in\n",
            "\t‘/tmp/RtmpKsc6OW/downloaded_packages’\n",
            "WARNING:rpy2.rinterface_lib.callbacks:R[write to console]: \n",
            "WARNING:rpy2.rinterface_lib.callbacks:R[write to console]: \n",
            "\n"
          ]
        }
      ]
    },
    {
      "cell_type": "markdown",
      "id": "9b294328",
      "metadata": {
        "id": "9b294328"
      },
      "source": [
        "##### Datos"
      ]
    },
    {
      "cell_type": "code",
      "execution_count": 11,
      "id": "729c206d",
      "metadata": {
        "id": "729c206d"
      },
      "outputs": [],
      "source": [
        "data = pd.read_csv(\"https://raw.githubusercontent.com/MAX-ISLAS-ZICATL/estadistica2_2023-2/main/SimpleLinearRegression/stress_aging.csv\")"
      ]
    },
    {
      "cell_type": "code",
      "execution_count": 12,
      "id": "55170568",
      "metadata": {
        "scrolled": true,
        "colab": {
          "base_uri": "https://localhost:8080/",
          "height": 1000
        },
        "id": "55170568",
        "outputId": "1e76761c-fd53-4a97-c416-9433186f2b2a"
      },
      "outputs": [
        {
          "output_type": "execute_result",
          "data": {
            "text/plain": [
              "    stress  aging\n",
              "0       14   1.30\n",
              "1       17   1.32\n",
              "2       14   1.08\n",
              "3       27   1.02\n",
              "4       22   1.24\n",
              "5       12   1.18\n",
              "6       22   1.18\n",
              "7       24   1.12\n",
              "8       25   0.94\n",
              "9       18   1.46\n",
              "10      28   1.22\n",
              "11      21   1.30\n",
              "12      19   0.84\n",
              "13      23   1.18\n",
              "14      15   1.22\n",
              "15      15   0.92\n",
              "16      27   1.12\n",
              "17      17   1.40\n",
              "18       6   1.32\n",
              "19       7   1.35\n",
              "20      11   1.00\n",
              "21      15   1.24\n",
              "22       5   1.25\n",
              "23      21   1.26\n",
              "24      24   1.50\n",
              "25      21   1.24\n",
              "26       6   1.50\n",
              "27      20   1.30\n",
              "28      22   1.22\n",
              "29      26   0.84\n",
              "30      10   1.30\n",
              "31      18   1.12\n",
              "32      17   1.12\n",
              "33      20   1.22\n",
              "34      13   1.10\n",
              "35      33   0.94\n",
              "36      20   1.32\n",
              "37      29   1.30"
            ],
            "text/html": [
              "\n",
              "  <div id=\"df-bdcfd6fd-b776-4c4c-8a0e-682209b3238d\">\n",
              "    <div class=\"colab-df-container\">\n",
              "      <div>\n",
              "<style scoped>\n",
              "    .dataframe tbody tr th:only-of-type {\n",
              "        vertical-align: middle;\n",
              "    }\n",
              "\n",
              "    .dataframe tbody tr th {\n",
              "        vertical-align: top;\n",
              "    }\n",
              "\n",
              "    .dataframe thead th {\n",
              "        text-align: right;\n",
              "    }\n",
              "</style>\n",
              "<table border=\"1\" class=\"dataframe\">\n",
              "  <thead>\n",
              "    <tr style=\"text-align: right;\">\n",
              "      <th></th>\n",
              "      <th>stress</th>\n",
              "      <th>aging</th>\n",
              "    </tr>\n",
              "  </thead>\n",
              "  <tbody>\n",
              "    <tr>\n",
              "      <th>0</th>\n",
              "      <td>14</td>\n",
              "      <td>1.30</td>\n",
              "    </tr>\n",
              "    <tr>\n",
              "      <th>1</th>\n",
              "      <td>17</td>\n",
              "      <td>1.32</td>\n",
              "    </tr>\n",
              "    <tr>\n",
              "      <th>2</th>\n",
              "      <td>14</td>\n",
              "      <td>1.08</td>\n",
              "    </tr>\n",
              "    <tr>\n",
              "      <th>3</th>\n",
              "      <td>27</td>\n",
              "      <td>1.02</td>\n",
              "    </tr>\n",
              "    <tr>\n",
              "      <th>4</th>\n",
              "      <td>22</td>\n",
              "      <td>1.24</td>\n",
              "    </tr>\n",
              "    <tr>\n",
              "      <th>5</th>\n",
              "      <td>12</td>\n",
              "      <td>1.18</td>\n",
              "    </tr>\n",
              "    <tr>\n",
              "      <th>6</th>\n",
              "      <td>22</td>\n",
              "      <td>1.18</td>\n",
              "    </tr>\n",
              "    <tr>\n",
              "      <th>7</th>\n",
              "      <td>24</td>\n",
              "      <td>1.12</td>\n",
              "    </tr>\n",
              "    <tr>\n",
              "      <th>8</th>\n",
              "      <td>25</td>\n",
              "      <td>0.94</td>\n",
              "    </tr>\n",
              "    <tr>\n",
              "      <th>9</th>\n",
              "      <td>18</td>\n",
              "      <td>1.46</td>\n",
              "    </tr>\n",
              "    <tr>\n",
              "      <th>10</th>\n",
              "      <td>28</td>\n",
              "      <td>1.22</td>\n",
              "    </tr>\n",
              "    <tr>\n",
              "      <th>11</th>\n",
              "      <td>21</td>\n",
              "      <td>1.30</td>\n",
              "    </tr>\n",
              "    <tr>\n",
              "      <th>12</th>\n",
              "      <td>19</td>\n",
              "      <td>0.84</td>\n",
              "    </tr>\n",
              "    <tr>\n",
              "      <th>13</th>\n",
              "      <td>23</td>\n",
              "      <td>1.18</td>\n",
              "    </tr>\n",
              "    <tr>\n",
              "      <th>14</th>\n",
              "      <td>15</td>\n",
              "      <td>1.22</td>\n",
              "    </tr>\n",
              "    <tr>\n",
              "      <th>15</th>\n",
              "      <td>15</td>\n",
              "      <td>0.92</td>\n",
              "    </tr>\n",
              "    <tr>\n",
              "      <th>16</th>\n",
              "      <td>27</td>\n",
              "      <td>1.12</td>\n",
              "    </tr>\n",
              "    <tr>\n",
              "      <th>17</th>\n",
              "      <td>17</td>\n",
              "      <td>1.40</td>\n",
              "    </tr>\n",
              "    <tr>\n",
              "      <th>18</th>\n",
              "      <td>6</td>\n",
              "      <td>1.32</td>\n",
              "    </tr>\n",
              "    <tr>\n",
              "      <th>19</th>\n",
              "      <td>7</td>\n",
              "      <td>1.35</td>\n",
              "    </tr>\n",
              "    <tr>\n",
              "      <th>20</th>\n",
              "      <td>11</td>\n",
              "      <td>1.00</td>\n",
              "    </tr>\n",
              "    <tr>\n",
              "      <th>21</th>\n",
              "      <td>15</td>\n",
              "      <td>1.24</td>\n",
              "    </tr>\n",
              "    <tr>\n",
              "      <th>22</th>\n",
              "      <td>5</td>\n",
              "      <td>1.25</td>\n",
              "    </tr>\n",
              "    <tr>\n",
              "      <th>23</th>\n",
              "      <td>21</td>\n",
              "      <td>1.26</td>\n",
              "    </tr>\n",
              "    <tr>\n",
              "      <th>24</th>\n",
              "      <td>24</td>\n",
              "      <td>1.50</td>\n",
              "    </tr>\n",
              "    <tr>\n",
              "      <th>25</th>\n",
              "      <td>21</td>\n",
              "      <td>1.24</td>\n",
              "    </tr>\n",
              "    <tr>\n",
              "      <th>26</th>\n",
              "      <td>6</td>\n",
              "      <td>1.50</td>\n",
              "    </tr>\n",
              "    <tr>\n",
              "      <th>27</th>\n",
              "      <td>20</td>\n",
              "      <td>1.30</td>\n",
              "    </tr>\n",
              "    <tr>\n",
              "      <th>28</th>\n",
              "      <td>22</td>\n",
              "      <td>1.22</td>\n",
              "    </tr>\n",
              "    <tr>\n",
              "      <th>29</th>\n",
              "      <td>26</td>\n",
              "      <td>0.84</td>\n",
              "    </tr>\n",
              "    <tr>\n",
              "      <th>30</th>\n",
              "      <td>10</td>\n",
              "      <td>1.30</td>\n",
              "    </tr>\n",
              "    <tr>\n",
              "      <th>31</th>\n",
              "      <td>18</td>\n",
              "      <td>1.12</td>\n",
              "    </tr>\n",
              "    <tr>\n",
              "      <th>32</th>\n",
              "      <td>17</td>\n",
              "      <td>1.12</td>\n",
              "    </tr>\n",
              "    <tr>\n",
              "      <th>33</th>\n",
              "      <td>20</td>\n",
              "      <td>1.22</td>\n",
              "    </tr>\n",
              "    <tr>\n",
              "      <th>34</th>\n",
              "      <td>13</td>\n",
              "      <td>1.10</td>\n",
              "    </tr>\n",
              "    <tr>\n",
              "      <th>35</th>\n",
              "      <td>33</td>\n",
              "      <td>0.94</td>\n",
              "    </tr>\n",
              "    <tr>\n",
              "      <th>36</th>\n",
              "      <td>20</td>\n",
              "      <td>1.32</td>\n",
              "    </tr>\n",
              "    <tr>\n",
              "      <th>37</th>\n",
              "      <td>29</td>\n",
              "      <td>1.30</td>\n",
              "    </tr>\n",
              "  </tbody>\n",
              "</table>\n",
              "</div>\n",
              "      <button class=\"colab-df-convert\" onclick=\"convertToInteractive('df-bdcfd6fd-b776-4c4c-8a0e-682209b3238d')\"\n",
              "              title=\"Convert this dataframe to an interactive table.\"\n",
              "              style=\"display:none;\">\n",
              "        \n",
              "  <svg xmlns=\"http://www.w3.org/2000/svg\" height=\"24px\"viewBox=\"0 0 24 24\"\n",
              "       width=\"24px\">\n",
              "    <path d=\"M0 0h24v24H0V0z\" fill=\"none\"/>\n",
              "    <path d=\"M18.56 5.44l.94 2.06.94-2.06 2.06-.94-2.06-.94-.94-2.06-.94 2.06-2.06.94zm-11 1L8.5 8.5l.94-2.06 2.06-.94-2.06-.94L8.5 2.5l-.94 2.06-2.06.94zm10 10l.94 2.06.94-2.06 2.06-.94-2.06-.94-.94-2.06-.94 2.06-2.06.94z\"/><path d=\"M17.41 7.96l-1.37-1.37c-.4-.4-.92-.59-1.43-.59-.52 0-1.04.2-1.43.59L10.3 9.45l-7.72 7.72c-.78.78-.78 2.05 0 2.83L4 21.41c.39.39.9.59 1.41.59.51 0 1.02-.2 1.41-.59l7.78-7.78 2.81-2.81c.8-.78.8-2.07 0-2.86zM5.41 20L4 18.59l7.72-7.72 1.47 1.35L5.41 20z\"/>\n",
              "  </svg>\n",
              "      </button>\n",
              "      \n",
              "  <style>\n",
              "    .colab-df-container {\n",
              "      display:flex;\n",
              "      flex-wrap:wrap;\n",
              "      gap: 12px;\n",
              "    }\n",
              "\n",
              "    .colab-df-convert {\n",
              "      background-color: #E8F0FE;\n",
              "      border: none;\n",
              "      border-radius: 50%;\n",
              "      cursor: pointer;\n",
              "      display: none;\n",
              "      fill: #1967D2;\n",
              "      height: 32px;\n",
              "      padding: 0 0 0 0;\n",
              "      width: 32px;\n",
              "    }\n",
              "\n",
              "    .colab-df-convert:hover {\n",
              "      background-color: #E2EBFA;\n",
              "      box-shadow: 0px 1px 2px rgba(60, 64, 67, 0.3), 0px 1px 3px 1px rgba(60, 64, 67, 0.15);\n",
              "      fill: #174EA6;\n",
              "    }\n",
              "\n",
              "    [theme=dark] .colab-df-convert {\n",
              "      background-color: #3B4455;\n",
              "      fill: #D2E3FC;\n",
              "    }\n",
              "\n",
              "    [theme=dark] .colab-df-convert:hover {\n",
              "      background-color: #434B5C;\n",
              "      box-shadow: 0px 1px 3px 1px rgba(0, 0, 0, 0.15);\n",
              "      filter: drop-shadow(0px 1px 2px rgba(0, 0, 0, 0.3));\n",
              "      fill: #FFFFFF;\n",
              "    }\n",
              "  </style>\n",
              "\n",
              "      <script>\n",
              "        const buttonEl =\n",
              "          document.querySelector('#df-bdcfd6fd-b776-4c4c-8a0e-682209b3238d button.colab-df-convert');\n",
              "        buttonEl.style.display =\n",
              "          google.colab.kernel.accessAllowed ? 'block' : 'none';\n",
              "\n",
              "        async function convertToInteractive(key) {\n",
              "          const element = document.querySelector('#df-bdcfd6fd-b776-4c4c-8a0e-682209b3238d');\n",
              "          const dataTable =\n",
              "            await google.colab.kernel.invokeFunction('convertToInteractive',\n",
              "                                                     [key], {});\n",
              "          if (!dataTable) return;\n",
              "\n",
              "          const docLinkHtml = 'Like what you see? Visit the ' +\n",
              "            '<a target=\"_blank\" href=https://colab.research.google.com/notebooks/data_table.ipynb>data table notebook</a>'\n",
              "            + ' to learn more about interactive tables.';\n",
              "          element.innerHTML = '';\n",
              "          dataTable['output_type'] = 'display_data';\n",
              "          await google.colab.output.renderOutput(dataTable, element);\n",
              "          const docLink = document.createElement('div');\n",
              "          docLink.innerHTML = docLinkHtml;\n",
              "          element.appendChild(docLink);\n",
              "        }\n",
              "      </script>\n",
              "    </div>\n",
              "  </div>\n",
              "  "
            ]
          },
          "metadata": {},
          "execution_count": 12
        }
      ],
      "source": [
        "data"
      ]
    },
    {
      "cell_type": "markdown",
      "id": "a1fe49dc",
      "metadata": {
        "id": "a1fe49dc"
      },
      "source": [
        "###### EDA"
      ]
    },
    {
      "cell_type": "code",
      "execution_count": 13,
      "id": "a1057fc8",
      "metadata": {
        "scrolled": false,
        "colab": {
          "base_uri": "https://localhost:8080/",
          "height": 449
        },
        "id": "a1057fc8",
        "outputId": "467d1601-e45c-4af1-c4c6-c42c6da04cb1"
      },
      "outputs": [
        {
          "output_type": "display_data",
          "data": {
            "text/plain": [
              "<Figure size 640x480 with 1 Axes>"
            ],
            "image/png": "[encoded data removed]"
          },
          "metadata": {}
        }
      ],
      "source": [
        "ax1 = data.plot.scatter(x=\"stress\", y=\"aging\")"
      ]
    },
    {
      "cell_type": "markdown",
      "id": "3a881185",
      "metadata": {
        "id": "3a881185"
      },
      "source": [
        "##### Ajuste del modelo"
      ]
    },
    {
      "cell_type": "code",
      "execution_count": 14,
      "id": "0292e3cd",
      "metadata": {
        "id": "0292e3cd"
      },
      "outputs": [],
      "source": [
        "Y = data[\"aging\"]\n",
        "X = data[\"stress\"]"
      ]
    },
    {
      "cell_type": "code",
      "execution_count": 15,
      "id": "8872cc41",
      "metadata": {
        "scrolled": true,
        "colab": {
          "base_uri": "https://localhost:8080/"
        },
        "id": "8872cc41",
        "outputId": "118f6d22-6e3a-4e2f-e442-4d30026eaf06"
      },
      "outputs": [
        {
          "output_type": "execute_result",
          "data": {
            "text/plain": [
              "0     1.30\n",
              "1     1.32\n",
              "2     1.08\n",
              "3     1.02\n",
              "4     1.24\n",
              "5     1.18\n",
              "6     1.18\n",
              "7     1.12\n",
              "8     0.94\n",
              "9     1.46\n",
              "10    1.22\n",
              "11    1.30\n",
              "12    0.84\n",
              "13    1.18\n",
              "14    1.22\n",
              "15    0.92\n",
              "16    1.12\n",
              "17    1.40\n",
              "18    1.32\n",
              "19    1.35\n",
              "20    1.00\n",
              "21    1.24\n",
              "22    1.25\n",
              "23    1.26\n",
              "24    1.50\n",
              "25    1.24\n",
              "26    1.50\n",
              "27    1.30\n",
              "28    1.22\n",
              "29    0.84\n",
              "30    1.30\n",
              "31    1.12\n",
              "32    1.12\n",
              "33    1.22\n",
              "34    1.10\n",
              "35    0.94\n",
              "36    1.32\n",
              "37    1.30\n",
              "Name: aging, dtype: float64"
            ]
          },
          "metadata": {},
          "execution_count": 15
        }
      ],
      "source": [
        "Y"
      ]
    },
    {
      "cell_type": "code",
      "execution_count": 16,
      "id": "cfa50fb9",
      "metadata": {
        "scrolled": true,
        "colab": {
          "base_uri": "https://localhost:8080/"
        },
        "id": "cfa50fb9",
        "outputId": "f017d9bf-5ecd-48e8-a390-1c0967f376b9"
      },
      "outputs": [
        {
          "output_type": "execute_result",
          "data": {
            "text/plain": [
              "0     14\n",
              "1     17\n",
              "2     14\n",
              "3     27\n",
              "4     22\n",
              "5     12\n",
              "6     22\n",
              "7     24\n",
              "8     25\n",
              "9     18\n",
              "10    28\n",
              "11    21\n",
              "12    19\n",
              "13    23\n",
              "14    15\n",
              "15    15\n",
              "16    27\n",
              "17    17\n",
              "18     6\n",
              "19     7\n",
              "20    11\n",
              "21    15\n",
              "22     5\n",
              "23    21\n",
              "24    24\n",
              "25    21\n",
              "26     6\n",
              "27    20\n",
              "28    22\n",
              "29    26\n",
              "30    10\n",
              "31    18\n",
              "32    17\n",
              "33    20\n",
              "34    13\n",
              "35    33\n",
              "36    20\n",
              "37    29\n",
              "Name: stress, dtype: int64"
            ]
          },
          "metadata": {},
          "execution_count": 16
        }
      ],
      "source": [
        "X"
      ]
    },
    {
      "cell_type": "code",
      "execution_count": 17,
      "id": "95534d97",
      "metadata": {
        "id": "95534d97"
      },
      "outputs": [],
      "source": [
        "model = sm.OLS(Y,sm.add_constant(X))"
      ]
    },
    {
      "cell_type": "code",
      "execution_count": 18,
      "id": "1e655004",
      "metadata": {
        "id": "1e655004"
      },
      "outputs": [],
      "source": [
        "results = model.fit()"
      ]
    },
    {
      "cell_type": "code",
      "execution_count": 19,
      "id": "09a7475f",
      "metadata": {
        "colab": {
          "base_uri": "https://localhost:8080/",
          "height": 452
        },
        "id": "09a7475f",
        "outputId": "b737db71-27e3-4c7f-ef8a-3c0eb72a6aca"
      },
      "outputs": [
        {
          "output_type": "execute_result",
          "data": {
            "text/plain": [
              "<class 'statsmodels.iolib.summary.Summary'>\n",
              "\"\"\"\n",
              "                            OLS Regression Results                            \n",
              "==============================================================================\n",
              "Dep. Variable:                  aging   R-squared:                       0.099\n",
              "Model:                            OLS   Adj. R-squared:                  0.074\n",
              "Method:                 Least Squares   F-statistic:                     3.963\n",
              "Date:                Thu, 20 Apr 2023   Prob (F-statistic):             0.0541\n",
              "Time:                        14:18:19   Log-Likelihood:                 16.955\n",
              "No. Observations:                  38   AIC:                            -29.91\n",
              "Df Residuals:                      36   BIC:                            -26.64\n",
              "Df Model:                           1                                         \n",
              "Covariance Type:            nonrobust                                         \n",
              "==============================================================================\n",
              "                 coef    std err          t      P>|t|      [0.025      0.975]\n",
              "------------------------------------------------------------------------------\n",
              "const          1.3388      0.076     17.656      0.000       1.185       1.493\n",
              "stress        -0.0077      0.004     -1.991      0.054      -0.015       0.000\n",
              "==============================================================================\n",
              "Omnibus:                        0.984   Durbin-Watson:                   1.944\n",
              "Prob(Omnibus):                  0.611   Jarque-Bera (JB):                0.688\n",
              "Skew:                          -0.327   Prob(JB):                        0.709\n",
              "Kurtosis:                       2.924   Cond. No.                         58.0\n",
              "==============================================================================\n",
              "\n",
              "Notes:\n",
              "[1] Standard Errors assume that the covariance matrix of the errors is correctly specified.\n",
              "\"\"\""
            ],
            "text/html": [
              "<table class=\"simpletable\">\n",
              "<caption>OLS Regression Results</caption>\n",
              "<tr>\n",
              "  <th>Dep. Variable:</th>          <td>aging</td>      <th>  R-squared:         </th> <td>   0.099</td>\n",
              "</tr>\n",
              "<tr>\n",
              "  <th>Model:</th>                   <td>OLS</td>       <th>  Adj. R-squared:    </th> <td>   0.074</td>\n",
              "</tr>\n",
              "<tr>\n",
              "  <th>Method:</th>             <td>Least Squares</td>  <th>  F-statistic:       </th> <td>   3.963</td>\n",
              "</tr>\n",
              "<tr>\n",
              "  <th>Date:</th>             <td>Thu, 20 Apr 2023</td> <th>  Prob (F-statistic):</th>  <td>0.0541</td> \n",
              "</tr>\n",
              "<tr>\n",
              "  <th>Time:</th>                 <td>14:18:19</td>     <th>  Log-Likelihood:    </th> <td>  16.955</td>\n",
              "</tr>\n",
              "<tr>\n",
              "  <th>No. Observations:</th>      <td>    38</td>      <th>  AIC:               </th> <td>  -29.91</td>\n",
              "</tr>\n",
              "<tr>\n",
              "  <th>Df Residuals:</th>          <td>    36</td>      <th>  BIC:               </th> <td>  -26.64</td>\n",
              "</tr>\n",
              "<tr>\n",
              "  <th>Df Model:</th>              <td>     1</td>      <th>                     </th>     <td> </td>   \n",
              "</tr>\n",
              "<tr>\n",
              "  <th>Covariance Type:</th>      <td>nonrobust</td>    <th>                     </th>     <td> </td>   \n",
              "</tr>\n",
              "</table>\n",
              "<table class=\"simpletable\">\n",
              "<tr>\n",
              "     <td></td>       <th>coef</th>     <th>std err</th>      <th>t</th>      <th>P>|t|</th>  <th>[0.025</th>    <th>0.975]</th>  \n",
              "</tr>\n",
              "<tr>\n",
              "  <th>const</th>  <td>    1.3388</td> <td>    0.076</td> <td>   17.656</td> <td> 0.000</td> <td>    1.185</td> <td>    1.493</td>\n",
              "</tr>\n",
              "<tr>\n",
              "  <th>stress</th> <td>   -0.0077</td> <td>    0.004</td> <td>   -1.991</td> <td> 0.054</td> <td>   -0.015</td> <td>    0.000</td>\n",
              "</tr>\n",
              "</table>\n",
              "<table class=\"simpletable\">\n",
              "<tr>\n",
              "  <th>Omnibus:</th>       <td> 0.984</td> <th>  Durbin-Watson:     </th> <td>   1.944</td>\n",
              "</tr>\n",
              "<tr>\n",
              "  <th>Prob(Omnibus):</th> <td> 0.611</td> <th>  Jarque-Bera (JB):  </th> <td>   0.688</td>\n",
              "</tr>\n",
              "<tr>\n",
              "  <th>Skew:</th>          <td>-0.327</td> <th>  Prob(JB):          </th> <td>   0.709</td>\n",
              "</tr>\n",
              "<tr>\n",
              "  <th>Kurtosis:</th>      <td> 2.924</td> <th>  Cond. No.          </th> <td>    58.0</td>\n",
              "</tr>\n",
              "</table><br/><br/>Notes:<br/>[1] Standard Errors assume that the covariance matrix of the errors is correctly specified."
            ]
          },
          "metadata": {},
          "execution_count": 19
        }
      ],
      "source": [
        "results.summary()"
      ]
    },
    {
      "cell_type": "code",
      "execution_count": 20,
      "id": "a71ac021",
      "metadata": {
        "colab": {
          "base_uri": "https://localhost:8080/"
        },
        "id": "a71ac021",
        "outputId": "ed2c1c34-ab27-4827-c107-0ff053f33d9e"
      },
      "outputs": [
        {
          "output_type": "execute_result",
          "data": {
            "text/plain": [
              "const     1.338778\n",
              "stress   -0.007661\n",
              "dtype: float64"
            ]
          },
          "metadata": {},
          "execution_count": 20
        }
      ],
      "source": [
        "# Parámetros estimados\n",
        "\n",
        "results.params"
      ]
    },
    {
      "cell_type": "markdown",
      "source": [
        "El modelo queda como:\n",
        "\n",
        "$$\\hat{Y}_i = 1.338778   -0.007661 X_i$$"
      ],
      "metadata": {
        "id": "zH6i0CUyOe1c"
      },
      "id": "zH6i0CUyOe1c"
    },
    {
      "cell_type": "code",
      "execution_count": 21,
      "id": "541de23c",
      "metadata": {
        "colab": {
          "base_uri": "https://localhost:8080/",
          "height": 430
        },
        "id": "541de23c",
        "outputId": "cddc16aa-bfaf-4738-e8ad-5e02712fa24a"
      },
      "outputs": [
        {
          "output_type": "display_data",
          "data": {
            "text/plain": [
              "<Figure size 640x480 with 1 Axes>"
            ],
            "image/png": "[encoded data removed]"
          },
          "metadata": {}
        }
      ],
      "source": [
        "x = np.linspace(data[\"stress\"].min(), data[\"stress\"].max())\n",
        "y = np.matmul(sm.add_constant(x), results.params)\n",
        "\n",
        "plt.plot(x,y, \"r\")\n",
        "plt.scatter(data[\"stress\"], data[\"aging\"])\n",
        "plt.show()"
      ]
    },
    {
      "cell_type": "markdown",
      "id": "aa6a77f1",
      "metadata": {
        "id": "aa6a77f1"
      },
      "source": [
        "##### Evaluación del modelo"
      ]
    },
    {
      "cell_type": "code",
      "execution_count": 44,
      "id": "a4bdec9f",
      "metadata": {
        "colab": {
          "base_uri": "https://localhost:8080/"
        },
        "id": "a4bdec9f",
        "outputId": "adc0ab0a-5137-43d2-844e-1bd9e8418f56"
      },
      "outputs": [
        {
          "output_type": "execute_result",
          "data": {
            "text/plain": [
              "0.07414383230911137"
            ]
          },
          "metadata": {},
          "execution_count": 44
        }
      ],
      "source": [
        "# Coeficiente de determinación\n",
        "results.rsquared_adj"
      ]
    },
    {
      "cell_type": "markdown",
      "source": [
        "Debido a que el coeficiente de determinación indica la proporción de variación de Y explicada por el regresor X, podemos afirmar que el regresor X el estres solo explica el 7.41% de la variabilidad del envejecimiento celular."
      ],
      "metadata": {
        "id": "4JhtvFAJDbox"
      },
      "id": "4JhtvFAJDbox"
    },
    {
      "cell_type": "markdown",
      "id": "0e209356",
      "metadata": {
        "id": "0e209356"
      },
      "source": [
        "###### Análisis de residuales\n"
      ]
    },
    {
      "cell_type": "markdown",
      "source": [
        "El nivel de significancia considerado es $\\alpha = 0.05$"
      ],
      "metadata": {
        "id": "wZnAu7WKIs2-"
      },
      "id": "wZnAu7WKIs2-"
    },
    {
      "cell_type": "code",
      "execution_count": 23,
      "id": "2f200a8d",
      "metadata": {
        "id": "2f200a8d"
      },
      "outputs": [],
      "source": [
        "res = results.resid"
      ]
    },
    {
      "cell_type": "markdown",
      "id": "2b528735",
      "metadata": {
        "id": "2b528735"
      },
      "source": [
        "#### Independencia\n",
        "- Autocorrelograma\n",
        "\n",
        "[statsmodels.graphics.tsaplots.plot_acf](https://www.statsmodels.org/dev/generated/statsmodels.graphics.tsaplots.plot_acf.html)\n",
        "\n",
        "[Interpreting ACF or Auto-correlation plot](https://medium.com/analytics-vidhya/interpreting-acf-or-auto-correlation-plot-d12e9051cd14)"
      ]
    },
    {
      "cell_type": "code",
      "execution_count": 24,
      "id": "a3497a5a",
      "metadata": {
        "colab": {
          "base_uri": "https://localhost:8080/",
          "height": 452
        },
        "id": "a3497a5a",
        "outputId": "de5b499d-2a90-45c7-915b-69d3fbb85719"
      },
      "outputs": [
        {
          "output_type": "display_data",
          "data": {
            "text/plain": [
              "<Figure size 640x480 with 1 Axes>"
            ],
            "image/png": "[encoded data removed]"
          },
          "metadata": {}
        }
      ],
      "source": [
        "# Autocorrelograma\n",
        "\n",
        "plot_acf(res)\n",
        "plt.show()"
      ]
    },
    {
      "cell_type": "markdown",
      "source": [
        "Visualmente podemos decir que los residuales no estan autocorrelacionados, porque la segunda observación (y todas la demas) si se encuentran en el intervalo del 95% de confianza. Es decir, parece que los residales no estan correlacionados. "
      ],
      "metadata": {
        "id": "KtGdsVrkEmIs"
      },
      "id": "KtGdsVrkEmIs"
    },
    {
      "cell_type": "markdown",
      "source": [
        "- Prueba de Durbin-Watson\n",
        "\n",
        "[Durbin-Watson DW test for autocorrelation](https://www.reneshbedre.com/blog/durbin-watson-test.html)\n",
        "\n",
        "Del resumen: Durbin-Watson: \t1.944\n",
        "\n",
        "Si la estadística es 2, no hay autocorrelación.\n",
        "\n",
        "Si la estadística es menor que 2, hay autocorrelación positiva.\n",
        "\n",
        "Si la estadística es mayor que 2, hay autocorrelación negativa.\n",
        "\n",
        "__Punto extra si corren la prueba DW de R en Python__ (límite 20-04-23)\n",
        "\n",
        "[Calling R from Python](https://rviews.rstudio.com/2022/05/25/calling-r-from-python-with-rpy2/)"
      ],
      "metadata": {
        "id": "FYte_eDqCOnT"
      },
      "id": "FYte_eDqCOnT"
    },
    {
      "cell_type": "code",
      "source": [
        "# Volvemos a descargar la informacion y la guardamos en un objeto que R puede procesar\n",
        "dataR = readr.read_csv(file = 'https://raw.githubusercontent.com/MAX-ISLAS-ZICATL/estadistica2_2023-2/main/SimpleLinearRegression/stress_aging.csv')"
      ],
      "metadata": {
        "colab": {
          "base_uri": "https://localhost:8080/"
        },
        "id": "FoaxtcgXOqYf",
        "outputId": "346ef30f-b7f1-47a9-99d8-6acdfd68aa3c"
      },
      "id": "FoaxtcgXOqYf",
      "execution_count": 25,
      "outputs": [
        {
          "output_type": "stream",
          "name": "stdout",
          "text": [
            "Rows: 38 Columns: 2\n",
            "── Column specification ────────────────────────────────────────────────────────\n",
            "Delimiter: \",\"\n",
            "dbl (2): stress, aging\n",
            "\n",
            "ℹ Use `spec()` to retrieve the full column specification for this data.\n",
            "ℹ Specify the column types or set `show_col_types = FALSE` to quiet this message.\n"
          ]
        }
      ]
    },
    {
      "cell_type": "code",
      "source": [
        "# A partir de lafunción 'lm' de la librería 'stats' ajustamos un modelo de regrasión lineal\n",
        "lm1 = stats.lm('aging ~ stress', data = dataR)\n"
      ],
      "metadata": {
        "id": "budV1zfSMb23"
      },
      "id": "budV1zfSMb23",
      "execution_count": 26,
      "outputs": []
    },
    {
      "cell_type": "code",
      "source": [
        "#nDe la libreria 'lmtest' empleamos la funcion 'dwtest' que usa de argumento el modelo anteriormente creado\n",
        "DWT = lmtest.dwtest(lm1,alternative =\"two.sided\",iterations = 1000)\n",
        "print(DWT)"
      ],
      "metadata": {
        "colab": {
          "base_uri": "https://localhost:8080/"
        },
        "id": "8yY0fdNqSugg",
        "outputId": "cd0b2423-9cac-4c4c-9ab7-fabfa0d5d029"
      },
      "id": "8yY0fdNqSugg",
      "execution_count": 27,
      "outputs": [
        {
          "output_type": "stream",
          "name": "stdout",
          "text": [
            "\n",
            "\tDurbin-Watson test\n",
            "\n",
            "data:  structure(list(coefficients = c(\"(Intercept)\" = 1.33877832512315, stress = -0.00766133004926109), residuals = c(\"1\" = 0.0684802955665035, \"2\" = 0.111464285714286, \"3\" = -0.151519704433497, \"4\" = -0.111922413793103, \"5\" = 0.0697709359605911, \"6\" = -0.0668423645320198, \"7\" = 0.00977093596059106, \"8\" = -0.0349064039408866, \"9\" = -0.207245073891626, \"10\" = 0.259125615763547, \"11\" = 0.0957389162561576, \"12\" = 0.12210960591133, \"13\" = -0.353213054187192, \"14\" = 0.0174322660098521, \"15\" = -0.00385837438423653, \"16\" = -0.303858374384236, \"17\" = -0.0119224137931033, \"18\" = 0.191464285714286, \"19\" = 0.0271896551724138, \"20\" = 0.0648509852216749, \"21\" = -0.254503694581281, \"22\" = 0.0161416256157635, \"23\" = -0.0504716748768474, \"24\" = 0.08210960591133, \"25\" = 0.345093596059113, \"26\" = 0.06210960591133, \"27\" = 0.207189655172414, \"28\" = 0.114448275862069, \"29\" = 0.0497709359605911, \"30\" = -0.299583743842365, \"31\" = 0.0378349753694581, \"32\" = -0.0808743842364531, \"33\" = -0.0885357142857143, \"34\" = 0.0344482758620688, \"35\" = -0.139181034482759, \"36\" = -0.145954433497537, \"37\" = 0.134448275862069, \"38\" = 0.183400246305419), effects = c(\"(Intercept)\" = -7.37783023302708, stress = -0.316763681585311, -0.170473775650017, -0.0995136407113862, 0.0701170766199096, -0.0906214887174988, 0.0101170766199095, -0.0297352103126086, -0.199661353778868, 0.249821650484946, 0.110560215822355, 0.120043220086169, -0.360104492981313, 0.0201909331536504, -0.0203999191162763, -0.320399919116276, 0.000486359288613885, 0.179747793951205, -0.0110646279199437, 0.0290092286137972, -0.28069534525124, -0.00039991911627627, -0.0911384844536846, 0.0800432200861688, 0.350264789687391, 0.0600432200861687, 0.168935372080056, 0.109969363552428, 0.0501170766199096, -0.289587497245127, 0.00923079821501961, -0.0901783495150536, -0.100252206048795, 0.0299693635524278, -0.160547632183758, -0.119070501508941, 0.129969363552428, 0.200634072356095), rank = 2L, fitted.values = c(\"1\" = 1.2315197044335, \"2\" = 1.20853571428571, \"3\" = 1.2315197044335, \"4\" = 1.1319224137931, \"5\" = 1.17022906403941, \"6\" = 1.24684236453202, \"7\" = 1.17022906403941, \"8\" = 1.15490640394089, \"9\" = 1.14724507389163, \"10\" = 1.20087438423645, \"11\" = 1.12426108374384, \"12\" = 1.17789039408867, \"13\" = 1.19321305418719, \"14\" = 1.16256773399015, \"15\" = 1.22385837438424, \"16\" = 1.22385837438424, \"17\" = 1.1319224137931, \"18\" = 1.20853571428571, \"19\" = 1.29281034482759, \"20\" = 1.28514901477833, \"21\" = 1.25450369458128, \"22\" = 1.22385837438424, \"23\" = 1.30047167487685, \"24\" = 1.17789039408867, \"25\" = 1.15490640394089, \"26\" = 1.17789039408867, \"27\" = 1.29281034482759, \"28\" = 1.18555172413793, \"29\" = 1.17022906403941, \"30\" = 1.13958374384236, \"31\" = 1.26216502463054, \"32\" = 1.20087438423645, \"33\" = 1.20853571428571, \"34\" = 1.18555172413793, \"35\" = 1.23918103448276, \"36\" = 1.08595443349754, \"37\" = 1.18555172413793, \"38\" = 1.11659975369458), assign = 0:1, qr = structure(list(qr = structure(c(-6.16441400296898, 0.162221421130763, 0.162221421130763, 0.162221421130763, 0.162221421130763, 0.162221421130763, 0.162221421130763, 0.162221421130763, 0.162221421130763, 0.162221421130763, 0.162221421130763, 0.162221421130763, 0.162221421130763, 0.162221421130763, 0.162221421130763, 0.162221421130763, 0.162221421130763, 0.162221421130763, 0.162221421130763, 0.162221421130763, 0.162221421130763, 0.162221421130763, 0.162221421130763, 0.162221421130763, 0.162221421130763, 0.162221421130763, 0.162221421130763, 0.162221421130763, 0.162221421130763, 0.162221421130763, 0.162221421130763, 0.162221421130763, 0.162221421130763, 0.162221421130763, 0.162221421130763, 0.162221421130763, 0.162221421130763, 0.162221421130763, -114.203880476057, 41.3457819397641, 0.0941943307349017, -0.220227102119832, -0.0992957817910881, 0.142566858866399, -0.0992957817910881, -0.147668309922586, -0.171854573988334, -0.00255072552809319, -0.24441336618558, -0.0751095177253394, -0.0267369895938419, -0.123482045856837, 0.070008066669153, 0.070008066669153, -0.220227102119832, 0.0216355385376555, 0.287684443260892, 0.263498179195143, 0.166753122932148, 0.070008066669153, 0.31187070732664, -0.0751095177253394, -0.147668309922586, -0.0751095177253394, 0.287684443260892, -0.0509232536595906, -0.0992957817910881, -0.196040838054083, 0.190939386997897, -0.00255072552809319, 0.0216355385376555, -0.0509232536595906, 0.11838059480065, -0.365344686514324, -0.0509232536595906, -0.268599630251329), dim = c(38L, 2L), dimnames = list(    c(\"1\", \"2\", \"3\", \"4\", \"5\", \"6\", \"7\", \"8\", \"9\", \"10\", \"11\",     \"12\", \"13\", \"14\", \"15\", \"16\", \"17\", \"18\", \"19\", \"20\", \"21\",     \"22\", \"23\", \"24\", \"25\", \"26\", \"27\", \"28\", \"29\", \"30\", \"31\",     \"32\", \"33\", \"34\", \"35\", \"36\", \"37\", \"38\"), c(\"(Intercept)\",     \"stress\")), assign = 0:1), qraux = c(1.16222142113076, 1.02163553853766), pivot = 1:2, tol = 1e-07, rank = 2L), class = \"qr\"), df.residual = 36L,     xlevels = structure(list(), names = character(0)), call = (function (formula,         data, subset, weights, na.action, method = \"qr\", model = TRUE,         x = FALSE, y = FALSE, qr = TRUE, singular.ok = TRUE,         contrasts = NULL, offset, ...)     {        ret.x <- x        ret.y <- y        cl <- match.call()        mf <- match.call(expand.dots = FALSE)        m <- match(c(\"formula\", \"data\", \"subset\", \"weights\",             \"na.action\", \"offset\"), names(mf), 0L)        mf <- mf[c(1L, m)]        mf$drop.unused.levels <- TRUE        mf[[1L]] <- quote(stats::model.frame)        mf <- eval(mf, parent.frame())        if (method == \"model.frame\")             return(mf)        else if (method != \"qr\")             warning(gettextf(\"method = '%s' is not supported. Using 'qr'\",                 method), domain = NA)        mt <- attr(mf, \"terms\")        y <- model.response(mf, \"numeric\")        w <- as.vector(model.weights(mf))        if (!is.null(w) && !is.numeric(w))             stop(\"'weights' must be a numeric vector\")        offset <- model.offset(mf)        mlm <- is.matrix(y)        ny <- if (mlm)             nrow(y)        else length(y)        if (!is.null(offset)) {            if (!mlm)                 offset <- as.vector(offset)            if (NROW(offset) != ny)                 stop(gettextf(\"number of offsets is %d, should equal %d (number of observations)\",                   NROW(offset), ny), domain = NA)        }        if (is.empty.model(mt)) {            x <- NULL            z <- list(coefficients = if (mlm) matrix(NA_real_,                 0, ncol(y)) else numeric(), residuals = y, fitted.values = 0 *                 y, weights = w, rank = 0L, df.residual = if (!is.null(w)) sum(w !=                 0) else ny)            if (!is.null(offset)) {                z$fitted.values <- offset                z$residuals <- y - offset            }        }        else {            x <- model.matrix(mt, mf, contrasts)            z <- if (is.null(w))                 lm.fit(x, y, offset = offset, singular.ok = singular.ok,                   ...)            else lm.wfit(x, y, w, offset = offset, singular.ok = singular.ok,                 ...)        }        class(z) <- c(if (mlm) \"mlm\", \"lm\")        z$na.action <- attr(mf, \"na.action\")        z$offset <- offset        z$contrasts <- attr(x, \"contrasts\")        z$xlevels <- .getXlevels(mt, mf)        z$call <- cl        z$terms <- mt        if (model)             z$model <- mf        if (ret.x)             z$x <- x        if (ret.y)             z$y <- y        if (!qr)             z$qr <- NULL        z    })(formula = \"aging ~ stress\", data = structure(list(stress = c(14,     17, 14, 27, 22, 12, 22, 24, 25, 18, 28, 21, 19, 23, 15, 15,     27, 17, 6, 7, 11, 15, 5, 21, 24, 21, 6, 20, 22, 26, 10, 18,     17, 20, 13, 33, 20, 29), aging = c(1.3, 1.32, 1.08, 1.02,     1.24, 1.18, 1.18, 1.12, 0.94, 1.46, 1.22, 1.3, 0.84, 1.18,     1.22, 0.92, 1.12, 1.4, 1.32, 1.35, 1, 1.24, 1.25, 1.26, 1.5,     1.24, 1.5, 1.3, 1.22, 0.84, 1.3, 1.12, 1.12, 1.22, 1.1, 0.94,     1.32, 1.3)), row.names = c(NA, -38L), spec = structure(list(        cols = list(stress = structure(list(), class = c(\"collector_double\",         \"collector\")), aging = structure(list(), class = c(\"collector_double\",         \"collector\"))), default = structure(list(), class = c(\"collector_guess\",         \"collector\")), delim = \",\"), class = \"col_spec\"), problems = <pointer: 0x7a327e0>, class = c(\"spec_tbl_df\",     \"tbl_df\", \"tbl\", \"data.frame\"))), terms = aging ~ stress,     model = structure(list(aging = c(1.3, 1.32, 1.08, 1.02, 1.24,     1.18, 1.18, 1.12, 0.94, 1.46, 1.22, 1.3, 0.84, 1.18, 1.22,     0.92, 1.12, 1.4, 1.32, 1.35, 1, 1.24, 1.25, 1.26, 1.5, 1.24,     1.5, 1.3, 1.22, 0.84, 1.3, 1.12, 1.12, 1.22, 1.1, 0.94, 1.32,     1.3), stress = c(14, 17, 14, 27, 22, 12, 22, 24, 25, 18,     28, 21, 19, 23, 15, 15, 27, 17, 6, 7, 11, 15, 5, 21, 24,     21, 6, 20, 22, 26, 10, 18, 17, 20, 13, 33, 20, 29)), terms = aging ~         stress, row.names = c(NA, 38L), class = \"data.frame\")), class = \"lm\")\n",
            "DW = 1.9443, p-value = 0.8432\n",
            "alternative hypothesis: true autocorrelation is not 0\n",
            "\n",
            "\n"
          ]
        }
      ]
    },
    {
      "cell_type": "markdown",
      "source": [
        "Ya que la estadística de prueba resulto en $1.9443$ y el p-value en $ 0.8432$, procedemos a **no** rechazar la hipotesis nula. Por lo cual, estadísticamente, parece ser que que los errores no estan correlacionados."
      ],
      "metadata": {
        "id": "i4Ce9bWPFkFn"
      },
      "id": "i4Ce9bWPFkFn"
    },
    {
      "cell_type": "markdown",
      "id": "f6cd66dc",
      "metadata": {
        "id": "f6cd66dc"
      },
      "source": [
        "#### Varianza constante.\n",
        "- Gráfico de dispersión"
      ]
    },
    {
      "cell_type": "code",
      "execution_count": 28,
      "id": "b18b3ee6",
      "metadata": {
        "id": "b18b3ee6"
      },
      "outputs": [],
      "source": [
        "y_hat = results.params[0] + results.params[1]*X"
      ]
    },
    {
      "cell_type": "code",
      "execution_count": 29,
      "id": "5aaab98b",
      "metadata": {
        "scrolled": false,
        "colab": {
          "base_uri": "https://localhost:8080/",
          "height": 430
        },
        "id": "5aaab98b",
        "outputId": "cbd38926-a429-43f9-9091-0fb451d765bd"
      },
      "outputs": [
        {
          "output_type": "display_data",
          "data": {
            "text/plain": [
              "<Figure size 640x480 with 1 Axes>"
            ],
            "image/png": "[encoded data removed]"
          },
          "metadata": {}
        }
      ],
      "source": [
        "plt.scatter(x=y_hat, y=res )\n",
        "plt.axhline(y=0, xmin=0, xmax=1.3, color = \"red\")\n",
        "plt.grid()"
      ]
    },
    {
      "cell_type": "markdown",
      "source": [
        "En el gráfico, ligeramente una mayoría se encuentra sobre la línea del 0, no parece haber algún patrón que sigan los datos y los datos caen en un intervalo masomenos simétrico respecto al 0, por lo cual, visualmente parece ser que la varianza de los errores es constante. \n",
        "\n",
        " Como los análisis gráficos suelene ser ambiguos, procedemos a realizar la prueba de Breusch-Pagan"
      ],
      "metadata": {
        "id": "8QRyAWXEGmff"
      },
      "id": "8QRyAWXEGmff"
    },
    {
      "cell_type": "markdown",
      "id": "d696f302",
      "metadata": {
        "id": "d696f302"
      },
      "source": [
        "- Prueba de Breusch-Pagan\n",
        "\n",
        "Hip. nula: la varianza es constante\n",
        "\n",
        "[How to Perform a Breusch-Pagan Test in Python](https://www.geeksforgeeks.org/how-to-perform-a-breusch-pagan-test-in-python/)"
      ]
    },
    {
      "cell_type": "code",
      "execution_count": 30,
      "id": "658b4037",
      "metadata": {
        "colab": {
          "base_uri": "https://localhost:8080/"
        },
        "id": "658b4037",
        "outputId": "896dc813-ca01-4c57-bada-6176a363a9c4"
      },
      "outputs": [
        {
          "output_type": "execute_result",
          "data": {
            "text/plain": [
              "[('Lagrange multiplier statistic', 0.3518811946684577),\n",
              " ('p-value', 0.5530501583398384),\n",
              " ('f-value', 0.33647691863611745),\n",
              " ('f p-value', 0.5654831049396662)]"
            ]
          },
          "metadata": {},
          "execution_count": 30
        }
      ],
      "source": [
        "# Conduct the Breusch-Pagan test\n",
        "names = ['Lagrange multiplier statistic', 'p-value',\n",
        "         'f-value', 'f p-value']\n",
        " \n",
        "# Get the test result\n",
        "test_result = sms.het_breuschpagan(results.resid, results.model.exog)\n",
        " \n",
        "lzip(names, test_result)"
      ]
    },
    {
      "cell_type": "markdown",
      "source": [
        "A causa de que el p-value es 0.55305, **no** rechazamos la hipotesis nula, entonces se sostiene que la homocesteacidad."
      ],
      "metadata": {
        "id": "mJvlHyv4H_RM"
      },
      "id": "mJvlHyv4H_RM"
    },
    {
      "cell_type": "markdown",
      "id": "9122a708",
      "metadata": {
        "id": "9122a708"
      },
      "source": [
        "3. __Normalidad__.\n",
        "- qq-plot (de los residuales muestrales $e_i$).\n"
      ]
    },
    {
      "cell_type": "code",
      "execution_count": 35,
      "id": "5b7e3eab",
      "metadata": {
        "colab": {
          "base_uri": "https://localhost:8080/",
          "height": 466
        },
        "id": "5b7e3eab",
        "outputId": "51b2bbf9-3d99-4030-fc23-ae15f859b72d"
      },
      "outputs": [
        {
          "output_type": "display_data",
          "data": {
            "text/plain": [
              "<Figure size 640x480 with 1 Axes>"
            ],
            "image/png": "[encoded data removed]"
          },
          "metadata": {}
        },
        {
          "output_type": "stream",
          "name": "stdout",
          "text": [
            "0.15695427313608998\n"
          ]
        }
      ],
      "source": [
        "Sigma =res.var()\n",
        "fig = sm.qqplot(res)\n",
        "plt.show()\n",
        "print(m.sqrt(Sigma))"
      ]
    },
    {
      "cell_type": "markdown",
      "id": "ef24defb",
      "metadata": {
        "id": "ef24defb"
      },
      "source": [
        "- Pruebas de Kolmogorov-Smirnov, Anderson-Daring, etc.\n",
        "\n",
        "Hip. nula: los residuales se distribuyen normal."
      ]
    },
    {
      "cell_type": "code",
      "execution_count": 36,
      "id": "68e8ff88",
      "metadata": {
        "colab": {
          "base_uri": "https://localhost:8080/"
        },
        "id": "68e8ff88",
        "outputId": "0815a943-e718-4efc-ce9f-0bedbd4458a2"
      },
      "outputs": [
        {
          "output_type": "execute_result",
          "data": {
            "text/plain": [
              "AndersonResult(statistic=0.3774309238372453, critical_values=array([0.529, 0.603, 0.723, 0.844, 1.004]), significance_level=array([15. , 10. ,  5. ,  2.5,  1. ]), fit_result=  params: FitParams(loc=-3.2722362831057244e-16, scale=0.15695427313608998)\n",
              " success: True\n",
              " message: '`anderson` successfully fit the distribution to the data.')"
            ]
          },
          "metadata": {},
          "execution_count": 36
        }
      ],
      "source": [
        "pystats.anderson(res)"
      ]
    },
    {
      "cell_type": "code",
      "execution_count": 37,
      "id": "a4ae9614",
      "metadata": {
        "colab": {
          "base_uri": "https://localhost:8080/"
        },
        "id": "a4ae9614",
        "outputId": "322bc764-b703-4ff1-dba3-c0ea3a0ac3f1"
      },
      "outputs": [
        {
          "output_type": "execute_result",
          "data": {
            "text/plain": [
              "ShapiroResult(statistic=0.9775760173797607, pvalue=0.6314409375190735)"
            ]
          },
          "metadata": {},
          "execution_count": 37
        }
      ],
      "source": [
        "pystats.shapiro(res)"
      ]
    },
    {
      "cell_type": "markdown",
      "source": [
        "Apoyandonos en la prueba de Anderson-Darling que logro ajustar una distribución normal \n",
        "\n",
        "Podemos decir que los residuales $$\\forall i \\:\\: e_{i}  \\thicksim N(\\mu =-3.2722362831057244e-16 \\approx 0, \\sigma^{2} = 0.15695427313608998 )$$\n",
        "\n",
        "\n",
        "Con esto se concluye, que el modelo cumple con los supestos estructurales.\n"
      ],
      "metadata": {
        "id": "09Uf__uXJ2bK"
      },
      "id": "09Uf__uXJ2bK"
    },
    {
      "cell_type": "markdown",
      "id": "b684ace5",
      "metadata": {
        "id": "b684ace5"
      },
      "source": [
        "**Conclusión:**\n",
        "\n",
        "Debido a que el modelo -estadísticamente- cumple con los supuestos estrucuturales, lo que nos indique el modelo no tiene falsos soportes.\n",
        "\n",
        "\n",
        "El modelo dice que la relación existente entre el estres y el envejecimiento celular es directamente proporcinal, sin embargo; como en los datos tenemos la longitud de los telomeros, el modelo describe una relación inversamente proporcional entre el estres y la longitud de los telomeros.\n",
        "\n",
        "Sin embargo; esta relación es totalmente sútil pues el modelo recordemos que el modelo resultante es:\n",
        "\n",
        "$$\\hat{Y}_i = 1.338778   -0.007661 X_i$$\n",
        "\n",
        "Es decir; la pendiente es muy cercana a 0. Esto al parecer tuvo efecto en el coeficiente de determinación pues la estadística $R^{2}$ fue igual al 7.41%.\n",
        "Por lo cual, solo el 7.41 % de la variación de la longitud de los telomeros fue explicada por el estres. \n",
        "\n",
        "Por ende, aunque pequeña, si existe una relación entre el regresor del estres y la longitud de los telomeros. Sin embargo; **el modelo no se recomienda para fines predictivos**. Para la utilidad del modelo en este ambito sería necesario revisar la muestra o modificar la variable de respuesta.\n",
        "\n",
        "**Sugerencias:**\n",
        "\n",
        "\n",
        "Con la muestra, debido a el amplio rango de variación en la longitud telomérica de la población general se dificulta su interpretación. Por lo cual es recomendable, estudiar a la población en grupos especificos, tanto en ocupación y edad.\n",
        "\n",
        "Algunos investigadores sugieren que quizás el porcentaje de telómeros cortos podría ser un marcador más sensible de envejecimiento celular que la longitud media telomérica en situaciones de estrés agudo, por lo cual, podría modificarse la variable de respuesta.\n",
        "\n",
        "Otra opción es hacer un modelo de regresión multiple donde se consideren regresores relativos a enfermedades como cáncer, depresión o Sindrome de Cushing o generar algún indicador de resistencia genética al estrés."
      ]
    },
    {
      "cell_type": "markdown",
      "source": [
        "Ideas para conocer que otra variables pueden influir en el acortamiento de los telomeros se consulto:\n",
        "\n",
        "Aulinas, A., Santos, A., Valassi, E., Mato, E., Crespo, I., Giustina, A., Roig, O., Bell, O., & Webb, S. M. (2013). Telómeros, envejecimiento y síndrome de Cushing: ¿están relacionados? Endocrinología y Nutrición. https://doi.org/10.1016/j.endonu.2012.10.002"
      ],
      "metadata": {
        "id": "MOmXhKL_Vf-S"
      },
      "id": "MOmXhKL_Vf-S"
    }
  ],
  "metadata": {
    "kernelspec": {
      "display_name": "Python 3 (ipykernel)",
      "language": "python",
      "name": "python3"
    },
    "language_info": {
      "codemirror_mode": {
        "name": "ipython",
        "version": 3
      },
      "file_extension": ".py",
      "mimetype": "text/x-python",
      "name": "python",
      "nbconvert_exporter": "python",
      "pygments_lexer": "ipython3",
      "version": "3.10.6"
    },
    "colab": {
      "provenance": []
    }
  },
  "nbformat": 4,
  "nbformat_minor": 5
}