{
 "cells": [
  {
   "cell_type": "markdown",
   "id": "03f19eca",
   "metadata": {},
   "source": [
    "# Pruebas para la igualdad de dos distribuciones (localización)\n",
    "\n",
    "### Modelos no paramétricos y de regresión\n",
    "##### Por: Jorge Iván Reyes Hernández"
   ]
  },
  {
   "cell_type": "code",
   "execution_count": 1,
   "id": "78a8607c",
   "metadata": {},
   "outputs": [],
   "source": [
    "from abc import ABC\n",
    "\n",
    "import numpy as np\n",
    "import matplotlib.pyplot as plt\n",
    "from scipy.special import binom\n",
    "from scipy.stats import norm, chi2"
   ]
  },
  {
   "cell_type": "code",
   "execution_count": 2,
   "id": "844cc12e",
   "metadata": {},
   "outputs": [],
   "source": [
    "class EqualityTest(ABC):\n",
    "    \"\"\" Clase para implementar la prueba de igualdad de dos distribuciones (localización). \"\"\"\n",
    "    \n",
    "    def __init__(self, x, y):\n",
    "        \"\"\" Constructor de la clase.\n",
    "        \n",
    "        :param x: Mediciones de la primera distribución.\n",
    "        :param y: Mediciones de la segunda distribución.\n",
    "        \"\"\"\n",
    "        self._x = x\n",
    "        self._y = y\n",
    "        self._sample = None\n",
    "        self._indices = {\"X\": [], \"Y\": []}\n",
    "        self._n_1: int = x.size\n",
    "        self._n_2: int = y.size\n",
    "        self._n: int = self._n_1 + self._n_2\n",
    "        self._significance_level: float = 0.0\n",
    "        self.__merge_data()\n",
    "        \n",
    "    def get_x(self):\n",
    "        \"\"\" Regresa los datos de la primera muestra.\n",
    "        \n",
    "        :return: Mediciones de la primera distribución.\n",
    "        \"\"\"\n",
    "        return self._x\n",
    "    \n",
    "    def get_y(self):\n",
    "        \"\"\" Regresa los datos de la segunda muestra.\n",
    "        \n",
    "        :return: Mediciones de la segunda distribución.\n",
    "        \"\"\"\n",
    "        return self._y\n",
    "    \n",
    "    def get_sample(self):\n",
    "        \"\"\" Regresa los datos en una única muestra dicotomizada.\n",
    "        \n",
    "        :return: Muestra mezclada.\n",
    "        \"\"\"\n",
    "        return self._sample\n",
    "    \n",
    "    def get_indices(self):\n",
    "        \"\"\" Regresa los índices (rangos) de los elementos de la muestra.\"\"\"\n",
    "        return self._indices\n",
    "    \n",
    "    def __merge_data(self):\n",
    "        \"\"\" Método para dicotomizar los datos.\n",
    "        \n",
    "            Se ignoran los empates.\n",
    "            Se guardan los índices de las X's y de las Y's.\n",
    "        \"\"\"\n",
    "        \n",
    "        x = np.sort(self._x, kind=\"mergesort\")\n",
    "        y = np.sort(self._y, kind=\"mergesort\")\n",
    "        \n",
    "        merged = []\n",
    "        \n",
    "        i, j = 0, 0\n",
    "        n_1, n_2 = 0, 0\n",
    "        idx = 0\n",
    "        \n",
    "        while (i < self._n_1 and j < self._n_2):\n",
    "            if x[i] < y[j]:\n",
    "                merged.append(\"X\")\n",
    "                self._indices[\"X\"].append(idx)\n",
    "                n_1 += 1\n",
    "                i += 1\n",
    "                idx += 1\n",
    "            elif x[i] > y[j]:\n",
    "                merged.append(\"Y\")\n",
    "                self._indices[\"Y\"].append(idx)\n",
    "                n_2 += 1\n",
    "                j += 1\n",
    "                idx += 1\n",
    "            else:\n",
    "                i += 1\n",
    "                j += 1\n",
    "        \n",
    "        while i < self._n_1:\n",
    "            merged.append(\"X\")\n",
    "            self._indices[\"X\"].append(idx)\n",
    "            n_1 += 1\n",
    "            i += 1\n",
    "            idx += 1\n",
    "        \n",
    "        while j < self._n_2:\n",
    "            merged.append(\"Y\")\n",
    "            self._indices[\"Y\"].append(idx)\n",
    "            n_2 += 1\n",
    "            j += 1\n",
    "            idx += 1\n",
    "        \n",
    "        self._sample = np.array(merged)\n",
    "        self._n_1 = n_1\n",
    "        self._n_2 = n_2\n",
    "        self._n = self._n_1 + self._n_2\n"
   ]
  },
  {
   "cell_type": "markdown",
   "id": "7bbde2e6",
   "metadata": {},
   "source": [
    "### Prueba basada en rachas (Wald-Wolfowitz Runs test)"
   ]
  },
  {
   "cell_type": "code",
   "execution_count": 3,
   "id": "f90eacc3",
   "metadata": {},
   "outputs": [],
   "source": [
    "class RunsEqualityTest(EqualityTest):\n",
    "    \"\"\" Clase para implementar la prueba de Wald-Wolfowitz (basada en rachas).\"\"\"\n",
    "    \n",
    "    def __init__(self, x, y):\n",
    "        \"\"\" Constructor de la clase.\n",
    "        \n",
    "        :param x: Mediciones de la primera distribución.\n",
    "        :param y: Mediciones de la segunda distribución.\n",
    "        \"\"\"\n",
    "        super().__init__(x, y)\n",
    "        self.__r = 1\n",
    "        self.__compute_runs()\n",
    "        \n",
    "    def get_runs(self):\n",
    "        \"\"\" Regresa la cantidad de rachas en la muestra.\"\"\"\n",
    "        return self.__r\n",
    "        \n",
    "    def __compute_runs(self):\n",
    "        \"\"\" Calcula la cantidad de rachas observadas.\"\"\"\n",
    "        cur = self._sample[0]\n",
    "        for i in range(1, self._sample.size):\n",
    "            if cur != self._sample[i]:\n",
    "                self.__r += 1\n",
    "            cur = self._sample[i]\n",
    "    \n",
    "    def __pmf_even(self, r):\n",
    "        \"\"\" Función de probabilidad de la estadística de prueba cuando r es par.\n",
    "        \n",
    "        :param r: Valor que toma R.\n",
    "        :return: La probabilidad de que R=r\n",
    "        \"\"\"\n",
    "        num = 2 * binom(self._n_1 - 1, r / 2 - 1) * binom(self._n_2 - 1, r / 2 - 1)\n",
    "        den = binom(self._n, self._n_1)\n",
    "        return num / den\n",
    "    \n",
    "    def __pmf_odd(self, r):\n",
    "        \"\"\" Función de probabilidad de la estadística de prueba cuando r es impar.\n",
    "        \n",
    "        :param r: Valor que toma R.\n",
    "        :return: La probabilidad de que R=r\n",
    "        \"\"\"\n",
    "        num = binom(self._n_1 - 1, (r - 1) / 2) * binom(self._n_2 - 1, (r - 3) / 2)\n",
    "        num += binom(self._n_1 - 1, (r - 3) / 2) * binom(self._n_2 - 1, (r - 1) / 2)\n",
    "        den = binom(self._n, self._n_1)\n",
    "        return num / den\n",
    "        \n",
    "    def __test_statistic_exact(self, alpha):\n",
    "        \"\"\" Calcula las constantes (cuántiles) de la pmf de R tales que la proba acumulada\n",
    "        sea menor que el nivel de significancia para la prueba de dos colas.\n",
    "        \n",
    "        :param alpha: Nivel de significancia deseado.\n",
    "        :return: La constante que define la región crítica.\n",
    "        \"\"\"\n",
    "        prob = 0.0\n",
    "        k = 1\n",
    "        while prob <= alpha and (k <= self._n):\n",
    "            self._significance_level = prob\n",
    "            k += 1\n",
    "            p = self.__pmf_even(k) if (k % 2 == 0) else self.__pmf_odd(k)\n",
    "            prob += p\n",
    "        k -= 1\n",
    "        return k\n",
    "    \n",
    "    def __test_statistic_asymptotic(self):\n",
    "        \"\"\" Calcula la estadística de prueba asintótica.\n",
    "        \n",
    "        :return: El valor que toma la estadística de pruba.\n",
    "        \"\"\"\n",
    "        num = self.__r + 0.5 - 1 - (2 * self._n_1 * self._n_2 / self._n)\n",
    "        den = 2 * self._n_1 * self._n_2 * (2 * self._n_1 * self._n_2 - self._n)\n",
    "        den /= (self._n ** 2) * (self._n - 1)\n",
    "        den = np.sqrt(den)\n",
    "        \n",
    "        return num / den\n",
    "        \n",
    "    def run_test(self, alpha=0.05, exact=False):\n",
    "        \"\"\" Realiza la prueba de hipótesis. \n",
    "        \n",
    "        :param alpha: El nivel de significancia deseado.\n",
    "        :param exact: Si la prueba será exacta o asintótica.\n",
    "        \"\"\"\n",
    "        if exact:\n",
    "            k = self.__test_statistic_exact(alpha)\n",
    "            print(\"H_0: F_X = F_Y v.s H_a: F_X != F_Y\")\n",
    "            print(f\"Rechazar H_0 si: R <= {k}\")\n",
    "            print(f\"Valor que tomó la estadística: R_obs = {self.__r}\")\n",
    "            decision = \"-> Rechazamos H_0\" if (self.__r <= k) else \"-> No rechazamos H_0\"\n",
    "            print(decision + f\" con nivel de significancia {self._significance_level:.3f}\")\n",
    "        else:\n",
    "            z = self.__test_statistic_asymptotic()\n",
    "            q = -norm.ppf(q=1-alpha)\n",
    "            print(\"H_0: F_X = F_Y v.s H_a: F_X != F_Y\")\n",
    "            print(f\"Rechazar H_0 si: Z <= {q:.3f}\")\n",
    "            print(f\"Valor que tomó la estadística R: R_obs = {self.__r}\")\n",
    "            print(f\"Valor que tomó la estadística Z: Z_obs = {z:.3f}\")\n",
    "            decision = \"-> Rechazamos H_0\" if z <= q else \"->No rechazamos H_0\"\n",
    "            print(decision + f\" con nivel de significancia {alpha*100}%\")\n"
   ]
  },
  {
   "cell_type": "markdown",
   "id": "8c5afa07",
   "metadata": {},
   "source": [
    "###### Verificamos que funcione"
   ]
  },
  {
   "cell_type": "code",
   "execution_count": 4,
   "id": "4036a0af",
   "metadata": {},
   "outputs": [],
   "source": [
    "x = np.array([-1, 1, 2, 6, 7, 9])\n",
    "y = np.array([0, 1, 8, 10, 11, 12])"
   ]
  },
  {
   "cell_type": "code",
   "execution_count": 5,
   "id": "b2a43f4d",
   "metadata": {},
   "outputs": [],
   "source": [
    "runs = RunsEqualityTest(x, y)"
   ]
  },
  {
   "cell_type": "code",
   "execution_count": 6,
   "id": "0ae48956",
   "metadata": {},
   "outputs": [
    {
     "data": {
      "text/plain": [
       "array([-1,  1,  2,  6,  7,  9])"
      ]
     },
     "execution_count": 6,
     "metadata": {},
     "output_type": "execute_result"
    }
   ],
   "source": [
    "runs.get_x()"
   ]
  },
  {
   "cell_type": "code",
   "execution_count": 7,
   "id": "f107dbb3",
   "metadata": {},
   "outputs": [
    {
     "data": {
      "text/plain": [
       "array([ 0,  1,  8, 10, 11, 12])"
      ]
     },
     "execution_count": 7,
     "metadata": {},
     "output_type": "execute_result"
    }
   ],
   "source": [
    "runs.get_y()"
   ]
  },
  {
   "cell_type": "code",
   "execution_count": 8,
   "id": "cd33ea0a",
   "metadata": {},
   "outputs": [
    {
     "data": {
      "text/plain": [
       "array(['X', 'Y', 'X', 'X', 'X', 'Y', 'X', 'Y', 'Y', 'Y'], dtype='<U1')"
      ]
     },
     "execution_count": 8,
     "metadata": {},
     "output_type": "execute_result"
    }
   ],
   "source": [
    "runs.get_sample()"
   ]
  },
  {
   "cell_type": "code",
   "execution_count": 9,
   "id": "bc760b01",
   "metadata": {},
   "outputs": [
    {
     "data": {
      "text/plain": [
       "6"
      ]
     },
     "execution_count": 9,
     "metadata": {},
     "output_type": "execute_result"
    }
   ],
   "source": [
    "runs.get_runs()"
   ]
  },
  {
   "cell_type": "code",
   "execution_count": 10,
   "id": "56e58622",
   "metadata": {},
   "outputs": [
    {
     "name": "stdout",
     "output_type": "stream",
     "text": [
      "H_0: F_X = F_Y v.s H_a: F_X != F_Y\n",
      "Rechazar H_0 si: R <= 3\n",
      "Valor que tomó la estadística: R_obs = 6\n",
      "-> No rechazamos H_0 con nivel de significancia 0.040\n"
     ]
    }
   ],
   "source": [
    "runs.run_test(exact=True)"
   ]
  },
  {
   "cell_type": "markdown",
   "id": "e9d8129c",
   "metadata": {},
   "source": [
    "###### Con más datos"
   ]
  },
  {
   "cell_type": "code",
   "execution_count": 11,
   "id": "c3d848d6",
   "metadata": {},
   "outputs": [],
   "source": [
    "x_1 = np.random.normal(loc=0, size=560)\n",
    "y_1 = np.random.normal(loc=0.1, size=780)\n"
   ]
  },
  {
   "cell_type": "code",
   "execution_count": 12,
   "id": "e9b3c0f3",
   "metadata": {
    "scrolled": false
   },
   "outputs": [
    {
     "data": {
      "image/png": "[encoded data removed]",
      "text/plain": [
       "<Figure size 640x480 with 1 Axes>"
      ]
     },
     "metadata": {},
     "output_type": "display_data"
    }
   ],
   "source": [
    "plt.hist(x_1, alpha=0.5, label='x', bins=30, density=True)\n",
    "plt.hist(y_1, alpha=0.5, label='y', bins=30, density=True)\n",
    "plt.legend(loc='upper right')\n",
    "plt.show()"
   ]
  },
  {
   "cell_type": "code",
   "execution_count": 13,
   "id": "d0d7fbb2",
   "metadata": {},
   "outputs": [
    {
     "name": "stdout",
     "output_type": "stream",
     "text": [
      "H_0: F_X = F_Y v.s H_a: F_X != F_Y\n",
      "Rechazar H_0 si: Z <= -1.645\n",
      "Valor que tomó la estadística R: R_obs = 631\n",
      "Valor que tomó la estadística Z: Z_obs = -1.204\n",
      "->No rechazamos H_0 con nivel de significancia 5.0%\n"
     ]
    }
   ],
   "source": [
    "t_1 = RunsEqualityTest(x_1, y_1)\n",
    "t_1.run_test()"
   ]
  },
  {
   "cell_type": "code",
   "execution_count": 14,
   "id": "0e6b3174",
   "metadata": {},
   "outputs": [],
   "source": [
    "x_2 = np.random.normal(loc=0, size=560)\n",
    "y_2 = np.random.normal(loc=2, size=780)\n"
   ]
  },
  {
   "cell_type": "code",
   "execution_count": 15,
   "id": "7be81953",
   "metadata": {},
   "outputs": [
    {
     "data": {
      "image/png": "[encoded data removed]",
      "text/plain": [
       "<Figure size 640x480 with 1 Axes>"
      ]
     },
     "metadata": {},
     "output_type": "display_data"
    }
   ],
   "source": [
    "plt.hist(x_2, alpha=0.5, label='x', bins=30, density=True)\n",
    "plt.hist(y_2, alpha=0.5, label='y', bins=30, density=True)\n",
    "plt.legend(loc='upper right')\n",
    "plt.show()"
   ]
  },
  {
   "cell_type": "code",
   "execution_count": 16,
   "id": "9507d8de",
   "metadata": {},
   "outputs": [
    {
     "name": "stdout",
     "output_type": "stream",
     "text": [
      "H_0: F_X = F_Y v.s H_a: F_X != F_Y\n",
      "Rechazar H_0 si: Z <= -1.645\n",
      "Valor que tomó la estadística R: R_obs = 316\n",
      "Valor que tomó la estadística Z: Z_obs = -18.898\n",
      "-> Rechazamos H_0 con nivel de significancia 5.0%\n"
     ]
    }
   ],
   "source": [
    "t_2 = RunsEqualityTest(x_2, y_2)\n",
    "t_2.run_test()"
   ]
  },
  {
   "cell_type": "markdown",
   "id": "a6b0fc13",
   "metadata": {},
   "source": [
    "### Prueba de Mann-Whitney (U-test)"
   ]
  },
  {
   "cell_type": "code",
   "execution_count": 17,
   "id": "f5b0eedb",
   "metadata": {},
   "outputs": [],
   "source": [
    "class MannWhitneyTest(EqualityTest):\n",
    "    def __init__(self, x, y):\n",
    "        \"\"\" Constructor de la clase.\n",
    "        \n",
    "        :param x: Mediciones de la primera distribución.\n",
    "        :param y: Mediciones de la segunda distribución.\n",
    "        \"\"\"\n",
    "        super().__init__(x, y)\n",
    "        self.__u: int = 0\n",
    "        self.__u_prime: int = 0\n",
    "        self.__compute_u()\n",
    "        self.__compute_u_prime()\n",
    "        \n",
    "    def get_u(self):\n",
    "        \"\"\" Regresa el valor que toma la estadística U. \"\"\"\n",
    "        return self.__u\n",
    "    \n",
    "    def get_u_prime(self):\n",
    "        \"\"\" Regresa el valor que toma la estadística U'. \"\"\"\n",
    "        return self.__u_prime\n",
    "    \n",
    "    def __compute_u(self):\n",
    "        \"\"\" Calcula eficientemente el valor de la estadística U. \"\"\"\n",
    "        x_indices = self._indices[\"X\"]\n",
    "        u = sum(x_indices) - (self._n_1 * (self._n_1 - 1) / 2)\n",
    "        self.__u = int(u)\n",
    "        \n",
    "    def __compute_u_prime(self):\n",
    "        \"\"\" Calcula eficientemente el valor de la estadística U'. \"\"\"\n",
    "        # Aquí va tu código\n",
    "    \n",
    "    def __pmf(self, u):\n",
    "        \"\"\" Función de masa de probabilidad de U (exacta). \n",
    "        \n",
    "        :param u: El valor que toma U.\n",
    "        \"\"\"\n",
    "        # Aquí va tu código\n",
    "    \n",
    "    def __test_statistic_asymptotic(self, u):\n",
    "        \"\"\" Calcula la estadística de prueba asintótica.\n",
    "        \n",
    "        :param u: El valor que toma U o U'.\n",
    "        :return: El valor que toma la estadística de pruba.\n",
    "        \"\"\"\n",
    "        z = u + 0.5 - (self._n_1 * self._n_2 / 2)\n",
    "        z /= np.sqrt((self._n_1 * self._n_2) * (self._n + 1 / 12))\n",
    "        return z\n",
    "    \n",
    "    def run_test(self, alternative, alpha=0.05, exact=False):\n",
    "        \"\"\" Realiza la prueba de hipótesis. \n",
    "        \n",
    "        :param alternative: Hipótesis alternativa.\n",
    "        :param alpha: Nivel de significancia deseado.\n",
    "        :param exact: Si la prueba será exacta o asintótica.\n",
    "        \"\"\"\n",
    "        if exact:\n",
    "            pass\n",
    "        else:\n",
    "            if alternative == \"F_X != F_Y\" or alternative == \"F_Y != F_X\":\n",
    "                z = self.__test_statistic_asymptotic(self.__u)\n",
    "                z_prime = self.__test_statistic_asymptotic(self.__u_prime)\n",
    "                c_alpha = norm.ppf(q=alpha/2)\n",
    "                # Aquí va tu código\n",
    "                \n",
    "            elif alternative == \"F_X < F_Y\" or alternative == \"F_Y > F_X\":\n",
    "                z_prime = self.__test_statistic_asymptotic(self.__u_prime)\n",
    "                c_alpha = norm.ppf(q=alpha)\n",
    "                # Aquí va tu código\n",
    "                \n",
    "            elif alternative == \"F_X > F_Y\" or alternative == \"F_Y < F_X\":\n",
    "                z = self.__test_statistic_asymptotic(self.__u)\n",
    "                c_alpha = norm.ppf(q=alpha)\n",
    "                print(\"H_0: F_X = F_Y v.s H_a: F_X > F_Y\")\n",
    "                print(f\"Rechazar H_0: F_X = F_Y si: Z <= {c_alpha:.3f}\")\n",
    "                print(f\"Valor que tomó la estadística U: U_obs = {self.__u}\")\n",
    "                print(f\"Valor que tomó la estadística Z: Z_obs = {z:.3f}\")\n",
    "                decision = \"-> Rechazamos H_0\" if z <= c_alpha else \"->No rechazamos H_0\"\n",
    "                print(decision + f\" con nivel de significancia {alpha*100}%\")"
   ]
  },
  {
   "cell_type": "markdown",
   "id": "3c2c028b",
   "metadata": {},
   "source": [
    "###### Verificamos que funcione"
   ]
  },
  {
   "cell_type": "code",
   "execution_count": 18,
   "id": "6f202d4c",
   "metadata": {},
   "outputs": [],
   "source": [
    "x = np.array([1, 6, 7])\n",
    "y = np.array([2, 4, 9, 10, 12])\n",
    "\n",
    "mw = MannWhitneyTest(x,y)"
   ]
  },
  {
   "cell_type": "code",
   "execution_count": 19,
   "id": "a4defbfa",
   "metadata": {},
   "outputs": [
    {
     "data": {
      "text/plain": [
       "array(['X', 'Y', 'Y', 'X', 'X', 'Y', 'Y', 'Y'], dtype='<U1')"
      ]
     },
     "execution_count": 19,
     "metadata": {},
     "output_type": "execute_result"
    }
   ],
   "source": [
    "mw.get_sample()"
   ]
  },
  {
   "cell_type": "code",
   "execution_count": 20,
   "id": "bb5c0351",
   "metadata": {},
   "outputs": [
    {
     "data": {
      "text/plain": [
       "{'X': [0, 3, 4], 'Y': [1, 2, 5, 6, 7]}"
      ]
     },
     "execution_count": 20,
     "metadata": {},
     "output_type": "execute_result"
    }
   ],
   "source": [
    "mw.get_indices()"
   ]
  },
  {
   "cell_type": "code",
   "execution_count": 21,
   "id": "01358920",
   "metadata": {},
   "outputs": [
    {
     "data": {
      "text/plain": [
       "4"
      ]
     },
     "execution_count": 21,
     "metadata": {},
     "output_type": "execute_result"
    }
   ],
   "source": [
    "mw.get_u()"
   ]
  },
  {
   "cell_type": "code",
   "execution_count": 22,
   "id": "5d534ca4",
   "metadata": {},
   "outputs": [
    {
     "name": "stdout",
     "output_type": "stream",
     "text": [
      "H_0: F_X = F_Y v.s H_a: F_X > F_Y\n",
      "Rechazar H_0: F_X = F_Y si: Z <= -1.645\n",
      "Valor que tomó la estadística U: U_obs = 4\n",
      "Valor que tomó la estadística Z: Z_obs = -0.272\n",
      "->No rechazamos H_0 con nivel de significancia 5.0%\n"
     ]
    }
   ],
   "source": [
    "mw.run_test(alternative=\"F_Y < F_X\")"
   ]
  },
  {
   "cell_type": "markdown",
   "id": "b1208d00",
   "metadata": {},
   "source": [
    "###### Con más datos"
   ]
  },
  {
   "cell_type": "code",
   "execution_count": 23,
   "id": "b01b1512",
   "metadata": {},
   "outputs": [],
   "source": [
    "x_3 = chi2.rvs(df=3, size=263)\n",
    "y_3 = chi2.rvs(df=3, size=257)"
   ]
  },
  {
   "cell_type": "code",
   "execution_count": 24,
   "id": "f26b630e",
   "metadata": {},
   "outputs": [
    {
     "data": {
      "image/png": "[encoded data removed]",
      "text/plain": [
       "<Figure size 640x480 with 1 Axes>"
      ]
     },
     "metadata": {},
     "output_type": "display_data"
    }
   ],
   "source": [
    "plt.hist(x_3, alpha=0.5, label='x', bins=30, density=True)\n",
    "plt.hist(y_3, alpha=0.5, label='y', bins=30, density=True)\n",
    "plt.legend(loc='upper right')\n",
    "plt.show()"
   ]
  },
  {
   "cell_type": "code",
   "execution_count": 25,
   "id": "35e7f542",
   "metadata": {},
   "outputs": [],
   "source": [
    "mw_3 = MannWhitneyTest(x_3, y_3)"
   ]
  },
  {
   "cell_type": "code",
   "execution_count": 26,
   "id": "87dcb80b",
   "metadata": {
    "scrolled": true
   },
   "outputs": [
    {
     "name": "stdout",
     "output_type": "stream",
     "text": [
      "H_0: F_X = F_Y v.s H_a: F_X > F_Y\n",
      "Rechazar H_0: F_X = F_Y si: Z <= -1.645\n",
      "Valor que tomó la estadística U: U_obs = 32228\n",
      "Valor que tomó la estadística Z: Z_obs = -0.264\n",
      "->No rechazamos H_0 con nivel de significancia 5.0%\n"
     ]
    }
   ],
   "source": [
    "mw_3.run_test(alternative=\"F_Y < F_X\")"
   ]
  },
  {
   "cell_type": "code",
   "execution_count": 27,
   "id": "b101df6f",
   "metadata": {},
   "outputs": [],
   "source": [
    "x_4 = chi2.rvs(df=3, size=263)\n",
    "y_4 = chi2.rvs(df=5, size=257)"
   ]
  },
  {
   "cell_type": "code",
   "execution_count": 28,
   "id": "b57d7bff",
   "metadata": {},
   "outputs": [
    {
     "data": {
      "image/png": "[encoded data removed]",
      "text/plain": [
       "<Figure size 640x480 with 1 Axes>"
      ]
     },
     "metadata": {},
     "output_type": "display_data"
    }
   ],
   "source": [
    "plt.hist(x_4, alpha=0.5, label='x', bins=30, density=True)\n",
    "plt.hist(y_4, alpha=0.5, label='y', bins=30, density=True)\n",
    "plt.legend(loc='upper right')\n",
    "plt.show()"
   ]
  },
  {
   "cell_type": "code",
   "execution_count": 29,
   "id": "b369e1e0",
   "metadata": {},
   "outputs": [
    {
     "name": "stdout",
     "output_type": "stream",
     "text": [
      "H_0: F_X = F_Y v.s H_a: F_X > F_Y\n",
      "Rechazar H_0: F_X = F_Y si: Z <= -1.645\n",
      "Valor que tomó la estadística U: U_obs = 15963\n",
      "Valor que tomó la estadística Z: Z_obs = -3.008\n",
      "-> Rechazamos H_0 con nivel de significancia 5.0%\n"
     ]
    }
   ],
   "source": [
    "mw_4 = MannWhitneyTest(x_4, y_4)\n",
    "mw_4.run_test(alternative=\"F_Y < F_X\")"
   ]
  },
  {
   "cell_type": "markdown",
   "id": "c58c5c99",
   "metadata": {},
   "source": [
    "### Prueba suma de rangos de Wilcoxon"
   ]
  },
  {
   "cell_type": "code",
   "execution_count": 31,
   "id": "82acbfdf",
   "metadata": {},
   "outputs": [],
   "source": [
    "class WilcoxonTest:\n",
    "    def __init__(self, x, y):\n",
    "        \"\"\" Constructor de la clase.\n",
    "        \n",
    "        :param x: Mediciones de la primera distribución.\n",
    "        :param y: Mediciones de la segunda distribución\n",
    "        \"\"\"\n",
    "        # Aquí va tu código\n",
    "        \n",
    "    def __compute_w(self):\n",
    "        \"\"\" Calcula el valor observado de W. \"\"\"\n",
    "        # Aquí va tu código\n",
    "        \n",
    "    def __test_statistic_asymptotic(self):\n",
    "        \"\"\" Calcula la estadística de prueba asintótica. \"\"\"\n",
    "        # Aquí va tu código\n",
    "        \n",
    "    def run_test(self, alternative, alpha=0.05, exact=False):\n",
    "        \"\"\" Realiza la prueba de hipótesis.\n",
    "        \n",
    "        :param alternative: Hipótesis alternativa.\n",
    "        :param alpha: Nivel de significancia.\n",
    "        :param exact: Si la prueba será exacta o asintótica.\n",
    "        \"\"\"\n",
    "        # Aquí va tu código\n",
    "        \n",
    "    "
   ]
  },
  {
   "cell_type": "code",
   "execution_count": 32,
   "id": "4b6d3370",
   "metadata": {},
   "outputs": [],
   "source": [
    "# Verifica que funcione"
   ]
  },
  {
   "cell_type": "code",
   "execution_count": null,
   "id": "263b2d38",
   "metadata": {},
   "outputs": [],
   "source": []
  },
  {
   "cell_type": "markdown",
   "id": "8e92e843",
   "metadata": {},
   "source": [
    "#### Ejercicio 4 (Ayudantías)"
   ]
  },
  {
   "cell_type": "code",
   "execution_count": 37,
   "id": "1835a048",
   "metadata": {},
   "outputs": [],
   "source": [
    "data_y = np.array([14.8, 7.3, 5.6, 6.3, 9.0, 4.2, 10.6, 12.5, 12.9, 16.1, 11.4, 2.7])\n",
    "data_x = np.array([12.7, 14.2, 12.6, 2.1, 17.7, 11.8, 16.9, 7.9, 16.0, 10.6, 5.6, 5.6, 7.6, 11.3, 8.3, 6.7, 3.6, 1.0, 2.4, 6.4, 9.1, 6.7, 18.6, 3.2, 6.2, 6.1, 15.3, 10.6, 1.8, 5.9, 9.9, 10.6, 14.8, 5.0, 2.6, 4.0])\n"
   ]
  },
  {
   "cell_type": "code",
   "execution_count": 38,
   "id": "30e2e9f5",
   "metadata": {},
   "outputs": [
    {
     "name": "stdout",
     "output_type": "stream",
     "text": [
      "H_0: F_X = F_Y v.s H_a: F_X > F_Y\n",
      "Rechazar H_0: F_X = F_Y si: Z <= -1.645\n",
      "Valor que tomó la estadística U: U_obs = 130\n",
      "Valor que tomó la estadística Z: Z_obs = -0.161\n",
      "->No rechazamos H_0 con nivel de significancia 5.0%\n"
     ]
    }
   ],
   "source": [
    "mw_4 = MannWhitneyTest(data_x, data_y)\n",
    "mw_4.run_test(alternative=\"F_Y < F_X\")"
   ]
  },
  {
   "cell_type": "markdown",
   "id": "0630df5f",
   "metadata": {},
   "source": [
    "#### Ejercicio 1.\n",
    "\n",
    "El archivo data.csv contiene $613,787$ registros con datos sobre sismos alrededor del mundo entre el año 2000 y el año 2023; en particular, se tiene el registro de la magnitud de todos los sismos.\n",
    "\n",
    "Separe el total de registros en dos conjuntos de datos ($\\mathcal{D}_X$ y $\\mathcal{D}_Y$), de tal maneta que el primer conjunto de datos tenga las magnitudes de los sismos ocurridos desde el año 2000 hasta el año 2011, y el segundo conjunto contenga las magnitudes de los sismos ocurridos después de 2011 y hasta el 2023.\n",
    "\n",
    "Claramente la magnitud de un sismo es una variable continua (aunque no se pueden medir con precisión infinita). Verifique que los demás supuestos se cumplen (de manera aproximada), a saber, simetría de las densidades, misma dispersión y tendencia central.\n",
    "\n",
    "Luego, efectúe una prueba estadística con significancia del $10\\%$ para verificar si ambos conjuntos de datos vienen o no de la misma distribución."
   ]
  },
  {
   "cell_type": "code",
   "execution_count": 39,
   "id": "aa99d240",
   "metadata": {},
   "outputs": [],
   "source": [
    "import pandas as pd\n",
    "import matplotlib.pyplot as plt\n",
    "import numpy as np"
   ]
  },
  {
   "cell_type": "code",
   "execution_count": 40,
   "id": "017a66cf",
   "metadata": {},
   "outputs": [
    {
     "data": {
      "text/html": [
       "<div>\n",
       "<style scoped>\n",
       "    .dataframe tbody tr th:only-of-type {\n",
       "        vertical-align: middle;\n",
       "    }\n",
       "\n",
       "    .dataframe tbody tr th {\n",
       "        vertical-align: top;\n",
       "    }\n",
       "\n",
       "    .dataframe thead th {\n",
       "        text-align: right;\n",
       "    }\n",
       "</style>\n",
       "<table border=\"1\" class=\"dataframe\">\n",
       "  <thead>\n",
       "    <tr style=\"text-align: right;\">\n",
       "      <th></th>\n",
       "      <th>Unnamed: 0</th>\n",
       "      <th>time</th>\n",
       "      <th>latitude</th>\n",
       "      <th>longitude</th>\n",
       "      <th>depth</th>\n",
       "      <th>mag</th>\n",
       "      <th>magType</th>\n",
       "      <th>nst</th>\n",
       "      <th>gap</th>\n",
       "      <th>dmin</th>\n",
       "      <th>...</th>\n",
       "      <th>updated</th>\n",
       "      <th>place</th>\n",
       "      <th>type</th>\n",
       "      <th>horizontalError</th>\n",
       "      <th>depthError</th>\n",
       "      <th>magError</th>\n",
       "      <th>magNst</th>\n",
       "      <th>status</th>\n",
       "      <th>locationSource</th>\n",
       "      <th>magSource</th>\n",
       "    </tr>\n",
       "  </thead>\n",
       "  <tbody>\n",
       "    <tr>\n",
       "      <th>0</th>\n",
       "      <td>0</td>\n",
       "      <td>2000-01-01T01:19:26.990Z</td>\n",
       "      <td>41.927000</td>\n",
       "      <td>20.543000</td>\n",
       "      <td>10.000000</td>\n",
       "      <td>4.50</td>\n",
       "      <td>mb</td>\n",
       "      <td>NaN</td>\n",
       "      <td>NaN</td>\n",
       "      <td>NaN</td>\n",
       "      <td>...</td>\n",
       "      <td>2014-11-07T01:09:14.397Z</td>\n",
       "      <td>14 km SW of Dragash, Kosovo</td>\n",
       "      <td>earthquake</td>\n",
       "      <td>NaN</td>\n",
       "      <td>NaN</td>\n",
       "      <td>NaN</td>\n",
       "      <td>18.0</td>\n",
       "      <td>reviewed</td>\n",
       "      <td>us</td>\n",
       "      <td>us</td>\n",
       "    </tr>\n",
       "    <tr>\n",
       "      <th>1</th>\n",
       "      <td>1</td>\n",
       "      <td>2000-01-01T02:10:15.590Z</td>\n",
       "      <td>41.915000</td>\n",
       "      <td>20.534000</td>\n",
       "      <td>6.200000</td>\n",
       "      <td>2.90</td>\n",
       "      <td>md</td>\n",
       "      <td>NaN</td>\n",
       "      <td>NaN</td>\n",
       "      <td>NaN</td>\n",
       "      <td>...</td>\n",
       "      <td>2014-11-07T01:09:14.652Z</td>\n",
       "      <td>15 km SW of Dragash, Kosovo</td>\n",
       "      <td>earthquake</td>\n",
       "      <td>NaN</td>\n",
       "      <td>NaN</td>\n",
       "      <td>NaN</td>\n",
       "      <td>NaN</td>\n",
       "      <td>reviewed</td>\n",
       "      <td>pdg</td>\n",
       "      <td>pdg</td>\n",
       "    </tr>\n",
       "    <tr>\n",
       "      <th>2</th>\n",
       "      <td>2</td>\n",
       "      <td>2000-01-01T02:12:13.450Z</td>\n",
       "      <td>-11.348000</td>\n",
       "      <td>164.568000</td>\n",
       "      <td>33.000000</td>\n",
       "      <td>4.30</td>\n",
       "      <td>mb</td>\n",
       "      <td>NaN</td>\n",
       "      <td>NaN</td>\n",
       "      <td>NaN</td>\n",
       "      <td>...</td>\n",
       "      <td>2014-11-07T01:09:14.702Z</td>\n",
       "      <td>150 km WSW of Lata, Solomon Islands</td>\n",
       "      <td>earthquake</td>\n",
       "      <td>NaN</td>\n",
       "      <td>NaN</td>\n",
       "      <td>NaN</td>\n",
       "      <td>2.0</td>\n",
       "      <td>reviewed</td>\n",
       "      <td>us</td>\n",
       "      <td>us</td>\n",
       "    </tr>\n",
       "    <tr>\n",
       "      <th>3</th>\n",
       "      <td>3</td>\n",
       "      <td>2000-01-01T03:20:57.300Z</td>\n",
       "      <td>48.119000</td>\n",
       "      <td>-2.959000</td>\n",
       "      <td>3.000000</td>\n",
       "      <td>2.70</td>\n",
       "      <td>ml</td>\n",
       "      <td>NaN</td>\n",
       "      <td>NaN</td>\n",
       "      <td>NaN</td>\n",
       "      <td>...</td>\n",
       "      <td>2014-11-07T01:09:14.711Z</td>\n",
       "      <td>2 km ESE of Neulliac, France</td>\n",
       "      <td>earthquake</td>\n",
       "      <td>NaN</td>\n",
       "      <td>NaN</td>\n",
       "      <td>NaN</td>\n",
       "      <td>NaN</td>\n",
       "      <td>reviewed</td>\n",
       "      <td>ldg</td>\n",
       "      <td>ldg</td>\n",
       "    </tr>\n",
       "    <tr>\n",
       "      <th>4</th>\n",
       "      <td>4</td>\n",
       "      <td>2000-01-01T03:24:23.217Z</td>\n",
       "      <td>62.753100</td>\n",
       "      <td>-150.301000</td>\n",
       "      <td>93.300000</td>\n",
       "      <td>2.50</td>\n",
       "      <td>ml</td>\n",
       "      <td>NaN</td>\n",
       "      <td>NaN</td>\n",
       "      <td>NaN</td>\n",
       "      <td>...</td>\n",
       "      <td>2020-02-20T20:06:40.502Z</td>\n",
       "      <td>35 km NNW of Chase, Alaska</td>\n",
       "      <td>earthquake</td>\n",
       "      <td>NaN</td>\n",
       "      <td>3.200000</td>\n",
       "      <td>NaN</td>\n",
       "      <td>NaN</td>\n",
       "      <td>reviewed</td>\n",
       "      <td>ak</td>\n",
       "      <td>ak</td>\n",
       "    </tr>\n",
       "    <tr>\n",
       "      <th>...</th>\n",
       "      <td>...</td>\n",
       "      <td>...</td>\n",
       "      <td>...</td>\n",
       "      <td>...</td>\n",
       "      <td>...</td>\n",
       "      <td>...</td>\n",
       "      <td>...</td>\n",
       "      <td>...</td>\n",
       "      <td>...</td>\n",
       "      <td>...</td>\n",
       "      <td>...</td>\n",
       "      <td>...</td>\n",
       "      <td>...</td>\n",
       "      <td>...</td>\n",
       "      <td>...</td>\n",
       "      <td>...</td>\n",
       "      <td>...</td>\n",
       "      <td>...</td>\n",
       "      <td>...</td>\n",
       "      <td>...</td>\n",
       "      <td>...</td>\n",
       "    </tr>\n",
       "    <tr>\n",
       "      <th>613782</th>\n",
       "      <td>613782</td>\n",
       "      <td>2023-02-12T20:12:16.890Z</td>\n",
       "      <td>40.597500</td>\n",
       "      <td>-123.838837</td>\n",
       "      <td>23.150000</td>\n",
       "      <td>2.66</td>\n",
       "      <td>md</td>\n",
       "      <td>28.0</td>\n",
       "      <td>95.0</td>\n",
       "      <td>0.126800</td>\n",
       "      <td>...</td>\n",
       "      <td>2023-02-12T22:45:15.101Z</td>\n",
       "      <td>22km ENE of Hydesville, CA</td>\n",
       "      <td>earthquake</td>\n",
       "      <td>0.370000</td>\n",
       "      <td>0.780000</td>\n",
       "      <td>0.120</td>\n",
       "      <td>22.0</td>\n",
       "      <td>automatic</td>\n",
       "      <td>nc</td>\n",
       "      <td>nc</td>\n",
       "    </tr>\n",
       "    <tr>\n",
       "      <th>613783</th>\n",
       "      <td>613783</td>\n",
       "      <td>2023-02-12T20:34:24.157Z</td>\n",
       "      <td>32.749329</td>\n",
       "      <td>-100.657274</td>\n",
       "      <td>8.290161</td>\n",
       "      <td>3.10</td>\n",
       "      <td>ml</td>\n",
       "      <td>20.0</td>\n",
       "      <td>57.0</td>\n",
       "      <td>0.081497</td>\n",
       "      <td>...</td>\n",
       "      <td>2023-02-12T21:35:08.520Z</td>\n",
       "      <td>15 km NE of Hermleigh, Texas</td>\n",
       "      <td>earthquake</td>\n",
       "      <td>0.707574</td>\n",
       "      <td>1.054984</td>\n",
       "      <td>0.100</td>\n",
       "      <td>10.0</td>\n",
       "      <td>reviewed</td>\n",
       "      <td>tx</td>\n",
       "      <td>tx</td>\n",
       "    </tr>\n",
       "    <tr>\n",
       "      <th>613784</th>\n",
       "      <td>613784</td>\n",
       "      <td>2023-02-12T21:26:18.592Z</td>\n",
       "      <td>20.426600</td>\n",
       "      <td>121.957200</td>\n",
       "      <td>120.976000</td>\n",
       "      <td>4.40</td>\n",
       "      <td>mb</td>\n",
       "      <td>49.0</td>\n",
       "      <td>121.0</td>\n",
       "      <td>2.516000</td>\n",
       "      <td>...</td>\n",
       "      <td>2023-02-12T22:54:35.040Z</td>\n",
       "      <td>2 km SSW of Basco, Philippines</td>\n",
       "      <td>earthquake</td>\n",
       "      <td>11.010000</td>\n",
       "      <td>8.422000</td>\n",
       "      <td>0.095</td>\n",
       "      <td>32.0</td>\n",
       "      <td>reviewed</td>\n",
       "      <td>us</td>\n",
       "      <td>us</td>\n",
       "    </tr>\n",
       "    <tr>\n",
       "      <th>613785</th>\n",
       "      <td>613785</td>\n",
       "      <td>2023-02-12T22:52:59.864Z</td>\n",
       "      <td>38.027600</td>\n",
       "      <td>36.632200</td>\n",
       "      <td>10.000000</td>\n",
       "      <td>4.50</td>\n",
       "      <td>mb</td>\n",
       "      <td>59.0</td>\n",
       "      <td>99.0</td>\n",
       "      <td>1.028000</td>\n",
       "      <td>...</td>\n",
       "      <td>2023-02-13T06:32:10.098Z</td>\n",
       "      <td>Central Turkey</td>\n",
       "      <td>earthquake</td>\n",
       "      <td>4.530000</td>\n",
       "      <td>1.855000</td>\n",
       "      <td>0.080</td>\n",
       "      <td>46.0</td>\n",
       "      <td>reviewed</td>\n",
       "      <td>us</td>\n",
       "      <td>us</td>\n",
       "    </tr>\n",
       "    <tr>\n",
       "      <th>613786</th>\n",
       "      <td>613786</td>\n",
       "      <td>2023-02-12T22:53:27.888Z</td>\n",
       "      <td>60.129300</td>\n",
       "      <td>-152.907700</td>\n",
       "      <td>120.795000</td>\n",
       "      <td>3.30</td>\n",
       "      <td>ml</td>\n",
       "      <td>67.0</td>\n",
       "      <td>59.0</td>\n",
       "      <td>0.299000</td>\n",
       "      <td>...</td>\n",
       "      <td>2023-02-13T00:29:03.040Z</td>\n",
       "      <td>68 km WNW of Happy Valley, Alaska</td>\n",
       "      <td>earthquake</td>\n",
       "      <td>2.080000</td>\n",
       "      <td>7.295000</td>\n",
       "      <td>0.036</td>\n",
       "      <td>104.0</td>\n",
       "      <td>reviewed</td>\n",
       "      <td>us</td>\n",
       "      <td>us</td>\n",
       "    </tr>\n",
       "  </tbody>\n",
       "</table>\n",
       "<p>613787 rows × 23 columns</p>\n",
       "</div>"
      ],
      "text/plain": [
       "        Unnamed: 0                      time   latitude   longitude  \\\n",
       "0                0  2000-01-01T01:19:26.990Z  41.927000   20.543000   \n",
       "1                1  2000-01-01T02:10:15.590Z  41.915000   20.534000   \n",
       "2                2  2000-01-01T02:12:13.450Z -11.348000  164.568000   \n",
       "3                3  2000-01-01T03:20:57.300Z  48.119000   -2.959000   \n",
       "4                4  2000-01-01T03:24:23.217Z  62.753100 -150.301000   \n",
       "...            ...                       ...        ...         ...   \n",
       "613782      613782  2023-02-12T20:12:16.890Z  40.597500 -123.838837   \n",
       "613783      613783  2023-02-12T20:34:24.157Z  32.749329 -100.657274   \n",
       "613784      613784  2023-02-12T21:26:18.592Z  20.426600  121.957200   \n",
       "613785      613785  2023-02-12T22:52:59.864Z  38.027600   36.632200   \n",
       "613786      613786  2023-02-12T22:53:27.888Z  60.129300 -152.907700   \n",
       "\n",
       "             depth   mag magType   nst    gap      dmin  ...  \\\n",
       "0        10.000000  4.50      mb   NaN    NaN       NaN  ...   \n",
       "1         6.200000  2.90      md   NaN    NaN       NaN  ...   \n",
       "2        33.000000  4.30      mb   NaN    NaN       NaN  ...   \n",
       "3         3.000000  2.70      ml   NaN    NaN       NaN  ...   \n",
       "4        93.300000  2.50      ml   NaN    NaN       NaN  ...   \n",
       "...            ...   ...     ...   ...    ...       ...  ...   \n",
       "613782   23.150000  2.66      md  28.0   95.0  0.126800  ...   \n",
       "613783    8.290161  3.10      ml  20.0   57.0  0.081497  ...   \n",
       "613784  120.976000  4.40      mb  49.0  121.0  2.516000  ...   \n",
       "613785   10.000000  4.50      mb  59.0   99.0  1.028000  ...   \n",
       "613786  120.795000  3.30      ml  67.0   59.0  0.299000  ...   \n",
       "\n",
       "                         updated                                place  \\\n",
       "0       2014-11-07T01:09:14.397Z          14 km SW of Dragash, Kosovo   \n",
       "1       2014-11-07T01:09:14.652Z          15 km SW of Dragash, Kosovo   \n",
       "2       2014-11-07T01:09:14.702Z  150 km WSW of Lata, Solomon Islands   \n",
       "3       2014-11-07T01:09:14.711Z         2 km ESE of Neulliac, France   \n",
       "4       2020-02-20T20:06:40.502Z           35 km NNW of Chase, Alaska   \n",
       "...                          ...                                  ...   \n",
       "613782  2023-02-12T22:45:15.101Z           22km ENE of Hydesville, CA   \n",
       "613783  2023-02-12T21:35:08.520Z         15 km NE of Hermleigh, Texas   \n",
       "613784  2023-02-12T22:54:35.040Z       2 km SSW of Basco, Philippines   \n",
       "613785  2023-02-13T06:32:10.098Z                       Central Turkey   \n",
       "613786  2023-02-13T00:29:03.040Z    68 km WNW of Happy Valley, Alaska   \n",
       "\n",
       "              type horizontalError depthError magError  magNst     status  \\\n",
       "0       earthquake             NaN        NaN      NaN    18.0   reviewed   \n",
       "1       earthquake             NaN        NaN      NaN     NaN   reviewed   \n",
       "2       earthquake             NaN        NaN      NaN     2.0   reviewed   \n",
       "3       earthquake             NaN        NaN      NaN     NaN   reviewed   \n",
       "4       earthquake             NaN   3.200000      NaN     NaN   reviewed   \n",
       "...            ...             ...        ...      ...     ...        ...   \n",
       "613782  earthquake        0.370000   0.780000    0.120    22.0  automatic   \n",
       "613783  earthquake        0.707574   1.054984    0.100    10.0   reviewed   \n",
       "613784  earthquake       11.010000   8.422000    0.095    32.0   reviewed   \n",
       "613785  earthquake        4.530000   1.855000    0.080    46.0   reviewed   \n",
       "613786  earthquake        2.080000   7.295000    0.036   104.0   reviewed   \n",
       "\n",
       "        locationSource  magSource  \n",
       "0                   us         us  \n",
       "1                  pdg        pdg  \n",
       "2                   us         us  \n",
       "3                  ldg        ldg  \n",
       "4                   ak         ak  \n",
       "...                ...        ...  \n",
       "613782              nc         nc  \n",
       "613783              tx         tx  \n",
       "613784              us         us  \n",
       "613785              us         us  \n",
       "613786              us         us  \n",
       "\n",
       "[613787 rows x 23 columns]"
      ]
     },
     "execution_count": 40,
     "metadata": {},
     "output_type": "execute_result"
    }
   ],
   "source": [
    "data = pd.read_csv(\"data.csv\")\n",
    "data"
   ]
  },
  {
   "cell_type": "markdown",
   "id": "954a861b",
   "metadata": {},
   "source": [
    "#### Ejercicio 2\n",
    "El conjunto de datos \"Average cost of undergraduate student by state USA\" contiene información sobre el costo promedio de los estudios de pre-grado (licenciatura) en cada estado de Estados Unidos durante los años 2013 a 2021. Realiza una prueba de hipótesis adecuada para determinar si el costo promedio de los estudios de pre-grado en escuelas públicas es igual al costo promedio en escuelas privadas, o si el costo en estas últimas es mayor.\n",
    "\n",
    "El conjunto de datos se encuentra en: https://www.kaggle.com/datasets/bhargavchirumamilla/average-cost-of-undergraduate-student-by-state-usa"
   ]
  },
  {
   "cell_type": "code",
   "execution_count": 43,
   "id": "38f974a9",
   "metadata": {},
   "outputs": [],
   "source": [
    "dataset2 = pd.read_csv(\"average_cost.csv\")"
   ]
  },
  {
   "cell_type": "code",
   "execution_count": 44,
   "id": "c9ab4a0a",
   "metadata": {},
   "outputs": [
    {
     "data": {
      "text/html": [
       "<div>\n",
       "<style scoped>\n",
       "    .dataframe tbody tr th:only-of-type {\n",
       "        vertical-align: middle;\n",
       "    }\n",
       "\n",
       "    .dataframe tbody tr th {\n",
       "        vertical-align: top;\n",
       "    }\n",
       "\n",
       "    .dataframe thead th {\n",
       "        text-align: right;\n",
       "    }\n",
       "</style>\n",
       "<table border=\"1\" class=\"dataframe\">\n",
       "  <thead>\n",
       "    <tr style=\"text-align: right;\">\n",
       "      <th></th>\n",
       "      <th>Year</th>\n",
       "      <th>State</th>\n",
       "      <th>Type</th>\n",
       "      <th>Length</th>\n",
       "      <th>Expense</th>\n",
       "      <th>Value</th>\n",
       "    </tr>\n",
       "  </thead>\n",
       "  <tbody>\n",
       "    <tr>\n",
       "      <th>0</th>\n",
       "      <td>2013</td>\n",
       "      <td>Alabama</td>\n",
       "      <td>Private</td>\n",
       "      <td>4-year</td>\n",
       "      <td>Fees/Tuition</td>\n",
       "      <td>13983</td>\n",
       "    </tr>\n",
       "    <tr>\n",
       "      <th>1</th>\n",
       "      <td>2013</td>\n",
       "      <td>Alabama</td>\n",
       "      <td>Private</td>\n",
       "      <td>4-year</td>\n",
       "      <td>Room/Board</td>\n",
       "      <td>8503</td>\n",
       "    </tr>\n",
       "    <tr>\n",
       "      <th>2</th>\n",
       "      <td>2013</td>\n",
       "      <td>Alabama</td>\n",
       "      <td>Public In-State</td>\n",
       "      <td>2-year</td>\n",
       "      <td>Fees/Tuition</td>\n",
       "      <td>4048</td>\n",
       "    </tr>\n",
       "    <tr>\n",
       "      <th>3</th>\n",
       "      <td>2013</td>\n",
       "      <td>Alabama</td>\n",
       "      <td>Public In-State</td>\n",
       "      <td>4-year</td>\n",
       "      <td>Fees/Tuition</td>\n",
       "      <td>8073</td>\n",
       "    </tr>\n",
       "    <tr>\n",
       "      <th>4</th>\n",
       "      <td>2013</td>\n",
       "      <td>Alabama</td>\n",
       "      <td>Public In-State</td>\n",
       "      <td>4-year</td>\n",
       "      <td>Room/Board</td>\n",
       "      <td>8473</td>\n",
       "    </tr>\n",
       "    <tr>\n",
       "      <th>...</th>\n",
       "      <td>...</td>\n",
       "      <td>...</td>\n",
       "      <td>...</td>\n",
       "      <td>...</td>\n",
       "      <td>...</td>\n",
       "      <td>...</td>\n",
       "    </tr>\n",
       "    <tr>\n",
       "      <th>3543</th>\n",
       "      <td>2021</td>\n",
       "      <td>Wyoming</td>\n",
       "      <td>Public In-State</td>\n",
       "      <td>2-year</td>\n",
       "      <td>Fees/Tuition</td>\n",
       "      <td>3987</td>\n",
       "    </tr>\n",
       "    <tr>\n",
       "      <th>3544</th>\n",
       "      <td>2021</td>\n",
       "      <td>Wyoming</td>\n",
       "      <td>Public In-State</td>\n",
       "      <td>4-year</td>\n",
       "      <td>Room/Board</td>\n",
       "      <td>9799</td>\n",
       "    </tr>\n",
       "    <tr>\n",
       "      <th>3545</th>\n",
       "      <td>2021</td>\n",
       "      <td>Wyoming</td>\n",
       "      <td>Public Out-of-State</td>\n",
       "      <td>2-year</td>\n",
       "      <td>Fees/Tuition</td>\n",
       "      <td>9820</td>\n",
       "    </tr>\n",
       "    <tr>\n",
       "      <th>3546</th>\n",
       "      <td>2021</td>\n",
       "      <td>Wyoming</td>\n",
       "      <td>Public Out-of-State</td>\n",
       "      <td>4-year</td>\n",
       "      <td>Fees/Tuition</td>\n",
       "      <td>14710</td>\n",
       "    </tr>\n",
       "    <tr>\n",
       "      <th>3547</th>\n",
       "      <td>2021</td>\n",
       "      <td>Wyoming</td>\n",
       "      <td>Public Out-of-State</td>\n",
       "      <td>4-year</td>\n",
       "      <td>Room/Board</td>\n",
       "      <td>9799</td>\n",
       "    </tr>\n",
       "  </tbody>\n",
       "</table>\n",
       "<p>3548 rows × 6 columns</p>\n",
       "</div>"
      ],
      "text/plain": [
       "      Year    State                 Type  Length       Expense  Value\n",
       "0     2013  Alabama              Private  4-year  Fees/Tuition  13983\n",
       "1     2013  Alabama              Private  4-year    Room/Board   8503\n",
       "2     2013  Alabama      Public In-State  2-year  Fees/Tuition   4048\n",
       "3     2013  Alabama      Public In-State  4-year  Fees/Tuition   8073\n",
       "4     2013  Alabama      Public In-State  4-year    Room/Board   8473\n",
       "...    ...      ...                  ...     ...           ...    ...\n",
       "3543  2021  Wyoming      Public In-State  2-year  Fees/Tuition   3987\n",
       "3544  2021  Wyoming      Public In-State  4-year    Room/Board   9799\n",
       "3545  2021  Wyoming  Public Out-of-State  2-year  Fees/Tuition   9820\n",
       "3546  2021  Wyoming  Public Out-of-State  4-year  Fees/Tuition  14710\n",
       "3547  2021  Wyoming  Public Out-of-State  4-year    Room/Board   9799\n",
       "\n",
       "[3548 rows x 6 columns]"
      ]
     },
     "execution_count": 44,
     "metadata": {},
     "output_type": "execute_result"
    }
   ],
   "source": [
    "dataset2"
   ]
  },
  {
   "cell_type": "code",
   "execution_count": null,
   "id": "3154304b",
   "metadata": {},
   "outputs": [],
   "source": []
  },
  {
   "cell_type": "code",
   "execution_count": null,
   "id": "fd6c5f9f",
   "metadata": {},
   "outputs": [],
   "source": []
  }
 ],
 "metadata": {
  "kernelspec": {
   "display_name": "Python 3 (ipykernel)",
   "language": "python",
   "name": "python3"
  },
  "language_info": {
   "codemirror_mode": {
    "name": "ipython",
    "version": 3
   },
   "file_extension": ".py",
   "mimetype": "text/x-python",
   "name": "python",
   "nbconvert_exporter": "python",
   "pygments_lexer": "ipython3",
   "version": "3.10.6"
  }
 },
 "nbformat": 4,
 "nbformat_minor": 5
}
