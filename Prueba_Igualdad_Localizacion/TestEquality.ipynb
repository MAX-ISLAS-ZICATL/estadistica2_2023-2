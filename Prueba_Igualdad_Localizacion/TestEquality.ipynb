{
 "cells": [
  {
   "cell_type": "markdown",
   "id": "03f19eca",
   "metadata": {},
   "source": [
    "# Pruebas para la igualdad de dos distribuciones (localización)\n",
    "\n",
    "### Modelos no paramétricos y de regresión\n",
    "##### Por: Jorge Iván Reyes Hernández"
   ]
  },
  {
   "cell_type": "code",
   "execution_count": 1,
   "id": "78a8607c",
   "metadata": {},
   "outputs": [],
   "source": [
    "from abc import ABC\n",
    "\n",
    "import numpy as np\n",
    "import matplotlib.pyplot as plt\n",
    "from scipy.special import binom\n",
    "from scipy.stats import norm, chi2"
   ]
  },
  {
   "cell_type": "code",
   "execution_count": 2,
   "id": "844cc12e",
   "metadata": {},
   "outputs": [],
   "source": [
    "class EqualityTest(ABC):\n",
    "    \"\"\" Clase para implementar la prueba de igualdad de dos distribuciones (localización). \"\"\"\n",
    "    \n",
    "    def __init__(self, x, y):\n",
    "        \"\"\" Constructor de la clase.\n",
    "        \n",
    "        :param x: Mediciones de la primera distribución.\n",
    "        :param y: Mediciones de la segunda distribución.\n",
    "        \"\"\"\n",
    "        self._x = x\n",
    "        self._y = y\n",
    "        self._sample = None\n",
    "        self._indices = {\"X\": [], \"Y\": []}\n",
    "        self._n_1: int = x.size\n",
    "        self._n_2: int = y.size\n",
    "        self._n: int = self._n_1 + self._n_2\n",
    "        self._significance_level: float = 0.0\n",
    "        self.__merge_data()\n",
    "        \n",
    "    def get_x(self):\n",
    "        \"\"\" Regresa los datos de la primera muestra.\n",
    "        \n",
    "        :return: Mediciones de la primera distribución.\n",
    "        \"\"\"\n",
    "        return self._x\n",
    "    \n",
    "    def get_y(self):\n",
    "        \"\"\" Regresa los datos de la segunda muestra.\n",
    "        \n",
    "        :return: Mediciones de la segunda distribución.\n",
    "        \"\"\"\n",
    "        return self._y\n",
    "    \n",
    "    def get_sample(self):\n",
    "        \"\"\" Regresa los datos en una única muestra dicotomizada.\n",
    "        \n",
    "        :return: Muestra mezclada.\n",
    "        \"\"\"\n",
    "        return self._sample\n",
    "    \n",
    "    def get_indices(self):\n",
    "        return self._indices\n",
    "    \n",
    "    def get_n_1(self):\n",
    "        return self._n_1\n",
    "    \n",
    "    def get_n_2(self):\n",
    "        return self._n_2\n",
    "    \n",
    "    def __merge_data(self):\n",
    "        \"\"\" Método para dicotomizar los datos.\n",
    "        \n",
    "            Se ignoran los empates.\n",
    "            Se guardan los índices de las X's y de las Y's.\n",
    "        \"\"\"\n",
    "        \n",
    "        x = np.sort(self._x, kind=\"mergesort\")\n",
    "        y = np.sort(self._y, kind=\"mergesort\")\n",
    "        \n",
    "        merged = []\n",
    "        \n",
    "        i, j = 0, 0\n",
    "        n_1, n_2 = 0, 0\n",
    "        idx = 0\n",
    "        \n",
    "        while (i < self._n_1 and j < self._n_2):\n",
    "            if x[i] < y[j]:\n",
    "                merged.append(\"X\")\n",
    "                self._indices[\"X\"].append(idx)\n",
    "                n_1 += 1\n",
    "                i += 1\n",
    "                idx += 1\n",
    "            elif x[i] > y[j]:\n",
    "                merged.append(\"Y\")\n",
    "                self._indices[\"Y\"].append(idx)\n",
    "                n_2 += 1\n",
    "                j += 1\n",
    "                idx += 1\n",
    "            else:\n",
    "                i += 1\n",
    "                j += 1\n",
    "        \n",
    "        while i < self._n_1:\n",
    "            merged.append(\"X\")\n",
    "            self._indices[\"X\"].append(idx)\n",
    "            n_1 += 1\n",
    "            i += 1\n",
    "            idx += 1\n",
    "        \n",
    "        while j < self._n_2:\n",
    "            merged.append(\"Y\")\n",
    "            self._indices[\"Y\"].append(idx)\n",
    "            n_2 += 1\n",
    "            j += 1\n",
    "            idx += 1\n",
    "        \n",
    "        self._sample = np.array(merged)\n",
    "        self._n_1 = n_1\n",
    "        self._n_2 = n_2\n",
    "        self._n = self._n_1 + self._n_2\n"
   ]
  },
  {
   "cell_type": "markdown",
   "id": "7bbde2e6",
   "metadata": {},
   "source": [
    "### Prueba basada en rachas (Wald-Wolfowitz Runs test)"
   ]
  },
  {
   "cell_type": "code",
   "execution_count": 3,
   "id": "f90eacc3",
   "metadata": {},
   "outputs": [],
   "source": [
    "class RunsEqualityTest(EqualityTest):\n",
    "    \"\"\" Clase para implementar la prueba de Wald-Wolfowitz (basada en rachas).\"\"\"\n",
    "    \n",
    "    def __init__(self, x, y):\n",
    "        \"\"\" Constructor de la clase.\n",
    "        \n",
    "        :param x: Mediciones de la primera distribución.\n",
    "        :param y: Mediciones de la segunda distribución.\n",
    "        \"\"\"\n",
    "        super().__init__(x, y)\n",
    "        self.__r = 1\n",
    "        self.__compute_runs()\n",
    "        \n",
    "    def get_runs(self):\n",
    "        \"\"\" Regresa la cantidad de rachas en la muestra.\"\"\"\n",
    "        return self.__r\n",
    "        \n",
    "    def __compute_runs(self):\n",
    "        \"\"\" Calcula la cantidad de rachas observadas.\"\"\"\n",
    "        cur = self._sample[0]\n",
    "        for i in range(1, self._sample.size):\n",
    "            if cur != self._sample[i]:\n",
    "                self.__r += 1\n",
    "            cur = self._sample[i]\n",
    "    \n",
    "    def __pmf_even(self, r):\n",
    "        \"\"\" Función de probabilidad de la estadística de prueba cuando r es par.\n",
    "        \n",
    "        :param r: Valor que toma R.\n",
    "        :return: La probabilidad de que R=r\n",
    "        \"\"\"\n",
    "        num = 2 * binom(self._n_1 - 1, r / 2 - 1) * binom(self._n_2 - 1, r / 2 - 1)\n",
    "        den = binom(self._n, self._n_1)\n",
    "        return num / den\n",
    "    \n",
    "    def __pmf_odd(self, r):\n",
    "        \"\"\" Función de probabilidad de la estadística de prueba cuando r es impar.\n",
    "        \n",
    "        :param r: Valor que toma R.\n",
    "        :return: La probabilidad de que R=r\n",
    "        \"\"\"\n",
    "        num = binom(self._n_1 - 1, (r - 1) / 2) * binom(self._n_2 - 1, (r - 3) / 2)\n",
    "        num += binom(self._n_1 - 1, (r - 3) / 2) * binom(self._n_2 - 1, (r - 1) / 2)\n",
    "        den = binom(self._n, self._n_1)\n",
    "        return num / den\n",
    "        \n",
    "    def __test_statistic_exact(self, alpha):\n",
    "        \"\"\" Calcula las constantes (cuántiles) de la pmf de R tales que la proba acumulada\n",
    "        sea menor que el nivel de significancia para la prueba de dos colas.\n",
    "        \n",
    "        :param alpha: Nivel de significancia deseado.\n",
    "        :return: La constante que define la región crítica.\n",
    "        \"\"\"\n",
    "        prob = 0.0\n",
    "        k = 1\n",
    "        while prob <= alpha and (k <= self._n):\n",
    "            self._significance_level = prob\n",
    "            k += 1\n",
    "            p = self.__pmf_even(k) if (k % 2 == 0) else self.__pmf_odd(k)\n",
    "            prob += p\n",
    "        k -= 1\n",
    "        return k\n",
    "    \n",
    "    def __test_statistic_asymptotic(self):\n",
    "        \"\"\" Calcula la estadística de prueba asintótica.\n",
    "        \n",
    "        :return: El valor que toma la estadística de pruba.\n",
    "        \"\"\"\n",
    "        num = self.__r + 0.5 - 1 - (2 * self._n_1 * self._n_2 / self._n)\n",
    "        den = 2 * self._n_1 * self._n_2 * (2 * self._n_1 * self._n_2 - self._n)\n",
    "        den /= (self._n ** 2) * (self._n - 1)\n",
    "        den = np.sqrt(den)\n",
    "        \n",
    "        return num / den\n",
    "        \n",
    "    def run_test(self, alpha=0.05, exact=False):\n",
    "        \"\"\" Realiza la prueba de hipótesis. \n",
    "        \n",
    "        :param alpha: El nivel de significancia deseado.\n",
    "        :param exact: Si la prueba será exacta o asintótica.\n",
    "        \"\"\"\n",
    "        if exact:\n",
    "            k = self.__test_statistic_exact(alpha)\n",
    "            print(\"H_0 = F_X = F_Y v.s F_X != F_Y\")\n",
    "            print(f\"Rechazar H_0 si: R <= {k}\")\n",
    "            print(f\"Valor que tomó la estadística: R_obs = {self.__r}\")\n",
    "            decision = \"-> Rechazamos H_0\" if (self.__r <= k) else \"-> No rechazamos H_0\"\n",
    "            print(decision + f\" con nivel de significancia {self._significance_level:.3f}\")\n",
    "        else:\n",
    "            z = self.__test_statistic_asymptotic()\n",
    "            q = -norm.ppf(q=1-alpha)\n",
    "            print(\"H_0 = F_X = F_Y v.s F_X != F_Y\")\n",
    "            print(f\"Rechazar H_0 si: Z <= {q:.3f}\")\n",
    "            print(f\"Valor que tomó la estadística R: R_obs = {self.__r}\")\n",
    "            print(f\"Valor que tomó la estadística Z: Z_obs = {z:.3f}\")\n",
    "            decision = \"-> Rechazamos H_0\" if z <= q else \"->No rechazamos H_0\"\n",
    "            print(decision + f\" con nivel de significancia {alpha*100}%\")\n",
    "        "
   ]
  },
  {
   "cell_type": "markdown",
   "id": "8c5afa07",
   "metadata": {},
   "source": [
    "###### Verificamos que funcione"
   ]
  },
  {
   "cell_type": "code",
   "execution_count": 4,
   "id": "4036a0af",
   "metadata": {},
   "outputs": [],
   "source": [
    "x = np.array([-1, 1, 2, 6, 7, 9])\n",
    "y = np.array([0, 1, 8, 10, 11, 12])"
   ]
  },
  {
   "cell_type": "code",
   "execution_count": 5,
   "id": "b2a43f4d",
   "metadata": {},
   "outputs": [],
   "source": [
    "runs = RunsEqualityTest(x, y)"
   ]
  },
  {
   "cell_type": "code",
   "execution_count": 6,
   "id": "0ae48956",
   "metadata": {},
   "outputs": [
    {
     "data": {
      "text/plain": [
       "array([-1,  1,  2,  6,  7,  9])"
      ]
     },
     "execution_count": 6,
     "metadata": {},
     "output_type": "execute_result"
    }
   ],
   "source": [
    "runs.get_x()"
   ]
  },
  {
   "cell_type": "code",
   "execution_count": 7,
   "id": "f107dbb3",
   "metadata": {},
   "outputs": [
    {
     "data": {
      "text/plain": [
       "array([ 0,  1,  8, 10, 11, 12])"
      ]
     },
     "execution_count": 7,
     "metadata": {},
     "output_type": "execute_result"
    }
   ],
   "source": [
    "runs.get_y()"
   ]
  },
  {
   "cell_type": "code",
   "execution_count": 8,
   "id": "cd33ea0a",
   "metadata": {},
   "outputs": [
    {
     "data": {
      "text/plain": [
       "array(['X', 'Y', 'X', 'X', 'X', 'Y', 'X', 'Y', 'Y', 'Y'], dtype='<U1')"
      ]
     },
     "execution_count": 8,
     "metadata": {},
     "output_type": "execute_result"
    }
   ],
   "source": [
    "runs.get_sample()"
   ]
  },
  {
   "cell_type": "code",
   "execution_count": 9,
   "id": "bc760b01",
   "metadata": {},
   "outputs": [
    {
     "data": {
      "text/plain": [
       "6"
      ]
     },
     "execution_count": 9,
     "metadata": {},
     "output_type": "execute_result"
    }
   ],
   "source": [
    "runs.get_runs()"
   ]
  },
  {
   "cell_type": "code",
   "execution_count": 10,
   "id": "56e58622",
   "metadata": {},
   "outputs": [
    {
     "name": "stdout",
     "output_type": "stream",
     "text": [
      "H_0 = F_X = F_Y v.s F_X != F_Y\n",
      "Rechazar H_0 si: R <= 3\n",
      "Valor que tomó la estadística: R_obs = 6\n",
      "-> No rechazamos H_0 con nivel de significancia 0.040\n"
     ]
    }
   ],
   "source": [
    "runs.run_test(exact=True)"
   ]
  },
  {
   "cell_type": "markdown",
   "id": "e9d8129c",
   "metadata": {},
   "source": [
    "###### Con más datos"
   ]
  },
  {
   "cell_type": "code",
   "execution_count": 11,
   "id": "c3d848d6",
   "metadata": {},
   "outputs": [],
   "source": [
    "x_1 = np.random.normal(loc=0, size=560)\n",
    "y_1 = np.random.normal(loc=0.1, size=780)\n"
   ]
  },
  {
   "cell_type": "code",
   "execution_count": 12,
   "id": "e9b3c0f3",
   "metadata": {},
   "outputs": [
    {
     "data": {
      "image/png": "[encoded data removed]",
      "text/plain": [
       "<Figure size 640x480 with 1 Axes>"
      ]
     },
     "metadata": {},
     "output_type": "display_data"
    }
   ],
   "source": [
    "plt.hist(x_1, alpha=0.5, label='x', bins=30, density=True)\n",
    "plt.hist(y_1, alpha=0.5, label='y', bins=30, density=True)\n",
    "plt.legend(loc='upper right')\n",
    "plt.show()"
   ]
  },
  {
   "cell_type": "code",
   "execution_count": 13,
   "id": "d0d7fbb2",
   "metadata": {},
   "outputs": [
    {
     "name": "stdout",
     "output_type": "stream",
     "text": [
      "H_0 = F_X = F_Y v.s F_X != F_Y\n",
      "Rechazar H_0 si: Z <= -1.645\n",
      "Valor que tomó la estadística R: R_obs = 640\n",
      "Valor que tomó la estadística Z: Z_obs = -0.699\n",
      "->No rechazamos H_0 con nivel de significancia 5.0%\n"
     ]
    }
   ],
   "source": [
    "t_1 = RunsEqualityTest(x_1, y_1)\n",
    "t_1.run_test()"
   ]
  },
  {
   "cell_type": "code",
   "execution_count": 14,
   "id": "0e6b3174",
   "metadata": {},
   "outputs": [],
   "source": [
    "x_2 = np.random.normal(loc=0, size=560)\n",
    "y_2 = np.random.normal(loc=2, size=780)\n"
   ]
  },
  {
   "cell_type": "code",
   "execution_count": 15,
   "id": "7be81953",
   "metadata": {},
   "outputs": [
    {
     "data": {
      "image/png": "[encoded data removed]",
      "text/plain": [
       "<Figure size 640x480 with 1 Axes>"
      ]
     },
     "metadata": {},
     "output_type": "display_data"
    }
   ],
   "source": [
    "plt.hist(x_2, alpha=0.5, label='x', bins=30, density=True)\n",
    "plt.hist(y_2, alpha=0.5, label='y', bins=30, density=True)\n",
    "plt.legend(loc='upper right')\n",
    "plt.show()"
   ]
  },
  {
   "cell_type": "code",
   "execution_count": 16,
   "id": "9507d8de",
   "metadata": {},
   "outputs": [
    {
     "name": "stdout",
     "output_type": "stream",
     "text": [
      "H_0 = F_X = F_Y v.s F_X != F_Y\n",
      "Rechazar H_0 si: Z <= -1.645\n",
      "Valor que tomó la estadística R: R_obs = 262\n",
      "Valor que tomó la estadística Z: Z_obs = -21.932\n",
      "-> Rechazamos H_0 con nivel de significancia 5.0%\n"
     ]
    }
   ],
   "source": [
    "t_2 = RunsEqualityTest(x_2, y_2)\n",
    "t_2.run_test()"
   ]
  },
  {
   "cell_type": "markdown",
   "id": "a6b0fc13",
   "metadata": {},
   "source": [
    "### Prueba de Mann-Whitney (U-test)"
   ]
  },
  {
   "cell_type": "code",
   "execution_count": 17,
   "id": "f5b0eedb",
   "metadata": {},
   "outputs": [],
   "source": [
    "class MannWhitneyTest(EqualityTest):\n",
    "    def __init__(self, x, y):\n",
    "        \"\"\" Constructor de la clase.\n",
    "        \n",
    "        :param x: Mediciones de la primera distribución.\n",
    "        :param y: Mediciones de la segunda distribución.\n",
    "        \"\"\"\n",
    "        super().__init__(x, y)\n",
    "        self.__u: int = 0\n",
    "        self.__u_prime: int = 0\n",
    "        self.__compute_u()\n",
    "        self.__compute_u_prime()\n",
    "        \n",
    "    def get_u(self):\n",
    "        \"\"\" Regresa el valor que toma la estadística U. \"\"\"\n",
    "        return self.__u\n",
    "    \n",
    "    def get_u_prime(self):\n",
    "        \"\"\" Regresa el valor que toma la estadística U'. \"\"\"\n",
    "        return self.__u_prime\n",
    "    \n",
    "    def __compute_u(self):\n",
    "        \"\"\" Calcula eficientemente el valor de la estadística U. \"\"\"\n",
    "        x_indices = self._indices[\"X\"]\n",
    "        u = sum(x_indices) - (self._n_1 * (self._n_1 - 1) / 2)\n",
    "        self.__u = int(u)\n",
    "        \n",
    "    def __compute_u_prime(self):\n",
    "        \"\"\" Calcula eficientemente el valor de la estadística U'. \"\"\"\n",
    "        # Aquí va tu código\n",
    "    \n",
    "    def __pmf(self, u):\n",
    "        \"\"\" Función de masa de probabilidad de U (exacta). \n",
    "        \n",
    "        :param u: El valor que toma U.\n",
    "        \"\"\"\n",
    "        # Aquí va tu código\n",
    "    \n",
    "    def __test_statistic_asymptotic(self, u):\n",
    "        \"\"\" Calcula la estadística de prueba asintótica.\n",
    "        \n",
    "        :param u: El valor que toma U o U'.\n",
    "        :return: El valor que toma la estadística de pruba.\n",
    "        \"\"\"\n",
    "        z = u + 0.5 - (self._n_1 * self._n_2 / 2)\n",
    "        z /= np.sqrt((self._n_1 * self._n_2) * (self._n + 1 / 12))\n",
    "        return z\n",
    "    \n",
    "    def run_test(self, alternative, alpha=0.05, exact=False):\n",
    "        \"\"\" Realiza la prueba de hipótesis. \n",
    "        \n",
    "        :param alternative: Hipótesis alternativa.\n",
    "        :param alpha: Nivel de significancia deseado.\n",
    "        :param exact: Si la prueba será exacta o asintótica.\n",
    "        \"\"\"\n",
    "        if exact:\n",
    "            pass\n",
    "        else:\n",
    "            if alternative == \"F_X != F_Y\" or alternative == \"F_Y != F_X\":\n",
    "                z = self.__test_statistic_asymptotic(self.__u)\n",
    "                z_prime = self.__test_statistic_asymptotic(self.__u_prime)\n",
    "                c_alpha = norm.ppf(q=alpha/2)\n",
    "                # Aquí va tu código\n",
    "                \n",
    "            elif alternative == \"F_X < F_Y\" or alternative == \"F_Y > F_X\":\n",
    "                z_prime = self.__test_statistic_asymptotic(self.__u_prime)\n",
    "                c_alpha = norm.ppf(q=alpha)\n",
    "                # Aquí va tu código\n",
    "                \n",
    "            elif alternative == \"F_X > F_Y\" or alternative == \"F_Y < F_X\":\n",
    "                z = self.__test_statistic_asymptotic(self.__u)\n",
    "                c_alpha = norm.ppf(q=alpha)\n",
    "                print(\"H_0 = F_X = F_Y v.s F_X > F_Y\")\n",
    "                print(f\"Rechazar H_0: F_X = F_Y si: Z <= {c_alpha:.3f}\")\n",
    "                print(f\"Valor que tomó la estadística U: U_obs = {self.__u}\")\n",
    "                print(f\"Valor que tomó la estadística Z: Z_obs = {z:.3f}\")\n",
    "                decision = \"-> Rechazamos H_0\" if z <= c_alpha else \"->No rechazamos H_0\"\n",
    "                print(decision + f\" con nivel de significancia {alpha*100}%\")"
   ]
  },
  {
   "cell_type": "markdown",
   "id": "3c2c028b",
   "metadata": {},
   "source": [
    "###### Verificamos que funcione"
   ]
  },
  {
   "cell_type": "code",
   "execution_count": 18,
   "id": "6f202d4c",
   "metadata": {},
   "outputs": [],
   "source": [
    "x = np.array([1, 6, 7])\n",
    "y = np.array([2, 4, 9, 10, 12])\n",
    "\n",
    "mw = MannWhitneyTest(x,y)"
   ]
  },
  {
   "cell_type": "code",
   "execution_count": 19,
   "id": "a4defbfa",
   "metadata": {},
   "outputs": [
    {
     "data": {
      "text/plain": [
       "array(['X', 'Y', 'Y', 'X', 'X', 'Y', 'Y', 'Y'], dtype='<U1')"
      ]
     },
     "execution_count": 19,
     "metadata": {},
     "output_type": "execute_result"
    }
   ],
   "source": [
    "mw.get_sample()"
   ]
  },
  {
   "cell_type": "code",
   "execution_count": 20,
   "id": "bb5c0351",
   "metadata": {},
   "outputs": [
    {
     "data": {
      "text/plain": [
       "{'X': [0, 3, 4], 'Y': [1, 2, 5, 6, 7]}"
      ]
     },
     "execution_count": 20,
     "metadata": {},
     "output_type": "execute_result"
    }
   ],
   "source": [
    "mw.get_indices()"
   ]
  },
  {
   "cell_type": "code",
   "execution_count": 21,
   "id": "d18dd4cd",
   "metadata": {},
   "outputs": [
    {
     "data": {
      "text/plain": [
       "(3, 5)"
      ]
     },
     "execution_count": 21,
     "metadata": {},
     "output_type": "execute_result"
    }
   ],
   "source": [
    "mw.get_n_1(), mw.get_n_2()"
   ]
  },
  {
   "cell_type": "code",
   "execution_count": 22,
   "id": "01358920",
   "metadata": {},
   "outputs": [
    {
     "data": {
      "text/plain": [
       "4"
      ]
     },
     "execution_count": 22,
     "metadata": {},
     "output_type": "execute_result"
    }
   ],
   "source": [
    "mw.get_u()"
   ]
  },
  {
   "cell_type": "code",
   "execution_count": 23,
   "id": "5d534ca4",
   "metadata": {},
   "outputs": [
    {
     "name": "stdout",
     "output_type": "stream",
     "text": [
      "H_0 = F_X = F_Y v.s F_X > F_Y\n",
      "Rechazar H_0: F_X = F_Y si: Z <= -1.645\n",
      "Valor que tomó la estadística U: U_obs = 4\n",
      "Valor que tomó la estadística Z: Z_obs = -0.272\n",
      "->No rechazamos H_0 con nivel de significancia 5.0%\n"
     ]
    }
   ],
   "source": [
    "mw.run_test(alternative=\"F_Y < F_X\")"
   ]
  },
  {
   "cell_type": "markdown",
   "id": "b1208d00",
   "metadata": {},
   "source": [
    "###### Con más datos"
   ]
  },
  {
   "cell_type": "code",
   "execution_count": 24,
   "id": "b01b1512",
   "metadata": {},
   "outputs": [],
   "source": [
    "x_3 = chi2.rvs(df=3, size=263)\n",
    "y_3 = chi2.rvs(df=3, size=257)"
   ]
  },
  {
   "cell_type": "code",
   "execution_count": 25,
   "id": "f26b630e",
   "metadata": {},
   "outputs": [
    {
     "data": {
      "image/png": "[encoded data removed]",
      "text/plain": [
       "<Figure size 640x480 with 1 Axes>"
      ]
     },
     "metadata": {},
     "output_type": "display_data"
    }
   ],
   "source": [
    "plt.hist(x_3, alpha=0.5, label='x', bins=30, density=True)\n",
    "plt.hist(y_3, alpha=0.5, label='y', bins=30, density=True)\n",
    "plt.legend(loc='upper right')\n",
    "plt.show()"
   ]
  },
  {
   "cell_type": "code",
   "execution_count": 26,
   "id": "35e7f542",
   "metadata": {},
   "outputs": [],
   "source": [
    "mw_3 = MannWhitneyTest(x_3, y_3)"
   ]
  },
  {
   "cell_type": "code",
   "execution_count": 27,
   "id": "87dcb80b",
   "metadata": {
    "scrolled": true
   },
   "outputs": [
    {
     "name": "stdout",
     "output_type": "stream",
     "text": [
      "H_0 = F_X = F_Y v.s F_X > F_Y\n",
      "Rechazar H_0: F_X = F_Y si: Z <= -1.645\n",
      "Valor que tomó la estadística U: U_obs = 34433\n",
      "Valor que tomó la estadística Z: Z_obs = 0.108\n",
      "->No rechazamos H_0 con nivel de significancia 5.0%\n"
     ]
    }
   ],
   "source": [
    "mw_3.run_test(alternative=\"F_Y < F_X\")"
   ]
  },
  {
   "cell_type": "code",
   "execution_count": 28,
   "id": "b101df6f",
   "metadata": {},
   "outputs": [],
   "source": [
    "x_4 = chi2.rvs(df=3, size=263)\n",
    "y_4 = chi2.rvs(df=5, size=257)"
   ]
  },
  {
   "cell_type": "code",
   "execution_count": 29,
   "id": "b57d7bff",
   "metadata": {},
   "outputs": [
    {
     "data": {
      "image/png": "[encoded data removed]",
      "text/plain": [
       "<Figure size 640x480 with 1 Axes>"
      ]
     },
     "metadata": {},
     "output_type": "display_data"
    }
   ],
   "source": [
    "plt.hist(x_4, alpha=0.5, label='x', bins=30, density=True)\n",
    "plt.hist(y_4, alpha=0.5, label='y', bins=30, density=True)\n",
    "plt.legend(loc='upper right')\n",
    "plt.show()"
   ]
  },
  {
   "cell_type": "code",
   "execution_count": 30,
   "id": "b369e1e0",
   "metadata": {},
   "outputs": [
    {
     "name": "stdout",
     "output_type": "stream",
     "text": [
      "H_0 = F_X = F_Y v.s F_X > F_Y\n",
      "Rechazar H_0: F_X = F_Y si: Z <= -1.645\n",
      "Valor que tomó la estadística U: U_obs = 19749\n",
      "Valor que tomó la estadística Z: Z_obs = -2.369\n",
      "-> Rechazamos H_0 con nivel de significancia 5.0%\n"
     ]
    }
   ],
   "source": [
    "mw_4 = MannWhitneyTest(x_4, y_4)\n",
    "mw_4.run_test(alternative=\"F_Y < F_X\")"
   ]
  },
  {
   "cell_type": "markdown",
   "id": "c58c5c99",
   "metadata": {},
   "source": [
    "### Prueba suma de rangos de Wilcoxon"
   ]
  },
  {
   "cell_type": "code",
   "execution_count": 31,
   "id": "82acbfdf",
   "metadata": {},
   "outputs": [],
   "source": [
    "class WilcoxonTest:\n",
    "    pass"
   ]
  },
  {
   "cell_type": "code",
   "execution_count": null,
   "id": "4b6d3370",
   "metadata": {},
   "outputs": [],
   "source": []
  },
  {
   "cell_type": "code",
   "execution_count": null,
   "id": "263b2d38",
   "metadata": {},
   "outputs": [],
   "source": []
  },
  {
   "cell_type": "markdown",
   "id": "0630df5f",
   "metadata": {},
   "source": [
    "#### Ejercicio 1.\n",
    "\n",
    "El archivo data.csv contiene $613787$ registros con datos sobre sismos alrededor del mundo entre el año 2000 y el año 2023; en particular, se tiene el registro de la magnitud de todos los sismos.\n",
    "\n",
    "Separe el total de registros en dos conjuntos de datos ($\\mathcal{D}_X$ y $\\mathcal{D}_Y$), de tal maneta que el primer conjunto de datos tenga las magnitudes de los sismos ocurridos desde el año 2000 hasta el año 2011, y el segundo conjunto contenga las magnitudes de los sismos ocurridos después de 2011 y hasta el 2023.\n",
    "\n",
    "Claramente la magnitud de un sismo es una variable continua (aunque no se pueden medir con precisión infinita). Verifique que los demás supuestos se cumplen (de manera aproximada), a saber, simetría de las densidades, misma dispersión y tendencia central.\n",
    "\n",
    "Luego, efectúe una prueba estadística con significancia del $10\\%$ para verificar si ambos conjuntos de datos vienen o no de la misma distribución."
   ]
  },
  {
   "cell_type": "code",
   "execution_count": 32,
   "id": "aa99d240",
   "metadata": {},
   "outputs": [],
   "source": [
    "import pandas as pd\n",
    "import matplotlib.pyplot as plt\n",
    "import numpy as np"
   ]
  },
  {
   "cell_type": "code",
   "execution_count": 33,
   "id": "017a66cf",
   "metadata": {},
   "outputs": [],
   "source": [
    "data = pd.read_csv(\"data.csv\")\n"
   ]
  },
  {
   "cell_type": "code",
   "execution_count": null,
   "id": "15202fe9",
   "metadata": {},
   "outputs": [],
   "source": []
  },
  {
   "cell_type": "code",
   "execution_count": null,
   "id": "38f974a9",
   "metadata": {},
   "outputs": [],
   "source": []
  }
 ],
 "metadata": {
  "kernelspec": {
   "display_name": "Python 3 (ipykernel)",
   "language": "python",
   "name": "python3"
  },
  "language_info": {
   "codemirror_mode": {
    "name": "ipython",
    "version": 3
   },
   "file_extension": ".py",
   "mimetype": "text/x-python",
   "name": "python",
   "nbconvert_exporter": "python",
   "pygments_lexer": "ipython3",
   "version": "3.10.6"
  }
 },
 "nbformat": 4,
 "nbformat_minor": 5
}
