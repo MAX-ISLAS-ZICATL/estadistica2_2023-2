{
 "cells": [
  {
   "cell_type": "markdown",
   "id": "70a19ebb",
   "metadata": {},
   "source": [
    "### Prueba para la igualdad de dos distribuciones (localización)"
   ]
  },
  {
   "cell_type": "code",
   "execution_count": 59,
   "id": "78a8607c",
   "metadata": {},
   "outputs": [],
   "source": [
    "import numpy as np\n",
    "from scipy.special import binom"
   ]
  },
  {
   "cell_type": "code",
   "execution_count": 71,
   "id": "f90eacc3",
   "metadata": {},
   "outputs": [],
   "source": [
    "class RunsTestEquality:\n",
    "    \"\"\" Clase para implementar la prueba de igualdad de dos distribuciones (localización)\n",
    "    \"\"\"\n",
    "    def __init__(self, x, y):\n",
    "        \"\"\" Constructor de la clase.\n",
    "        \n",
    "        :param x: Mediciones de la primera distribución.\n",
    "        :param y: Mediciones de la segunda distribución.\n",
    "        \"\"\"\n",
    "        self.__x = x\n",
    "        self.__y = y\n",
    "        self.__sample = None\n",
    "        self.__n_1: int = x.size\n",
    "        self.__n_2: int = y.size\n",
    "        self.__n: int = self.__n_1 + self.__n_2\n",
    "        self.__r: int = 1\n",
    "        self.__merge_data()\n",
    "        self.__get_runs()\n",
    "        self.__significance_level = 0.0\n",
    "    \n",
    "    def get_x(self):\n",
    "        return self.__x\n",
    "    \n",
    "    def get_y(self):\n",
    "        return self.__y\n",
    "    \n",
    "    def get_runs(self):\n",
    "        return self.__r\n",
    "    \n",
    "    def get_sample(self):\n",
    "        return self.__sample\n",
    "    \n",
    "    def __merge_data(self):\n",
    "        \"\"\"\n",
    "        Método para dicotomizar los datos.\n",
    "        \"\"\"\n",
    "        x = np.sort(self.__x, kind=\"mergesort\")\n",
    "        y = np.sort(self.__y, kind=\"mergesort\")\n",
    "        \n",
    "        merged = [] \n",
    "        \n",
    "        i = 0\n",
    "        j = 0\n",
    "        \n",
    "        while (i < self.__n_1 and j < self.__n_2):\n",
    "            if x[i] < y[j]:\n",
    "                merged.append(\"X\")\n",
    "                i += 1\n",
    "            elif x[i] > y[j]:\n",
    "                merged.append(\"Y\")\n",
    "                j += 1\n",
    "        \n",
    "        while i < self.__n_1:\n",
    "            merged.append(\"X\")\n",
    "            i += 1\n",
    "        \n",
    "        while j < self.__n_2:\n",
    "            merged.append(\"Y\")\n",
    "            j += 1\n",
    "        \n",
    "        self.__sample = np.array(merged)\n",
    "        \n",
    "        \n",
    "    def __get_runs(self):\n",
    "        \"\"\"\n",
    "        Método para calcular la cantidad de rachas observadas.\n",
    "        \"\"\"\n",
    "        cur = self.__sample[0]\n",
    "        for i in range(1, self.__sample.size):\n",
    "            if cur != self.__sample[i]:\n",
    "                self.__r += 1\n",
    "            cur = self.__sample[i]\n",
    "            \n",
    "    \n",
    "    def __test_statistics_asymptotic(self):\n",
    "        \"\"\"\n",
    "        Implementa la distribución asintótica de la estadística de prueba.\n",
    "        \"\"\"\n",
    "        pass\n",
    "    \n",
    "    def __pmf_even(self, r):\n",
    "        \"\"\"\n",
    "        Función de probabilidad de la estadística de prueba cuando r es par.\n",
    "        \n",
    "        :param r: Valor que toma R.\n",
    "        :return: La probabilidad de que R=r\n",
    "        \"\"\"\n",
    "        num = 2 * binom(self.__n_1 - 1, r / 2 - 1) * binom(self.__n_2 - 1, r / 2 - 1)\n",
    "        den = binom(self.__n, self.__n_1)\n",
    "        return num / den\n",
    "    \n",
    "    def __pmf_odd(self, r):\n",
    "        \"\"\"\n",
    "        Función de probabilidad de la estadística de prueba cuando r es impar.\n",
    "        \n",
    "        :param r: Valor que toma R.\n",
    "        :return: La probabilidad de que R=r\n",
    "        \"\"\"\n",
    "        num = binom(self.__n_1 - 1, (r - 1) / 2) * binom(self.__n_2 - 1, (r - 3) / 2)\n",
    "        num += binom(self.__n_1 - 1, (r - 3) / 2) * binom(self.__n_2 - 1, (r - 1) / 2)\n",
    "        den = binom(self.__n, self.__n_1)\n",
    "        return num / den\n",
    "        \n",
    "    def __test_statistic_exact(self, alpha):\n",
    "        \"\"\"\n",
    "        Calcula las constantes (cuántiles) de la pmf de R tales que la proba acumulada\n",
    "        sea menor que el nivel de significancia para la prueba de dos colas.\n",
    "        \n",
    "        :param alpha: Nivel de significancia deseado.\n",
    "        :return: Las constantes que definen la región crítica.\n",
    "        \"\"\"\n",
    "        prob = 0.0\n",
    "        k_1 = 1\n",
    "        k_2 = self.__n + 1\n",
    "        while prob <= alpha and (k_1 <= k_2):\n",
    "            self.__significance_level = prob\n",
    "            k_1 += 1\n",
    "            k_2 -= 1\n",
    "            p_1 = self.__pmf_even(k_1) if (k_1 % 2 == 0) else self.__pmf_odd(k_1)\n",
    "            p_2 = self.__pmf_even(k_2) if (k_2 % 2 == 0) else self.__pmf_odd(k_2)\n",
    "            prob += p_1 + p_2\n",
    "        k_1 -= 1\n",
    "        k_2 += 1\n",
    "        return k\n",
    "    \n",
    "    def __test_statistic_asymptotic(self, alpha):\n",
    "        pass\n",
    "        \n",
    "    def runs_test(self, alpha=0.05, exact=True):\n",
    "        if exact:\n",
    "            k = self.__test_statistic_exact(alpha)\n",
    "            print(f\"Rechazar H_0 si: R <= {k\")\n",
    "            print(f\"Valor que tomó la estadística: R_obs = {self.__r}\")\n",
    "            decision = \"-> Rechazamos H_0\" if (self.__r <= k_1 or self.__r >= k_2) else \"-> No rechazamos H_0\"\n",
    "            print(decision + f\" con nivel de significancia {self.__significance_level:.3f}\")\n",
    "        else:\n",
    "            pass\n",
    "    "
   ]
  },
  {
   "cell_type": "code",
   "execution_count": 72,
   "id": "4036a0af",
   "metadata": {},
   "outputs": [],
   "source": [
    "x = np.array([-1, 2, 6, 7, 9])\n",
    "y = np.array([0, 1, 8, 10, 11, 12])"
   ]
  },
  {
   "cell_type": "code",
   "execution_count": 73,
   "id": "b2a43f4d",
   "metadata": {},
   "outputs": [],
   "source": [
    "tester = RunsTestEquality(x,y)"
   ]
  },
  {
   "cell_type": "code",
   "execution_count": 74,
   "id": "0ae48956",
   "metadata": {},
   "outputs": [
    {
     "data": {
      "text/plain": [
       "array([-1,  2,  6,  7,  9])"
      ]
     },
     "execution_count": 74,
     "metadata": {},
     "output_type": "execute_result"
    }
   ],
   "source": [
    "tester.get_x()"
   ]
  },
  {
   "cell_type": "code",
   "execution_count": 75,
   "id": "f107dbb3",
   "metadata": {},
   "outputs": [
    {
     "data": {
      "text/plain": [
       "array([ 0,  1,  8, 10, 11, 12])"
      ]
     },
     "execution_count": 75,
     "metadata": {},
     "output_type": "execute_result"
    }
   ],
   "source": [
    "tester.get_y()"
   ]
  },
  {
   "cell_type": "code",
   "execution_count": 76,
   "id": "cd33ea0a",
   "metadata": {},
   "outputs": [
    {
     "data": {
      "text/plain": [
       "array(['X', 'Y', 'Y', 'X', 'X', 'X', 'Y', 'X', 'Y', 'Y', 'Y'], dtype='<U1')"
      ]
     },
     "execution_count": 76,
     "metadata": {},
     "output_type": "execute_result"
    }
   ],
   "source": [
    "tester.get_sample()"
   ]
  },
  {
   "cell_type": "code",
   "execution_count": 77,
   "id": "2cac05e3",
   "metadata": {},
   "outputs": [
    {
     "data": {
      "text/plain": [
       "6"
      ]
     },
     "execution_count": 77,
     "metadata": {},
     "output_type": "execute_result"
    }
   ],
   "source": [
    "tester._RunsTestEquality__r"
   ]
  },
  {
   "cell_type": "code",
   "execution_count": 78,
   "id": "bc760b01",
   "metadata": {},
   "outputs": [
    {
     "data": {
      "text/plain": [
       "6"
      ]
     },
     "execution_count": 78,
     "metadata": {},
     "output_type": "execute_result"
    }
   ],
   "source": [
    "tester.get_runs()"
   ]
  },
  {
   "cell_type": "code",
   "execution_count": null,
   "id": "56e58622",
   "metadata": {},
   "outputs": [],
   "source": []
  },
  {
   "cell_type": "code",
   "execution_count": 103,
   "id": "c3d848d6",
   "metadata": {},
   "outputs": [],
   "source": [
    "x = np.random.normal(loc=1, size=56)\n",
    "y = np.random.normal(loc=1, size=78)\n",
    "t = RunsTestEquality(x, y)"
   ]
  },
  {
   "cell_type": "code",
   "execution_count": 104,
   "id": "25fccdc1",
   "metadata": {},
   "outputs": [
    {
     "data": {
      "text/plain": [
       "array(['Y', 'X', 'Y', 'Y', 'X', 'Y', 'Y', 'Y', 'X', 'Y', 'X', 'Y', 'X',\n",
       "       'Y', 'Y', 'Y', 'X', 'X', 'Y', 'Y', 'Y', 'X', 'Y', 'Y', 'X', 'Y',\n",
       "       'X', 'Y', 'Y', 'X', 'X', 'X', 'Y', 'Y', 'Y', 'Y', 'X', 'X', 'Y',\n",
       "       'Y', 'X', 'Y', 'X', 'Y', 'X', 'X', 'Y', 'X', 'X', 'X', 'X', 'X',\n",
       "       'X', 'X', 'Y', 'X', 'X', 'Y', 'Y', 'X', 'Y', 'Y', 'Y', 'Y', 'Y',\n",
       "       'Y', 'Y', 'Y', 'Y', 'Y', 'X', 'Y', 'Y', 'X', 'Y', 'X', 'Y', 'Y',\n",
       "       'X', 'Y', 'Y', 'X', 'Y', 'X', 'X', 'Y', 'Y', 'Y', 'X', 'X', 'Y',\n",
       "       'X', 'X', 'Y', 'X', 'X', 'X', 'Y', 'Y', 'Y', 'Y', 'Y', 'Y', 'X',\n",
       "       'X', 'X', 'Y', 'X', 'Y', 'X', 'Y', 'Y', 'Y', 'X', 'Y', 'Y', 'Y',\n",
       "       'Y', 'Y', 'X', 'X', 'X', 'Y', 'Y', 'Y', 'X', 'Y', 'X', 'Y', 'Y',\n",
       "       'X', 'Y', 'X', 'Y'], dtype='<U1')"
      ]
     },
     "execution_count": 104,
     "metadata": {},
     "output_type": "execute_result"
    }
   ],
   "source": [
    "t.get_sample()"
   ]
  },
  {
   "cell_type": "code",
   "execution_count": 105,
   "id": "d0d7fbb2",
   "metadata": {},
   "outputs": [
    {
     "name": "stdout",
     "output_type": "stream",
     "text": [
      "Rechazar H_0 si: R <= 55 o si R => 81\n",
      "Valor que tomó la estadística: R_obs = 71\n",
      "-> No rechazamos H_0 con nivel de significancia 0.034\n"
     ]
    }
   ],
   "source": [
    "t.runs_test()"
   ]
  },
  {
   "cell_type": "code",
   "execution_count": null,
   "id": "55b30bd5",
   "metadata": {},
   "outputs": [],
   "source": []
  }
 ],
 "metadata": {
  "kernelspec": {
   "display_name": "Python 3 (ipykernel)",
   "language": "python",
   "name": "python3"
  },
  "language_info": {
   "codemirror_mode": {
    "name": "ipython",
    "version": 3
   },
   "file_extension": ".py",
   "mimetype": "text/x-python",
   "name": "python",
   "nbconvert_exporter": "python",
   "pygments_lexer": "ipython3",
   "version": "3.10.6"
  }
 },
 "nbformat": 4,
 "nbformat_minor": 5
}
